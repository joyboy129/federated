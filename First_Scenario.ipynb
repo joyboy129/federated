{
  "cells": [
    {
      "cell_type": "markdown",
      "metadata": {
        "id": "view-in-github",
        "colab_type": "text"
      },
      "source": [
        "<a href=\"https://colab.research.google.com/github/joyboy129/federated/blob/main/First_Scenario.ipynb\" target=\"_parent\"><img src=\"https://colab.research.google.com/assets/colab-badge.svg\" alt=\"Open In Colab\"/></a>"
      ]
    },
    {
      "cell_type": "markdown",
      "metadata": {
        "id": "qN8P0AnTnAhh"
      },
      "source": [
        "##### Copyright 2019 The TensorFlow Authors."
      ]
    },
    {
      "cell_type": "code",
      "execution_count": null,
      "metadata": {
        "id": "ZrGitA_KnRO0"
      },
      "outputs": [],
      "source": [
        "#@test {\"skip\": true}\n",
        "\n",
        "!pip install --quiet --upgrade tensorflow-federated\n",
        "import nest_asyncio\n",
        "nest_asyncio.apply()"
      ]
    },
    {
      "cell_type": "code",
      "execution_count": null,
      "metadata": {
        "id": "QLyJIaLlERJ8",
        "colab": {
          "base_uri": "https://localhost:8080/"
        },
        "outputId": "a8c6025f-d5db-4db6-ddb2-0a5276e93f5e"
      },
      "outputs": [
        {
          "output_type": "stream",
          "name": "stdout",
          "text": [
            "The tensorboard extension is already loaded. To reload it, use:\n",
            "  %reload_ext tensorboard\n"
          ]
        }
      ],
      "source": [
        "%load_ext tensorboard"
      ]
    },
    {
      "cell_type": "code",
      "execution_count": null,
      "metadata": {
        "id": "8BKyHkMxKHfV",
        "colab": {
          "base_uri": "https://localhost:8080/"
        },
        "outputId": "366c51ca-d771-4e8c-abca-92a8e785342c"
      },
      "outputs": [
        {
          "output_type": "execute_result",
          "data": {
            "text/plain": [
              "b'Hello, World!'"
            ]
          },
          "metadata": {},
          "execution_count": 183
        }
      ],
      "source": [
        "import collections\n",
        "\n",
        "import numpy as np\n",
        "import tensorflow as tf\n",
        "import tensorflow_federated as tff\n",
        "\n",
        "np.random.seed(0)\n",
        "\n",
        "tff.federated_computation(lambda: 'Hello, World!')()"
      ]
    },
    {
      "cell_type": "code",
      "execution_count": null,
      "metadata": {
        "id": "afc6bc6f",
        "colab": {
          "base_uri": "https://localhost:8080/"
        },
        "outputId": "27706ffe-56c4-4586-9135-2fcba8087a0f"
      },
      "outputs": [
        {
          "output_type": "stream",
          "name": "stdout",
          "text": [
            "Drive already mounted at /content/drive; to attempt to forcibly remount, call drive.mount(\"/content/drive\", force_remount=True).\n"
          ]
        }
      ],
      "source": [
        "import pandas as pd\n",
        "import numpy as np\n",
        "from google.colab import drive\n",
        "drive.mount('/content/drive')\n",
        "from sklearn.preprocessing import MinMaxScaler\n"
      ]
    },
    {
      "cell_type": "code",
      "execution_count": null,
      "metadata": {
        "id": "XYc9s0OrF6Av",
        "colab": {
          "base_uri": "https://localhost:8080/",
          "height": 206
        },
        "outputId": "49c63f2b-5435-45d7-b5fc-ce681d2f8fc6"
      },
      "outputs": [
        {
          "output_type": "execute_result",
          "data": {
            "text/plain": [
              "          A     delta           TM  DELTA_TM  ElectronÃ©gativitÃ©  \\\n",
              "0  1.966667  0.023970  2824.483333  0.191931             1.906667   \n",
              "1  1.942000  0.138397  2292.310000  0.247827             1.604700   \n",
              "2  1.825000  0.059711  1928.462500  0.484838             1.722500   \n",
              "3  1.759677  0.080665  1822.512903  0.117341             1.780161   \n",
              "4  1.800000  0.068041  1887.650000  0.145885             1.687500   \n",
              "\n",
              "   Delta_Electro-        SID       VEC  Delta VEC           K     Delta K  \\\n",
              "0        0.204179   9.133863  6.333333   0.471405  253.333333   87.305339   \n",
              "1        0.195077  13.246961  4.380000   0.485386  116.300000   64.275267   \n",
              "2        0.146181  11.525651  6.250000   1.920286  184.000000  112.418860   \n",
              "3        0.139486  13.969797  7.596774   2.253740  160.516129   28.987062   \n",
              "4        0.134606  11.525651  7.000000   1.870829  155.000000   21.794495   \n",
              "\n",
              "   Etat d'entropie  \n",
              "0                1  \n",
              "1                0  \n",
              "2                1  \n",
              "3                1  \n",
              "4                1  "
            ],
            "text/html": [
              "\n",
              "  <div id=\"df-799b2ce9-83ad-4b27-aeb9-2750fbb0b931\" class=\"colab-df-container\">\n",
              "    <div>\n",
              "<style scoped>\n",
              "    .dataframe tbody tr th:only-of-type {\n",
              "        vertical-align: middle;\n",
              "    }\n",
              "\n",
              "    .dataframe tbody tr th {\n",
              "        vertical-align: top;\n",
              "    }\n",
              "\n",
              "    .dataframe thead th {\n",
              "        text-align: right;\n",
              "    }\n",
              "</style>\n",
              "<table border=\"1\" class=\"dataframe\">\n",
              "  <thead>\n",
              "    <tr style=\"text-align: right;\">\n",
              "      <th></th>\n",
              "      <th>A</th>\n",
              "      <th>delta</th>\n",
              "      <th>TM</th>\n",
              "      <th>DELTA_TM</th>\n",
              "      <th>ElectronÃ©gativitÃ©</th>\n",
              "      <th>Delta_Electro-</th>\n",
              "      <th>SID</th>\n",
              "      <th>VEC</th>\n",
              "      <th>Delta VEC</th>\n",
              "      <th>K</th>\n",
              "      <th>Delta K</th>\n",
              "      <th>Etat d'entropie</th>\n",
              "    </tr>\n",
              "  </thead>\n",
              "  <tbody>\n",
              "    <tr>\n",
              "      <th>0</th>\n",
              "      <td>1.966667</td>\n",
              "      <td>0.023970</td>\n",
              "      <td>2824.483333</td>\n",
              "      <td>0.191931</td>\n",
              "      <td>1.906667</td>\n",
              "      <td>0.204179</td>\n",
              "      <td>9.133863</td>\n",
              "      <td>6.333333</td>\n",
              "      <td>0.471405</td>\n",
              "      <td>253.333333</td>\n",
              "      <td>87.305339</td>\n",
              "      <td>1</td>\n",
              "    </tr>\n",
              "    <tr>\n",
              "      <th>1</th>\n",
              "      <td>1.942000</td>\n",
              "      <td>0.138397</td>\n",
              "      <td>2292.310000</td>\n",
              "      <td>0.247827</td>\n",
              "      <td>1.604700</td>\n",
              "      <td>0.195077</td>\n",
              "      <td>13.246961</td>\n",
              "      <td>4.380000</td>\n",
              "      <td>0.485386</td>\n",
              "      <td>116.300000</td>\n",
              "      <td>64.275267</td>\n",
              "      <td>0</td>\n",
              "    </tr>\n",
              "    <tr>\n",
              "      <th>2</th>\n",
              "      <td>1.825000</td>\n",
              "      <td>0.059711</td>\n",
              "      <td>1928.462500</td>\n",
              "      <td>0.484838</td>\n",
              "      <td>1.722500</td>\n",
              "      <td>0.146181</td>\n",
              "      <td>11.525651</td>\n",
              "      <td>6.250000</td>\n",
              "      <td>1.920286</td>\n",
              "      <td>184.000000</td>\n",
              "      <td>112.418860</td>\n",
              "      <td>1</td>\n",
              "    </tr>\n",
              "    <tr>\n",
              "      <th>3</th>\n",
              "      <td>1.759677</td>\n",
              "      <td>0.080665</td>\n",
              "      <td>1822.512903</td>\n",
              "      <td>0.117341</td>\n",
              "      <td>1.780161</td>\n",
              "      <td>0.139486</td>\n",
              "      <td>13.969797</td>\n",
              "      <td>7.596774</td>\n",
              "      <td>2.253740</td>\n",
              "      <td>160.516129</td>\n",
              "      <td>28.987062</td>\n",
              "      <td>1</td>\n",
              "    </tr>\n",
              "    <tr>\n",
              "      <th>4</th>\n",
              "      <td>1.800000</td>\n",
              "      <td>0.068041</td>\n",
              "      <td>1887.650000</td>\n",
              "      <td>0.145885</td>\n",
              "      <td>1.687500</td>\n",
              "      <td>0.134606</td>\n",
              "      <td>11.525651</td>\n",
              "      <td>7.000000</td>\n",
              "      <td>1.870829</td>\n",
              "      <td>155.000000</td>\n",
              "      <td>21.794495</td>\n",
              "      <td>1</td>\n",
              "    </tr>\n",
              "  </tbody>\n",
              "</table>\n",
              "</div>\n",
              "    <div class=\"colab-df-buttons\">\n",
              "\n",
              "  <div class=\"colab-df-container\">\n",
              "    <button class=\"colab-df-convert\" onclick=\"convertToInteractive('df-799b2ce9-83ad-4b27-aeb9-2750fbb0b931')\"\n",
              "            title=\"Convert this dataframe to an interactive table.\"\n",
              "            style=\"display:none;\">\n",
              "\n",
              "  <svg xmlns=\"http://www.w3.org/2000/svg\" height=\"24px\" viewBox=\"0 -960 960 960\">\n",
              "    <path d=\"M120-120v-720h720v720H120Zm60-500h600v-160H180v160Zm220 220h160v-160H400v160Zm0 220h160v-160H400v160ZM180-400h160v-160H180v160Zm440 0h160v-160H620v160ZM180-180h160v-160H180v160Zm440 0h160v-160H620v160Z\"/>\n",
              "  </svg>\n",
              "    </button>\n",
              "\n",
              "  <style>\n",
              "    .colab-df-container {\n",
              "      display:flex;\n",
              "      gap: 12px;\n",
              "    }\n",
              "\n",
              "    .colab-df-convert {\n",
              "      background-color: #E8F0FE;\n",
              "      border: none;\n",
              "      border-radius: 50%;\n",
              "      cursor: pointer;\n",
              "      display: none;\n",
              "      fill: #1967D2;\n",
              "      height: 32px;\n",
              "      padding: 0 0 0 0;\n",
              "      width: 32px;\n",
              "    }\n",
              "\n",
              "    .colab-df-convert:hover {\n",
              "      background-color: #E2EBFA;\n",
              "      box-shadow: 0px 1px 2px rgba(60, 64, 67, 0.3), 0px 1px 3px 1px rgba(60, 64, 67, 0.15);\n",
              "      fill: #174EA6;\n",
              "    }\n",
              "\n",
              "    .colab-df-buttons div {\n",
              "      margin-bottom: 4px;\n",
              "    }\n",
              "\n",
              "    [theme=dark] .colab-df-convert {\n",
              "      background-color: #3B4455;\n",
              "      fill: #D2E3FC;\n",
              "    }\n",
              "\n",
              "    [theme=dark] .colab-df-convert:hover {\n",
              "      background-color: #434B5C;\n",
              "      box-shadow: 0px 1px 3px 1px rgba(0, 0, 0, 0.15);\n",
              "      filter: drop-shadow(0px 1px 2px rgba(0, 0, 0, 0.3));\n",
              "      fill: #FFFFFF;\n",
              "    }\n",
              "  </style>\n",
              "\n",
              "    <script>\n",
              "      const buttonEl =\n",
              "        document.querySelector('#df-799b2ce9-83ad-4b27-aeb9-2750fbb0b931 button.colab-df-convert');\n",
              "      buttonEl.style.display =\n",
              "        google.colab.kernel.accessAllowed ? 'block' : 'none';\n",
              "\n",
              "      async function convertToInteractive(key) {\n",
              "        const element = document.querySelector('#df-799b2ce9-83ad-4b27-aeb9-2750fbb0b931');\n",
              "        const dataTable =\n",
              "          await google.colab.kernel.invokeFunction('convertToInteractive',\n",
              "                                                    [key], {});\n",
              "        if (!dataTable) return;\n",
              "\n",
              "        const docLinkHtml = 'Like what you see? Visit the ' +\n",
              "          '<a target=\"_blank\" href=https://colab.research.google.com/notebooks/data_table.ipynb>data table notebook</a>'\n",
              "          + ' to learn more about interactive tables.';\n",
              "        element.innerHTML = '';\n",
              "        dataTable['output_type'] = 'display_data';\n",
              "        await google.colab.output.renderOutput(dataTable, element);\n",
              "        const docLink = document.createElement('div');\n",
              "        docLink.innerHTML = docLinkHtml;\n",
              "        element.appendChild(docLink);\n",
              "      }\n",
              "    </script>\n",
              "  </div>\n",
              "\n",
              "\n",
              "<div id=\"df-7d67dd93-0d2b-4ca3-9209-351653eb955e\">\n",
              "  <button class=\"colab-df-quickchart\" onclick=\"quickchart('df-7d67dd93-0d2b-4ca3-9209-351653eb955e')\"\n",
              "            title=\"Suggest charts.\"\n",
              "            style=\"display:none;\">\n",
              "\n",
              "<svg xmlns=\"http://www.w3.org/2000/svg\" height=\"24px\"viewBox=\"0 0 24 24\"\n",
              "     width=\"24px\">\n",
              "    <g>\n",
              "        <path d=\"M19 3H5c-1.1 0-2 .9-2 2v14c0 1.1.9 2 2 2h14c1.1 0 2-.9 2-2V5c0-1.1-.9-2-2-2zM9 17H7v-7h2v7zm4 0h-2V7h2v10zm4 0h-2v-4h2v4z\"/>\n",
              "    </g>\n",
              "</svg>\n",
              "  </button>\n",
              "\n",
              "<style>\n",
              "  .colab-df-quickchart {\n",
              "    background-color: #E8F0FE;\n",
              "    border: none;\n",
              "    border-radius: 50%;\n",
              "    cursor: pointer;\n",
              "    display: none;\n",
              "    fill: #1967D2;\n",
              "    height: 32px;\n",
              "    padding: 0 0 0 0;\n",
              "    width: 32px;\n",
              "  }\n",
              "\n",
              "  .colab-df-quickchart:hover {\n",
              "    background-color: #E2EBFA;\n",
              "    box-shadow: 0px 1px 2px rgba(60, 64, 67, 0.3), 0px 1px 3px 1px rgba(60, 64, 67, 0.15);\n",
              "    fill: #174EA6;\n",
              "  }\n",
              "\n",
              "  [theme=dark] .colab-df-quickchart {\n",
              "    background-color: #3B4455;\n",
              "    fill: #D2E3FC;\n",
              "  }\n",
              "\n",
              "  [theme=dark] .colab-df-quickchart:hover {\n",
              "    background-color: #434B5C;\n",
              "    box-shadow: 0px 1px 3px 1px rgba(0, 0, 0, 0.15);\n",
              "    filter: drop-shadow(0px 1px 2px rgba(0, 0, 0, 0.3));\n",
              "    fill: #FFFFFF;\n",
              "  }\n",
              "</style>\n",
              "\n",
              "  <script>\n",
              "    async function quickchart(key) {\n",
              "      const charts = await google.colab.kernel.invokeFunction(\n",
              "          'suggestCharts', [key], {});\n",
              "    }\n",
              "    (() => {\n",
              "      let quickchartButtonEl =\n",
              "        document.querySelector('#df-7d67dd93-0d2b-4ca3-9209-351653eb955e button');\n",
              "      quickchartButtonEl.style.display =\n",
              "        google.colab.kernel.accessAllowed ? 'block' : 'none';\n",
              "    })();\n",
              "  </script>\n",
              "</div>\n",
              "    </div>\n",
              "  </div>\n"
            ]
          },
          "metadata": {},
          "execution_count": 229
        }
      ],
      "source": [
        "df = pd.read_csv(\"/content/drive/MyDrive/train_data.csv\", sep=',', encoding='latin-1')\n",
        "df1=pd.read_csv(\"/content/drive/MyDrive/balanced_test_data.csv\", sep=',', encoding='latin-1')\n",
        "df.head()"
      ]
    },
    {
      "cell_type": "code",
      "execution_count": null,
      "metadata": {
        "id": "uAuYYYdU_m9V",
        "colab": {
          "base_uri": "https://localhost:8080/"
        },
        "outputId": "cad7c468-a6b0-412d-a9dd-a0e3bfc6eb45"
      },
      "outputs": [
        {
          "output_type": "execute_result",
          "data": {
            "text/plain": [
              "(3274, 12)"
            ]
          },
          "metadata": {},
          "execution_count": 230
        }
      ],
      "source": [
        "df.shape"
      ]
    },
    {
      "cell_type": "code",
      "execution_count": null,
      "metadata": {
        "id": "81QhaunIGuFL"
      },
      "outputs": [],
      "source": [
        "# df.dtypes\n",
        "# # df=df.iloc[:50000]\n",
        "# # Run for small data\n",
        "df.rename(columns={\"ElectronÃ©gativitÃ©\": \"Electronégativité\"}, inplace=True)\n",
        "df1.rename(columns={\"ElectronÃ©gativitÃ©\": \"Electronégativité\"}, inplace=True)\n",
        "\n",
        "# df.columns\n",
        "# df.drop(['Alloy', 'Longue Phase', 'Ag', 'Al', 'Cd', 'Ga', 'Mg', 'Pt', 'Sb',\n",
        "#        'Sn', 'Ti', 'Zn', 'Zr', 'B', 'Ca', 'Ce', 'Co', 'Cr', 'Cu', 'Er', 'Fe',\n",
        "#        'In', 'La', 'Li', 'Mn', 'Mo', 'Nd', 'Ni', 'Re', 'Ru', 'Sm', 'V', 'Yb',\n",
        "#        'Au', 'Be', 'Bi', 'Pb', 'Nb', 'Si', 'Dy', 'Ge', 'Hf', 'W', 'Pd', 'Sr',\n",
        "#        'Na', 'Y', 'Ta', 'Gd', 'Rh', 'P', 'C', 'Ho', 'Pr', 'N', 'Tb', 'Sc',\n",
        "#        'Tm', 'Lu', 'Ir', 'Os', 'As', 'Tc'], axis=1, inplace=True)\n"
      ]
    },
    {
      "cell_type": "code",
      "execution_count": null,
      "metadata": {
        "id": "lWxoh3P7__fC",
        "colab": {
          "base_uri": "https://localhost:8080/"
        },
        "outputId": "a78aa4e9-3211-4bce-fc3d-7eb1c71c6923"
      },
      "outputs": [
        {
          "output_type": "execute_result",
          "data": {
            "text/plain": [
              "(3274, 12)"
            ]
          },
          "metadata": {},
          "execution_count": 232
        }
      ],
      "source": [
        "df.shape"
      ]
    },
    {
      "cell_type": "code",
      "execution_count": null,
      "metadata": {
        "id": "ed06a5b1"
      },
      "outputs": [],
      "source": [
        "\n",
        "# df[\"Etat d'entropie\"] = df[\"Etat d'entropie\"].map({'H': 1, 'L': 0})\n",
        "# df[\"Etat d'entropie\"].value_counts()"
      ]
    },
    {
      "cell_type": "code",
      "execution_count": null,
      "metadata": {
        "id": "lgHSHiHhRT9K",
        "colab": {
          "base_uri": "https://localhost:8080/"
        },
        "outputId": "ad887c11-ec56-4c8c-f436-c3d8399967f6"
      },
      "outputs": [
        {
          "output_type": "stream",
          "name": "stdout",
          "text": [
            "['A', 'delta', 'TM', 'DELTA_TM', 'Electronégativité', 'Delta_Electro-', 'SID', 'VEC', 'Delta VEC', 'K', 'Delta K', \"Etat d'entropie\"]\n"
          ]
        }
      ],
      "source": [
        "column_names=list(df.columns)\n",
        "print(column_names)"
      ]
    },
    {
      "cell_type": "code",
      "execution_count": null,
      "metadata": {
        "id": "d507ae97",
        "colab": {
          "base_uri": "https://localhost:8080/",
          "height": 206
        },
        "outputId": "ba85a0f4-c90d-4860-b1be-3761ef6eebc8"
      },
      "outputs": [
        {
          "output_type": "execute_result",
          "data": {
            "text/plain": [
              "             A     delta           TM  DELTA_TM  Electronégativité  \\\n",
              "109   2.000000  0.061237  2621.400000  0.239459           1.737500   \n",
              "367   1.866667  0.088815  1875.676316  0.118119           1.642281   \n",
              "3173  1.833333  0.068030  2299.150000  0.200081           2.106667   \n",
              "2018  1.675000  0.077555  1394.212500  0.235613           1.837500   \n",
              "902   2.040000  0.049990  2469.550000  0.209455           1.638000   \n",
              "\n",
              "      Delta_Electro-        SID       VEC  Delta VEC           K    Delta K  \\\n",
              "109         0.386159  11.525651  5.250000   0.829156  185.000000  75.000000   \n",
              "367         0.177280  14.834407  6.280702   1.935399  129.824561  55.139098   \n",
              "3173        0.167597   9.133863  8.000000   1.414214  263.333333  84.983659   \n",
              "2018        0.131791  11.525651  4.500000   3.354102  114.000000  39.344631   \n",
              "902         0.281595  13.380867  5.000000   0.894427  140.000000  80.746517   \n",
              "\n",
              "      Etat d'entropie  id  \n",
              "109                 0   1  \n",
              "367                 0   1  \n",
              "3173                0   1  \n",
              "2018                0   1  \n",
              "902                 0   1  "
            ],
            "text/html": [
              "\n",
              "  <div id=\"df-56fde05d-842f-4100-b504-b83672a89677\" class=\"colab-df-container\">\n",
              "    <div>\n",
              "<style scoped>\n",
              "    .dataframe tbody tr th:only-of-type {\n",
              "        vertical-align: middle;\n",
              "    }\n",
              "\n",
              "    .dataframe tbody tr th {\n",
              "        vertical-align: top;\n",
              "    }\n",
              "\n",
              "    .dataframe thead th {\n",
              "        text-align: right;\n",
              "    }\n",
              "</style>\n",
              "<table border=\"1\" class=\"dataframe\">\n",
              "  <thead>\n",
              "    <tr style=\"text-align: right;\">\n",
              "      <th></th>\n",
              "      <th>A</th>\n",
              "      <th>delta</th>\n",
              "      <th>TM</th>\n",
              "      <th>DELTA_TM</th>\n",
              "      <th>Electronégativité</th>\n",
              "      <th>Delta_Electro-</th>\n",
              "      <th>SID</th>\n",
              "      <th>VEC</th>\n",
              "      <th>Delta VEC</th>\n",
              "      <th>K</th>\n",
              "      <th>Delta K</th>\n",
              "      <th>Etat d'entropie</th>\n",
              "      <th>id</th>\n",
              "    </tr>\n",
              "  </thead>\n",
              "  <tbody>\n",
              "    <tr>\n",
              "      <th>109</th>\n",
              "      <td>2.000000</td>\n",
              "      <td>0.061237</td>\n",
              "      <td>2621.400000</td>\n",
              "      <td>0.239459</td>\n",
              "      <td>1.737500</td>\n",
              "      <td>0.386159</td>\n",
              "      <td>11.525651</td>\n",
              "      <td>5.250000</td>\n",
              "      <td>0.829156</td>\n",
              "      <td>185.000000</td>\n",
              "      <td>75.000000</td>\n",
              "      <td>0</td>\n",
              "      <td>1</td>\n",
              "    </tr>\n",
              "    <tr>\n",
              "      <th>367</th>\n",
              "      <td>1.866667</td>\n",
              "      <td>0.088815</td>\n",
              "      <td>1875.676316</td>\n",
              "      <td>0.118119</td>\n",
              "      <td>1.642281</td>\n",
              "      <td>0.177280</td>\n",
              "      <td>14.834407</td>\n",
              "      <td>6.280702</td>\n",
              "      <td>1.935399</td>\n",
              "      <td>129.824561</td>\n",
              "      <td>55.139098</td>\n",
              "      <td>0</td>\n",
              "      <td>1</td>\n",
              "    </tr>\n",
              "    <tr>\n",
              "      <th>3173</th>\n",
              "      <td>1.833333</td>\n",
              "      <td>0.068030</td>\n",
              "      <td>2299.150000</td>\n",
              "      <td>0.200081</td>\n",
              "      <td>2.106667</td>\n",
              "      <td>0.167597</td>\n",
              "      <td>9.133863</td>\n",
              "      <td>8.000000</td>\n",
              "      <td>1.414214</td>\n",
              "      <td>263.333333</td>\n",
              "      <td>84.983659</td>\n",
              "      <td>0</td>\n",
              "      <td>1</td>\n",
              "    </tr>\n",
              "    <tr>\n",
              "      <th>2018</th>\n",
              "      <td>1.675000</td>\n",
              "      <td>0.077555</td>\n",
              "      <td>1394.212500</td>\n",
              "      <td>0.235613</td>\n",
              "      <td>1.837500</td>\n",
              "      <td>0.131791</td>\n",
              "      <td>11.525651</td>\n",
              "      <td>4.500000</td>\n",
              "      <td>3.354102</td>\n",
              "      <td>114.000000</td>\n",
              "      <td>39.344631</td>\n",
              "      <td>0</td>\n",
              "      <td>1</td>\n",
              "    </tr>\n",
              "    <tr>\n",
              "      <th>902</th>\n",
              "      <td>2.040000</td>\n",
              "      <td>0.049990</td>\n",
              "      <td>2469.550000</td>\n",
              "      <td>0.209455</td>\n",
              "      <td>1.638000</td>\n",
              "      <td>0.281595</td>\n",
              "      <td>13.380867</td>\n",
              "      <td>5.000000</td>\n",
              "      <td>0.894427</td>\n",
              "      <td>140.000000</td>\n",
              "      <td>80.746517</td>\n",
              "      <td>0</td>\n",
              "      <td>1</td>\n",
              "    </tr>\n",
              "  </tbody>\n",
              "</table>\n",
              "</div>\n",
              "    <div class=\"colab-df-buttons\">\n",
              "\n",
              "  <div class=\"colab-df-container\">\n",
              "    <button class=\"colab-df-convert\" onclick=\"convertToInteractive('df-56fde05d-842f-4100-b504-b83672a89677')\"\n",
              "            title=\"Convert this dataframe to an interactive table.\"\n",
              "            style=\"display:none;\">\n",
              "\n",
              "  <svg xmlns=\"http://www.w3.org/2000/svg\" height=\"24px\" viewBox=\"0 -960 960 960\">\n",
              "    <path d=\"M120-120v-720h720v720H120Zm60-500h600v-160H180v160Zm220 220h160v-160H400v160Zm0 220h160v-160H400v160ZM180-400h160v-160H180v160Zm440 0h160v-160H620v160ZM180-180h160v-160H180v160Zm440 0h160v-160H620v160Z\"/>\n",
              "  </svg>\n",
              "    </button>\n",
              "\n",
              "  <style>\n",
              "    .colab-df-container {\n",
              "      display:flex;\n",
              "      gap: 12px;\n",
              "    }\n",
              "\n",
              "    .colab-df-convert {\n",
              "      background-color: #E8F0FE;\n",
              "      border: none;\n",
              "      border-radius: 50%;\n",
              "      cursor: pointer;\n",
              "      display: none;\n",
              "      fill: #1967D2;\n",
              "      height: 32px;\n",
              "      padding: 0 0 0 0;\n",
              "      width: 32px;\n",
              "    }\n",
              "\n",
              "    .colab-df-convert:hover {\n",
              "      background-color: #E2EBFA;\n",
              "      box-shadow: 0px 1px 2px rgba(60, 64, 67, 0.3), 0px 1px 3px 1px rgba(60, 64, 67, 0.15);\n",
              "      fill: #174EA6;\n",
              "    }\n",
              "\n",
              "    .colab-df-buttons div {\n",
              "      margin-bottom: 4px;\n",
              "    }\n",
              "\n",
              "    [theme=dark] .colab-df-convert {\n",
              "      background-color: #3B4455;\n",
              "      fill: #D2E3FC;\n",
              "    }\n",
              "\n",
              "    [theme=dark] .colab-df-convert:hover {\n",
              "      background-color: #434B5C;\n",
              "      box-shadow: 0px 1px 3px 1px rgba(0, 0, 0, 0.15);\n",
              "      filter: drop-shadow(0px 1px 2px rgba(0, 0, 0, 0.3));\n",
              "      fill: #FFFFFF;\n",
              "    }\n",
              "  </style>\n",
              "\n",
              "    <script>\n",
              "      const buttonEl =\n",
              "        document.querySelector('#df-56fde05d-842f-4100-b504-b83672a89677 button.colab-df-convert');\n",
              "      buttonEl.style.display =\n",
              "        google.colab.kernel.accessAllowed ? 'block' : 'none';\n",
              "\n",
              "      async function convertToInteractive(key) {\n",
              "        const element = document.querySelector('#df-56fde05d-842f-4100-b504-b83672a89677');\n",
              "        const dataTable =\n",
              "          await google.colab.kernel.invokeFunction('convertToInteractive',\n",
              "                                                    [key], {});\n",
              "        if (!dataTable) return;\n",
              "\n",
              "        const docLinkHtml = 'Like what you see? Visit the ' +\n",
              "          '<a target=\"_blank\" href=https://colab.research.google.com/notebooks/data_table.ipynb>data table notebook</a>'\n",
              "          + ' to learn more about interactive tables.';\n",
              "        element.innerHTML = '';\n",
              "        dataTable['output_type'] = 'display_data';\n",
              "        await google.colab.output.renderOutput(dataTable, element);\n",
              "        const docLink = document.createElement('div');\n",
              "        docLink.innerHTML = docLinkHtml;\n",
              "        element.appendChild(docLink);\n",
              "      }\n",
              "    </script>\n",
              "  </div>\n",
              "\n",
              "\n",
              "<div id=\"df-5806b174-8c47-405b-8242-8c2f1709d230\">\n",
              "  <button class=\"colab-df-quickchart\" onclick=\"quickchart('df-5806b174-8c47-405b-8242-8c2f1709d230')\"\n",
              "            title=\"Suggest charts.\"\n",
              "            style=\"display:none;\">\n",
              "\n",
              "<svg xmlns=\"http://www.w3.org/2000/svg\" height=\"24px\"viewBox=\"0 0 24 24\"\n",
              "     width=\"24px\">\n",
              "    <g>\n",
              "        <path d=\"M19 3H5c-1.1 0-2 .9-2 2v14c0 1.1.9 2 2 2h14c1.1 0 2-.9 2-2V5c0-1.1-.9-2-2-2zM9 17H7v-7h2v7zm4 0h-2V7h2v10zm4 0h-2v-4h2v4z\"/>\n",
              "    </g>\n",
              "</svg>\n",
              "  </button>\n",
              "\n",
              "<style>\n",
              "  .colab-df-quickchart {\n",
              "    background-color: #E8F0FE;\n",
              "    border: none;\n",
              "    border-radius: 50%;\n",
              "    cursor: pointer;\n",
              "    display: none;\n",
              "    fill: #1967D2;\n",
              "    height: 32px;\n",
              "    padding: 0 0 0 0;\n",
              "    width: 32px;\n",
              "  }\n",
              "\n",
              "  .colab-df-quickchart:hover {\n",
              "    background-color: #E2EBFA;\n",
              "    box-shadow: 0px 1px 2px rgba(60, 64, 67, 0.3), 0px 1px 3px 1px rgba(60, 64, 67, 0.15);\n",
              "    fill: #174EA6;\n",
              "  }\n",
              "\n",
              "  [theme=dark] .colab-df-quickchart {\n",
              "    background-color: #3B4455;\n",
              "    fill: #D2E3FC;\n",
              "  }\n",
              "\n",
              "  [theme=dark] .colab-df-quickchart:hover {\n",
              "    background-color: #434B5C;\n",
              "    box-shadow: 0px 1px 3px 1px rgba(0, 0, 0, 0.15);\n",
              "    filter: drop-shadow(0px 1px 2px rgba(0, 0, 0, 0.3));\n",
              "    fill: #FFFFFF;\n",
              "  }\n",
              "</style>\n",
              "\n",
              "  <script>\n",
              "    async function quickchart(key) {\n",
              "      const charts = await google.colab.kernel.invokeFunction(\n",
              "          'suggestCharts', [key], {});\n",
              "    }\n",
              "    (() => {\n",
              "      let quickchartButtonEl =\n",
              "        document.querySelector('#df-5806b174-8c47-405b-8242-8c2f1709d230 button');\n",
              "      quickchartButtonEl.style.display =\n",
              "        google.colab.kernel.accessAllowed ? 'block' : 'none';\n",
              "    })();\n",
              "  </script>\n",
              "</div>\n",
              "    </div>\n",
              "  </div>\n"
            ]
          },
          "metadata": {},
          "execution_count": 235
        }
      ],
      "source": [
        "# import random\n",
        "# client1 = int((client1/100) *df.shape[0])\n",
        "# client2 = int((client2/100) *df.shape[0])\n",
        "# client3 = int((client3/100) *df.shape[0])\n",
        "# client4 = df.shape[0] - client1 - client2 - client3\n",
        "# my_list = [1] * client1 + [2] * client2 + [3] * client3 + [4] * client4\n",
        "# random.shuffle(my_list)\n",
        "from sklearn.utils import resample\n",
        "from sklearn.model_selection import train_test_split\n",
        "from sklearn.preprocessing import StandardScaler\n",
        "\n",
        "client_distributions = {\n",
        "    1: {'percentage': 0.35, 'distribution': [0.3, 0.7]},\n",
        "    2: {'percentage': 0.30, 'distribution': [0.35, 0.65]},\n",
        "    3: {'percentage': 0.15, 'distribution':[0.55, 0.45]},\n",
        "    4: {'percentage': 0.2, 'distribution': [0.8, 0.2]},\n",
        "\n",
        "}\n",
        "def distribute_dataframe(df, client_distributions):\n",
        "    np.random.seed(42)\n",
        "\n",
        "    # Separate the dataframe into 0s and 1s\n",
        "    df0 = df[df['Etat d\\'entropie'] == 0]\n",
        "    df1 = df[df['Etat d\\'entropie'] == 1]\n",
        "\n",
        "    # Perform undersampling\n",
        "    # if len(df0) > len(df1):\n",
        "    #     df0 = df0.sample(len(df1))\n",
        "    # else:\n",
        "    #     df1 = df1.sample(len(df0))\n",
        "\n",
        "    # Combine back to a single dataframe\n",
        "\n",
        "    distributed_df = pd.DataFrame()\n",
        "\n",
        "    for client_id, client_info in client_distributions.items():\n",
        "        client_percentage = client_info['percentage']\n",
        "        class_distribution = client_info['distribution']\n",
        "\n",
        "        # Calculate the exact number of rows for this client\n",
        "        n_rows = int(client_percentage * len(df))\n",
        "\n",
        "        # Calculate desired number of samples for each class\n",
        "        n0 = int(class_distribution[0] * n_rows)\n",
        "        n1 = n_rows - n0\n",
        "\n",
        "        # Check if there are enough samples for each class\n",
        "        if n0 > len(df0):\n",
        "            n0 = len(df0)\n",
        "        if n1 > len(df1):\n",
        "            n1 = len(df1)\n",
        "\n",
        "        # Sample the rows for this client\n",
        "        tmp_df0 = df0.sample(n=n0, random_state=42)\n",
        "        tmp_df1 = df1.sample(n=n1, random_state=42)\n",
        "\n",
        "        # Drop these rows from the original dataframes\n",
        "        df0 = df0.drop(tmp_df0.index)\n",
        "        df1 = df1.drop(tmp_df1.index)\n",
        "\n",
        "        # Add the client id and combine the samples\n",
        "        tmp_df = pd.concat([tmp_df0, tmp_df1])\n",
        "        tmp_df['id'] = client_id\n",
        "\n",
        "        distributed_df = pd.concat([distributed_df, tmp_df])\n",
        "\n",
        "\n",
        "    return distributed_df\n",
        "\n",
        "df =distribute_dataframe(df, client_distributions)\n",
        "combined_df = pd.concat([df, df1])\n",
        "\n",
        "# Create a copy of the data excluding the specified column\n",
        "\n",
        "# Prepare the 'id' column\n",
        "# ids = np.random.choice([1,2,3,4], size=len(df), p=list(id_percentages.values()))\n",
        "# df['id'] = ids\n",
        "\n",
        "# # Prepare the \"Etat d'entropie\" column\n",
        "# for id_val, percentages in entropy_percentages.items():\n",
        "#     size = len(df[df['id'] == id_val])\n",
        "#     entropy_values = np.random.choice([0,1], size=size, p=list(percentages.values()))\n",
        "#     df.loc[df['id'] == id_val, 'Etat d\\'entropie'] = entropy_values\n",
        "df.head()"
      ]
    },
    {
      "cell_type": "code",
      "execution_count": null,
      "metadata": {
        "id": "m1wny9pDYNF8",
        "colab": {
          "base_uri": "https://localhost:8080/"
        },
        "outputId": "ff377d6a-7c0b-4f44-c04f-6d9ecc473804"
      },
      "outputs": [
        {
          "output_type": "execute_result",
          "data": {
            "text/plain": [
              "(3239, 13)"
            ]
          },
          "metadata": {},
          "execution_count": 236
        }
      ],
      "source": [
        "df.shape"
      ]
    },
    {
      "cell_type": "code",
      "execution_count": null,
      "metadata": {
        "id": "Ux2gg2btSYl1",
        "colab": {
          "base_uri": "https://localhost:8080/",
          "height": 206
        },
        "outputId": "14a0fde9-54c5-4288-e8b7-fb98b16555dd"
      },
      "outputs": [
        {
          "output_type": "execute_result",
          "data": {
            "text/plain": [
              "             A     delta        TM  DELTA_TM  Electronégativité  \\\n",
              "109   1.064492 -0.080386  1.183516  0.211930          -0.475561   \n",
              "367   0.071225  0.689075 -0.388525 -1.170409          -0.912077   \n",
              "3173 -0.177092  0.109149  0.504189 -0.236679           1.216814   \n",
              "2018 -1.356596  0.374898 -1.403486  0.168117          -0.017130   \n",
              "902   1.362472 -0.394196  0.863405 -0.129878          -0.931701   \n",
              "\n",
              "      Delta_Electro-       SID       VEC  Delta VEC         K   Delta K  \\\n",
              "109         1.947841  0.236162 -0.197657  -1.040295  0.299245  0.511969   \n",
              "367        -0.216416  1.543045  0.440532  -0.150005 -0.811316 -0.110695   \n",
              "3173       -0.316739 -0.708540  1.505085  -0.569448  1.875924  0.824970   \n",
              "2018       -0.687744  0.236162 -0.662041   0.991750 -1.129830 -0.605872   \n",
              "902         0.864428  0.968930 -0.352451  -0.987766 -0.606507  0.692130   \n",
              "\n",
              "      Etat d'entropie  id  \n",
              "109                 0   1  \n",
              "367                 0   1  \n",
              "3173                0   1  \n",
              "2018                0   1  \n",
              "902                 0   1  "
            ],
            "text/html": [
              "\n",
              "  <div id=\"df-17859b79-58f4-40d5-9545-9f61be0aae63\" class=\"colab-df-container\">\n",
              "    <div>\n",
              "<style scoped>\n",
              "    .dataframe tbody tr th:only-of-type {\n",
              "        vertical-align: middle;\n",
              "    }\n",
              "\n",
              "    .dataframe tbody tr th {\n",
              "        vertical-align: top;\n",
              "    }\n",
              "\n",
              "    .dataframe thead th {\n",
              "        text-align: right;\n",
              "    }\n",
              "</style>\n",
              "<table border=\"1\" class=\"dataframe\">\n",
              "  <thead>\n",
              "    <tr style=\"text-align: right;\">\n",
              "      <th></th>\n",
              "      <th>A</th>\n",
              "      <th>delta</th>\n",
              "      <th>TM</th>\n",
              "      <th>DELTA_TM</th>\n",
              "      <th>Electronégativité</th>\n",
              "      <th>Delta_Electro-</th>\n",
              "      <th>SID</th>\n",
              "      <th>VEC</th>\n",
              "      <th>Delta VEC</th>\n",
              "      <th>K</th>\n",
              "      <th>Delta K</th>\n",
              "      <th>Etat d'entropie</th>\n",
              "      <th>id</th>\n",
              "    </tr>\n",
              "  </thead>\n",
              "  <tbody>\n",
              "    <tr>\n",
              "      <th>109</th>\n",
              "      <td>1.064492</td>\n",
              "      <td>-0.080386</td>\n",
              "      <td>1.183516</td>\n",
              "      <td>0.211930</td>\n",
              "      <td>-0.475561</td>\n",
              "      <td>1.947841</td>\n",
              "      <td>0.236162</td>\n",
              "      <td>-0.197657</td>\n",
              "      <td>-1.040295</td>\n",
              "      <td>0.299245</td>\n",
              "      <td>0.511969</td>\n",
              "      <td>0</td>\n",
              "      <td>1</td>\n",
              "    </tr>\n",
              "    <tr>\n",
              "      <th>367</th>\n",
              "      <td>0.071225</td>\n",
              "      <td>0.689075</td>\n",
              "      <td>-0.388525</td>\n",
              "      <td>-1.170409</td>\n",
              "      <td>-0.912077</td>\n",
              "      <td>-0.216416</td>\n",
              "      <td>1.543045</td>\n",
              "      <td>0.440532</td>\n",
              "      <td>-0.150005</td>\n",
              "      <td>-0.811316</td>\n",
              "      <td>-0.110695</td>\n",
              "      <td>0</td>\n",
              "      <td>1</td>\n",
              "    </tr>\n",
              "    <tr>\n",
              "      <th>3173</th>\n",
              "      <td>-0.177092</td>\n",
              "      <td>0.109149</td>\n",
              "      <td>0.504189</td>\n",
              "      <td>-0.236679</td>\n",
              "      <td>1.216814</td>\n",
              "      <td>-0.316739</td>\n",
              "      <td>-0.708540</td>\n",
              "      <td>1.505085</td>\n",
              "      <td>-0.569448</td>\n",
              "      <td>1.875924</td>\n",
              "      <td>0.824970</td>\n",
              "      <td>0</td>\n",
              "      <td>1</td>\n",
              "    </tr>\n",
              "    <tr>\n",
              "      <th>2018</th>\n",
              "      <td>-1.356596</td>\n",
              "      <td>0.374898</td>\n",
              "      <td>-1.403486</td>\n",
              "      <td>0.168117</td>\n",
              "      <td>-0.017130</td>\n",
              "      <td>-0.687744</td>\n",
              "      <td>0.236162</td>\n",
              "      <td>-0.662041</td>\n",
              "      <td>0.991750</td>\n",
              "      <td>-1.129830</td>\n",
              "      <td>-0.605872</td>\n",
              "      <td>0</td>\n",
              "      <td>1</td>\n",
              "    </tr>\n",
              "    <tr>\n",
              "      <th>902</th>\n",
              "      <td>1.362472</td>\n",
              "      <td>-0.394196</td>\n",
              "      <td>0.863405</td>\n",
              "      <td>-0.129878</td>\n",
              "      <td>-0.931701</td>\n",
              "      <td>0.864428</td>\n",
              "      <td>0.968930</td>\n",
              "      <td>-0.352451</td>\n",
              "      <td>-0.987766</td>\n",
              "      <td>-0.606507</td>\n",
              "      <td>0.692130</td>\n",
              "      <td>0</td>\n",
              "      <td>1</td>\n",
              "    </tr>\n",
              "  </tbody>\n",
              "</table>\n",
              "</div>\n",
              "    <div class=\"colab-df-buttons\">\n",
              "\n",
              "  <div class=\"colab-df-container\">\n",
              "    <button class=\"colab-df-convert\" onclick=\"convertToInteractive('df-17859b79-58f4-40d5-9545-9f61be0aae63')\"\n",
              "            title=\"Convert this dataframe to an interactive table.\"\n",
              "            style=\"display:none;\">\n",
              "\n",
              "  <svg xmlns=\"http://www.w3.org/2000/svg\" height=\"24px\" viewBox=\"0 -960 960 960\">\n",
              "    <path d=\"M120-120v-720h720v720H120Zm60-500h600v-160H180v160Zm220 220h160v-160H400v160Zm0 220h160v-160H400v160ZM180-400h160v-160H180v160Zm440 0h160v-160H620v160ZM180-180h160v-160H180v160Zm440 0h160v-160H620v160Z\"/>\n",
              "  </svg>\n",
              "    </button>\n",
              "\n",
              "  <style>\n",
              "    .colab-df-container {\n",
              "      display:flex;\n",
              "      gap: 12px;\n",
              "    }\n",
              "\n",
              "    .colab-df-convert {\n",
              "      background-color: #E8F0FE;\n",
              "      border: none;\n",
              "      border-radius: 50%;\n",
              "      cursor: pointer;\n",
              "      display: none;\n",
              "      fill: #1967D2;\n",
              "      height: 32px;\n",
              "      padding: 0 0 0 0;\n",
              "      width: 32px;\n",
              "    }\n",
              "\n",
              "    .colab-df-convert:hover {\n",
              "      background-color: #E2EBFA;\n",
              "      box-shadow: 0px 1px 2px rgba(60, 64, 67, 0.3), 0px 1px 3px 1px rgba(60, 64, 67, 0.15);\n",
              "      fill: #174EA6;\n",
              "    }\n",
              "\n",
              "    .colab-df-buttons div {\n",
              "      margin-bottom: 4px;\n",
              "    }\n",
              "\n",
              "    [theme=dark] .colab-df-convert {\n",
              "      background-color: #3B4455;\n",
              "      fill: #D2E3FC;\n",
              "    }\n",
              "\n",
              "    [theme=dark] .colab-df-convert:hover {\n",
              "      background-color: #434B5C;\n",
              "      box-shadow: 0px 1px 3px 1px rgba(0, 0, 0, 0.15);\n",
              "      filter: drop-shadow(0px 1px 2px rgba(0, 0, 0, 0.3));\n",
              "      fill: #FFFFFF;\n",
              "    }\n",
              "  </style>\n",
              "\n",
              "    <script>\n",
              "      const buttonEl =\n",
              "        document.querySelector('#df-17859b79-58f4-40d5-9545-9f61be0aae63 button.colab-df-convert');\n",
              "      buttonEl.style.display =\n",
              "        google.colab.kernel.accessAllowed ? 'block' : 'none';\n",
              "\n",
              "      async function convertToInteractive(key) {\n",
              "        const element = document.querySelector('#df-17859b79-58f4-40d5-9545-9f61be0aae63');\n",
              "        const dataTable =\n",
              "          await google.colab.kernel.invokeFunction('convertToInteractive',\n",
              "                                                    [key], {});\n",
              "        if (!dataTable) return;\n",
              "\n",
              "        const docLinkHtml = 'Like what you see? Visit the ' +\n",
              "          '<a target=\"_blank\" href=https://colab.research.google.com/notebooks/data_table.ipynb>data table notebook</a>'\n",
              "          + ' to learn more about interactive tables.';\n",
              "        element.innerHTML = '';\n",
              "        dataTable['output_type'] = 'display_data';\n",
              "        await google.colab.output.renderOutput(dataTable, element);\n",
              "        const docLink = document.createElement('div');\n",
              "        docLink.innerHTML = docLinkHtml;\n",
              "        element.appendChild(docLink);\n",
              "      }\n",
              "    </script>\n",
              "  </div>\n",
              "\n",
              "\n",
              "<div id=\"df-f2e1d0d5-c79a-4c32-8a4e-9f25f2dc2492\">\n",
              "  <button class=\"colab-df-quickchart\" onclick=\"quickchart('df-f2e1d0d5-c79a-4c32-8a4e-9f25f2dc2492')\"\n",
              "            title=\"Suggest charts.\"\n",
              "            style=\"display:none;\">\n",
              "\n",
              "<svg xmlns=\"http://www.w3.org/2000/svg\" height=\"24px\"viewBox=\"0 0 24 24\"\n",
              "     width=\"24px\">\n",
              "    <g>\n",
              "        <path d=\"M19 3H5c-1.1 0-2 .9-2 2v14c0 1.1.9 2 2 2h14c1.1 0 2-.9 2-2V5c0-1.1-.9-2-2-2zM9 17H7v-7h2v7zm4 0h-2V7h2v10zm4 0h-2v-4h2v4z\"/>\n",
              "    </g>\n",
              "</svg>\n",
              "  </button>\n",
              "\n",
              "<style>\n",
              "  .colab-df-quickchart {\n",
              "    background-color: #E8F0FE;\n",
              "    border: none;\n",
              "    border-radius: 50%;\n",
              "    cursor: pointer;\n",
              "    display: none;\n",
              "    fill: #1967D2;\n",
              "    height: 32px;\n",
              "    padding: 0 0 0 0;\n",
              "    width: 32px;\n",
              "  }\n",
              "\n",
              "  .colab-df-quickchart:hover {\n",
              "    background-color: #E2EBFA;\n",
              "    box-shadow: 0px 1px 2px rgba(60, 64, 67, 0.3), 0px 1px 3px 1px rgba(60, 64, 67, 0.15);\n",
              "    fill: #174EA6;\n",
              "  }\n",
              "\n",
              "  [theme=dark] .colab-df-quickchart {\n",
              "    background-color: #3B4455;\n",
              "    fill: #D2E3FC;\n",
              "  }\n",
              "\n",
              "  [theme=dark] .colab-df-quickchart:hover {\n",
              "    background-color: #434B5C;\n",
              "    box-shadow: 0px 1px 3px 1px rgba(0, 0, 0, 0.15);\n",
              "    filter: drop-shadow(0px 1px 2px rgba(0, 0, 0, 0.3));\n",
              "    fill: #FFFFFF;\n",
              "  }\n",
              "</style>\n",
              "\n",
              "  <script>\n",
              "    async function quickchart(key) {\n",
              "      const charts = await google.colab.kernel.invokeFunction(\n",
              "          'suggestCharts', [key], {});\n",
              "    }\n",
              "    (() => {\n",
              "      let quickchartButtonEl =\n",
              "        document.querySelector('#df-f2e1d0d5-c79a-4c32-8a4e-9f25f2dc2492 button');\n",
              "      quickchartButtonEl.style.display =\n",
              "        google.colab.kernel.accessAllowed ? 'block' : 'none';\n",
              "    })();\n",
              "  </script>\n",
              "</div>\n",
              "    </div>\n",
              "  </div>\n"
            ]
          },
          "metadata": {},
          "execution_count": 237
        }
      ],
      "source": [
        "\n",
        "def normalize_columns(df, columns_to_normalize):\n",
        "    # Create a copy of the original dataframe\n",
        "    normalized_df = df.copy()\n",
        "\n",
        "    # Select the columns to normalize\n",
        "    data_to_normalize = normalized_df[columns_to_normalize]\n",
        "\n",
        "    # Create an instance of the scaler\n",
        "    scaler = StandardScaler()\n",
        "\n",
        "    # Fit the scaler to the selected columns\n",
        "    scaler.fit(data_to_normalize)\n",
        "\n",
        "    # Normalize the selected columns\n",
        "    normalized_data = scaler.transform(data_to_normalize)\n",
        "\n",
        "    # Update the normalized values in the dataframe\n",
        "    normalized_df[columns_to_normalize] = normalized_data\n",
        "\n",
        "    return normalized_df\n",
        "df=normalize_columns(combined_df,['A', 'delta', 'TM', 'DELTA_TM', 'Electronégativité', 'Delta_Electro-', 'SID', 'VEC', 'Delta VEC', 'K', 'Delta K'])\n",
        "\n",
        "df.head()"
      ]
    },
    {
      "cell_type": "code",
      "execution_count": null,
      "metadata": {
        "id": "151ebe1e"
      },
      "outputs": [],
      "source": [
        "# Run for Bigdata only\n",
        "NUM_CLIENTS = 5\n",
        "\n",
        "# data = pd.read_csv(\"/content/drive/MyDrive/BigData.csv\", sep=',', encoding='latin-1')\n",
        "\n",
        "# data.rename(columns={\"ElectronÃ©gativitÃ©\": \"Electronégativité\"}, inplace=True)\n",
        "# data.drop(\"Unnamed: 0\", axis=1, inplace=True)\n",
        "# data=normalize_columns(data,['A', 'delta', 'TM', 'DELTA_TM', 'Electronégativité', 'Delta_Electro-', 'SID', 'VEC', 'Delta VEC', 'K', 'Delta K'])\n",
        "# data[\"id\"]=NUM_CLIENTS\n",
        "# minority_count = data[\"Etat d'entropie\"].sum()\n",
        "# majority_count = data.shape[0] - minority_count\n",
        "\n",
        "# # Calculate the difference in counts between the classes\n",
        "# count_diff = majority_count - minority_count\n",
        "\n",
        "# # If the difference is positive, we need to add more samples of the minority class (1)\n",
        "# # If the difference is negative, we need to remove samples of the majority class (0)\n",
        "\n",
        "# if count_diff > 0:\n",
        "#     # Get the indices of the rows with target value 1\n",
        "#     minority_indices = data[data['Etat d\\'entropie'] == 1].index\n",
        "#     # Sample rows with replacement from the minority class to match the majority class count\n",
        "#     additional_minority_indices = np.random.choice(minority_indices, count_diff, replace=True)\n",
        "#     # Concatenate the additional samples with the original DataFrame\n",
        "#     data = pd.concat([data, data.loc[additional_minority_indices]])\n",
        "# elif count_diff < 0:\n",
        "#     # Get the indices of the rows with target value 0\n",
        "#     majority_indices = data[data[\"Etat d'entropie\"] == 0].index\n",
        "#     # Randomly select rows from the majority class to remove to match the minority class count\n",
        "#     majority_indices_to_remove = np.random.choice(majority_indices, abs(count_diff), replace=False)\n",
        "#     # Drop the selected rows from the majority class\n",
        "#     data = data.drop(majority_indices_to_remove)\n",
        "# df = pd.concat([df1, data], ignore_index=True)\n",
        "\n"
      ]
    },
    {
      "cell_type": "code",
      "execution_count": null,
      "metadata": {
        "id": "VMaNcWHV_oXU"
      },
      "outputs": [],
      "source": [
        "for id in range(1,NUM_CLIENTS+1):\n",
        "  df[df[\"id\"]==id].drop_duplicates(subset=['A', 'delta', 'TM', 'DELTA_TM', 'Electronégativité', 'Delta_Electro-', 'SID', 'VEC', 'Delta VEC', 'K', 'Delta K'])\n",
        "\n",
        "\n",
        "# df=df.drop_duplicates(subset=['A', 'delta', 'TM', 'DELTA_TM', 'Electronégativité', 'Delta_Electro-', 'SID', 'VEC', 'Delta VEC', 'K', 'Delta K'])"
      ]
    },
    {
      "cell_type": "code",
      "execution_count": null,
      "metadata": {
        "id": "Wgpj-2PLJF10",
        "colab": {
          "base_uri": "https://localhost:8080/"
        },
        "outputId": "12963fb1-3ef5-4e9b-8885-10a3e75c11fa"
      },
      "outputs": [
        {
          "output_type": "execute_result",
          "data": {
            "text/plain": [
              "Index(['A', 'delta', 'TM', 'DELTA_TM', 'Electronégativité', 'Delta_Electro-',\n",
              "       'SID', 'VEC', 'Delta VEC', 'K', 'Delta K', 'Etat d'entropie', 'id'],\n",
              "      dtype='object')"
            ]
          },
          "metadata": {},
          "execution_count": 240
        }
      ],
      "source": [
        "df.columns"
      ]
    },
    {
      "cell_type": "code",
      "execution_count": null,
      "metadata": {
        "id": "njVIi3KX-fI9"
      },
      "outputs": [],
      "source": [
        "from scipy.stats import gaussian_kde\n",
        "import seaborn as sns\n",
        "import matplotlib.pyplot as plt\n",
        "\n",
        "\n",
        "def pair_plot(df):\n",
        "  etat_entropie_values = [0, 1]\n",
        "\n",
        "# Plotting the density plots\n",
        "  id_values = range(1,NUM_CLIENTS+1)\n",
        "\n",
        "# Plotting the density plots\n",
        "  num_rows = 11\n",
        "  num_cols = NUM_CLIENTS\n",
        "  num_plots = num_rows * num_cols\n",
        "\n",
        "  fig, axes = plt.subplots(num_rows, num_cols, figsize=(18, 36))\n",
        "  axes = axes.flatten()\n",
        "\n",
        "  for i, col in enumerate(df.columns):\n",
        "    if col != 'id' and col != 'Etat d\\'entropie':\n",
        "        for j, id_value in enumerate(id_values):\n",
        "            ax = axes[(i * len(id_values)) + j]\n",
        "            for etat_entropie in [0, 1]:\n",
        "                filtered_data = df[df['Etat d\\'entropie'] == etat_entropie]\n",
        "                if not filtered_data.empty:\n",
        "                    filtered_data[col].plot(kind='density', label=f'Etat Entropie = {etat_entropie}', ax=ax)\n",
        "            filtered_data = df[(df['Etat d\\'entropie'] == 0) | (df['Etat d\\'entropie'] == 1)]\n",
        "            if not filtered_data.empty:\n",
        "                filtered_data[col].plot(kind='density', label='All Data', ax=ax, linestyle='--')\n",
        "            ax.set_title(f'Density Plot - {col}, id = {id_value}')\n",
        "            ax.legend()\n",
        "\n",
        "  plt.tight_layout()\n",
        "  plt.show()\n",
        "# pair_plot(df)\n",
        "\n"
      ]
    },
    {
      "cell_type": "code",
      "execution_count": null,
      "metadata": {
        "id": "-WZgRifhkP22"
      },
      "outputs": [],
      "source": [
        "import seaborn as sns\n",
        "import matplotlib.pyplot as plt\n",
        "\n"
      ]
    },
    {
      "cell_type": "code",
      "execution_count": null,
      "metadata": {
        "id": "8fa330b2",
        "colab": {
          "base_uri": "https://localhost:8080/"
        },
        "outputId": "27291cff-188f-4abf-89eb-a72c3aa8df08"
      },
      "outputs": [
        {
          "output_type": "stream",
          "name": "stdout",
          "text": [
            "The tensorboard extension is already loaded. To reload it, use:\n",
            "  %reload_ext tensorboard\n"
          ]
        }
      ],
      "source": [
        "import nest_asyncio\n",
        "nest_asyncio.apply()\n",
        "%load_ext tensorboard"
      ]
    },
    {
      "cell_type": "code",
      "execution_count": null,
      "metadata": {
        "id": "fe478e94",
        "colab": {
          "base_uri": "https://localhost:8080/"
        },
        "outputId": "f32ac97c-0d3d-4ff7-e30e-0e9c4df24253"
      },
      "outputs": [
        {
          "output_type": "execute_result",
          "data": {
            "text/plain": [
              "b'Hello, World!'"
            ]
          },
          "metadata": {},
          "execution_count": 244
        }
      ],
      "source": [
        "import collections\n",
        "import numpy as np\n",
        "import tensorflow as tf\n",
        "import tensorflow_federated as tff\n",
        "np.random.seed(0)\n",
        "tff.federated_computation(lambda: 'Hello, World!')()"
      ]
    },
    {
      "cell_type": "code",
      "execution_count": null,
      "metadata": {
        "id": "5Rwx2ugffeOW",
        "colab": {
          "base_uri": "https://localhost:8080/"
        },
        "outputId": "4ee69684-96e1-4608-8580-58c06643563f"
      },
      "outputs": [
        {
          "output_type": "execute_result",
          "data": {
            "text/plain": [
              "A                    float64\n",
              "delta                float64\n",
              "TM                   float64\n",
              "DELTA_TM             float64\n",
              "Electronégativité    float64\n",
              "Delta_Electro-       float64\n",
              "SID                  float64\n",
              "VEC                  float64\n",
              "Delta VEC            float64\n",
              "K                    float64\n",
              "Delta K              float64\n",
              "Etat d'entropie        int64\n",
              "id                     int64\n",
              "dtype: object"
            ]
          },
          "metadata": {},
          "execution_count": 245
        }
      ],
      "source": [
        "df.dtypes"
      ]
    },
    {
      "cell_type": "code",
      "execution_count": null,
      "metadata": {
        "id": "0ce0e9f1",
        "colab": {
          "base_uri": "https://localhost:8080/"
        },
        "outputId": "6c65177a-a1e8-4a29-a24d-b88b5dcf4940"
      },
      "outputs": [
        {
          "output_type": "stream",
          "name": "stdout",
          "text": [
            "[1 2 3 4 5]\n"
          ]
        }
      ],
      "source": [
        "# split client id into train and test clients\n",
        "client_id_colname = 'id' # the column that represents client ID\n",
        "client_ids = df[client_id_colname].unique()\n",
        "train_client_ids = range(1,NUM_CLIENTS)\n",
        "test_client_ids = [NUM_CLIENTS]\n",
        "print(client_ids)"
      ]
    },
    {
      "cell_type": "code",
      "execution_count": null,
      "metadata": {
        "id": "6dbba4e1"
      },
      "outputs": [],
      "source": [
        "def create_tf_dataset_for_client_fn(client_id):\n",
        "  # a function which takes a client_id and returns a\n",
        "  # tf.data.Dataset for that client\n",
        "    client_data = df[df[client_id_colname] == client_id]\n",
        "    client_data = client_data.drop(columns=[\"id\"])\n",
        "    dataset = tf.data.Dataset.from_tensor_slices(client_data.to_dict('list'))\n",
        "    dataset = dataset.shuffle(SHUFFLE_BUFFER).batch(1).repeat(NUM_EPOCHS)\n",
        "    return dataset"
      ]
    },
    {
      "cell_type": "code",
      "execution_count": null,
      "metadata": {
        "id": "e62dd808"
      },
      "outputs": [],
      "source": [
        "NUM_EPOCHS =10\n",
        "BATCH_SIZE = 512\n",
        "SHUFFLE_BUFFER = 2000\n",
        "PREFETCH_BUFFER = 1000\n",
        "\n",
        "\n",
        "\n",
        "train_data = tff.simulation.datasets.ClientData.from_clients_and_tf_fn(\n",
        "        client_ids=train_client_ids,\n",
        "        serializable_dataset_fn=create_tf_dataset_for_client_fn\n",
        "    )\n",
        "\n",
        "#\n",
        "test_data = tff.simulation.datasets.ClientData.from_clients_and_tf_fn(\n",
        "        client_ids=test_client_ids,\n",
        "        serializable_dataset_fn=create_tf_dataset_for_client_fn\n",
        "    )"
      ]
    },
    {
      "cell_type": "code",
      "execution_count": null,
      "metadata": {
        "id": "efba9238",
        "colab": {
          "base_uri": "https://localhost:8080/"
        },
        "outputId": "d703ab29-7739-4f48-e668-99b5d58fb1d2"
      },
      "outputs": [
        {
          "output_type": "execute_result",
          "data": {
            "text/plain": [
              "{'A': TensorSpec(shape=(None,), dtype=tf.float32, name=None),\n",
              " 'delta': TensorSpec(shape=(None,), dtype=tf.float32, name=None),\n",
              " 'TM': TensorSpec(shape=(None,), dtype=tf.float32, name=None),\n",
              " 'DELTA_TM': TensorSpec(shape=(None,), dtype=tf.float32, name=None),\n",
              " 'Electronégativité': TensorSpec(shape=(None,), dtype=tf.float32, name=None),\n",
              " 'Delta_Electro-': TensorSpec(shape=(None,), dtype=tf.float32, name=None),\n",
              " 'SID': TensorSpec(shape=(None,), dtype=tf.float32, name=None),\n",
              " 'VEC': TensorSpec(shape=(None,), dtype=tf.float32, name=None),\n",
              " 'Delta VEC': TensorSpec(shape=(None,), dtype=tf.float32, name=None),\n",
              " 'K': TensorSpec(shape=(None,), dtype=tf.float32, name=None),\n",
              " 'Delta K': TensorSpec(shape=(None,), dtype=tf.float32, name=None),\n",
              " \"Etat d'entropie\": TensorSpec(shape=(None,), dtype=tf.int32, name=None)}"
            ]
          },
          "metadata": {},
          "execution_count": 249
        }
      ],
      "source": [
        "train_data.element_type_structure"
      ]
    },
    {
      "cell_type": "code",
      "execution_count": null,
      "metadata": {
        "id": "be904144"
      },
      "outputs": [],
      "source": [
        "example_dataset = train_data.create_tf_dataset_for_client(\n",
        "    train_data.client_ids[0])\n",
        "\n",
        "example_element = next(iter(example_dataset))\n"
      ]
    },
    {
      "cell_type": "code",
      "execution_count": null,
      "metadata": {
        "id": "b0814bb6"
      },
      "outputs": [],
      "source": [
        "\n",
        "def preprocess(dataset):\n",
        "\n",
        "        def batch_format_fn(element):\n",
        "            output = tf.concat([\n",
        "                tf.expand_dims(element['Electronégativité'],1)\n",
        "                ,tf.expand_dims(element['Delta_Electro-'],1)\n",
        "                ,tf.expand_dims(element['SID'],1)\n",
        "                ,tf.expand_dims(element['VEC'],1)\n",
        "                ,tf.expand_dims(element['Delta VEC'],1)\n",
        "                ,tf.expand_dims(element[ 'K'],1)\n",
        "                ,tf.expand_dims(element['Delta K'],1)\n",
        "                ,tf.expand_dims(element['A'],1)\n",
        "                ,tf.expand_dims(element['delta'],1)\n",
        "                ,tf.expand_dims(element['TM'],1)\n",
        "                ,tf.expand_dims(element['DELTA_TM'],1)], axis=1)\n",
        "            return collections.OrderedDict(x= tf.reshape(output, [1, 11] )\n",
        "                                           ,\n",
        "                                           y= tf.reshape(element[\"Etat d'entropie\"], [1,1]) )\n",
        "\n",
        "        return dataset.map(batch_format_fn)"
      ]
    },
    {
      "cell_type": "code",
      "execution_count": null,
      "metadata": {
        "id": "3fc13188",
        "colab": {
          "base_uri": "https://localhost:8080/"
        },
        "outputId": "019b4aec-c0e4-417f-cb93-7d70fb8c0131"
      },
      "outputs": [
        {
          "output_type": "execute_result",
          "data": {
            "text/plain": [
              "OrderedDict([('x',\n",
              "              array([[-0.71623796, -0.701324  ,  0.2361621 ,  0.4215221 , -1.0402954 ,\n",
              "                       0.6514819 ,  1.235407  ,  0.31954154, -0.7506224 ,  0.5468773 ,\n",
              "                       0.9417596 ]], dtype=float32)),\n",
              "             ('y', array([[1]], dtype=int32))])"
            ]
          },
          "metadata": {},
          "execution_count": 252
        }
      ],
      "source": [
        "\n",
        "preprocessed_example_dataset = preprocess(example_dataset)\n",
        "\n",
        "sample_batch = tf.nest.map_structure(lambda x: x.numpy(),\n",
        "                                     next(iter(preprocessed_example_dataset)))\n",
        "\n",
        "sample_batch"
      ]
    },
    {
      "cell_type": "code",
      "execution_count": null,
      "metadata": {
        "id": "5ebebf42"
      },
      "outputs": [],
      "source": [
        "def make_federated_data(client_data, client_ids):\n",
        "    return [\n",
        "      preprocess(client_data.create_tf_dataset_for_client(x))\n",
        "      for x in client_ids\n",
        "  ]"
      ]
    },
    {
      "cell_type": "code",
      "execution_count": null,
      "metadata": {
        "id": "b5e10e72",
        "colab": {
          "base_uri": "https://localhost:8080/"
        },
        "outputId": "4b3ce2da-0da1-4ee8-a67f-6efecbc54de6"
      },
      "outputs": [
        {
          "output_type": "stream",
          "name": "stdout",
          "text": [
            "Number of client datasets: 4\n",
            "First dataset: <_MapDataset element_spec=OrderedDict([('x', TensorSpec(shape=(1, 11), dtype=tf.float32, name=None)), ('y', TensorSpec(shape=(1, 1), dtype=tf.int32, name=None))])>\n"
          ]
        }
      ],
      "source": [
        "sample_clients = train_data.client_ids[0:NUM_CLIENTS]\n",
        "# sample_clients_test=test_data.client_ids[0:NUM_CLIENTS]\n",
        "federated_train_data = make_federated_data(train_data, sample_clients)\n",
        "\n",
        "print('Number of client datasets: {l}'.format(l=len(federated_train_data)))\n",
        "print('First dataset: {d}'.format(d=federated_train_data[0]))"
      ]
    },
    {
      "cell_type": "code",
      "execution_count": null,
      "metadata": {
        "id": "622e3bd9",
        "colab": {
          "base_uri": "https://localhost:8080/",
          "height": 865
        },
        "outputId": "744c13b6-f4ad-48d4-89dd-7fc890e924c5"
      },
      "outputs": [
        {
          "output_type": "execute_result",
          "data": {
            "image/png": "[encoded data removed]",
            "text/plain": [
              "<IPython.core.display.Image object>"
            ]
          },
          "metadata": {},
          "execution_count": 255
        }
      ],
      "source": [
        "\n",
        "def create_keras_model():\n",
        "    return tf.keras.models.Sequential([\n",
        "        tf.keras.layers.Reshape(target_shape=(11, 1), input_shape=(11,)),\n",
        "        tf.keras.layers.Flatten(),\n",
        "        tf.keras.layers.Dense(40, kernel_initializer='glorot_uniform'),\n",
        "        tf.keras.layers.Dense(15, kernel_initializer='glorot_uniform'),\n",
        "        tf.keras.layers.Dense(10, kernel_initializer='glorot_uniform'),\n",
        "        tf.keras.layers.Dense(5, kernel_initializer='glorot_uniform'),\n",
        "        tf.keras.layers.Dense(1, kernel_initializer='glorot_uniform', activation='sigmoid')\n",
        "    ])\n",
        "\n",
        "# RNN\n",
        "# def create_keras_model():\n",
        "#     return tf.keras.models.Sequential([\n",
        "#         tf.keras.layers.Reshape(target_shape=(11, 1), input_shape=(11,)),\n",
        "#         tf.keras.layers.SimpleRNN(32),\n",
        "#         tf.keras.layers.Dense(85, kernel_initializer='zeros'),\n",
        "#         tf.keras.layers.Dense(60, kernel_initializer='zeros'),\n",
        "#         tf.keras.layers.Dense(25, kernel_initializer='zeros'),\n",
        "#         tf.keras.layers.Dense(10, kernel_initializer='zeros'),\n",
        "#         tf.keras.layers.Softmax(),\n",
        "#     ])\n",
        "# def create_keras_model():\n",
        "#     return tf.keras.models.Sequential([\n",
        "#         tf.keras.layers.Reshape(target_shape=(11, 1), input_shape=(11,)),\n",
        "#         tf.keras.layers.LSTM(32),\n",
        "#         tf.keras.layers.Dense(85, kernel_initializer='zeros'),\n",
        "#         tf.keras.layers.Dense(60, kernel_initializer='zeros'),\n",
        "#         tf.keras.layers.Dense(25, kernel_initializer='zeros'),\n",
        "#         tf.keras.layers.Dense(10, kernel_initializer='zeros'),\n",
        "#         tf.keras.layers.Dense(32, kernel_initializer='lecun_normal',activation='selu'),\n",
        "#     ])\n",
        "# def create_keras_model():\n",
        "#     return tf.keras.models.Sequential([\n",
        "#         tf.keras.layers.Reshape(target_shape=(11, 1), input_shape=(11,)),\n",
        "#         tf.keras.layers.GRU(32),\n",
        "#         tf.keras.layers.Dense(30, kernel_initializer='zeros'),\n",
        "#         tf.keras.layers.Dense(25, kernel_initializer='zeros'),\n",
        "#         tf.keras.layers.Dense(1, kernel_initializer='zeros'),\n",
        "#         tf.keras.layers.Softmax(),\n",
        "#     ])\n",
        "\n",
        "model=create_keras_model()\n",
        "tf.keras.utils.plot_model(\n",
        "model,\n",
        "to_file=\"model_ann.png\",\n",
        "show_shapes=True,\n",
        "show_dtype=False,\n",
        "show_layer_names=True,\n",
        "rankdir=\"TB\",\n",
        "expand_nested=True,\n",
        "dpi=96,\n",
        "layer_range=None,\n",
        "show_layer_activations=True,\n",
        ")"
      ]
    },
    {
      "cell_type": "code",
      "execution_count": null,
      "metadata": {
        "id": "c43084e9"
      },
      "outputs": [],
      "source": [
        "def model_fn():\n",
        "  # We _must_ create a new model here, and _not_ capture it from an external\n",
        "  # scope. TFF will call this within different graph contexts.\n",
        "    keras_model = create_keras_model()\n",
        "    return tff.learning.models.from_keras_model(\n",
        "    keras_model=keras_model,\n",
        "    input_spec=preprocessed_example_dataset.element_spec,\n",
        "    loss=tf.keras.losses.Poisson(reduction=\"auto\", name=\"poisson\"),\n",
        "    metrics=[\n",
        "        tf.keras.metrics.SparseCategoricalAccuracy(),\n",
        "        tf.keras.metrics.TruePositives(),\n",
        "        tf.keras.metrics.TrueNegatives(),\n",
        "        tf.keras.metrics.FalsePositives(),\n",
        "        tf.keras.metrics.FalseNegatives()\n",
        "    ]\n",
        ")"
      ]
    },
    {
      "cell_type": "code",
      "execution_count": null,
      "metadata": {
        "id": "aef5fc54"
      },
      "outputs": [],
      "source": [
        "iterative_process = tff.learning.algorithms.build_weighted_fed_avg(\n",
        "    model_fn,\n",
        "    client_optimizer_fn=lambda: tf.keras.optimizers.Adam(),\n",
        "    server_optimizer_fn=lambda: tf.keras.optimizers.Adam())\n",
        "\n"
      ]
    },
    {
      "cell_type": "code",
      "execution_count": null,
      "metadata": {
        "id": "5a224b72",
        "colab": {
          "base_uri": "https://localhost:8080/",
          "height": 70
        },
        "outputId": "0e6e0cff-1ce5-4118-e022-a61edf2bfb92"
      },
      "outputs": [
        {
          "output_type": "execute_result",
          "data": {
            "text/plain": [
              "'( -> <global_model_weights=<trainable=<float32[11,40],float32[40],float32[40,15],float32[15],float32[15,10],float32[10],float32[10,5],float32[5],float32[5,1],float32[1]>,non_trainable=<>>,distributor=<>,client_work=<>,aggregator=<value_sum_process=<>,weight_sum_process=<>>,finalizer=<int64,float32[11,40],float32[11,40],float32[40],float32[40],float32[40,15],float32[40,15],float32[15],float32[15],float32[15,10],float32[15,10],float32[10],float32[10],float32[10,5],float32[10,5],float32[5],float32[5],float32[5,1],float32[5,1],float32[1],float32[1]>>@SERVER)'"
            ],
            "application/vnd.google.colaboratory.intrinsic+json": {
              "type": "string"
            }
          },
          "metadata": {},
          "execution_count": 258
        }
      ],
      "source": [
        "str(iterative_process.initialize.type_signature)"
      ]
    },
    {
      "cell_type": "code",
      "execution_count": null,
      "metadata": {
        "id": "62ad6dcc"
      },
      "outputs": [],
      "source": [
        "state = iterative_process.initialize()"
      ]
    },
    {
      "cell_type": "code",
      "execution_count": null,
      "metadata": {
        "id": "FrSYpAAEdu8V",
        "colab": {
          "base_uri": "https://localhost:8080/"
        },
        "outputId": "fda90069-5975-441f-8574-8ae85d22329d"
      },
      "outputs": [
        {
          "output_type": "execute_result",
          "data": {
            "text/plain": [
              "A                    float64\n",
              "delta                float64\n",
              "TM                   float64\n",
              "DELTA_TM             float64\n",
              "Electronégativité    float64\n",
              "Delta_Electro-       float64\n",
              "SID                  float64\n",
              "VEC                  float64\n",
              "Delta VEC            float64\n",
              "K                    float64\n",
              "Delta K              float64\n",
              "Etat d'entropie        int64\n",
              "id                     int64\n",
              "dtype: object"
            ]
          },
          "metadata": {},
          "execution_count": 260
        }
      ],
      "source": [
        "df.dtypes"
      ]
    },
    {
      "cell_type": "code",
      "execution_count": null,
      "metadata": {
        "id": "5a601363",
        "colab": {
          "base_uri": "https://localhost:8080/"
        },
        "outputId": "60f351ee-d8ba-4866-deac-afaaf6eba3b6"
      },
      "outputs": [
        {
          "output_type": "stream",
          "name": "stdout",
          "text": [
            "round  1, metrics=OrderedDict([('distributor', ()), ('client_work', OrderedDict([('train', OrderedDict([('sparse_categorical_accuracy', 0.45662242), ('true_positives', 15110.0), ('true_negatives', 9579.0), ('false_positives', 5211.0), ('false_negatives', 2490.0), ('loss', 0.77360225), ('num_examples', 32390), ('num_batches', 32390)]))])), ('aggregator', OrderedDict([('mean_value', ()), ('mean_weight', ())])), ('finalizer', OrderedDict([('update_non_finite', 0)]))])\n"
          ]
        }
      ],
      "source": [
        "state, metrics = iterative_process.next(state, federated_train_data)\n",
        "print('round  1, metrics={}'.format(metrics))"
      ]
    },
    {
      "cell_type": "code",
      "execution_count": null,
      "metadata": {
        "id": "f339718a",
        "colab": {
          "base_uri": "https://localhost:8080/"
        },
        "outputId": "0d8cf348-1d62-4704-dd35-5cd668b302ec"
      },
      "outputs": [
        {
          "output_type": "stream",
          "name": "stdout",
          "text": [
            "round  2, metrics=OrderedDict([('distributor', ()), ('client_work', OrderedDict([('train', OrderedDict([('sparse_categorical_accuracy', 0.45662242), ('true_positives', 15098.0), ('true_negatives', 9575.0), ('false_positives', 5215.0), ('false_negatives', 2502.0), ('loss', 0.77325207), ('num_examples', 32390), ('num_batches', 32390)]))])), ('aggregator', OrderedDict([('mean_value', ()), ('mean_weight', ())])), ('finalizer', OrderedDict([('update_non_finite', 0)]))])\n",
            "round  3, metrics=OrderedDict([('distributor', ()), ('client_work', OrderedDict([('train', OrderedDict([('sparse_categorical_accuracy', 0.45662242), ('true_positives', 15097.0), ('true_negatives', 9574.0), ('false_positives', 5216.0), ('false_negatives', 2503.0), ('loss', 0.7731609), ('num_examples', 32390), ('num_batches', 32390)]))])), ('aggregator', OrderedDict([('mean_value', ()), ('mean_weight', ())])), ('finalizer', OrderedDict([('update_non_finite', 0)]))])\n",
            "round  4, metrics=OrderedDict([('distributor', ()), ('client_work', OrderedDict([('train', OrderedDict([('sparse_categorical_accuracy', 0.45662242), ('true_positives', 15077.0), ('true_negatives', 9578.0), ('false_positives', 5212.0), ('false_negatives', 2523.0), ('loss', 0.77304465), ('num_examples', 32390), ('num_batches', 32390)]))])), ('aggregator', OrderedDict([('mean_value', ()), ('mean_weight', ())])), ('finalizer', OrderedDict([('update_non_finite', 0)]))])\n",
            "round  5, metrics=OrderedDict([('distributor', ()), ('client_work', OrderedDict([('train', OrderedDict([('sparse_categorical_accuracy', 0.45662242), ('true_positives', 15107.0), ('true_negatives', 9577.0), ('false_positives', 5213.0), ('false_negatives', 2493.0), ('loss', 0.7727525), ('num_examples', 32390), ('num_batches', 32390)]))])), ('aggregator', OrderedDict([('mean_value', ()), ('mean_weight', ())])), ('finalizer', OrderedDict([('update_non_finite', 0)]))])\n",
            "round  6, metrics=OrderedDict([('distributor', ()), ('client_work', OrderedDict([('train', OrderedDict([('sparse_categorical_accuracy', 0.45662242), ('true_positives', 15112.0), ('true_negatives', 9612.0), ('false_positives', 5178.0), ('false_negatives', 2488.0), ('loss', 0.77290344), ('num_examples', 32390), ('num_batches', 32390)]))])), ('aggregator', OrderedDict([('mean_value', ()), ('mean_weight', ())])), ('finalizer', OrderedDict([('update_non_finite', 0)]))])\n",
            "round  7, metrics=OrderedDict([('distributor', ()), ('client_work', OrderedDict([('train', OrderedDict([('sparse_categorical_accuracy', 0.45662242), ('true_positives', 15119.0), ('true_negatives', 9600.0), ('false_positives', 5190.0), ('false_negatives', 2481.0), ('loss', 0.77256125), ('num_examples', 32390), ('num_batches', 32390)]))])), ('aggregator', OrderedDict([('mean_value', ()), ('mean_weight', ())])), ('finalizer', OrderedDict([('update_non_finite', 0)]))])\n",
            "round  8, metrics=OrderedDict([('distributor', ()), ('client_work', OrderedDict([('train', OrderedDict([('sparse_categorical_accuracy', 0.45662242), ('true_positives', 15106.0), ('true_negatives', 9596.0), ('false_positives', 5194.0), ('false_negatives', 2494.0), ('loss', 0.7726946), ('num_examples', 32390), ('num_batches', 32390)]))])), ('aggregator', OrderedDict([('mean_value', ()), ('mean_weight', ())])), ('finalizer', OrderedDict([('update_non_finite', 0)]))])\n",
            "round  9, metrics=OrderedDict([('distributor', ()), ('client_work', OrderedDict([('train', OrderedDict([('sparse_categorical_accuracy', 0.45662242), ('true_positives', 15129.0), ('true_negatives', 9604.0), ('false_positives', 5186.0), ('false_negatives', 2471.0), ('loss', 0.7724967), ('num_examples', 32390), ('num_batches', 32390)]))])), ('aggregator', OrderedDict([('mean_value', ()), ('mean_weight', ())])), ('finalizer', OrderedDict([('update_non_finite', 0)]))])\n",
            "round 10, metrics=OrderedDict([('distributor', ()), ('client_work', OrderedDict([('train', OrderedDict([('sparse_categorical_accuracy', 0.45662242), ('true_positives', 15098.0), ('true_negatives', 9645.0), ('false_positives', 5145.0), ('false_negatives', 2502.0), ('loss', 0.77215624), ('num_examples', 32390), ('num_batches', 32390)]))])), ('aggregator', OrderedDict([('mean_value', ()), ('mean_weight', ())])), ('finalizer', OrderedDict([('update_non_finite', 0)]))])\n",
            "round 11, metrics=OrderedDict([('distributor', ()), ('client_work', OrderedDict([('train', OrderedDict([('sparse_categorical_accuracy', 0.45662242), ('true_positives', 15089.0), ('true_negatives', 9648.0), ('false_positives', 5142.0), ('false_negatives', 2511.0), ('loss', 0.77224594), ('num_examples', 32390), ('num_batches', 32390)]))])), ('aggregator', OrderedDict([('mean_value', ()), ('mean_weight', ())])), ('finalizer', OrderedDict([('update_non_finite', 0)]))])\n",
            "round 12, metrics=OrderedDict([('distributor', ()), ('client_work', OrderedDict([('train', OrderedDict([('sparse_categorical_accuracy', 0.45662242), ('true_positives', 15110.0), ('true_negatives', 9610.0), ('false_positives', 5180.0), ('false_negatives', 2490.0), ('loss', 0.77198476), ('num_examples', 32390), ('num_batches', 32390)]))])), ('aggregator', OrderedDict([('mean_value', ()), ('mean_weight', ())])), ('finalizer', OrderedDict([('update_non_finite', 0)]))])\n",
            "round 13, metrics=OrderedDict([('distributor', ()), ('client_work', OrderedDict([('train', OrderedDict([('sparse_categorical_accuracy', 0.45662242), ('true_positives', 15093.0), ('true_negatives', 9604.0), ('false_positives', 5186.0), ('false_negatives', 2507.0), ('loss', 0.77207303), ('num_examples', 32390), ('num_batches', 32390)]))])), ('aggregator', OrderedDict([('mean_value', ()), ('mean_weight', ())])), ('finalizer', OrderedDict([('update_non_finite', 0)]))])\n",
            "round 14, metrics=OrderedDict([('distributor', ()), ('client_work', OrderedDict([('train', OrderedDict([('sparse_categorical_accuracy', 0.45662242), ('true_positives', 15125.0), ('true_negatives', 9617.0), ('false_positives', 5173.0), ('false_negatives', 2475.0), ('loss', 0.7716883), ('num_examples', 32390), ('num_batches', 32390)]))])), ('aggregator', OrderedDict([('mean_value', ()), ('mean_weight', ())])), ('finalizer', OrderedDict([('update_non_finite', 0)]))])\n",
            "round 15, metrics=OrderedDict([('distributor', ()), ('client_work', OrderedDict([('train', OrderedDict([('sparse_categorical_accuracy', 0.45662242), ('true_positives', 15119.0), ('true_negatives', 9617.0), ('false_positives', 5173.0), ('false_negatives', 2481.0), ('loss', 0.7720574), ('num_examples', 32390), ('num_batches', 32390)]))])), ('aggregator', OrderedDict([('mean_value', ()), ('mean_weight', ())])), ('finalizer', OrderedDict([('update_non_finite', 0)]))])\n",
            "round 16, metrics=OrderedDict([('distributor', ()), ('client_work', OrderedDict([('train', OrderedDict([('sparse_categorical_accuracy', 0.45662242), ('true_positives', 15086.0), ('true_negatives', 9604.0), ('false_positives', 5186.0), ('false_negatives', 2514.0), ('loss', 0.77180195), ('num_examples', 32390), ('num_batches', 32390)]))])), ('aggregator', OrderedDict([('mean_value', ()), ('mean_weight', ())])), ('finalizer', OrderedDict([('update_non_finite', 0)]))])\n",
            "round 17, metrics=OrderedDict([('distributor', ()), ('client_work', OrderedDict([('train', OrderedDict([('sparse_categorical_accuracy', 0.45662242), ('true_positives', 15102.0), ('true_negatives', 9597.0), ('false_positives', 5193.0), ('false_negatives', 2498.0), ('loss', 0.7712765), ('num_examples', 32390), ('num_batches', 32390)]))])), ('aggregator', OrderedDict([('mean_value', ()), ('mean_weight', ())])), ('finalizer', OrderedDict([('update_non_finite', 0)]))])\n",
            "round 18, metrics=OrderedDict([('distributor', ()), ('client_work', OrderedDict([('train', OrderedDict([('sparse_categorical_accuracy', 0.45662242), ('true_positives', 15134.0), ('true_negatives', 9620.0), ('false_positives', 5170.0), ('false_negatives', 2466.0), ('loss', 0.77151453), ('num_examples', 32390), ('num_batches', 32390)]))])), ('aggregator', OrderedDict([('mean_value', ()), ('mean_weight', ())])), ('finalizer', OrderedDict([('update_non_finite', 0)]))])\n",
            "round 19, metrics=OrderedDict([('distributor', ()), ('client_work', OrderedDict([('train', OrderedDict([('sparse_categorical_accuracy', 0.45662242), ('true_positives', 15096.0), ('true_negatives', 9612.0), ('false_positives', 5178.0), ('false_negatives', 2504.0), ('loss', 0.77156466), ('num_examples', 32390), ('num_batches', 32390)]))])), ('aggregator', OrderedDict([('mean_value', ()), ('mean_weight', ())])), ('finalizer', OrderedDict([('update_non_finite', 0)]))])\n"
          ]
        }
      ],
      "source": [
        "NUM_ROUNDS = 20\n",
        "\n",
        "acc = []\n",
        "for round_num in range(2, NUM_ROUNDS):\n",
        "    state, metrics = iterative_process.next(state, federated_train_data)\n",
        "    print('round {:2d}, metrics={}'.format(round_num, metrics))\n",
        "    acc.append( metrics['client_work']['train'])"
      ]
    },
    {
      "cell_type": "code",
      "execution_count": null,
      "metadata": {
        "id": "TQ-fwQzijfLm",
        "colab": {
          "base_uri": "https://localhost:8080/",
          "height": 472
        },
        "outputId": "ce386600-97b7-4585-e4fe-2e1e01b0180c"
      },
      "outputs": [
        {
          "output_type": "display_data",
          "data": {
            "text/plain": [
              "<Figure size 640x480 with 1 Axes>"
            ],
            "image/png": "[encoded data removed]"
          },
          "metadata": {}
        }
      ],
      "source": [
        "from matplotlib.animation import FuncAnimation\n",
        "\n",
        "tp_values = [int(i['true_positives']) for i in acc]  # List of true positives values for each round\n",
        "tn_values = [int(i['true_negatives']) for i in acc]  # List of true negatives values for each round\n",
        "fp_values = [int(i['false_positives']) for i in acc]  # List of false positives values for each round\n",
        "fn_values = [int(i['false_negatives']) for i in acc]\n",
        "\n",
        "accuracy_values = [(tp + tn) / (tp + tn + fp + fn) for tp, tn, fp, fn in zip(tp_values, tn_values, fp_values, fn_values)]\n",
        "recall_values = [tp / (tp + fn) if (tp + fn) > 0 else 0 for tp, fn in zip(tp_values, fn_values)]\n",
        "f1_score_values = [tp/(tp+0.5*(fp+fn))  for tp, fp, fn in zip(tp_values, fp_values, fn_values)]\n",
        "\n",
        "# Create x-axis values\n",
        "rounds = np.arange(1, len(tp_values) + 1)\n",
        "\n",
        "# Plot recall\n",
        "plt.plot(rounds, recall_values, label='Recall')\n",
        "\n",
        "# Plot accuracy\n",
        "plt.plot(rounds, accuracy_values, label='Accuracy')\n",
        "\n",
        "# Plot F1 score\n",
        "plt.plot(rounds, f1_score_values, label='F1 Score')\n",
        "\n",
        "# Set plot title and labels\n",
        "plt.title('Performance Metrics')\n",
        "plt.xlabel('Round')\n",
        "plt.ylabel('Score')\n",
        "\n",
        "# Add legend\n",
        "plt.legend()\n",
        "\n",
        "# Show the plot\n",
        "plt.show()"
      ]
    },
    {
      "cell_type": "code",
      "source": [
        "precision_values= [tp  / (tp +fp ) for tp,  fp in zip(tp_values,  fp_values)]\n",
        "# Plot recall\n",
        "plt.plot(rounds, recall_values, label='Recall')\n",
        "plt.plot(rounds, precision_values, label='Precision')\n",
        "\n",
        "# Plot accuracy\n",
        "plt.plot(rounds, accuracy_values, label='Accuracy')\n",
        "\n",
        "# Plot F1 score\n",
        "plt.plot(rounds, f1_score_values, label='F1 Score')\n",
        "\n",
        "# Set plot title and labels\n",
        "plt.title('Performance Metrics')\n",
        "plt.xlabel('Round')\n",
        "plt.ylabel('Score')\n",
        "\n",
        "# Add legend\n",
        "plt.legend()\n",
        "\n",
        "# Show the plot\n",
        "plt.show()"
      ],
      "metadata": {
        "id": "UYYX28n-W8Vf",
        "colab": {
          "base_uri": "https://localhost:8080/"
        },
        "outputId": "b29c12a4-6f94-4b18-d09e-7e2a763ec14a"
      },
      "execution_count": null,
      "outputs": [
        {
          "output_type": "display_data",
          "data": {
            "text/plain": [
              "<Figure size 640x480 with 1 Axes>"
            ],
            "image/png": "[encoded data removed]"
          },
          "metadata": {}
        }
      ]
    },
    {
      "cell_type": "markdown",
      "metadata": {
        "id": "7EEC7bJNvj8H"
      },
      "source": [
        "Evaluation process"
      ]
    },
    {
      "cell_type": "code",
      "execution_count": null,
      "metadata": {
        "id": "9dwSZy3Ry00A"
      },
      "outputs": [],
      "source": [
        "\n",
        "# Create a model function\n",
        "\n",
        "# Use this model function to create a training process\n",
        "evaluation_process = tff.learning.algorithms.build_fed_eval(model_fn)"
      ]
    },
    {
      "cell_type": "code",
      "execution_count": null,
      "metadata": {
        "id": "_BQtDv8y3ovr",
        "colab": {
          "base_uri": "https://localhost:8080/"
        },
        "outputId": "af78261b-2c81-463d-9ad6-b9aeff2008fa"
      },
      "outputs": [
        {
          "output_type": "stream",
          "name": "stdout",
          "text": [
            "(<\n",
            "  state=<\n",
            "    global_model_weights=<\n",
            "      trainable=<\n",
            "        float32[11,40],\n",
            "        float32[40],\n",
            "        float32[40,15],\n",
            "        float32[15],\n",
            "        float32[15,10],\n",
            "        float32[10],\n",
            "        float32[10,5],\n",
            "        float32[5],\n",
            "        float32[5,1],\n",
            "        float32[1]\n",
            "      >,\n",
            "      non_trainable=<>\n",
            "    >,\n",
            "    distributor=<>,\n",
            "    client_work=<\n",
            "      <>,\n",
            "      <\n",
            "        sparse_categorical_accuracy=<\n",
            "          float32,\n",
            "          float32\n",
            "        >,\n",
            "        true_positives=<\n",
            "          float32[1]\n",
            "        >,\n",
            "        true_negatives=<\n",
            "          float32[1]\n",
            "        >,\n",
            "        false_positives=<\n",
            "          float32[1]\n",
            "        >,\n",
            "        false_negatives=<\n",
            "          float32[1]\n",
            "        >,\n",
            "        loss=<\n",
            "          float32,\n",
            "          float32\n",
            "        >,\n",
            "        num_examples=<\n",
            "          int64\n",
            "        >,\n",
            "        num_batches=<\n",
            "          int64\n",
            "        >\n",
            "      >\n",
            "    >,\n",
            "    aggregator=<\n",
            "      value_sum_process=<>,\n",
            "      weight_sum_process=<>\n",
            "    >,\n",
            "    finalizer=<>\n",
            "  >@SERVER,\n",
            "  client_data={<\n",
            "    x=float32[1,11],\n",
            "    y=int32[1,1]\n",
            "  >*}@CLIENTS\n",
            "> -> <\n",
            "  state=<\n",
            "    global_model_weights=<\n",
            "      trainable=<\n",
            "        float32[11,40],\n",
            "        float32[40],\n",
            "        float32[40,15],\n",
            "        float32[15],\n",
            "        float32[15,10],\n",
            "        float32[10],\n",
            "        float32[10,5],\n",
            "        float32[5],\n",
            "        float32[5,1],\n",
            "        float32[1]\n",
            "      >,\n",
            "      non_trainable=<>\n",
            "    >,\n",
            "    distributor=<>,\n",
            "    client_work=<\n",
            "      <>,\n",
            "      <\n",
            "        sparse_categorical_accuracy=<\n",
            "          float32,\n",
            "          float32\n",
            "        >,\n",
            "        true_positives=<\n",
            "          float32[1]\n",
            "        >,\n",
            "        true_negatives=<\n",
            "          float32[1]\n",
            "        >,\n",
            "        false_positives=<\n",
            "          float32[1]\n",
            "        >,\n",
            "        false_negatives=<\n",
            "          float32[1]\n",
            "        >,\n",
            "        loss=<\n",
            "          float32,\n",
            "          float32\n",
            "        >,\n",
            "        num_examples=<\n",
            "          int64\n",
            "        >,\n",
            "        num_batches=<\n",
            "          int64\n",
            "        >\n",
            "      >\n",
            "    >,\n",
            "    aggregator=<\n",
            "      value_sum_process=<>,\n",
            "      weight_sum_process=<>\n",
            "    >,\n",
            "    finalizer=<>\n",
            "  >@SERVER,\n",
            "  metrics=<\n",
            "    distributor=<>,\n",
            "    client_work=<\n",
            "      eval=<\n",
            "        current_round_metrics=<\n",
            "          sparse_categorical_accuracy=float32,\n",
            "          true_positives=float32,\n",
            "          true_negatives=float32,\n",
            "          false_positives=float32,\n",
            "          false_negatives=float32,\n",
            "          loss=float32,\n",
            "          num_examples=int64,\n",
            "          num_batches=int64\n",
            "        >,\n",
            "        total_rounds_metrics=<\n",
            "          sparse_categorical_accuracy=float32,\n",
            "          true_positives=float32,\n",
            "          true_negatives=float32,\n",
            "          false_positives=float32,\n",
            "          false_negatives=float32,\n",
            "          loss=float32,\n",
            "          num_examples=int64,\n",
            "          num_batches=int64\n",
            "        >\n",
            "      >\n",
            "    >,\n",
            "    aggregator=<\n",
            "      mean_value=<>,\n",
            "      mean_weight=<>\n",
            "    >,\n",
            "    finalizer=<>\n",
            "  >@SERVER\n",
            ">)\n"
          ]
        }
      ],
      "source": [
        "print(evaluation_process.next.type_signature.formatted_representation())"
      ]
    },
    {
      "cell_type": "code",
      "execution_count": null,
      "metadata": {
        "id": "L0XF_HC56-db"
      },
      "outputs": [],
      "source": [
        "evaluation_state = evaluation_process.initialize()\n",
        "model_weights = iterative_process.get_model_weights(state)\n",
        "evaluation_state = evaluation_process.set_model_weights(evaluation_state, model_weights)"
      ]
    },
    {
      "cell_type": "code",
      "execution_count": null,
      "metadata": {
        "id": "TAj2UM8EsT5S"
      },
      "outputs": [],
      "source": [
        "import matplotlib.pyplot as plt\n",
        "import seaborn as sns\n",
        "from sklearn.metrics import ConfusionMatrixDisplay\n"
      ]
    },
    {
      "cell_type": "code",
      "execution_count": null,
      "metadata": {
        "id": "C0XXv1dB7LEz",
        "colab": {
          "base_uri": "https://localhost:8080/"
        },
        "outputId": "dcc7317b-5606-458a-f062-8c2ca19a7018"
      },
      "outputs": [
        {
          "output_type": "execute_result",
          "data": {
            "text/plain": [
              "(1,\n",
              " <_MapDataset element_spec=OrderedDict([('x', TensorSpec(shape=(1, 11), dtype=tf.float32, name=None)), ('y', TensorSpec(shape=(1, 1), dtype=tf.int32, name=None))])>)"
            ]
          },
          "metadata": {},
          "execution_count": 269
        }
      ],
      "source": [
        "federated_test_data = make_federated_data(test_data, test_data.client_ids)\n",
        "\n",
        "len(federated_test_data), federated_test_data[0]"
      ]
    },
    {
      "cell_type": "code",
      "execution_count": null,
      "metadata": {
        "id": "apjmQG3w-3G2"
      },
      "outputs": [],
      "source": [
        "evaluation_output = evaluation_process.next(evaluation_state, federated_test_data)"
      ]
    },
    {
      "cell_type": "code",
      "execution_count": null,
      "metadata": {
        "id": "2ZXj96PHRm1I",
        "colab": {
          "base_uri": "https://localhost:8080/",
          "height": 546
        },
        "outputId": "eac3a79d-9a32-4c56-d4ce-fa56089a9a92"
      },
      "outputs": [
        {
          "output_type": "stream",
          "name": "stderr",
          "text": [
            "<ipython-input-271-a79d3e099da3>:16: UserWarning: FixedFormatter should only be used together with FixedLocator\n",
            "  ax.set_xticklabels([''] + labels)\n",
            "<ipython-input-271-a79d3e099da3>:17: UserWarning: FixedFormatter should only be used together with FixedLocator\n",
            "  ax.set_yticklabels([''] + labels)\n"
          ]
        },
        {
          "output_type": "display_data",
          "data": {
            "text/plain": [
              "<Figure size 640x480 with 2 Axes>"
            ],
            "image/png": "[encoded data removed]"
          },
          "metadata": {}
        }
      ],
      "source": [
        "tp = int(evaluation_output.metrics[\"client_work\"][\"eval\"]['total_rounds_metrics']['true_positives'])\n",
        "tn = int(evaluation_output.metrics[\"client_work\"][\"eval\"]['total_rounds_metrics']['true_negatives'])\n",
        "fp = int(evaluation_output.metrics[\"client_work\"][\"eval\"]['total_rounds_metrics']['false_positives'])\n",
        "fn = int(evaluation_output.metrics[\"client_work\"][\"eval\"]['total_rounds_metrics']['false_negatives'])\n",
        "\n",
        "cm = np.array([[tp, fp],\n",
        "               [fn, tn]])\n",
        "\n",
        "# labels\n",
        "labels = ['Positive', 'Negative']\n",
        "fig = plt.figure()\n",
        "ax = fig.add_subplot(111)\n",
        "cax = ax.matshow(cm)\n",
        "plt.title('Confusion matrix of the classifier')\n",
        "fig.colorbar(cax)\n",
        "ax.set_xticklabels([''] + labels)\n",
        "ax.set_yticklabels([''] + labels)\n",
        "plt.xlabel('Predicted')\n",
        "plt.ylabel('True')\n",
        "plt.show()"
      ]
    },
    {
      "cell_type": "code",
      "execution_count": null,
      "metadata": {
        "id": "qSz68X0ZvLLV",
        "colab": {
          "base_uri": "https://localhost:8080/",
          "height": 195
        },
        "outputId": "6f5046e0-685d-4784-b171-007cddd88b0a"
      },
      "outputs": [
        {
          "output_type": "stream",
          "name": "stdout",
          "text": [
            "Precision: 0.6415094339622641\n",
            "Recall: 0.8143712574850299\n",
            "F1 score: 0.7176781002638523\n",
            "Accuracy: 0.6796407185628742\n"
          ]
        },
        {
          "output_type": "display_data",
          "data": {
            "text/plain": [
              "<IPython.core.display.HTML object>"
            ],
            "text/html": [
              "\n",
              "<table>\n",
              "  <tr>\n",
              "    <th>Metric</th>\n",
              "    <th>Value</th>\n",
              "  </tr>\n",
              "  <tr>\n",
              "    <td>Precision</td>\n",
              "    <td>0.64</td>\n",
              "  </tr>\n",
              "  <tr>\n",
              "    <td>Recall</td>\n",
              "    <td>0.81</td>\n",
              "  </tr>\n",
              "  <tr>\n",
              "    <td>F1 Score</td>\n",
              "    <td>0.72</td>\n",
              "  </tr>\n",
              "  <tr>\n",
              "    <td>Accuracy</td>\n",
              "    <td>0.68</td>\n",
              "  </tr>\n",
              "</table>\n"
            ]
          },
          "metadata": {}
        }
      ],
      "source": [
        "\n",
        "precision = tp / (tp + fp)\n",
        "recall = tp / (tp + fn)\n",
        "f1_score = 2 * (precision * recall) / (precision + recall)\n",
        "accuracy=(tp+tn)/(tp+tn+fp+fn)\n",
        "print(\"Precision:\", precision)\n",
        "print(\"Recall:\", recall)\n",
        "print(\"F1 score:\", f1_score)\n",
        "print(\"Accuracy:\", accuracy)\n",
        "\n",
        "\n",
        "table_html = \"\"\"\n",
        "<table>\n",
        "  <tr>\n",
        "    <th>Metric</th>\n",
        "    <th>Value</th>\n",
        "  </tr>\n",
        "  <tr>\n",
        "    <td>Precision</td>\n",
        "    <td>{:.2f}</td>\n",
        "  </tr>\n",
        "  <tr>\n",
        "    <td>Recall</td>\n",
        "    <td>{:.2f}</td>\n",
        "  </tr>\n",
        "  <tr>\n",
        "    <td>F1 Score</td>\n",
        "    <td>{:.2f}</td>\n",
        "  </tr>\n",
        "  <tr>\n",
        "    <td>Accuracy</td>\n",
        "    <td>{:.2f}</td>\n",
        "  </tr>\n",
        "</table>\n",
        "\"\"\".format(precision, recall, f1_score,accuracy)\n",
        "\n",
        "# Display HTML table in Jupyter Notebook\n",
        "from IPython.display import display, HTML\n",
        "display(HTML(table_html))"
      ]
    },
    {
      "cell_type": "code",
      "source": [],
      "metadata": {
        "id": "bz2OnSlIXncz"
      },
      "execution_count": null,
      "outputs": []
    }
  ],
  "metadata": {
    "colab": {
      "provenance": [],
      "include_colab_link": true
    },
    "kernelspec": {
      "display_name": "Python 3",
      "name": "python3"
    }
  },
  "nbformat": 4,
  "nbformat_minor": 0
}