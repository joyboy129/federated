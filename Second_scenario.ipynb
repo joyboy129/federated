{
  "cells": [
    {
      "cell_type": "markdown",
      "metadata": {
        "id": "view-in-github",
        "colab_type": "text"
      },
      "source": [
        "<a href=\"https://colab.research.google.com/github/joyboy129/federated/blob/main/Second_scenario.ipynb\" target=\"_parent\"><img src=\"https://colab.research.google.com/assets/colab-badge.svg\" alt=\"Open In Colab\"/></a>"
      ]
    },
    {
      "cell_type": "markdown",
      "metadata": {
        "id": "qN8P0AnTnAhh"
      },
      "source": [
        "##### Copyright 2019 The TensorFlow Authors."
      ]
    },
    {
      "cell_type": "code",
      "execution_count": null,
      "metadata": {
        "id": "ZrGitA_KnRO0",
        "colab": {
          "base_uri": "https://localhost:8080/"
        },
        "outputId": "ebc51ff6-119e-4aa6-8d12-48c53c9fb0c2"
      },
      "outputs": [
        {
          "output_type": "stream",
          "name": "stdout",
          "text": [
            "\u001b[2K     \u001b[90m━━━━━━━━━━━━━━━━━━━━━━━━━━━━━━━━━━━━━━━\u001b[0m \u001b[32m114.4/114.4 MB\u001b[0m \u001b[31m9.6 MB/s\u001b[0m eta \u001b[36m0:00:00\u001b[0m\n",
            "\u001b[2K     \u001b[90m━━━━━━━━━━━━━━━━━━━━━━━━━━━━━━━━━━━━━━━━\u001b[0m \u001b[32m60.6/60.6 kB\u001b[0m \u001b[31m6.5 MB/s\u001b[0m eta \u001b[36m0:00:00\u001b[0m\n",
            "\u001b[2K     \u001b[90m━━━━━━━━━━━━━━━━━━━━━━━━━━━━━━━━━━━━━━\u001b[0m \u001b[32m104.6/104.6 kB\u001b[0m \u001b[31m10.5 MB/s\u001b[0m eta \u001b[36m0:00:00\u001b[0m\n",
            "\u001b[2K     \u001b[90m━━━━━━━━━━━━━━━━━━━━━━━━━━━━━━━━━━━━━━━━\u001b[0m \u001b[32m98.7/98.7 kB\u001b[0m \u001b[31m11.6 MB/s\u001b[0m eta \u001b[36m0:00:00\u001b[0m\n",
            "\u001b[?25h  Preparing metadata (setup.py) ... \u001b[?25l\u001b[?25hdone\n",
            "\u001b[2K     \u001b[90m━━━━━━━━━━━━━━━━━━━━━━━━━━━━━━━━━━━━━━\u001b[0m \u001b[32m558.5/558.5 kB\u001b[0m \u001b[31m37.5 MB/s\u001b[0m eta \u001b[36m0:00:00\u001b[0m\n",
            "\u001b[2K     \u001b[90m━━━━━━━━━━━━━━━━━━━━━━━━━━━━━━━━━━━━━━━━\u001b[0m \u001b[32m71.6/71.6 MB\u001b[0m \u001b[31m9.8 MB/s\u001b[0m eta \u001b[36m0:00:00\u001b[0m\n",
            "\u001b[2K     \u001b[90m━━━━━━━━━━━━━━━━━━━━━━━━━━━━━━━━━━━━━━━━\u001b[0m \u001b[32m1.3/1.3 MB\u001b[0m \u001b[31m65.7 MB/s\u001b[0m eta \u001b[36m0:00:00\u001b[0m\n",
            "\u001b[?25h  Installing build dependencies ... \u001b[?25l\u001b[?25hdone\n",
            "  Getting requirements to build wheel ... \u001b[?25l\u001b[?25hdone\n",
            "  Preparing metadata (pyproject.toml) ... \u001b[?25l\u001b[?25hdone\n",
            "\u001b[2K     \u001b[90m━━━━━━━━━━━━━━━━━━━━━━━━━━━━━━━━━━━━━━━━\u001b[0m \u001b[32m33.7/33.7 MB\u001b[0m \u001b[31m16.5 MB/s\u001b[0m eta \u001b[36m0:00:00\u001b[0m\n",
            "\u001b[2K     \u001b[90m━━━━━━━━━━━━━━━━━━━━━━━━━━━━━━━━━━━━━━\u001b[0m \u001b[32m255.8/255.8 kB\u001b[0m \u001b[31m21.2 MB/s\u001b[0m eta \u001b[36m0:00:00\u001b[0m\n",
            "\u001b[2K     \u001b[90m━━━━━━━━━━━━━━━━━━━━━━━━━━━━━━━━━━━━━━\u001b[0m \u001b[32m238.9/238.9 kB\u001b[0m \u001b[31m24.4 MB/s\u001b[0m eta \u001b[36m0:00:00\u001b[0m\n",
            "\u001b[2K     \u001b[90m━━━━━━━━━━━━━━━━━━━━━━━━━━━━━━━━━━━━━━\u001b[0m \u001b[32m365.2/365.2 kB\u001b[0m \u001b[31m29.1 MB/s\u001b[0m eta \u001b[36m0:00:00\u001b[0m\n",
            "\u001b[2K     \u001b[90m━━━━━━━━━━━━━━━━━━━━━━━━━━━━━━━━━━━━━━━━\u001b[0m \u001b[32m4.6/4.6 MB\u001b[0m \u001b[31m82.4 MB/s\u001b[0m eta \u001b[36m0:00:00\u001b[0m\n",
            "\u001b[2K     \u001b[90m━━━━━━━━━━━━━━━━━━━━━━━━━━━━━━━━━━━━━━━━\u001b[0m \u001b[32m2.4/2.4 MB\u001b[0m \u001b[31m66.6 MB/s\u001b[0m eta \u001b[36m0:00:00\u001b[0m\n",
            "\u001b[2K     \u001b[90m━━━━━━━━━━━━━━━━━━━━━━━━━━━━━━━━━━━━━━━━\u001b[0m \u001b[32m7.4/7.4 MB\u001b[0m \u001b[31m78.4 MB/s\u001b[0m eta \u001b[36m0:00:00\u001b[0m\n",
            "\u001b[?25h  Preparing metadata (setup.py) ... \u001b[?25l\u001b[?25hdone\n",
            "\u001b[2K     \u001b[90m━━━━━━━━━━━━━━━━━━━━━━━━━━━━━━━━━━━━━━━━\u001b[0m \u001b[32m42.6/42.6 kB\u001b[0m \u001b[31m3.9 MB/s\u001b[0m eta \u001b[36m0:00:00\u001b[0m\n",
            "\u001b[?25h  Building wheel for farmhashpy (setup.py) ... \u001b[?25l\u001b[?25hdone\n",
            "  Building wheel for jax (pyproject.toml) ... \u001b[?25l\u001b[?25hdone\n",
            "  Building wheel for sqlalchemy (setup.py) ... \u001b[?25l\u001b[?25hdone\n",
            "\u001b[31mERROR: pip's dependency resolver does not currently take into account all the packages that are installed. This behaviour is the source of the following dependency conflicts.\n",
            "ipython-sql 0.5.0 requires sqlalchemy>=2.0, but you have sqlalchemy 1.4.0 which is incompatible.\n",
            "jsonschema 4.19.0 requires attrs>=22.2.0, but you have attrs 21.4.0 which is incompatible.\n",
            "pydantic 2.1.1 requires typing-extensions>=4.6.1, but you have typing-extensions 4.4.0 which is incompatible.\n",
            "pydantic-core 2.4.0 requires typing-extensions!=4.7.0,>=4.6.0, but you have typing-extensions 4.4.0 which is incompatible.\n",
            "pymc 5.7.2 requires cachetools>=4.2.1, but you have cachetools 3.1.1 which is incompatible.\n",
            "referencing 0.30.2 requires attrs>=22.2.0, but you have attrs 21.4.0 which is incompatible.\u001b[0m\u001b[31m\n",
            "\u001b[0m"
          ]
        }
      ],
      "source": [
        "#@test {\"skip\": true}\n",
        "\n",
        "!pip install --quiet --upgrade tensorflow-federated\n",
        "import nest_asyncio\n",
        "nest_asyncio.apply()"
      ]
    },
    {
      "cell_type": "code",
      "execution_count": null,
      "metadata": {
        "id": "QLyJIaLlERJ8"
      },
      "outputs": [],
      "source": [
        "%load_ext tensorboard"
      ]
    },
    {
      "cell_type": "code",
      "execution_count": null,
      "metadata": {
        "id": "8BKyHkMxKHfV",
        "colab": {
          "base_uri": "https://localhost:8080/"
        },
        "outputId": "8fbbc4aa-92aa-414c-8368-3c1b40437aa3"
      },
      "outputs": [
        {
          "output_type": "execute_result",
          "data": {
            "text/plain": [
              "b'Hello, World!'"
            ]
          },
          "metadata": {},
          "execution_count": 3
        }
      ],
      "source": [
        "import collections\n",
        "\n",
        "import numpy as np\n",
        "import tensorflow as tf\n",
        "import tensorflow_federated as tff\n",
        "\n",
        "np.random.seed(0)\n",
        "\n",
        "tff.federated_computation(lambda: 'Hello, World!')()"
      ]
    },
    {
      "cell_type": "code",
      "execution_count": null,
      "metadata": {
        "id": "afc6bc6f",
        "colab": {
          "base_uri": "https://localhost:8080/"
        },
        "outputId": "90d3cfe9-d314-403d-ba1f-0a6e7baa5469"
      },
      "outputs": [
        {
          "output_type": "stream",
          "name": "stdout",
          "text": [
            "Mounted at /content/drive\n"
          ]
        }
      ],
      "source": [
        "import pandas as pd\n",
        "import numpy as np\n",
        "from google.colab import drive\n",
        "drive.mount('/content/drive')\n",
        "from sklearn.preprocessing import MinMaxScaler\n"
      ]
    },
    {
      "cell_type": "code",
      "execution_count": null,
      "metadata": {
        "id": "XYc9s0OrF6Av",
        "colab": {
          "base_uri": "https://localhost:8080/",
          "height": 236
        },
        "outputId": "68e5c3b0-788a-47aa-8a2d-c3da6d022da1"
      },
      "outputs": [
        {
          "output_type": "execute_result",
          "data": {
            "text/plain": [
              "    Alloy Longue Phase         A         delta           TM  DELTA_TM  \\\n",
              "0   Ag2Al            L  1.800000  2.220446e-16  1133.900000  0.125033   \n",
              "1  Ag5Cd8            L  1.738462  2.798476e-02   840.414615  0.370383   \n",
              "2  Ag2Ga3            L  1.800000  1.110223e-16   675.406000  0.675464   \n",
              "3   Ag3Ga            L  1.800000  0.000000e+00  1001.340000  0.402699   \n",
              "4   AgMg3            L  1.725000  2.510219e-02  1000.900000  0.134546   \n",
              "\n",
              "   ElectronÃ©gativitÃ©  Delta_Electro-       SID       VEC  ...   Pr    N  \\\n",
              "0             1.823333        0.150849  5.291979  1.666667  ...  0.0  0.0   \n",
              "1             1.782308        0.116761  5.539439  1.615385  ...  0.0  0.0   \n",
              "2             1.858000        0.058788  5.595419  2.200000  ...  0.0  0.0   \n",
              "3             1.900000        0.051962  4.675254  1.500000  ...  0.0  0.0   \n",
              "4             1.465000        0.268468  4.675254  1.750000  ...  0.0  0.0   \n",
              "\n",
              "    Tb   Sc   Tm   Lu   Ir   Os   As   Tc  \n",
              "0  0.0  0.0  0.0  0.0  0.0  0.0  0.0  0.0  \n",
              "1  0.0  0.0  0.0  0.0  0.0  0.0  0.0  0.0  \n",
              "2  0.0  0.0  0.0  0.0  0.0  0.0  0.0  0.0  \n",
              "3  0.0  0.0  0.0  0.0  0.0  0.0  0.0  0.0  \n",
              "4  0.0  0.0  0.0  0.0  0.0  0.0  0.0  0.0  \n",
              "\n",
              "[5 rows x 75 columns]"
            ],
            "text/html": [
              "\n",
              "  <div id=\"df-3e698589-944f-497e-95ed-bad13f76faa6\" class=\"colab-df-container\">\n",
              "    <div>\n",
              "<style scoped>\n",
              "    .dataframe tbody tr th:only-of-type {\n",
              "        vertical-align: middle;\n",
              "    }\n",
              "\n",
              "    .dataframe tbody tr th {\n",
              "        vertical-align: top;\n",
              "    }\n",
              "\n",
              "    .dataframe thead th {\n",
              "        text-align: right;\n",
              "    }\n",
              "</style>\n",
              "<table border=\"1\" class=\"dataframe\">\n",
              "  <thead>\n",
              "    <tr style=\"text-align: right;\">\n",
              "      <th></th>\n",
              "      <th>Alloy</th>\n",
              "      <th>Longue Phase</th>\n",
              "      <th>A</th>\n",
              "      <th>delta</th>\n",
              "      <th>TM</th>\n",
              "      <th>DELTA_TM</th>\n",
              "      <th>ElectronÃ©gativitÃ©</th>\n",
              "      <th>Delta_Electro-</th>\n",
              "      <th>SID</th>\n",
              "      <th>VEC</th>\n",
              "      <th>...</th>\n",
              "      <th>Pr</th>\n",
              "      <th>N</th>\n",
              "      <th>Tb</th>\n",
              "      <th>Sc</th>\n",
              "      <th>Tm</th>\n",
              "      <th>Lu</th>\n",
              "      <th>Ir</th>\n",
              "      <th>Os</th>\n",
              "      <th>As</th>\n",
              "      <th>Tc</th>\n",
              "    </tr>\n",
              "  </thead>\n",
              "  <tbody>\n",
              "    <tr>\n",
              "      <th>0</th>\n",
              "      <td>Ag2Al</td>\n",
              "      <td>L</td>\n",
              "      <td>1.800000</td>\n",
              "      <td>2.220446e-16</td>\n",
              "      <td>1133.900000</td>\n",
              "      <td>0.125033</td>\n",
              "      <td>1.823333</td>\n",
              "      <td>0.150849</td>\n",
              "      <td>5.291979</td>\n",
              "      <td>1.666667</td>\n",
              "      <td>...</td>\n",
              "      <td>0.0</td>\n",
              "      <td>0.0</td>\n",
              "      <td>0.0</td>\n",
              "      <td>0.0</td>\n",
              "      <td>0.0</td>\n",
              "      <td>0.0</td>\n",
              "      <td>0.0</td>\n",
              "      <td>0.0</td>\n",
              "      <td>0.0</td>\n",
              "      <td>0.0</td>\n",
              "    </tr>\n",
              "    <tr>\n",
              "      <th>1</th>\n",
              "      <td>Ag5Cd8</td>\n",
              "      <td>L</td>\n",
              "      <td>1.738462</td>\n",
              "      <td>2.798476e-02</td>\n",
              "      <td>840.414615</td>\n",
              "      <td>0.370383</td>\n",
              "      <td>1.782308</td>\n",
              "      <td>0.116761</td>\n",
              "      <td>5.539439</td>\n",
              "      <td>1.615385</td>\n",
              "      <td>...</td>\n",
              "      <td>0.0</td>\n",
              "      <td>0.0</td>\n",
              "      <td>0.0</td>\n",
              "      <td>0.0</td>\n",
              "      <td>0.0</td>\n",
              "      <td>0.0</td>\n",
              "      <td>0.0</td>\n",
              "      <td>0.0</td>\n",
              "      <td>0.0</td>\n",
              "      <td>0.0</td>\n",
              "    </tr>\n",
              "    <tr>\n",
              "      <th>2</th>\n",
              "      <td>Ag2Ga3</td>\n",
              "      <td>L</td>\n",
              "      <td>1.800000</td>\n",
              "      <td>1.110223e-16</td>\n",
              "      <td>675.406000</td>\n",
              "      <td>0.675464</td>\n",
              "      <td>1.858000</td>\n",
              "      <td>0.058788</td>\n",
              "      <td>5.595419</td>\n",
              "      <td>2.200000</td>\n",
              "      <td>...</td>\n",
              "      <td>0.0</td>\n",
              "      <td>0.0</td>\n",
              "      <td>0.0</td>\n",
              "      <td>0.0</td>\n",
              "      <td>0.0</td>\n",
              "      <td>0.0</td>\n",
              "      <td>0.0</td>\n",
              "      <td>0.0</td>\n",
              "      <td>0.0</td>\n",
              "      <td>0.0</td>\n",
              "    </tr>\n",
              "    <tr>\n",
              "      <th>3</th>\n",
              "      <td>Ag3Ga</td>\n",
              "      <td>L</td>\n",
              "      <td>1.800000</td>\n",
              "      <td>0.000000e+00</td>\n",
              "      <td>1001.340000</td>\n",
              "      <td>0.402699</td>\n",
              "      <td>1.900000</td>\n",
              "      <td>0.051962</td>\n",
              "      <td>4.675254</td>\n",
              "      <td>1.500000</td>\n",
              "      <td>...</td>\n",
              "      <td>0.0</td>\n",
              "      <td>0.0</td>\n",
              "      <td>0.0</td>\n",
              "      <td>0.0</td>\n",
              "      <td>0.0</td>\n",
              "      <td>0.0</td>\n",
              "      <td>0.0</td>\n",
              "      <td>0.0</td>\n",
              "      <td>0.0</td>\n",
              "      <td>0.0</td>\n",
              "    </tr>\n",
              "    <tr>\n",
              "      <th>4</th>\n",
              "      <td>AgMg3</td>\n",
              "      <td>L</td>\n",
              "      <td>1.725000</td>\n",
              "      <td>2.510219e-02</td>\n",
              "      <td>1000.900000</td>\n",
              "      <td>0.134546</td>\n",
              "      <td>1.465000</td>\n",
              "      <td>0.268468</td>\n",
              "      <td>4.675254</td>\n",
              "      <td>1.750000</td>\n",
              "      <td>...</td>\n",
              "      <td>0.0</td>\n",
              "      <td>0.0</td>\n",
              "      <td>0.0</td>\n",
              "      <td>0.0</td>\n",
              "      <td>0.0</td>\n",
              "      <td>0.0</td>\n",
              "      <td>0.0</td>\n",
              "      <td>0.0</td>\n",
              "      <td>0.0</td>\n",
              "      <td>0.0</td>\n",
              "    </tr>\n",
              "  </tbody>\n",
              "</table>\n",
              "<p>5 rows × 75 columns</p>\n",
              "</div>\n",
              "    <div class=\"colab-df-buttons\">\n",
              "\n",
              "  <div class=\"colab-df-container\">\n",
              "    <button class=\"colab-df-convert\" onclick=\"convertToInteractive('df-3e698589-944f-497e-95ed-bad13f76faa6')\"\n",
              "            title=\"Convert this dataframe to an interactive table.\"\n",
              "            style=\"display:none;\">\n",
              "\n",
              "  <svg xmlns=\"http://www.w3.org/2000/svg\" height=\"24px\" viewBox=\"0 -960 960 960\">\n",
              "    <path d=\"M120-120v-720h720v720H120Zm60-500h600v-160H180v160Zm220 220h160v-160H400v160Zm0 220h160v-160H400v160ZM180-400h160v-160H180v160Zm440 0h160v-160H620v160ZM180-180h160v-160H180v160Zm440 0h160v-160H620v160Z\"/>\n",
              "  </svg>\n",
              "    </button>\n",
              "\n",
              "  <style>\n",
              "    .colab-df-container {\n",
              "      display:flex;\n",
              "      gap: 12px;\n",
              "    }\n",
              "\n",
              "    .colab-df-convert {\n",
              "      background-color: #E8F0FE;\n",
              "      border: none;\n",
              "      border-radius: 50%;\n",
              "      cursor: pointer;\n",
              "      display: none;\n",
              "      fill: #1967D2;\n",
              "      height: 32px;\n",
              "      padding: 0 0 0 0;\n",
              "      width: 32px;\n",
              "    }\n",
              "\n",
              "    .colab-df-convert:hover {\n",
              "      background-color: #E2EBFA;\n",
              "      box-shadow: 0px 1px 2px rgba(60, 64, 67, 0.3), 0px 1px 3px 1px rgba(60, 64, 67, 0.15);\n",
              "      fill: #174EA6;\n",
              "    }\n",
              "\n",
              "    .colab-df-buttons div {\n",
              "      margin-bottom: 4px;\n",
              "    }\n",
              "\n",
              "    [theme=dark] .colab-df-convert {\n",
              "      background-color: #3B4455;\n",
              "      fill: #D2E3FC;\n",
              "    }\n",
              "\n",
              "    [theme=dark] .colab-df-convert:hover {\n",
              "      background-color: #434B5C;\n",
              "      box-shadow: 0px 1px 3px 1px rgba(0, 0, 0, 0.15);\n",
              "      filter: drop-shadow(0px 1px 2px rgba(0, 0, 0, 0.3));\n",
              "      fill: #FFFFFF;\n",
              "    }\n",
              "  </style>\n",
              "\n",
              "    <script>\n",
              "      const buttonEl =\n",
              "        document.querySelector('#df-3e698589-944f-497e-95ed-bad13f76faa6 button.colab-df-convert');\n",
              "      buttonEl.style.display =\n",
              "        google.colab.kernel.accessAllowed ? 'block' : 'none';\n",
              "\n",
              "      async function convertToInteractive(key) {\n",
              "        const element = document.querySelector('#df-3e698589-944f-497e-95ed-bad13f76faa6');\n",
              "        const dataTable =\n",
              "          await google.colab.kernel.invokeFunction('convertToInteractive',\n",
              "                                                    [key], {});\n",
              "        if (!dataTable) return;\n",
              "\n",
              "        const docLinkHtml = 'Like what you see? Visit the ' +\n",
              "          '<a target=\"_blank\" href=https://colab.research.google.com/notebooks/data_table.ipynb>data table notebook</a>'\n",
              "          + ' to learn more about interactive tables.';\n",
              "        element.innerHTML = '';\n",
              "        dataTable['output_type'] = 'display_data';\n",
              "        await google.colab.output.renderOutput(dataTable, element);\n",
              "        const docLink = document.createElement('div');\n",
              "        docLink.innerHTML = docLinkHtml;\n",
              "        element.appendChild(docLink);\n",
              "      }\n",
              "    </script>\n",
              "  </div>\n",
              "\n",
              "\n",
              "<div id=\"df-f48dcbf5-08e1-467f-92a0-9f7ded11ddff\">\n",
              "  <button class=\"colab-df-quickchart\" onclick=\"quickchart('df-f48dcbf5-08e1-467f-92a0-9f7ded11ddff')\"\n",
              "            title=\"Suggest charts.\"\n",
              "            style=\"display:none;\">\n",
              "\n",
              "<svg xmlns=\"http://www.w3.org/2000/svg\" height=\"24px\"viewBox=\"0 0 24 24\"\n",
              "     width=\"24px\">\n",
              "    <g>\n",
              "        <path d=\"M19 3H5c-1.1 0-2 .9-2 2v14c0 1.1.9 2 2 2h14c1.1 0 2-.9 2-2V5c0-1.1-.9-2-2-2zM9 17H7v-7h2v7zm4 0h-2V7h2v10zm4 0h-2v-4h2v4z\"/>\n",
              "    </g>\n",
              "</svg>\n",
              "  </button>\n",
              "\n",
              "<style>\n",
              "  .colab-df-quickchart {\n",
              "    background-color: #E8F0FE;\n",
              "    border: none;\n",
              "    border-radius: 50%;\n",
              "    cursor: pointer;\n",
              "    display: none;\n",
              "    fill: #1967D2;\n",
              "    height: 32px;\n",
              "    padding: 0 0 0 0;\n",
              "    width: 32px;\n",
              "  }\n",
              "\n",
              "  .colab-df-quickchart:hover {\n",
              "    background-color: #E2EBFA;\n",
              "    box-shadow: 0px 1px 2px rgba(60, 64, 67, 0.3), 0px 1px 3px 1px rgba(60, 64, 67, 0.15);\n",
              "    fill: #174EA6;\n",
              "  }\n",
              "\n",
              "  [theme=dark] .colab-df-quickchart {\n",
              "    background-color: #3B4455;\n",
              "    fill: #D2E3FC;\n",
              "  }\n",
              "\n",
              "  [theme=dark] .colab-df-quickchart:hover {\n",
              "    background-color: #434B5C;\n",
              "    box-shadow: 0px 1px 3px 1px rgba(0, 0, 0, 0.15);\n",
              "    filter: drop-shadow(0px 1px 2px rgba(0, 0, 0, 0.3));\n",
              "    fill: #FFFFFF;\n",
              "  }\n",
              "</style>\n",
              "\n",
              "  <script>\n",
              "    async function quickchart(key) {\n",
              "      const charts = await google.colab.kernel.invokeFunction(\n",
              "          'suggestCharts', [key], {});\n",
              "    }\n",
              "    (() => {\n",
              "      let quickchartButtonEl =\n",
              "        document.querySelector('#df-f48dcbf5-08e1-467f-92a0-9f7ded11ddff button');\n",
              "      quickchartButtonEl.style.display =\n",
              "        google.colab.kernel.accessAllowed ? 'block' : 'none';\n",
              "    })();\n",
              "  </script>\n",
              "</div>\n",
              "    </div>\n",
              "  </div>\n"
            ]
          },
          "metadata": {},
          "execution_count": 5
        }
      ],
      "source": [
        "df = pd.read_csv(\"/content/drive/MyDrive/first_file.csv\", sep=',', encoding='latin-1')\n",
        "df.head()"
      ]
    },
    {
      "cell_type": "code",
      "execution_count": null,
      "metadata": {
        "id": "uAuYYYdU_m9V",
        "colab": {
          "base_uri": "https://localhost:8080/"
        },
        "outputId": "db52bf90-35b9-4c06-95b1-4994a5cf67c5"
      },
      "outputs": [
        {
          "output_type": "execute_result",
          "data": {
            "text/plain": [
              "(3638, 75)"
            ]
          },
          "metadata": {},
          "execution_count": 6
        }
      ],
      "source": [
        "df.shape"
      ]
    },
    {
      "cell_type": "code",
      "execution_count": null,
      "metadata": {
        "id": "81QhaunIGuFL"
      },
      "outputs": [],
      "source": [
        "df.dtypes\n",
        "# df=df.iloc[:50000]\n",
        "# Run for small data\n",
        "df.rename(columns={\"ElectronÃ©gativitÃ©\": \"Electronégativité\"}, inplace=True)\n",
        "\n",
        "df.columns\n",
        "df.drop(['Alloy', 'Longue Phase', 'Ag', 'Al', 'Cd', 'Ga', 'Mg', 'Pt', 'Sb',\n",
        "       'Sn', 'Ti', 'Zn', 'Zr', 'B', 'Ca', 'Ce', 'Co', 'Cr', 'Cu', 'Er', 'Fe',\n",
        "       'In', 'La', 'Li', 'Mn', 'Mo', 'Nd', 'Ni', 'Re', 'Ru', 'Sm', 'V', 'Yb',\n",
        "       'Au', 'Be', 'Bi', 'Pb', 'Nb', 'Si', 'Dy', 'Ge', 'Hf', 'W', 'Pd', 'Sr',\n",
        "       'Na', 'Y', 'Ta', 'Gd', 'Rh', 'P', 'C', 'Ho', 'Pr', 'N', 'Tb', 'Sc',\n",
        "       'Tm', 'Lu', 'Ir', 'Os', 'As', 'Tc'], axis=1, inplace=True)\n"
      ]
    },
    {
      "cell_type": "code",
      "execution_count": null,
      "metadata": {
        "id": "lWxoh3P7__fC",
        "colab": {
          "base_uri": "https://localhost:8080/"
        },
        "outputId": "34d3e9de-694a-4107-e783-14ed62215b7e"
      },
      "outputs": [
        {
          "output_type": "execute_result",
          "data": {
            "text/plain": [
              "(3638, 12)"
            ]
          },
          "metadata": {},
          "execution_count": 8
        }
      ],
      "source": [
        "df.shape"
      ]
    },
    {
      "cell_type": "code",
      "execution_count": null,
      "metadata": {
        "id": "ed06a5b1",
        "colab": {
          "base_uri": "https://localhost:8080/"
        },
        "outputId": "abc1bea3-3ee4-4732-95aa-8713c925a915"
      },
      "outputs": [
        {
          "output_type": "execute_result",
          "data": {
            "text/plain": [
              "1    1957\n",
              "0    1681\n",
              "Name: Etat d'entropie, dtype: int64"
            ]
          },
          "metadata": {},
          "execution_count": 9
        }
      ],
      "source": [
        "# client1 = 25\n",
        "# client2 = 25\n",
        "# client3 = 25\n",
        "# client4 = 25\n",
        "df[\"Etat d'entropie\"] = df[\"Etat d'entropie\"].map({'H': 1, 'L': 0})\n",
        "df[\"Etat d'entropie\"].value_counts()"
      ]
    },
    {
      "cell_type": "code",
      "execution_count": null,
      "metadata": {
        "id": "lgHSHiHhRT9K",
        "colab": {
          "base_uri": "https://localhost:8080/"
        },
        "outputId": "753cb6f4-37dc-429e-b7ed-b16a59a939a7"
      },
      "outputs": [
        {
          "output_type": "stream",
          "name": "stdout",
          "text": [
            "['A', 'delta', 'TM', 'DELTA_TM', 'Electronégativité', 'Delta_Electro-', 'SID', 'VEC', 'Delta VEC', 'K', 'Delta K', \"Etat d'entropie\"]\n"
          ]
        }
      ],
      "source": [
        "column_names=list(df.columns)\n",
        "print(column_names)"
      ]
    },
    {
      "cell_type": "code",
      "execution_count": null,
      "metadata": {
        "id": "d507ae97",
        "colab": {
          "base_uri": "https://localhost:8080/",
          "height": 206
        },
        "outputId": "9735fe99-0f48-48ec-dd26-928b13953b89"
      },
      "outputs": [
        {
          "output_type": "execute_result",
          "data": {
            "text/plain": [
              "             A     delta           TM  DELTA_TM  Electronégativité  \\\n",
              "3394  2.066667  0.060349  2508.150000  0.214545           1.496667   \n",
              "897   1.737000  0.076008  1663.191250  0.203819           1.781300   \n",
              "204   1.500000  0.167774  1974.372222  0.225639           1.902778   \n",
              "49    1.833333  0.025713  1463.316667  0.512135           1.806667   \n",
              "1873  1.975000  0.065774  2414.900000  0.271512           1.577500   \n",
              "\n",
              "      Delta_Electro-        SID       VEC  Delta VEC           K    Delta K  \\\n",
              "3394        0.134743   9.133863  5.000000   0.816497  120.000000  86.409876   \n",
              "897         0.144552  13.919003  7.360000   2.738686  151.140000  40.567726   \n",
              "204         0.227127   6.881815  7.222222   3.488960  217.611111  81.208332   \n",
              "49          0.278129   5.291979  4.666667   2.357023  124.000000  67.882251   \n",
              "1873        0.059319  11.525651  5.750000   0.829156  162.500000  28.613808   \n",
              "\n",
              "      Etat d'entropie  id  \n",
              "3394                0   1  \n",
              "897                 0   1  \n",
              "204                 0   1  \n",
              "49                  0   1  \n",
              "1873                0   1  "
            ],
            "text/html": [
              "\n",
              "  <div id=\"df-69da6dfc-9125-4734-b854-53ff8591a999\" class=\"colab-df-container\">\n",
              "    <div>\n",
              "<style scoped>\n",
              "    .dataframe tbody tr th:only-of-type {\n",
              "        vertical-align: middle;\n",
              "    }\n",
              "\n",
              "    .dataframe tbody tr th {\n",
              "        vertical-align: top;\n",
              "    }\n",
              "\n",
              "    .dataframe thead th {\n",
              "        text-align: right;\n",
              "    }\n",
              "</style>\n",
              "<table border=\"1\" class=\"dataframe\">\n",
              "  <thead>\n",
              "    <tr style=\"text-align: right;\">\n",
              "      <th></th>\n",
              "      <th>A</th>\n",
              "      <th>delta</th>\n",
              "      <th>TM</th>\n",
              "      <th>DELTA_TM</th>\n",
              "      <th>Electronégativité</th>\n",
              "      <th>Delta_Electro-</th>\n",
              "      <th>SID</th>\n",
              "      <th>VEC</th>\n",
              "      <th>Delta VEC</th>\n",
              "      <th>K</th>\n",
              "      <th>Delta K</th>\n",
              "      <th>Etat d'entropie</th>\n",
              "      <th>id</th>\n",
              "    </tr>\n",
              "  </thead>\n",
              "  <tbody>\n",
              "    <tr>\n",
              "      <th>3394</th>\n",
              "      <td>2.066667</td>\n",
              "      <td>0.060349</td>\n",
              "      <td>2508.150000</td>\n",
              "      <td>0.214545</td>\n",
              "      <td>1.496667</td>\n",
              "      <td>0.134743</td>\n",
              "      <td>9.133863</td>\n",
              "      <td>5.000000</td>\n",
              "      <td>0.816497</td>\n",
              "      <td>120.000000</td>\n",
              "      <td>86.409876</td>\n",
              "      <td>0</td>\n",
              "      <td>1</td>\n",
              "    </tr>\n",
              "    <tr>\n",
              "      <th>897</th>\n",
              "      <td>1.737000</td>\n",
              "      <td>0.076008</td>\n",
              "      <td>1663.191250</td>\n",
              "      <td>0.203819</td>\n",
              "      <td>1.781300</td>\n",
              "      <td>0.144552</td>\n",
              "      <td>13.919003</td>\n",
              "      <td>7.360000</td>\n",
              "      <td>2.738686</td>\n",
              "      <td>151.140000</td>\n",
              "      <td>40.567726</td>\n",
              "      <td>0</td>\n",
              "      <td>1</td>\n",
              "    </tr>\n",
              "    <tr>\n",
              "      <th>204</th>\n",
              "      <td>1.500000</td>\n",
              "      <td>0.167774</td>\n",
              "      <td>1974.372222</td>\n",
              "      <td>0.225639</td>\n",
              "      <td>1.902778</td>\n",
              "      <td>0.227127</td>\n",
              "      <td>6.881815</td>\n",
              "      <td>7.222222</td>\n",
              "      <td>3.488960</td>\n",
              "      <td>217.611111</td>\n",
              "      <td>81.208332</td>\n",
              "      <td>0</td>\n",
              "      <td>1</td>\n",
              "    </tr>\n",
              "    <tr>\n",
              "      <th>49</th>\n",
              "      <td>1.833333</td>\n",
              "      <td>0.025713</td>\n",
              "      <td>1463.316667</td>\n",
              "      <td>0.512135</td>\n",
              "      <td>1.806667</td>\n",
              "      <td>0.278129</td>\n",
              "      <td>5.291979</td>\n",
              "      <td>4.666667</td>\n",
              "      <td>2.357023</td>\n",
              "      <td>124.000000</td>\n",
              "      <td>67.882251</td>\n",
              "      <td>0</td>\n",
              "      <td>1</td>\n",
              "    </tr>\n",
              "    <tr>\n",
              "      <th>1873</th>\n",
              "      <td>1.975000</td>\n",
              "      <td>0.065774</td>\n",
              "      <td>2414.900000</td>\n",
              "      <td>0.271512</td>\n",
              "      <td>1.577500</td>\n",
              "      <td>0.059319</td>\n",
              "      <td>11.525651</td>\n",
              "      <td>5.750000</td>\n",
              "      <td>0.829156</td>\n",
              "      <td>162.500000</td>\n",
              "      <td>28.613808</td>\n",
              "      <td>0</td>\n",
              "      <td>1</td>\n",
              "    </tr>\n",
              "  </tbody>\n",
              "</table>\n",
              "</div>\n",
              "    <div class=\"colab-df-buttons\">\n",
              "\n",
              "  <div class=\"colab-df-container\">\n",
              "    <button class=\"colab-df-convert\" onclick=\"convertToInteractive('df-69da6dfc-9125-4734-b854-53ff8591a999')\"\n",
              "            title=\"Convert this dataframe to an interactive table.\"\n",
              "            style=\"display:none;\">\n",
              "\n",
              "  <svg xmlns=\"http://www.w3.org/2000/svg\" height=\"24px\" viewBox=\"0 -960 960 960\">\n",
              "    <path d=\"M120-120v-720h720v720H120Zm60-500h600v-160H180v160Zm220 220h160v-160H400v160Zm0 220h160v-160H400v160ZM180-400h160v-160H180v160Zm440 0h160v-160H620v160ZM180-180h160v-160H180v160Zm440 0h160v-160H620v160Z\"/>\n",
              "  </svg>\n",
              "    </button>\n",
              "\n",
              "  <style>\n",
              "    .colab-df-container {\n",
              "      display:flex;\n",
              "      gap: 12px;\n",
              "    }\n",
              "\n",
              "    .colab-df-convert {\n",
              "      background-color: #E8F0FE;\n",
              "      border: none;\n",
              "      border-radius: 50%;\n",
              "      cursor: pointer;\n",
              "      display: none;\n",
              "      fill: #1967D2;\n",
              "      height: 32px;\n",
              "      padding: 0 0 0 0;\n",
              "      width: 32px;\n",
              "    }\n",
              "\n",
              "    .colab-df-convert:hover {\n",
              "      background-color: #E2EBFA;\n",
              "      box-shadow: 0px 1px 2px rgba(60, 64, 67, 0.3), 0px 1px 3px 1px rgba(60, 64, 67, 0.15);\n",
              "      fill: #174EA6;\n",
              "    }\n",
              "\n",
              "    .colab-df-buttons div {\n",
              "      margin-bottom: 4px;\n",
              "    }\n",
              "\n",
              "    [theme=dark] .colab-df-convert {\n",
              "      background-color: #3B4455;\n",
              "      fill: #D2E3FC;\n",
              "    }\n",
              "\n",
              "    [theme=dark] .colab-df-convert:hover {\n",
              "      background-color: #434B5C;\n",
              "      box-shadow: 0px 1px 3px 1px rgba(0, 0, 0, 0.15);\n",
              "      filter: drop-shadow(0px 1px 2px rgba(0, 0, 0, 0.3));\n",
              "      fill: #FFFFFF;\n",
              "    }\n",
              "  </style>\n",
              "\n",
              "    <script>\n",
              "      const buttonEl =\n",
              "        document.querySelector('#df-69da6dfc-9125-4734-b854-53ff8591a999 button.colab-df-convert');\n",
              "      buttonEl.style.display =\n",
              "        google.colab.kernel.accessAllowed ? 'block' : 'none';\n",
              "\n",
              "      async function convertToInteractive(key) {\n",
              "        const element = document.querySelector('#df-69da6dfc-9125-4734-b854-53ff8591a999');\n",
              "        const dataTable =\n",
              "          await google.colab.kernel.invokeFunction('convertToInteractive',\n",
              "                                                    [key], {});\n",
              "        if (!dataTable) return;\n",
              "\n",
              "        const docLinkHtml = 'Like what you see? Visit the ' +\n",
              "          '<a target=\"_blank\" href=https://colab.research.google.com/notebooks/data_table.ipynb>data table notebook</a>'\n",
              "          + ' to learn more about interactive tables.';\n",
              "        element.innerHTML = '';\n",
              "        dataTable['output_type'] = 'display_data';\n",
              "        await google.colab.output.renderOutput(dataTable, element);\n",
              "        const docLink = document.createElement('div');\n",
              "        docLink.innerHTML = docLinkHtml;\n",
              "        element.appendChild(docLink);\n",
              "      }\n",
              "    </script>\n",
              "  </div>\n",
              "\n",
              "\n",
              "<div id=\"df-34dfbcb9-6d4a-4099-a2c0-f42a24657661\">\n",
              "  <button class=\"colab-df-quickchart\" onclick=\"quickchart('df-34dfbcb9-6d4a-4099-a2c0-f42a24657661')\"\n",
              "            title=\"Suggest charts.\"\n",
              "            style=\"display:none;\">\n",
              "\n",
              "<svg xmlns=\"http://www.w3.org/2000/svg\" height=\"24px\"viewBox=\"0 0 24 24\"\n",
              "     width=\"24px\">\n",
              "    <g>\n",
              "        <path d=\"M19 3H5c-1.1 0-2 .9-2 2v14c0 1.1.9 2 2 2h14c1.1 0 2-.9 2-2V5c0-1.1-.9-2-2-2zM9 17H7v-7h2v7zm4 0h-2V7h2v10zm4 0h-2v-4h2v4z\"/>\n",
              "    </g>\n",
              "</svg>\n",
              "  </button>\n",
              "\n",
              "<style>\n",
              "  .colab-df-quickchart {\n",
              "    background-color: #E8F0FE;\n",
              "    border: none;\n",
              "    border-radius: 50%;\n",
              "    cursor: pointer;\n",
              "    display: none;\n",
              "    fill: #1967D2;\n",
              "    height: 32px;\n",
              "    padding: 0 0 0 0;\n",
              "    width: 32px;\n",
              "  }\n",
              "\n",
              "  .colab-df-quickchart:hover {\n",
              "    background-color: #E2EBFA;\n",
              "    box-shadow: 0px 1px 2px rgba(60, 64, 67, 0.3), 0px 1px 3px 1px rgba(60, 64, 67, 0.15);\n",
              "    fill: #174EA6;\n",
              "  }\n",
              "\n",
              "  [theme=dark] .colab-df-quickchart {\n",
              "    background-color: #3B4455;\n",
              "    fill: #D2E3FC;\n",
              "  }\n",
              "\n",
              "  [theme=dark] .colab-df-quickchart:hover {\n",
              "    background-color: #434B5C;\n",
              "    box-shadow: 0px 1px 3px 1px rgba(0, 0, 0, 0.15);\n",
              "    filter: drop-shadow(0px 1px 2px rgba(0, 0, 0, 0.3));\n",
              "    fill: #FFFFFF;\n",
              "  }\n",
              "</style>\n",
              "\n",
              "  <script>\n",
              "    async function quickchart(key) {\n",
              "      const charts = await google.colab.kernel.invokeFunction(\n",
              "          'suggestCharts', [key], {});\n",
              "    }\n",
              "    (() => {\n",
              "      let quickchartButtonEl =\n",
              "        document.querySelector('#df-34dfbcb9-6d4a-4099-a2c0-f42a24657661 button');\n",
              "      quickchartButtonEl.style.display =\n",
              "        google.colab.kernel.accessAllowed ? 'block' : 'none';\n",
              "    })();\n",
              "  </script>\n",
              "</div>\n",
              "    </div>\n",
              "  </div>\n"
            ]
          },
          "metadata": {},
          "execution_count": 11
        }
      ],
      "source": [
        "# import random\n",
        "# client1 = int((client1/100) *df.shape[0])\n",
        "# client2 = int((client2/100) *df.shape[0])\n",
        "# client3 = int((client3/100) *df.shape[0])\n",
        "# client4 = df.shape[0] - client1 - client2 - client3\n",
        "# my_list = [1] * client1 + [2] * client2 + [3] * client3 + [4] * client4\n",
        "# random.shuffle(my_list)\n",
        "from sklearn.utils import resample\n",
        "from sklearn.model_selection import train_test_split\n",
        "from sklearn.preprocessing import StandardScaler\n",
        "\n",
        "client_distributions = {\n",
        "    1: {'percentage': 0.35, 'distribution': [0.3, 0.7]},\n",
        "    2: {'percentage': 0.35, 'distribution': [0.35, 0.65]},\n",
        "    3: {'percentage': 0.25, 'distribution': [0.55, 0.45]},\n",
        "    4: {'percentage': 0.05, 'distribution': [0.5, 0.5]},\n",
        "}\n",
        "def distribute_dataframe(df, client_distributions):\n",
        "    np.random.seed(42)\n",
        "\n",
        "    # Separate the dataframe into 0s and 1s\n",
        "    df0 = df[df['Etat d\\'entropie'] == 0]\n",
        "    df1 = df[df['Etat d\\'entropie'] == 1]\n",
        "\n",
        "    # Perform undersampling\n",
        "    # if len(df0) > len(df1):\n",
        "    #     df0 = df0.sample(len(df1))\n",
        "    # else:\n",
        "    #     df1 = df1.sample(len(df0))\n",
        "\n",
        "    # Combine back to a single dataframe\n",
        "\n",
        "    distributed_df = pd.DataFrame()\n",
        "\n",
        "    for client_id, client_info in client_distributions.items():\n",
        "        client_percentage = client_info['percentage']\n",
        "        class_distribution = client_info['distribution']\n",
        "\n",
        "        # Calculate the exact number of rows for this client\n",
        "        n_rows = int(client_percentage * len(df))\n",
        "\n",
        "        # Calculate desired number of samples for each class\n",
        "        n0 = int(class_distribution[0] * n_rows)\n",
        "        n1 = n_rows - n0\n",
        "\n",
        "        # Check if there are enough samples for each class\n",
        "        if n0 > len(df0):\n",
        "            n0 = len(df0)\n",
        "        if n1 > len(df1):\n",
        "            n1 = len(df1)\n",
        "\n",
        "        # Sample the rows for this client\n",
        "        tmp_df0 = df0.sample(n=n0, random_state=42)\n",
        "        tmp_df1 = df1.sample(n=n1, random_state=42)\n",
        "\n",
        "        # Drop these rows from the original dataframes\n",
        "        df0 = df0.drop(tmp_df0.index)\n",
        "        df1 = df1.drop(tmp_df1.index)\n",
        "\n",
        "        # Add the client id and combine the samples\n",
        "        tmp_df = pd.concat([tmp_df0, tmp_df1])\n",
        "        tmp_df['id'] = client_id\n",
        "\n",
        "        distributed_df = pd.concat([distributed_df, tmp_df])\n",
        "\n",
        "\n",
        "    return distributed_df\n",
        "\n",
        "df =distribute_dataframe(df, client_distributions)\n",
        "# Create a copy of the data excluding the specified column\n",
        "\n",
        "# Prepare the 'id' column\n",
        "# ids = np.random.choice([1,2,3,4], size=len(df), p=list(id_percentages.values()))\n",
        "# df['id'] = ids\n",
        "\n",
        "# # Prepare the \"Etat d'entropie\" column\n",
        "# for id_val, percentages in entropy_percentages.items():\n",
        "#     size = len(df[df['id'] == id_val])\n",
        "#     entropy_values = np.random.choice([0,1], size=size, p=list(percentages.values()))\n",
        "#     df.loc[df['id'] == id_val, 'Etat d\\'entropie'] = entropy_values\n",
        "df.head()"
      ]
    },
    {
      "cell_type": "code",
      "execution_count": null,
      "metadata": {
        "id": "m1wny9pDYNF8",
        "colab": {
          "base_uri": "https://localhost:8080/"
        },
        "outputId": "8b9fe595-6226-4523-ec74-dda91591df75"
      },
      "outputs": [
        {
          "output_type": "execute_result",
          "data": {
            "text/plain": [
              "(3372, 13)"
            ]
          },
          "metadata": {},
          "execution_count": 12
        }
      ],
      "source": [
        "df.shape"
      ]
    },
    {
      "cell_type": "code",
      "execution_count": null,
      "metadata": {
        "id": "Ux2gg2btSYl1",
        "colab": {
          "base_uri": "https://localhost:8080/",
          "height": 206
        },
        "outputId": "74e5184e-e4a8-4a3f-d86a-744beac5b7c8"
      },
      "outputs": [
        {
          "output_type": "execute_result",
          "data": {
            "text/plain": [
              "             A     delta        TM  DELTA_TM  Electronégativité  \\\n",
              "3394  1.547141 -0.090370  0.925264 -0.062021          -1.584977   \n",
              "897  -0.906213  0.354744 -0.864405 -0.184413          -0.274023   \n",
              "204  -2.669948  2.963219 -0.205306  0.064556           0.285475   \n",
              "49   -0.189308 -1.074921 -1.287750  3.333421          -0.157190   \n",
              "1873  0.864964  0.063831  0.727755  0.587955          -1.212678   \n",
              "\n",
              "      Delta_Electro-       SID       VEC  Delta VEC         K   Delta K  \\\n",
              "3394       -0.657650 -0.740944 -0.372989  -1.039580 -1.032744  0.863136   \n",
              "897        -0.556443  1.170228  1.097351   0.508267 -0.400203 -0.567605   \n",
              "204         0.295506 -1.640406  1.011512   1.112427  0.950013  0.700795   \n",
              "49          0.821702 -2.275383 -0.580664   0.200932 -0.951492  0.284886   \n",
              "1873       -1.435815  0.214330  0.094280  -1.029386 -0.169449 -0.940689   \n",
              "\n",
              "      Etat d'entropie  id  \n",
              "3394                0   1  \n",
              "897                 0   1  \n",
              "204                 0   1  \n",
              "49                  0   1  \n",
              "1873                0   1  "
            ],
            "text/html": [
              "\n",
              "  <div id=\"df-70c0bff7-1e22-4f32-be90-ce237c00dd14\" class=\"colab-df-container\">\n",
              "    <div>\n",
              "<style scoped>\n",
              "    .dataframe tbody tr th:only-of-type {\n",
              "        vertical-align: middle;\n",
              "    }\n",
              "\n",
              "    .dataframe tbody tr th {\n",
              "        vertical-align: top;\n",
              "    }\n",
              "\n",
              "    .dataframe thead th {\n",
              "        text-align: right;\n",
              "    }\n",
              "</style>\n",
              "<table border=\"1\" class=\"dataframe\">\n",
              "  <thead>\n",
              "    <tr style=\"text-align: right;\">\n",
              "      <th></th>\n",
              "      <th>A</th>\n",
              "      <th>delta</th>\n",
              "      <th>TM</th>\n",
              "      <th>DELTA_TM</th>\n",
              "      <th>Electronégativité</th>\n",
              "      <th>Delta_Electro-</th>\n",
              "      <th>SID</th>\n",
              "      <th>VEC</th>\n",
              "      <th>Delta VEC</th>\n",
              "      <th>K</th>\n",
              "      <th>Delta K</th>\n",
              "      <th>Etat d'entropie</th>\n",
              "      <th>id</th>\n",
              "    </tr>\n",
              "  </thead>\n",
              "  <tbody>\n",
              "    <tr>\n",
              "      <th>3394</th>\n",
              "      <td>1.547141</td>\n",
              "      <td>-0.090370</td>\n",
              "      <td>0.925264</td>\n",
              "      <td>-0.062021</td>\n",
              "      <td>-1.584977</td>\n",
              "      <td>-0.657650</td>\n",
              "      <td>-0.740944</td>\n",
              "      <td>-0.372989</td>\n",
              "      <td>-1.039580</td>\n",
              "      <td>-1.032744</td>\n",
              "      <td>0.863136</td>\n",
              "      <td>0</td>\n",
              "      <td>1</td>\n",
              "    </tr>\n",
              "    <tr>\n",
              "      <th>897</th>\n",
              "      <td>-0.906213</td>\n",
              "      <td>0.354744</td>\n",
              "      <td>-0.864405</td>\n",
              "      <td>-0.184413</td>\n",
              "      <td>-0.274023</td>\n",
              "      <td>-0.556443</td>\n",
              "      <td>1.170228</td>\n",
              "      <td>1.097351</td>\n",
              "      <td>0.508267</td>\n",
              "      <td>-0.400203</td>\n",
              "      <td>-0.567605</td>\n",
              "      <td>0</td>\n",
              "      <td>1</td>\n",
              "    </tr>\n",
              "    <tr>\n",
              "      <th>204</th>\n",
              "      <td>-2.669948</td>\n",
              "      <td>2.963219</td>\n",
              "      <td>-0.205306</td>\n",
              "      <td>0.064556</td>\n",
              "      <td>0.285475</td>\n",
              "      <td>0.295506</td>\n",
              "      <td>-1.640406</td>\n",
              "      <td>1.011512</td>\n",
              "      <td>1.112427</td>\n",
              "      <td>0.950013</td>\n",
              "      <td>0.700795</td>\n",
              "      <td>0</td>\n",
              "      <td>1</td>\n",
              "    </tr>\n",
              "    <tr>\n",
              "      <th>49</th>\n",
              "      <td>-0.189308</td>\n",
              "      <td>-1.074921</td>\n",
              "      <td>-1.287750</td>\n",
              "      <td>3.333421</td>\n",
              "      <td>-0.157190</td>\n",
              "      <td>0.821702</td>\n",
              "      <td>-2.275383</td>\n",
              "      <td>-0.580664</td>\n",
              "      <td>0.200932</td>\n",
              "      <td>-0.951492</td>\n",
              "      <td>0.284886</td>\n",
              "      <td>0</td>\n",
              "      <td>1</td>\n",
              "    </tr>\n",
              "    <tr>\n",
              "      <th>1873</th>\n",
              "      <td>0.864964</td>\n",
              "      <td>0.063831</td>\n",
              "      <td>0.727755</td>\n",
              "      <td>0.587955</td>\n",
              "      <td>-1.212678</td>\n",
              "      <td>-1.435815</td>\n",
              "      <td>0.214330</td>\n",
              "      <td>0.094280</td>\n",
              "      <td>-1.029386</td>\n",
              "      <td>-0.169449</td>\n",
              "      <td>-0.940689</td>\n",
              "      <td>0</td>\n",
              "      <td>1</td>\n",
              "    </tr>\n",
              "  </tbody>\n",
              "</table>\n",
              "</div>\n",
              "    <div class=\"colab-df-buttons\">\n",
              "\n",
              "  <div class=\"colab-df-container\">\n",
              "    <button class=\"colab-df-convert\" onclick=\"convertToInteractive('df-70c0bff7-1e22-4f32-be90-ce237c00dd14')\"\n",
              "            title=\"Convert this dataframe to an interactive table.\"\n",
              "            style=\"display:none;\">\n",
              "\n",
              "  <svg xmlns=\"http://www.w3.org/2000/svg\" height=\"24px\" viewBox=\"0 -960 960 960\">\n",
              "    <path d=\"M120-120v-720h720v720H120Zm60-500h600v-160H180v160Zm220 220h160v-160H400v160Zm0 220h160v-160H400v160ZM180-400h160v-160H180v160Zm440 0h160v-160H620v160ZM180-180h160v-160H180v160Zm440 0h160v-160H620v160Z\"/>\n",
              "  </svg>\n",
              "    </button>\n",
              "\n",
              "  <style>\n",
              "    .colab-df-container {\n",
              "      display:flex;\n",
              "      gap: 12px;\n",
              "    }\n",
              "\n",
              "    .colab-df-convert {\n",
              "      background-color: #E8F0FE;\n",
              "      border: none;\n",
              "      border-radius: 50%;\n",
              "      cursor: pointer;\n",
              "      display: none;\n",
              "      fill: #1967D2;\n",
              "      height: 32px;\n",
              "      padding: 0 0 0 0;\n",
              "      width: 32px;\n",
              "    }\n",
              "\n",
              "    .colab-df-convert:hover {\n",
              "      background-color: #E2EBFA;\n",
              "      box-shadow: 0px 1px 2px rgba(60, 64, 67, 0.3), 0px 1px 3px 1px rgba(60, 64, 67, 0.15);\n",
              "      fill: #174EA6;\n",
              "    }\n",
              "\n",
              "    .colab-df-buttons div {\n",
              "      margin-bottom: 4px;\n",
              "    }\n",
              "\n",
              "    [theme=dark] .colab-df-convert {\n",
              "      background-color: #3B4455;\n",
              "      fill: #D2E3FC;\n",
              "    }\n",
              "\n",
              "    [theme=dark] .colab-df-convert:hover {\n",
              "      background-color: #434B5C;\n",
              "      box-shadow: 0px 1px 3px 1px rgba(0, 0, 0, 0.15);\n",
              "      filter: drop-shadow(0px 1px 2px rgba(0, 0, 0, 0.3));\n",
              "      fill: #FFFFFF;\n",
              "    }\n",
              "  </style>\n",
              "\n",
              "    <script>\n",
              "      const buttonEl =\n",
              "        document.querySelector('#df-70c0bff7-1e22-4f32-be90-ce237c00dd14 button.colab-df-convert');\n",
              "      buttonEl.style.display =\n",
              "        google.colab.kernel.accessAllowed ? 'block' : 'none';\n",
              "\n",
              "      async function convertToInteractive(key) {\n",
              "        const element = document.querySelector('#df-70c0bff7-1e22-4f32-be90-ce237c00dd14');\n",
              "        const dataTable =\n",
              "          await google.colab.kernel.invokeFunction('convertToInteractive',\n",
              "                                                    [key], {});\n",
              "        if (!dataTable) return;\n",
              "\n",
              "        const docLinkHtml = 'Like what you see? Visit the ' +\n",
              "          '<a target=\"_blank\" href=https://colab.research.google.com/notebooks/data_table.ipynb>data table notebook</a>'\n",
              "          + ' to learn more about interactive tables.';\n",
              "        element.innerHTML = '';\n",
              "        dataTable['output_type'] = 'display_data';\n",
              "        await google.colab.output.renderOutput(dataTable, element);\n",
              "        const docLink = document.createElement('div');\n",
              "        docLink.innerHTML = docLinkHtml;\n",
              "        element.appendChild(docLink);\n",
              "      }\n",
              "    </script>\n",
              "  </div>\n",
              "\n",
              "\n",
              "<div id=\"df-87e22aef-6b7d-4002-8916-375117eef3b9\">\n",
              "  <button class=\"colab-df-quickchart\" onclick=\"quickchart('df-87e22aef-6b7d-4002-8916-375117eef3b9')\"\n",
              "            title=\"Suggest charts.\"\n",
              "            style=\"display:none;\">\n",
              "\n",
              "<svg xmlns=\"http://www.w3.org/2000/svg\" height=\"24px\"viewBox=\"0 0 24 24\"\n",
              "     width=\"24px\">\n",
              "    <g>\n",
              "        <path d=\"M19 3H5c-1.1 0-2 .9-2 2v14c0 1.1.9 2 2 2h14c1.1 0 2-.9 2-2V5c0-1.1-.9-2-2-2zM9 17H7v-7h2v7zm4 0h-2V7h2v10zm4 0h-2v-4h2v4z\"/>\n",
              "    </g>\n",
              "</svg>\n",
              "  </button>\n",
              "\n",
              "<style>\n",
              "  .colab-df-quickchart {\n",
              "    background-color: #E8F0FE;\n",
              "    border: none;\n",
              "    border-radius: 50%;\n",
              "    cursor: pointer;\n",
              "    display: none;\n",
              "    fill: #1967D2;\n",
              "    height: 32px;\n",
              "    padding: 0 0 0 0;\n",
              "    width: 32px;\n",
              "  }\n",
              "\n",
              "  .colab-df-quickchart:hover {\n",
              "    background-color: #E2EBFA;\n",
              "    box-shadow: 0px 1px 2px rgba(60, 64, 67, 0.3), 0px 1px 3px 1px rgba(60, 64, 67, 0.15);\n",
              "    fill: #174EA6;\n",
              "  }\n",
              "\n",
              "  [theme=dark] .colab-df-quickchart {\n",
              "    background-color: #3B4455;\n",
              "    fill: #D2E3FC;\n",
              "  }\n",
              "\n",
              "  [theme=dark] .colab-df-quickchart:hover {\n",
              "    background-color: #434B5C;\n",
              "    box-shadow: 0px 1px 3px 1px rgba(0, 0, 0, 0.15);\n",
              "    filter: drop-shadow(0px 1px 2px rgba(0, 0, 0, 0.3));\n",
              "    fill: #FFFFFF;\n",
              "  }\n",
              "</style>\n",
              "\n",
              "  <script>\n",
              "    async function quickchart(key) {\n",
              "      const charts = await google.colab.kernel.invokeFunction(\n",
              "          'suggestCharts', [key], {});\n",
              "    }\n",
              "    (() => {\n",
              "      let quickchartButtonEl =\n",
              "        document.querySelector('#df-87e22aef-6b7d-4002-8916-375117eef3b9 button');\n",
              "      quickchartButtonEl.style.display =\n",
              "        google.colab.kernel.accessAllowed ? 'block' : 'none';\n",
              "    })();\n",
              "  </script>\n",
              "</div>\n",
              "    </div>\n",
              "  </div>\n"
            ]
          },
          "metadata": {},
          "execution_count": 13
        }
      ],
      "source": [
        "\n",
        "def normalize_columns(df, columns_to_normalize):\n",
        "    # Create a copy of the original dataframe\n",
        "    normalized_df = df.copy()\n",
        "\n",
        "    # Select the columns to normalize\n",
        "    data_to_normalize = normalized_df[columns_to_normalize]\n",
        "\n",
        "    # Create an instance of the scaler\n",
        "    scaler = StandardScaler()\n",
        "\n",
        "    # Fit the scaler to the selected columns\n",
        "    scaler.fit(data_to_normalize)\n",
        "\n",
        "    # Normalize the selected columns\n",
        "    normalized_data = scaler.transform(data_to_normalize)\n",
        "\n",
        "    # Update the normalized values in the dataframe\n",
        "    normalized_df[columns_to_normalize] = normalized_data\n",
        "\n",
        "    return normalized_df\n",
        "df1=normalize_columns(df,['A', 'delta', 'TM', 'DELTA_TM', 'Electronégativité', 'Delta_Electro-', 'SID', 'VEC', 'Delta VEC', 'K', 'Delta K'])\n",
        "df1.head()"
      ]
    },
    {
      "cell_type": "code",
      "execution_count": null,
      "metadata": {
        "id": "151ebe1e"
      },
      "outputs": [],
      "source": [
        "# Run for Bigdata only\n",
        "NUM_CLIENTS = 5\n",
        "\n",
        "data = pd.read_csv(\"/content/drive/MyDrive/BigData.csv\", sep=',', encoding='latin-1')\n",
        "\n",
        "data.rename(columns={\"ElectronÃ©gativitÃ©\": \"Electronégativité\"}, inplace=True)\n",
        "data.drop(\"Unnamed: 0\", axis=1, inplace=True)\n",
        "data=normalize_columns(data,['A', 'delta', 'TM', 'DELTA_TM', 'Electronégativité', 'Delta_Electro-', 'SID', 'VEC', 'Delta VEC', 'K', 'Delta K'])\n",
        "group_proportions = data[\"Etat d'entropie\"].value_counts(normalize=True)\n",
        "\n",
        "# Step 2: Determine the size of the final dataset after sampling (let's say you want 70% of the original size)\n",
        "desired_sample_size = 6000\n",
        "\n",
        "# Step 3: Calculate the required sample size for each group based on their proportions\n",
        "sample_size_group_0 = int(group_proportions.loc[0] * desired_sample_size)\n",
        "sample_size_group_1 = int(group_proportions.loc[1] * desired_sample_size)\n",
        "\n",
        "# Step 4: Separate the DataFrame into two groups based on the values of \"Etat d'entropie\"\n",
        "grouped_data = data.groupby(\"Etat d'entropie\")\n",
        "\n",
        "# Step 5: Sample the rows from each group with the calculated sample sizes\n",
        "sampled_data = grouped_data.apply(lambda x: x.sample(n=sample_size_group_0) if x[\"Etat d'entropie\"].iloc[0] == 0 else x.sample(n=sample_size_group_1))\n",
        "\n",
        "# Step 6: Concatenate the sampled groups back into a single DataFrame\n",
        "sampled_data = sampled_data.reset_index(drop=True)\n",
        "\n",
        "sampled_data[\"id\"]=NUM_CLIENTS\n",
        "\n",
        "\n",
        "# minority_count = data[\"Etat d'entropie\"].sum()\n",
        "# majority_count = data.shape[0] - minority_count\n",
        "\n",
        "# # Calculate the difference in counts between the classes\n",
        "# count_diff = majority_count - minority_count\n",
        "\n",
        "# # If the difference is positive, we need to add more samples of the minority class (1)\n",
        "# # If the difference is negative, we need to remove samples of the majority class (0)\n",
        "\n",
        "# if count_diff > 0:\n",
        "#     # Get the indices of the rows with target value 1\n",
        "#     minority_indices = data[data['Etat d\\'entropie'] == 1].index\n",
        "#     # Sample rows with replacement from the minority class to match the majority class count\n",
        "#     additional_minority_indices = np.random.choice(minority_indices, count_diff, replace=True)\n",
        "#     # Concatenate the additional samples with the original DataFrame\n",
        "#     data = pd.concat([data, data.loc[additional_minority_indices]])\n",
        "# elif count_diff < 0:\n",
        "#     # Get the indices of the rows with target value 0\n",
        "#     majority_indices = data[data[\"Etat d'entropie\"] == 0].index\n",
        "#     # Randomly select rows from the majority class to remove to match the minority class count\n",
        "#     majority_indices_to_remove = np.random.choice(majority_indices, abs(count_diff), replace=False)\n",
        "#     # Drop the selected rows from the majority class\n",
        "#     data = data.drop(majority_indices_to_remove)\n",
        "df = pd.concat([df1, sampled_data], ignore_index=True)\n",
        "\n"
      ]
    },
    {
      "cell_type": "code",
      "execution_count": null,
      "metadata": {
        "id": "VMaNcWHV_oXU"
      },
      "outputs": [],
      "source": [
        "for id in range(1,NUM_CLIENTS+1):\n",
        "  df[df[\"id\"]==id].drop_duplicates(subset=['A', 'delta', 'TM', 'DELTA_TM', 'Electronégativité', 'Delta_Electro-', 'SID', 'VEC', 'Delta VEC', 'K', 'Delta K'])\n",
        "\n",
        "\n",
        "# df=df.drop_duplicates(subset=['A', 'delta', 'TM', 'DELTA_TM', 'Electronégativité', 'Delta_Electro-', 'SID', 'VEC', 'Delta VEC', 'K', 'Delta K'])"
      ]
    },
    {
      "cell_type": "code",
      "execution_count": null,
      "metadata": {
        "id": "Wgpj-2PLJF10",
        "colab": {
          "base_uri": "https://localhost:8080/"
        },
        "outputId": "fb26ee75-f7fc-4a11-faf7-aec5e9df1935"
      },
      "outputs": [
        {
          "output_type": "execute_result",
          "data": {
            "text/plain": [
              "Index(['A', 'delta', 'TM', 'DELTA_TM', 'Electronégativité', 'Delta_Electro-',\n",
              "       'SID', 'VEC', 'Delta VEC', 'K', 'Delta K', 'Etat d'entropie', 'id'],\n",
              "      dtype='object')"
            ]
          },
          "metadata": {},
          "execution_count": 16
        }
      ],
      "source": [
        "df.columns"
      ]
    },
    {
      "cell_type": "code",
      "execution_count": null,
      "metadata": {
        "id": "njVIi3KX-fI9"
      },
      "outputs": [],
      "source": [
        "from scipy.stats import gaussian_kde\n",
        "import seaborn as sns\n",
        "import matplotlib.pyplot as plt\n",
        "\n",
        "\n",
        "def pair_plot(df):\n",
        "  etat_entropie_values = [0, 1]\n",
        "\n",
        "# Plotting the density plots\n",
        "  id_values = range(1,NUM_CLIENTS+1)\n",
        "\n",
        "# Plotting the density plots\n",
        "  num_rows = 11\n",
        "  num_cols = NUM_CLIENTS\n",
        "  num_plots = num_rows * num_cols\n",
        "\n",
        "  fig, axes = plt.subplots(num_rows, num_cols, figsize=(18, 36))\n",
        "  axes = axes.flatten()\n",
        "\n",
        "  for i, col in enumerate(df.columns):\n",
        "    if col != 'id' and col != 'Etat d\\'entropie':\n",
        "        for j, id_value in enumerate(id_values):\n",
        "            ax = axes[(i * len(id_values)) + j]\n",
        "            for etat_entropie in [0, 1]:\n",
        "                filtered_data = df[df['Etat d\\'entropie'] == etat_entropie]\n",
        "                if not filtered_data.empty:\n",
        "                    filtered_data[col].plot(kind='density', label=f'Etat Entropie = {etat_entropie}', ax=ax)\n",
        "            filtered_data = df[(df['Etat d\\'entropie'] == 0) | (df['Etat d\\'entropie'] == 1)]\n",
        "            if not filtered_data.empty:\n",
        "                filtered_data[col].plot(kind='density', label='All Data', ax=ax, linestyle='--')\n",
        "            ax.set_title(f'Density Plot - {col}, id = {id_value}')\n",
        "            ax.legend()\n",
        "\n",
        "  plt.tight_layout()\n",
        "  plt.show()\n",
        "# pair_plot(df)\n",
        "\n"
      ]
    },
    {
      "cell_type": "code",
      "execution_count": null,
      "metadata": {
        "id": "-WZgRifhkP22"
      },
      "outputs": [],
      "source": [
        "import seaborn as sns\n",
        "import matplotlib.pyplot as plt\n",
        "\n"
      ]
    },
    {
      "cell_type": "code",
      "execution_count": null,
      "metadata": {
        "id": "8fa330b2",
        "colab": {
          "base_uri": "https://localhost:8080/"
        },
        "outputId": "9adfebe5-2527-403a-e29f-8d35172dd0a6"
      },
      "outputs": [
        {
          "output_type": "stream",
          "name": "stdout",
          "text": [
            "The tensorboard extension is already loaded. To reload it, use:\n",
            "  %reload_ext tensorboard\n"
          ]
        }
      ],
      "source": [
        "import nest_asyncio\n",
        "nest_asyncio.apply()\n",
        "%load_ext tensorboard"
      ]
    },
    {
      "cell_type": "code",
      "execution_count": null,
      "metadata": {
        "id": "fe478e94",
        "colab": {
          "base_uri": "https://localhost:8080/"
        },
        "outputId": "a386ced0-f5c6-4eb0-e12a-35836ad2e779"
      },
      "outputs": [
        {
          "output_type": "execute_result",
          "data": {
            "text/plain": [
              "b'Hello, World!'"
            ]
          },
          "metadata": {},
          "execution_count": 20
        }
      ],
      "source": [
        "import collections\n",
        "import numpy as np\n",
        "import tensorflow as tf\n",
        "import tensorflow_federated as tff\n",
        "np.random.seed(0)\n",
        "tff.federated_computation(lambda: 'Hello, World!')()"
      ]
    },
    {
      "cell_type": "code",
      "execution_count": null,
      "metadata": {
        "id": "5Rwx2ugffeOW",
        "colab": {
          "base_uri": "https://localhost:8080/"
        },
        "outputId": "1f259f1f-b93e-4423-eee6-f518976303ed"
      },
      "outputs": [
        {
          "output_type": "execute_result",
          "data": {
            "text/plain": [
              "A                    float64\n",
              "delta                float64\n",
              "TM                   float64\n",
              "DELTA_TM             float64\n",
              "Electronégativité    float64\n",
              "Delta_Electro-       float64\n",
              "SID                  float64\n",
              "VEC                  float64\n",
              "Delta VEC            float64\n",
              "K                    float64\n",
              "Delta K              float64\n",
              "Etat d'entropie        int64\n",
              "id                     int64\n",
              "dtype: object"
            ]
          },
          "metadata": {},
          "execution_count": 21
        }
      ],
      "source": [
        "df.dtypes"
      ]
    },
    {
      "cell_type": "code",
      "execution_count": null,
      "metadata": {
        "id": "0ce0e9f1",
        "colab": {
          "base_uri": "https://localhost:8080/"
        },
        "outputId": "e822d6af-3077-40b5-8db1-379248f8a097"
      },
      "outputs": [
        {
          "output_type": "stream",
          "name": "stdout",
          "text": [
            "[1 2 3 4 5]\n"
          ]
        }
      ],
      "source": [
        "# split client id into train and test clients\n",
        "client_id_colname = 'id' # the column that represents client ID\n",
        "client_ids = df[client_id_colname].unique()\n",
        "train_client_ids = range(1,NUM_CLIENTS)\n",
        "test_client_ids = [NUM_CLIENTS]\n",
        "print(client_ids)"
      ]
    },
    {
      "cell_type": "code",
      "execution_count": null,
      "metadata": {
        "id": "6dbba4e1"
      },
      "outputs": [],
      "source": [
        "def create_tf_dataset_for_client_fn(client_id):\n",
        "  # a function which takes a client_id and returns a\n",
        "  # tf.data.Dataset for that client\n",
        "    client_data = df[df[client_id_colname] == client_id]\n",
        "    client_data = client_data.drop(columns=[\"id\"])\n",
        "    dataset = tf.data.Dataset.from_tensor_slices(client_data.to_dict('list'))\n",
        "    dataset = dataset.shuffle(SHUFFLE_BUFFER).batch(1).repeat(NUM_EPOCHS)\n",
        "    return dataset"
      ]
    },
    {
      "cell_type": "code",
      "execution_count": null,
      "metadata": {
        "id": "e62dd808"
      },
      "outputs": [],
      "source": [
        "NUM_EPOCHS =10\n",
        "BATCH_SIZE = 512\n",
        "SHUFFLE_BUFFER = 2000\n",
        "PREFETCH_BUFFER = 1000\n",
        "\n",
        "\n",
        "\n",
        "train_data = tff.simulation.datasets.ClientData.from_clients_and_tf_fn(\n",
        "        client_ids=train_client_ids,\n",
        "        serializable_dataset_fn=create_tf_dataset_for_client_fn\n",
        "    )\n",
        "\n",
        "#\n",
        "test_data = tff.simulation.datasets.ClientData.from_clients_and_tf_fn(\n",
        "        client_ids=test_client_ids,\n",
        "        serializable_dataset_fn=create_tf_dataset_for_client_fn\n",
        "    )"
      ]
    },
    {
      "cell_type": "code",
      "execution_count": null,
      "metadata": {
        "id": "efba9238",
        "colab": {
          "base_uri": "https://localhost:8080/"
        },
        "outputId": "490bf8b7-854b-4674-e117-44cff885cf4a"
      },
      "outputs": [
        {
          "output_type": "execute_result",
          "data": {
            "text/plain": [
              "{'A': TensorSpec(shape=(None,), dtype=tf.float32, name=None),\n",
              " 'delta': TensorSpec(shape=(None,), dtype=tf.float32, name=None),\n",
              " 'TM': TensorSpec(shape=(None,), dtype=tf.float32, name=None),\n",
              " 'DELTA_TM': TensorSpec(shape=(None,), dtype=tf.float32, name=None),\n",
              " 'Electronégativité': TensorSpec(shape=(None,), dtype=tf.float32, name=None),\n",
              " 'Delta_Electro-': TensorSpec(shape=(None,), dtype=tf.float32, name=None),\n",
              " 'SID': TensorSpec(shape=(None,), dtype=tf.float32, name=None),\n",
              " 'VEC': TensorSpec(shape=(None,), dtype=tf.float32, name=None),\n",
              " 'Delta VEC': TensorSpec(shape=(None,), dtype=tf.float32, name=None),\n",
              " 'K': TensorSpec(shape=(None,), dtype=tf.float32, name=None),\n",
              " 'Delta K': TensorSpec(shape=(None,), dtype=tf.float32, name=None),\n",
              " \"Etat d'entropie\": TensorSpec(shape=(None,), dtype=tf.int32, name=None)}"
            ]
          },
          "metadata": {},
          "execution_count": 25
        }
      ],
      "source": [
        "train_data.element_type_structure"
      ]
    },
    {
      "cell_type": "code",
      "execution_count": null,
      "metadata": {
        "id": "be904144"
      },
      "outputs": [],
      "source": [
        "example_dataset = train_data.create_tf_dataset_for_client(\n",
        "    train_data.client_ids[0])\n",
        "\n",
        "example_element = next(iter(example_dataset))\n"
      ]
    },
    {
      "cell_type": "code",
      "execution_count": null,
      "metadata": {
        "id": "b0814bb6"
      },
      "outputs": [],
      "source": [
        "\n",
        "def preprocess(dataset):\n",
        "\n",
        "        def batch_format_fn(element):\n",
        "            output = tf.concat([\n",
        "                tf.expand_dims(element['Electronégativité'],1)\n",
        "                ,tf.expand_dims(element['Delta_Electro-'],1)\n",
        "                ,tf.expand_dims(element['SID'],1)\n",
        "                ,tf.expand_dims(element['VEC'],1)\n",
        "                ,tf.expand_dims(element['Delta VEC'],1)\n",
        "                ,tf.expand_dims(element[ 'K'],1)\n",
        "                ,tf.expand_dims(element['Delta K'],1)\n",
        "                ,tf.expand_dims(element['A'],1)\n",
        "                ,tf.expand_dims(element['delta'],1)\n",
        "                ,tf.expand_dims(element['TM'],1)\n",
        "                ,tf.expand_dims(element['DELTA_TM'],1)], axis=1)\n",
        "            return collections.OrderedDict(x= tf.reshape(output, [1, 11] )\n",
        "                                           ,\n",
        "                                           y= tf.reshape(element[\"Etat d'entropie\"], [1,1]) )\n",
        "\n",
        "        return dataset.map(batch_format_fn)"
      ]
    },
    {
      "cell_type": "code",
      "execution_count": null,
      "metadata": {
        "id": "3fc13188",
        "colab": {
          "base_uri": "https://localhost:8080/"
        },
        "outputId": "0a2f81fc-192b-413b-8643-70069b86771b"
      },
      "outputs": [
        {
          "output_type": "execute_result",
          "data": {
            "text/plain": [
              "OrderedDict([('x',\n",
              "              array([[-1.1735287 , -1.6868681 ,  0.9552979 , -0.49759415, -0.6287776 ,\n",
              "                      -0.8864915 , -0.76373607,  0.45565882, -0.07929099, -0.44670582,\n",
              "                       1.2265136 ]], dtype=float32)),\n",
              "             ('y', array([[0]], dtype=int32))])"
            ]
          },
          "metadata": {},
          "execution_count": 28
        }
      ],
      "source": [
        "\n",
        "preprocessed_example_dataset = preprocess(example_dataset)\n",
        "\n",
        "sample_batch = tf.nest.map_structure(lambda x: x.numpy(),\n",
        "                                     next(iter(preprocessed_example_dataset)))\n",
        "\n",
        "sample_batch"
      ]
    },
    {
      "cell_type": "code",
      "execution_count": null,
      "metadata": {
        "id": "5ebebf42"
      },
      "outputs": [],
      "source": [
        "def make_federated_data(client_data, client_ids):\n",
        "    return [\n",
        "      preprocess(client_data.create_tf_dataset_for_client(x))\n",
        "      for x in client_ids\n",
        "  ]"
      ]
    },
    {
      "cell_type": "code",
      "execution_count": null,
      "metadata": {
        "id": "b5e10e72",
        "colab": {
          "base_uri": "https://localhost:8080/"
        },
        "outputId": "2fb56898-e74f-4ac6-c82c-92591c0695b5"
      },
      "outputs": [
        {
          "output_type": "stream",
          "name": "stdout",
          "text": [
            "Number of client datasets: 4\n",
            "First dataset: <_MapDataset element_spec=OrderedDict([('x', TensorSpec(shape=(1, 11), dtype=tf.float32, name=None)), ('y', TensorSpec(shape=(1, 1), dtype=tf.int32, name=None))])>\n"
          ]
        }
      ],
      "source": [
        "sample_clients = train_data.client_ids[0:NUM_CLIENTS]\n",
        "# sample_clients_test=test_data.client_ids[0:NUM_CLIENTS]\n",
        "federated_train_data = make_federated_data(train_data, sample_clients)\n",
        "\n",
        "print('Number of client datasets: {l}'.format(l=len(federated_train_data)))\n",
        "print('First dataset: {d}'.format(d=federated_train_data[0]))"
      ]
    },
    {
      "cell_type": "code",
      "execution_count": null,
      "metadata": {
        "id": "622e3bd9",
        "colab": {
          "base_uri": "https://localhost:8080/",
          "height": 865
        },
        "outputId": "a40a1cc7-adc8-4329-ae37-2a325d4a11cf"
      },
      "outputs": [
        {
          "output_type": "execute_result",
          "data": {
            "image/png": "[encoded data removed]",
            "text/plain": [
              "<IPython.core.display.Image object>"
            ]
          },
          "metadata": {},
          "execution_count": 31
        }
      ],
      "source": [
        "\n",
        "def create_keras_model():\n",
        "    return tf.keras.models.Sequential([\n",
        "        tf.keras.layers.Reshape(target_shape=(11, 1), input_shape=(11,)),\n",
        "        tf.keras.layers.Flatten(),\n",
        "        tf.keras.layers.Dense(40, kernel_initializer='glorot_uniform'),\n",
        "        tf.keras.layers.Dense(15, kernel_initializer='glorot_uniform'),\n",
        "        tf.keras.layers.Dense(10, kernel_initializer='glorot_uniform'),\n",
        "        tf.keras.layers.Dense(5, kernel_initializer='glorot_uniform'),\n",
        "        tf.keras.layers.Dense(1, kernel_initializer='glorot_uniform', activation='sigmoid')\n",
        "    ])\n",
        "\n",
        "# RNN\n",
        "# def create_keras_model():\n",
        "#     return tf.keras.models.Sequential([\n",
        "#         tf.keras.layers.Reshape(target_shape=(11, 1), input_shape=(11,)),\n",
        "#         tf.keras.layers.SimpleRNN(32),\n",
        "#         tf.keras.layers.Dense(85, kernel_initializer='zeros'),\n",
        "#         tf.keras.layers.Dense(60, kernel_initializer='zeros'),\n",
        "#         tf.keras.layers.Dense(25, kernel_initializer='zeros'),\n",
        "#         tf.keras.layers.Dense(10, kernel_initializer='zeros'),\n",
        "#         tf.keras.layers.Softmax(),\n",
        "#     ])\n",
        "# def create_keras_model():\n",
        "#     return tf.keras.models.Sequential([\n",
        "#         tf.keras.layers.Reshape(target_shape=(11, 1), input_shape=(11,)),\n",
        "#         tf.keras.layers.LSTM(32),\n",
        "#         tf.keras.layers.Dense(85, kernel_initializer='zeros'),\n",
        "#         tf.keras.layers.Dense(60, kernel_initializer='zeros'),\n",
        "#         tf.keras.layers.Dense(25, kernel_initializer='zeros'),\n",
        "#         tf.keras.layers.Dense(10, kernel_initializer='zeros'),\n",
        "#         tf.keras.layers.Dense(32, kernel_initializer='lecun_normal',activation='selu'),\n",
        "#     ])\n",
        "# def create_keras_model():\n",
        "#     return tf.keras.models.Sequential([\n",
        "#         tf.keras.layers.Reshape(target_shape=(11, 1), input_shape=(11,)),\n",
        "#         tf.keras.layers.GRU(32),\n",
        "#         tf.keras.layers.Dense(30, kernel_initializer='zeros'),\n",
        "#         tf.keras.layers.Dense(25, kernel_initializer='zeros'),\n",
        "#         tf.keras.layers.Dense(1, kernel_initializer='zeros'),\n",
        "#         tf.keras.layers.Softmax(),\n",
        "#     ])\n",
        "\n",
        "model=create_keras_model()\n",
        "tf.keras.utils.plot_model(\n",
        "model,\n",
        "to_file=\"model_ann.png\",\n",
        "show_shapes=True,\n",
        "show_dtype=False,\n",
        "show_layer_names=True,\n",
        "rankdir=\"TB\",\n",
        "expand_nested=True,\n",
        "dpi=96,\n",
        "layer_range=None,\n",
        "show_layer_activations=True,\n",
        ")"
      ]
    },
    {
      "cell_type": "code",
      "execution_count": null,
      "metadata": {
        "id": "c43084e9"
      },
      "outputs": [],
      "source": [
        "def model_fn():\n",
        "  # We _must_ create a new model here, and _not_ capture it from an external\n",
        "  # scope. TFF will call this within different graph contexts.\n",
        "    keras_model = create_keras_model()\n",
        "    return tff.learning.models.from_keras_model(\n",
        "    keras_model=keras_model,\n",
        "    input_spec=preprocessed_example_dataset.element_spec,\n",
        "    loss=tf.keras.losses.Poisson(reduction=\"auto\", name=\"poisson\"),\n",
        "    metrics=[\n",
        "        tf.keras.metrics.SparseCategoricalAccuracy(),\n",
        "        tf.keras.metrics.TruePositives(),\n",
        "        tf.keras.metrics.TrueNegatives(),\n",
        "        tf.keras.metrics.FalsePositives(),\n",
        "        tf.keras.metrics.FalseNegatives()\n",
        "    ]\n",
        ")"
      ]
    },
    {
      "cell_type": "code",
      "execution_count": null,
      "metadata": {
        "id": "aef5fc54"
      },
      "outputs": [],
      "source": [
        "iterative_process = tff.learning.algorithms.build_weighted_fed_avg(\n",
        "    model_fn,\n",
        "    client_optimizer_fn=lambda: tf.keras.optimizers.Adam(),\n",
        "    server_optimizer_fn=lambda: tf.keras.optimizers.Adam())\n",
        "\n"
      ]
    },
    {
      "cell_type": "code",
      "execution_count": null,
      "metadata": {
        "id": "5a224b72",
        "colab": {
          "base_uri": "https://localhost:8080/",
          "height": 70
        },
        "outputId": "b6550c5d-450b-405e-a6b0-a49c0ced0fbc"
      },
      "outputs": [
        {
          "output_type": "execute_result",
          "data": {
            "text/plain": [
              "'( -> <global_model_weights=<trainable=<float32[11,40],float32[40],float32[40,15],float32[15],float32[15,10],float32[10],float32[10,5],float32[5],float32[5,1],float32[1]>,non_trainable=<>>,distributor=<>,client_work=<>,aggregator=<value_sum_process=<>,weight_sum_process=<>>,finalizer=<int64,float32[11,40],float32[11,40],float32[40],float32[40],float32[40,15],float32[40,15],float32[15],float32[15],float32[15,10],float32[15,10],float32[10],float32[10],float32[10,5],float32[10,5],float32[5],float32[5],float32[5,1],float32[5,1],float32[1],float32[1]>>@SERVER)'"
            ],
            "application/vnd.google.colaboratory.intrinsic+json": {
              "type": "string"
            }
          },
          "metadata": {},
          "execution_count": 34
        }
      ],
      "source": [
        "str(iterative_process.initialize.type_signature)"
      ]
    },
    {
      "cell_type": "code",
      "execution_count": null,
      "metadata": {
        "id": "62ad6dcc"
      },
      "outputs": [],
      "source": [
        "state = iterative_process.initialize()"
      ]
    },
    {
      "cell_type": "code",
      "execution_count": null,
      "metadata": {
        "id": "FrSYpAAEdu8V",
        "colab": {
          "base_uri": "https://localhost:8080/"
        },
        "outputId": "9fc7cf6c-ed62-4cee-d64e-748a52e22bbc"
      },
      "outputs": [
        {
          "output_type": "execute_result",
          "data": {
            "text/plain": [
              "A                    float64\n",
              "delta                float64\n",
              "TM                   float64\n",
              "DELTA_TM             float64\n",
              "Electronégativité    float64\n",
              "Delta_Electro-       float64\n",
              "SID                  float64\n",
              "VEC                  float64\n",
              "Delta VEC            float64\n",
              "K                    float64\n",
              "Delta K              float64\n",
              "Etat d'entropie        int64\n",
              "id                     int64\n",
              "dtype: object"
            ]
          },
          "metadata": {},
          "execution_count": 36
        }
      ],
      "source": [
        "df.dtypes"
      ]
    },
    {
      "cell_type": "code",
      "execution_count": null,
      "metadata": {
        "id": "5a601363",
        "colab": {
          "base_uri": "https://localhost:8080/"
        },
        "outputId": "9f1ec5dc-004a-41de-f753-2c59f664b13c"
      },
      "outputs": [
        {
          "output_type": "stream",
          "name": "stdout",
          "text": [
            "round  1, metrics=OrderedDict([('distributor', ()), ('client_work', OrderedDict([('train', OrderedDict([('sparse_categorical_accuracy', 0.41963226), ('true_positives', 17031.0), ('true_negatives', 8207.0), ('false_positives', 5943.0), ('false_negatives', 2539.0), ('loss', 0.80964416), ('num_examples', 33720), ('num_batches', 33720)]))])), ('aggregator', OrderedDict([('mean_value', ()), ('mean_weight', ())])), ('finalizer', OrderedDict([('update_non_finite', 0)]))])\n"
          ]
        }
      ],
      "source": [
        "state, metrics = iterative_process.next(state, federated_train_data)\n",
        "print('round  1, metrics={}'.format(metrics))"
      ]
    },
    {
      "cell_type": "code",
      "execution_count": null,
      "metadata": {
        "colab": {
          "base_uri": "https://localhost:8080/"
        },
        "id": "f339718a",
        "outputId": "fd978d16-d415-493a-8a6b-ce54fc112736"
      },
      "outputs": [
        {
          "output_type": "stream",
          "name": "stdout",
          "text": [
            "round  2, metrics=OrderedDict([('distributor', ()), ('client_work', OrderedDict([('train', OrderedDict([('sparse_categorical_accuracy', 0.41963226), ('true_positives', 17053.0), ('true_negatives', 8160.0), ('false_positives', 5990.0), ('false_negatives', 2517.0), ('loss', 0.8099781), ('num_examples', 33720), ('num_batches', 33720)]))])), ('aggregator', OrderedDict([('mean_value', ()), ('mean_weight', ())])), ('finalizer', OrderedDict([('update_non_finite', 0)]))])\n",
            "round  3, metrics=OrderedDict([('distributor', ()), ('client_work', OrderedDict([('train', OrderedDict([('sparse_categorical_accuracy', 0.41963226), ('true_positives', 17036.0), ('true_negatives', 8262.0), ('false_positives', 5888.0), ('false_negatives', 2534.0), ('loss', 0.8095931), ('num_examples', 33720), ('num_batches', 33720)]))])), ('aggregator', OrderedDict([('mean_value', ()), ('mean_weight', ())])), ('finalizer', OrderedDict([('update_non_finite', 0)]))])\n",
            "round  4, metrics=OrderedDict([('distributor', ()), ('client_work', OrderedDict([('train', OrderedDict([('sparse_categorical_accuracy', 0.41963226), ('true_positives', 17016.0), ('true_negatives', 8233.0), ('false_positives', 5917.0), ('false_negatives', 2554.0), ('loss', 0.80931425), ('num_examples', 33720), ('num_batches', 33720)]))])), ('aggregator', OrderedDict([('mean_value', ()), ('mean_weight', ())])), ('finalizer', OrderedDict([('update_non_finite', 0)]))])\n",
            "round  5, metrics=OrderedDict([('distributor', ()), ('client_work', OrderedDict([('train', OrderedDict([('sparse_categorical_accuracy', 0.41963226), ('true_positives', 17028.0), ('true_negatives', 8251.0), ('false_positives', 5899.0), ('false_negatives', 2542.0), ('loss', 0.8092566), ('num_examples', 33720), ('num_batches', 33720)]))])), ('aggregator', OrderedDict([('mean_value', ()), ('mean_weight', ())])), ('finalizer', OrderedDict([('update_non_finite', 0)]))])\n",
            "round  6, metrics=OrderedDict([('distributor', ()), ('client_work', OrderedDict([('train', OrderedDict([('sparse_categorical_accuracy', 0.41963226), ('true_positives', 17020.0), ('true_negatives', 8221.0), ('false_positives', 5929.0), ('false_negatives', 2550.0), ('loss', 0.8091018), ('num_examples', 33720), ('num_batches', 33720)]))])), ('aggregator', OrderedDict([('mean_value', ()), ('mean_weight', ())])), ('finalizer', OrderedDict([('update_non_finite', 0)]))])\n",
            "round  7, metrics=OrderedDict([('distributor', ()), ('client_work', OrderedDict([('train', OrderedDict([('sparse_categorical_accuracy', 0.41963226), ('true_positives', 17040.0), ('true_negatives', 8181.0), ('false_positives', 5969.0), ('false_negatives', 2530.0), ('loss', 0.8092336), ('num_examples', 33720), ('num_batches', 33720)]))])), ('aggregator', OrderedDict([('mean_value', ()), ('mean_weight', ())])), ('finalizer', OrderedDict([('update_non_finite', 0)]))])\n",
            "round  8, metrics=OrderedDict([('distributor', ()), ('client_work', OrderedDict([('train', OrderedDict([('sparse_categorical_accuracy', 0.41963226), ('true_positives', 17036.0), ('true_negatives', 8277.0), ('false_positives', 5873.0), ('false_negatives', 2534.0), ('loss', 0.80876094), ('num_examples', 33720), ('num_batches', 33720)]))])), ('aggregator', OrderedDict([('mean_value', ()), ('mean_weight', ())])), ('finalizer', OrderedDict([('update_non_finite', 0)]))])\n",
            "round  9, metrics=OrderedDict([('distributor', ()), ('client_work', OrderedDict([('train', OrderedDict([('sparse_categorical_accuracy', 0.41963226), ('true_positives', 17005.0), ('true_negatives', 8206.0), ('false_positives', 5944.0), ('false_negatives', 2565.0), ('loss', 0.80883276), ('num_examples', 33720), ('num_batches', 33720)]))])), ('aggregator', OrderedDict([('mean_value', ()), ('mean_weight', ())])), ('finalizer', OrderedDict([('update_non_finite', 0)]))])\n",
            "round 10, metrics=OrderedDict([('distributor', ()), ('client_work', OrderedDict([('train', OrderedDict([('sparse_categorical_accuracy', 0.41963226), ('true_positives', 17075.0), ('true_negatives', 8235.0), ('false_positives', 5915.0), ('false_negatives', 2495.0), ('loss', 0.8085638), ('num_examples', 33720), ('num_batches', 33720)]))])), ('aggregator', OrderedDict([('mean_value', ()), ('mean_weight', ())])), ('finalizer', OrderedDict([('update_non_finite', 0)]))])\n",
            "round 11, metrics=OrderedDict([('distributor', ()), ('client_work', OrderedDict([('train', OrderedDict([('sparse_categorical_accuracy', 0.41963226), ('true_positives', 17067.0), ('true_negatives', 8209.0), ('false_positives', 5941.0), ('false_negatives', 2503.0), ('loss', 0.80858195), ('num_examples', 33720), ('num_batches', 33720)]))])), ('aggregator', OrderedDict([('mean_value', ()), ('mean_weight', ())])), ('finalizer', OrderedDict([('update_non_finite', 0)]))])\n",
            "round 12, metrics=OrderedDict([('distributor', ()), ('client_work', OrderedDict([('train', OrderedDict([('sparse_categorical_accuracy', 0.41963226), ('true_positives', 17068.0), ('true_negatives', 8201.0), ('false_positives', 5949.0), ('false_negatives', 2502.0), ('loss', 0.80847955), ('num_examples', 33720), ('num_batches', 33720)]))])), ('aggregator', OrderedDict([('mean_value', ()), ('mean_weight', ())])), ('finalizer', OrderedDict([('update_non_finite', 0)]))])\n",
            "round 13, metrics=OrderedDict([('distributor', ()), ('client_work', OrderedDict([('train', OrderedDict([('sparse_categorical_accuracy', 0.41963226), ('true_positives', 17100.0), ('true_negatives', 8244.0), ('false_positives', 5906.0), ('false_negatives', 2470.0), ('loss', 0.80858916), ('num_examples', 33720), ('num_batches', 33720)]))])), ('aggregator', OrderedDict([('mean_value', ()), ('mean_weight', ())])), ('finalizer', OrderedDict([('update_non_finite', 0)]))])\n",
            "round 14, metrics=OrderedDict([('distributor', ()), ('client_work', OrderedDict([('train', OrderedDict([('sparse_categorical_accuracy', 0.41963226), ('true_positives', 17037.0), ('true_negatives', 8228.0), ('false_positives', 5922.0), ('false_negatives', 2533.0), ('loss', 0.8083476), ('num_examples', 33720), ('num_batches', 33720)]))])), ('aggregator', OrderedDict([('mean_value', ()), ('mean_weight', ())])), ('finalizer', OrderedDict([('update_non_finite', 0)]))])\n",
            "round 15, metrics=OrderedDict([('distributor', ()), ('client_work', OrderedDict([('train', OrderedDict([('sparse_categorical_accuracy', 0.41963226), ('true_positives', 17012.0), ('true_negatives', 8228.0), ('false_positives', 5922.0), ('false_negatives', 2558.0), ('loss', 0.80817586), ('num_examples', 33720), ('num_batches', 33720)]))])), ('aggregator', OrderedDict([('mean_value', ()), ('mean_weight', ())])), ('finalizer', OrderedDict([('update_non_finite', 0)]))])\n",
            "round 16, metrics=OrderedDict([('distributor', ()), ('client_work', OrderedDict([('train', OrderedDict([('sparse_categorical_accuracy', 0.41963226), ('true_positives', 17048.0), ('true_negatives', 8240.0), ('false_positives', 5910.0), ('false_negatives', 2522.0), ('loss', 0.8078775), ('num_examples', 33720), ('num_batches', 33720)]))])), ('aggregator', OrderedDict([('mean_value', ()), ('mean_weight', ())])), ('finalizer', OrderedDict([('update_non_finite', 0)]))])\n",
            "round 17, metrics=OrderedDict([('distributor', ()), ('client_work', OrderedDict([('train', OrderedDict([('sparse_categorical_accuracy', 0.41963226), ('true_positives', 17049.0), ('true_negatives', 8254.0), ('false_positives', 5896.0), ('false_negatives', 2521.0), ('loss', 0.8079037), ('num_examples', 33720), ('num_batches', 33720)]))])), ('aggregator', OrderedDict([('mean_value', ()), ('mean_weight', ())])), ('finalizer', OrderedDict([('update_non_finite', 0)]))])\n",
            "round 18, metrics=OrderedDict([('distributor', ()), ('client_work', OrderedDict([('train', OrderedDict([('sparse_categorical_accuracy', 0.41963226), ('true_positives', 17039.0), ('true_negatives', 8217.0), ('false_positives', 5933.0), ('false_negatives', 2531.0), ('loss', 0.80805415), ('num_examples', 33720), ('num_batches', 33720)]))])), ('aggregator', OrderedDict([('mean_value', ()), ('mean_weight', ())])), ('finalizer', OrderedDict([('update_non_finite', 0)]))])\n",
            "round 19, metrics=OrderedDict([('distributor', ()), ('client_work', OrderedDict([('train', OrderedDict([('sparse_categorical_accuracy', 0.41963226), ('true_positives', 17078.0), ('true_negatives', 8241.0), ('false_positives', 5909.0), ('false_negatives', 2492.0), ('loss', 0.8077504), ('num_examples', 33720), ('num_batches', 33720)]))])), ('aggregator', OrderedDict([('mean_value', ()), ('mean_weight', ())])), ('finalizer', OrderedDict([('update_non_finite', 0)]))])\n",
            "round 20, metrics=OrderedDict([('distributor', ()), ('client_work', OrderedDict([('train', OrderedDict([('sparse_categorical_accuracy', 0.41963226), ('true_positives', 17045.0), ('true_negatives', 8205.0), ('false_positives', 5945.0), ('false_negatives', 2525.0), ('loss', 0.808063), ('num_examples', 33720), ('num_batches', 33720)]))])), ('aggregator', OrderedDict([('mean_value', ()), ('mean_weight', ())])), ('finalizer', OrderedDict([('update_non_finite', 0)]))])\n",
            "round 21, metrics=OrderedDict([('distributor', ()), ('client_work', OrderedDict([('train', OrderedDict([('sparse_categorical_accuracy', 0.41963226), ('true_positives', 17068.0), ('true_negatives', 8274.0), ('false_positives', 5876.0), ('false_negatives', 2502.0), ('loss', 0.8077228), ('num_examples', 33720), ('num_batches', 33720)]))])), ('aggregator', OrderedDict([('mean_value', ()), ('mean_weight', ())])), ('finalizer', OrderedDict([('update_non_finite', 0)]))])\n",
            "round 22, metrics=OrderedDict([('distributor', ()), ('client_work', OrderedDict([('train', OrderedDict([('sparse_categorical_accuracy', 0.41963226), ('true_positives', 17062.0), ('true_negatives', 8195.0), ('false_positives', 5955.0), ('false_negatives', 2508.0), ('loss', 0.80749035), ('num_examples', 33720), ('num_batches', 33720)]))])), ('aggregator', OrderedDict([('mean_value', ()), ('mean_weight', ())])), ('finalizer', OrderedDict([('update_non_finite', 0)]))])\n",
            "round 23, metrics=OrderedDict([('distributor', ()), ('client_work', OrderedDict([('train', OrderedDict([('sparse_categorical_accuracy', 0.41963226), ('true_positives', 17005.0), ('true_negatives', 8262.0), ('false_positives', 5888.0), ('false_negatives', 2565.0), ('loss', 0.8074758), ('num_examples', 33720), ('num_batches', 33720)]))])), ('aggregator', OrderedDict([('mean_value', ()), ('mean_weight', ())])), ('finalizer', OrderedDict([('update_non_finite', 0)]))])\n",
            "round 24, metrics=OrderedDict([('distributor', ()), ('client_work', OrderedDict([('train', OrderedDict([('sparse_categorical_accuracy', 0.41963226), ('true_positives', 17107.0), ('true_negatives', 8261.0), ('false_positives', 5889.0), ('false_negatives', 2463.0), ('loss', 0.80769575), ('num_examples', 33720), ('num_batches', 33720)]))])), ('aggregator', OrderedDict([('mean_value', ()), ('mean_weight', ())])), ('finalizer', OrderedDict([('update_non_finite', 0)]))])\n",
            "round 25, metrics=OrderedDict([('distributor', ()), ('client_work', OrderedDict([('train', OrderedDict([('sparse_categorical_accuracy', 0.41963226), ('true_positives', 17085.0), ('true_negatives', 8274.0), ('false_positives', 5876.0), ('false_negatives', 2485.0), ('loss', 0.8073225), ('num_examples', 33720), ('num_batches', 33720)]))])), ('aggregator', OrderedDict([('mean_value', ()), ('mean_weight', ())])), ('finalizer', OrderedDict([('update_non_finite', 0)]))])\n",
            "round 26, metrics=OrderedDict([('distributor', ()), ('client_work', OrderedDict([('train', OrderedDict([('sparse_categorical_accuracy', 0.41963226), ('true_positives', 17066.0), ('true_negatives', 8285.0), ('false_positives', 5865.0), ('false_negatives', 2504.0), ('loss', 0.8075479), ('num_examples', 33720), ('num_batches', 33720)]))])), ('aggregator', OrderedDict([('mean_value', ()), ('mean_weight', ())])), ('finalizer', OrderedDict([('update_non_finite', 0)]))])\n",
            "round 27, metrics=OrderedDict([('distributor', ()), ('client_work', OrderedDict([('train', OrderedDict([('sparse_categorical_accuracy', 0.41963226), ('true_positives', 17054.0), ('true_negatives', 8263.0), ('false_positives', 5887.0), ('false_negatives', 2516.0), ('loss', 0.8072674), ('num_examples', 33720), ('num_batches', 33720)]))])), ('aggregator', OrderedDict([('mean_value', ()), ('mean_weight', ())])), ('finalizer', OrderedDict([('update_non_finite', 0)]))])\n",
            "round 28, metrics=OrderedDict([('distributor', ()), ('client_work', OrderedDict([('train', OrderedDict([('sparse_categorical_accuracy', 0.41963226), ('true_positives', 17107.0), ('true_negatives', 8285.0), ('false_positives', 5865.0), ('false_negatives', 2463.0), ('loss', 0.8076571), ('num_examples', 33720), ('num_batches', 33720)]))])), ('aggregator', OrderedDict([('mean_value', ()), ('mean_weight', ())])), ('finalizer', OrderedDict([('update_non_finite', 0)]))])\n",
            "round 29, metrics=OrderedDict([('distributor', ()), ('client_work', OrderedDict([('train', OrderedDict([('sparse_categorical_accuracy', 0.41963226), ('true_positives', 17069.0), ('true_negatives', 8261.0), ('false_positives', 5889.0), ('false_negatives', 2501.0), ('loss', 0.8073552), ('num_examples', 33720), ('num_batches', 33720)]))])), ('aggregator', OrderedDict([('mean_value', ()), ('mean_weight', ())])), ('finalizer', OrderedDict([('update_non_finite', 0)]))])\n",
            "round 30, metrics=OrderedDict([('distributor', ()), ('client_work', OrderedDict([('train', OrderedDict([('sparse_categorical_accuracy', 0.41963226), ('true_positives', 17050.0), ('true_negatives', 8216.0), ('false_positives', 5934.0), ('false_negatives', 2520.0), ('loss', 0.80768), ('num_examples', 33720), ('num_batches', 33720)]))])), ('aggregator', OrderedDict([('mean_value', ()), ('mean_weight', ())])), ('finalizer', OrderedDict([('update_non_finite', 0)]))])\n",
            "round 31, metrics=OrderedDict([('distributor', ()), ('client_work', OrderedDict([('train', OrderedDict([('sparse_categorical_accuracy', 0.41963226), ('true_positives', 17035.0), ('true_negatives', 8270.0), ('false_positives', 5880.0), ('false_negatives', 2535.0), ('loss', 0.8071785), ('num_examples', 33720), ('num_batches', 33720)]))])), ('aggregator', OrderedDict([('mean_value', ()), ('mean_weight', ())])), ('finalizer', OrderedDict([('update_non_finite', 0)]))])\n",
            "round 32, metrics=OrderedDict([('distributor', ()), ('client_work', OrderedDict([('train', OrderedDict([('sparse_categorical_accuracy', 0.41963226), ('true_positives', 17073.0), ('true_negatives', 8242.0), ('false_positives', 5908.0), ('false_negatives', 2497.0), ('loss', 0.8071777), ('num_examples', 33720), ('num_batches', 33720)]))])), ('aggregator', OrderedDict([('mean_value', ()), ('mean_weight', ())])), ('finalizer', OrderedDict([('update_non_finite', 0)]))])\n",
            "round 33, metrics=OrderedDict([('distributor', ()), ('client_work', OrderedDict([('train', OrderedDict([('sparse_categorical_accuracy', 0.41963226), ('true_positives', 17079.0), ('true_negatives', 8266.0), ('false_positives', 5884.0), ('false_negatives', 2491.0), ('loss', 0.80728936), ('num_examples', 33720), ('num_batches', 33720)]))])), ('aggregator', OrderedDict([('mean_value', ()), ('mean_weight', ())])), ('finalizer', OrderedDict([('update_non_finite', 0)]))])\n",
            "round 34, metrics=OrderedDict([('distributor', ()), ('client_work', OrderedDict([('train', OrderedDict([('sparse_categorical_accuracy', 0.41963226), ('true_positives', 17070.0), ('true_negatives', 8253.0), ('false_positives', 5897.0), ('false_negatives', 2500.0), ('loss', 0.8069689), ('num_examples', 33720), ('num_batches', 33720)]))])), ('aggregator', OrderedDict([('mean_value', ()), ('mean_weight', ())])), ('finalizer', OrderedDict([('update_non_finite', 0)]))])\n",
            "round 35, metrics=OrderedDict([('distributor', ()), ('client_work', OrderedDict([('train', OrderedDict([('sparse_categorical_accuracy', 0.41963226), ('true_positives', 17053.0), ('true_negatives', 8268.0), ('false_positives', 5882.0), ('false_negatives', 2517.0), ('loss', 0.80716795), ('num_examples', 33720), ('num_batches', 33720)]))])), ('aggregator', OrderedDict([('mean_value', ()), ('mean_weight', ())])), ('finalizer', OrderedDict([('update_non_finite', 0)]))])\n",
            "round 36, metrics=OrderedDict([('distributor', ()), ('client_work', OrderedDict([('train', OrderedDict([('sparse_categorical_accuracy', 0.41963226), ('true_positives', 17037.0), ('true_negatives', 8263.0), ('false_positives', 5887.0), ('false_negatives', 2533.0), ('loss', 0.80704224), ('num_examples', 33720), ('num_batches', 33720)]))])), ('aggregator', OrderedDict([('mean_value', ()), ('mean_weight', ())])), ('finalizer', OrderedDict([('update_non_finite', 0)]))])\n",
            "round 37, metrics=OrderedDict([('distributor', ()), ('client_work', OrderedDict([('train', OrderedDict([('sparse_categorical_accuracy', 0.41963226), ('true_positives', 17057.0), ('true_negatives', 8295.0), ('false_positives', 5855.0), ('false_negatives', 2513.0), ('loss', 0.807019), ('num_examples', 33720), ('num_batches', 33720)]))])), ('aggregator', OrderedDict([('mean_value', ()), ('mean_weight', ())])), ('finalizer', OrderedDict([('update_non_finite', 0)]))])\n",
            "round 38, metrics=OrderedDict([('distributor', ()), ('client_work', OrderedDict([('train', OrderedDict([('sparse_categorical_accuracy', 0.41963226), ('true_positives', 17061.0), ('true_negatives', 8238.0), ('false_positives', 5912.0), ('false_negatives', 2509.0), ('loss', 0.806582), ('num_examples', 33720), ('num_batches', 33720)]))])), ('aggregator', OrderedDict([('mean_value', ()), ('mean_weight', ())])), ('finalizer', OrderedDict([('update_non_finite', 0)]))])\n",
            "round 39, metrics=OrderedDict([('distributor', ()), ('client_work', OrderedDict([('train', OrderedDict([('sparse_categorical_accuracy', 0.41963226), ('true_positives', 17091.0), ('true_negatives', 8263.0), ('false_positives', 5887.0), ('false_negatives', 2479.0), ('loss', 0.8070292), ('num_examples', 33720), ('num_batches', 33720)]))])), ('aggregator', OrderedDict([('mean_value', ()), ('mean_weight', ())])), ('finalizer', OrderedDict([('update_non_finite', 0)]))])\n",
            "round 40, metrics=OrderedDict([('distributor', ()), ('client_work', OrderedDict([('train', OrderedDict([('sparse_categorical_accuracy', 0.41963226), ('true_positives', 17071.0), ('true_negatives', 8244.0), ('false_positives', 5906.0), ('false_negatives', 2499.0), ('loss', 0.80714077), ('num_examples', 33720), ('num_batches', 33720)]))])), ('aggregator', OrderedDict([('mean_value', ()), ('mean_weight', ())])), ('finalizer', OrderedDict([('update_non_finite', 0)]))])\n",
            "round 41, metrics=OrderedDict([('distributor', ()), ('client_work', OrderedDict([('train', OrderedDict([('sparse_categorical_accuracy', 0.41963226), ('true_positives', 17022.0), ('true_negatives', 8287.0), ('false_positives', 5863.0), ('false_negatives', 2548.0), ('loss', 0.8068411), ('num_examples', 33720), ('num_batches', 33720)]))])), ('aggregator', OrderedDict([('mean_value', ()), ('mean_weight', ())])), ('finalizer', OrderedDict([('update_non_finite', 0)]))])\n",
            "round 42, metrics=OrderedDict([('distributor', ()), ('client_work', OrderedDict([('train', OrderedDict([('sparse_categorical_accuracy', 0.41963226), ('true_positives', 17072.0), ('true_negatives', 8276.0), ('false_positives', 5874.0), ('false_negatives', 2498.0), ('loss', 0.80689055), ('num_examples', 33720), ('num_batches', 33720)]))])), ('aggregator', OrderedDict([('mean_value', ()), ('mean_weight', ())])), ('finalizer', OrderedDict([('update_non_finite', 0)]))])\n",
            "round 43, metrics=OrderedDict([('distributor', ()), ('client_work', OrderedDict([('train', OrderedDict([('sparse_categorical_accuracy', 0.41963226), ('true_positives', 17078.0), ('true_negatives', 8239.0), ('false_positives', 5911.0), ('false_negatives', 2492.0), ('loss', 0.8067105), ('num_examples', 33720), ('num_batches', 33720)]))])), ('aggregator', OrderedDict([('mean_value', ()), ('mean_weight', ())])), ('finalizer', OrderedDict([('update_non_finite', 0)]))])\n",
            "round 44, metrics=OrderedDict([('distributor', ()), ('client_work', OrderedDict([('train', OrderedDict([('sparse_categorical_accuracy', 0.41963226), ('true_positives', 17086.0), ('true_negatives', 8226.0), ('false_positives', 5924.0), ('false_negatives', 2484.0), ('loss', 0.8068957), ('num_examples', 33720), ('num_batches', 33720)]))])), ('aggregator', OrderedDict([('mean_value', ()), ('mean_weight', ())])), ('finalizer', OrderedDict([('update_non_finite', 0)]))])\n",
            "round 45, metrics=OrderedDict([('distributor', ()), ('client_work', OrderedDict([('train', OrderedDict([('sparse_categorical_accuracy', 0.41963226), ('true_positives', 17094.0), ('true_negatives', 8250.0), ('false_positives', 5900.0), ('false_negatives', 2476.0), ('loss', 0.80655074), ('num_examples', 33720), ('num_batches', 33720)]))])), ('aggregator', OrderedDict([('mean_value', ()), ('mean_weight', ())])), ('finalizer', OrderedDict([('update_non_finite', 0)]))])\n",
            "round 46, metrics=OrderedDict([('distributor', ()), ('client_work', OrderedDict([('train', OrderedDict([('sparse_categorical_accuracy', 0.41963226), ('true_positives', 17063.0), ('true_negatives', 8308.0), ('false_positives', 5842.0), ('false_negatives', 2507.0), ('loss', 0.8069585), ('num_examples', 33720), ('num_batches', 33720)]))])), ('aggregator', OrderedDict([('mean_value', ()), ('mean_weight', ())])), ('finalizer', OrderedDict([('update_non_finite', 0)]))])\n",
            "round 47, metrics=OrderedDict([('distributor', ()), ('client_work', OrderedDict([('train', OrderedDict([('sparse_categorical_accuracy', 0.41963226), ('true_positives', 17076.0), ('true_negatives', 8259.0), ('false_positives', 5891.0), ('false_negatives', 2494.0), ('loss', 0.8066654), ('num_examples', 33720), ('num_batches', 33720)]))])), ('aggregator', OrderedDict([('mean_value', ()), ('mean_weight', ())])), ('finalizer', OrderedDict([('update_non_finite', 0)]))])\n",
            "round 48, metrics=OrderedDict([('distributor', ()), ('client_work', OrderedDict([('train', OrderedDict([('sparse_categorical_accuracy', 0.41963226), ('true_positives', 17049.0), ('true_negatives', 8266.0), ('false_positives', 5884.0), ('false_negatives', 2521.0), ('loss', 0.80656016), ('num_examples', 33720), ('num_batches', 33720)]))])), ('aggregator', OrderedDict([('mean_value', ()), ('mean_weight', ())])), ('finalizer', OrderedDict([('update_non_finite', 0)]))])\n",
            "round 49, metrics=OrderedDict([('distributor', ()), ('client_work', OrderedDict([('train', OrderedDict([('sparse_categorical_accuracy', 0.41963226), ('true_positives', 17067.0), ('true_negatives', 8281.0), ('false_positives', 5869.0), ('false_negatives', 2503.0), ('loss', 0.8064309), ('num_examples', 33720), ('num_batches', 33720)]))])), ('aggregator', OrderedDict([('mean_value', ()), ('mean_weight', ())])), ('finalizer', OrderedDict([('update_non_finite', 0)]))])\n",
            "round 50, metrics=OrderedDict([('distributor', ()), ('client_work', OrderedDict([('train', OrderedDict([('sparse_categorical_accuracy', 0.41963226), ('true_positives', 17083.0), ('true_negatives', 8235.0), ('false_positives', 5915.0), ('false_negatives', 2487.0), ('loss', 0.8065709), ('num_examples', 33720), ('num_batches', 33720)]))])), ('aggregator', OrderedDict([('mean_value', ()), ('mean_weight', ())])), ('finalizer', OrderedDict([('update_non_finite', 0)]))])\n",
            "round 51, metrics=OrderedDict([('distributor', ()), ('client_work', OrderedDict([('train', OrderedDict([('sparse_categorical_accuracy', 0.41963226), ('true_positives', 17060.0), ('true_negatives', 8256.0), ('false_positives', 5894.0), ('false_negatives', 2510.0), ('loss', 0.80640876), ('num_examples', 33720), ('num_batches', 33720)]))])), ('aggregator', OrderedDict([('mean_value', ()), ('mean_weight', ())])), ('finalizer', OrderedDict([('update_non_finite', 0)]))])\n",
            "round 52, metrics=OrderedDict([('distributor', ()), ('client_work', OrderedDict([('train', OrderedDict([('sparse_categorical_accuracy', 0.41963226), ('true_positives', 17082.0), ('true_negatives', 8249.0), ('false_positives', 5901.0), ('false_negatives', 2488.0), ('loss', 0.80645955), ('num_examples', 33720), ('num_batches', 33720)]))])), ('aggregator', OrderedDict([('mean_value', ()), ('mean_weight', ())])), ('finalizer', OrderedDict([('update_non_finite', 0)]))])\n",
            "round 53, metrics=OrderedDict([('distributor', ()), ('client_work', OrderedDict([('train', OrderedDict([('sparse_categorical_accuracy', 0.41963226), ('true_positives', 17068.0), ('true_negatives', 8267.0), ('false_positives', 5883.0), ('false_negatives', 2502.0), ('loss', 0.8063412), ('num_examples', 33720), ('num_batches', 33720)]))])), ('aggregator', OrderedDict([('mean_value', ()), ('mean_weight', ())])), ('finalizer', OrderedDict([('update_non_finite', 0)]))])\n",
            "round 54, metrics=OrderedDict([('distributor', ()), ('client_work', OrderedDict([('train', OrderedDict([('sparse_categorical_accuracy', 0.41963226), ('true_positives', 17072.0), ('true_negatives', 8302.0), ('false_positives', 5848.0), ('false_negatives', 2498.0), ('loss', 0.80618745), ('num_examples', 33720), ('num_batches', 33720)]))])), ('aggregator', OrderedDict([('mean_value', ()), ('mean_weight', ())])), ('finalizer', OrderedDict([('update_non_finite', 0)]))])\n",
            "round 55, metrics=OrderedDict([('distributor', ()), ('client_work', OrderedDict([('train', OrderedDict([('sparse_categorical_accuracy', 0.41963226), ('true_positives', 17102.0), ('true_negatives', 8253.0), ('false_positives', 5897.0), ('false_negatives', 2468.0), ('loss', 0.80633265), ('num_examples', 33720), ('num_batches', 33720)]))])), ('aggregator', OrderedDict([('mean_value', ()), ('mean_weight', ())])), ('finalizer', OrderedDict([('update_non_finite', 0)]))])\n",
            "round 56, metrics=OrderedDict([('distributor', ()), ('client_work', OrderedDict([('train', OrderedDict([('sparse_categorical_accuracy', 0.41963226), ('true_positives', 17112.0), ('true_negatives', 8308.0), ('false_positives', 5842.0), ('false_negatives', 2458.0), ('loss', 0.80597204), ('num_examples', 33720), ('num_batches', 33720)]))])), ('aggregator', OrderedDict([('mean_value', ()), ('mean_weight', ())])), ('finalizer', OrderedDict([('update_non_finite', 0)]))])\n",
            "round 57, metrics=OrderedDict([('distributor', ()), ('client_work', OrderedDict([('train', OrderedDict([('sparse_categorical_accuracy', 0.41963226), ('true_positives', 17085.0), ('true_negatives', 8273.0), ('false_positives', 5877.0), ('false_negatives', 2485.0), ('loss', 0.8061997), ('num_examples', 33720), ('num_batches', 33720)]))])), ('aggregator', OrderedDict([('mean_value', ()), ('mean_weight', ())])), ('finalizer', OrderedDict([('update_non_finite', 0)]))])\n",
            "round 58, metrics=OrderedDict([('distributor', ()), ('client_work', OrderedDict([('train', OrderedDict([('sparse_categorical_accuracy', 0.41963226), ('true_positives', 17068.0), ('true_negatives', 8228.0), ('false_positives', 5922.0), ('false_negatives', 2502.0), ('loss', 0.80655426), ('num_examples', 33720), ('num_batches', 33720)]))])), ('aggregator', OrderedDict([('mean_value', ()), ('mean_weight', ())])), ('finalizer', OrderedDict([('update_non_finite', 0)]))])\n",
            "round 59, metrics=OrderedDict([('distributor', ()), ('client_work', OrderedDict([('train', OrderedDict([('sparse_categorical_accuracy', 0.41963226), ('true_positives', 17091.0), ('true_negatives', 8281.0), ('false_positives', 5869.0), ('false_negatives', 2479.0), ('loss', 0.8061986), ('num_examples', 33720), ('num_batches', 33720)]))])), ('aggregator', OrderedDict([('mean_value', ()), ('mean_weight', ())])), ('finalizer', OrderedDict([('update_non_finite', 0)]))])\n",
            "round 60, metrics=OrderedDict([('distributor', ()), ('client_work', OrderedDict([('train', OrderedDict([('sparse_categorical_accuracy', 0.41963226), ('true_positives', 17099.0), ('true_negatives', 8284.0), ('false_positives', 5866.0), ('false_negatives', 2471.0), ('loss', 0.8061845), ('num_examples', 33720), ('num_batches', 33720)]))])), ('aggregator', OrderedDict([('mean_value', ()), ('mean_weight', ())])), ('finalizer', OrderedDict([('update_non_finite', 0)]))])\n",
            "round 61, metrics=OrderedDict([('distributor', ()), ('client_work', OrderedDict([('train', OrderedDict([('sparse_categorical_accuracy', 0.41963226), ('true_positives', 17053.0), ('true_negatives', 8284.0), ('false_positives', 5866.0), ('false_negatives', 2517.0), ('loss', 0.80614495), ('num_examples', 33720), ('num_batches', 33720)]))])), ('aggregator', OrderedDict([('mean_value', ()), ('mean_weight', ())])), ('finalizer', OrderedDict([('update_non_finite', 0)]))])\n",
            "round 62, metrics=OrderedDict([('distributor', ()), ('client_work', OrderedDict([('train', OrderedDict([('sparse_categorical_accuracy', 0.41963226), ('true_positives', 17091.0), ('true_negatives', 8302.0), ('false_positives', 5848.0), ('false_negatives', 2479.0), ('loss', 0.80618584), ('num_examples', 33720), ('num_batches', 33720)]))])), ('aggregator', OrderedDict([('mean_value', ()), ('mean_weight', ())])), ('finalizer', OrderedDict([('update_non_finite', 0)]))])\n",
            "round 63, metrics=OrderedDict([('distributor', ()), ('client_work', OrderedDict([('train', OrderedDict([('sparse_categorical_accuracy', 0.41963226), ('true_positives', 17116.0), ('true_negatives', 8281.0), ('false_positives', 5869.0), ('false_negatives', 2454.0), ('loss', 0.8061614), ('num_examples', 33720), ('num_batches', 33720)]))])), ('aggregator', OrderedDict([('mean_value', ()), ('mean_weight', ())])), ('finalizer', OrderedDict([('update_non_finite', 0)]))])\n",
            "round 64, metrics=OrderedDict([('distributor', ()), ('client_work', OrderedDict([('train', OrderedDict([('sparse_categorical_accuracy', 0.41963226), ('true_positives', 17085.0), ('true_negatives', 8287.0), ('false_positives', 5863.0), ('false_negatives', 2485.0), ('loss', 0.80613256), ('num_examples', 33720), ('num_batches', 33720)]))])), ('aggregator', OrderedDict([('mean_value', ()), ('mean_weight', ())])), ('finalizer', OrderedDict([('update_non_finite', 0)]))])\n",
            "round 65, metrics=OrderedDict([('distributor', ()), ('client_work', OrderedDict([('train', OrderedDict([('sparse_categorical_accuracy', 0.41963226), ('true_positives', 17148.0), ('true_negatives', 8252.0), ('false_positives', 5898.0), ('false_negatives', 2422.0), ('loss', 0.80596864), ('num_examples', 33720), ('num_batches', 33720)]))])), ('aggregator', OrderedDict([('mean_value', ()), ('mean_weight', ())])), ('finalizer', OrderedDict([('update_non_finite', 0)]))])\n",
            "round 66, metrics=OrderedDict([('distributor', ()), ('client_work', OrderedDict([('train', OrderedDict([('sparse_categorical_accuracy', 0.41963226), ('true_positives', 17068.0), ('true_negatives', 8247.0), ('false_positives', 5903.0), ('false_negatives', 2502.0), ('loss', 0.8062014), ('num_examples', 33720), ('num_batches', 33720)]))])), ('aggregator', OrderedDict([('mean_value', ()), ('mean_weight', ())])), ('finalizer', OrderedDict([('update_non_finite', 0)]))])\n",
            "round 67, metrics=OrderedDict([('distributor', ()), ('client_work', OrderedDict([('train', OrderedDict([('sparse_categorical_accuracy', 0.41963226), ('true_positives', 17065.0), ('true_negatives', 8280.0), ('false_positives', 5870.0), ('false_negatives', 2505.0), ('loss', 0.8059942), ('num_examples', 33720), ('num_batches', 33720)]))])), ('aggregator', OrderedDict([('mean_value', ()), ('mean_weight', ())])), ('finalizer', OrderedDict([('update_non_finite', 0)]))])\n",
            "round 68, metrics=OrderedDict([('distributor', ()), ('client_work', OrderedDict([('train', OrderedDict([('sparse_categorical_accuracy', 0.41963226), ('true_positives', 17076.0), ('true_negatives', 8267.0), ('false_positives', 5883.0), ('false_negatives', 2494.0), ('loss', 0.80615693), ('num_examples', 33720), ('num_batches', 33720)]))])), ('aggregator', OrderedDict([('mean_value', ()), ('mean_weight', ())])), ('finalizer', OrderedDict([('update_non_finite', 0)]))])\n",
            "round 69, metrics=OrderedDict([('distributor', ()), ('client_work', OrderedDict([('train', OrderedDict([('sparse_categorical_accuracy', 0.41963226), ('true_positives', 17101.0), ('true_negatives', 8284.0), ('false_positives', 5866.0), ('false_negatives', 2469.0), ('loss', 0.8061935), ('num_examples', 33720), ('num_batches', 33720)]))])), ('aggregator', OrderedDict([('mean_value', ()), ('mean_weight', ())])), ('finalizer', OrderedDict([('update_non_finite', 0)]))])\n",
            "round 70, metrics=OrderedDict([('distributor', ()), ('client_work', OrderedDict([('train', OrderedDict([('sparse_categorical_accuracy', 0.41963226), ('true_positives', 17046.0), ('true_negatives', 8266.0), ('false_positives', 5884.0), ('false_negatives', 2524.0), ('loss', 0.805876), ('num_examples', 33720), ('num_batches', 33720)]))])), ('aggregator', OrderedDict([('mean_value', ()), ('mean_weight', ())])), ('finalizer', OrderedDict([('update_non_finite', 0)]))])\n",
            "round 71, metrics=OrderedDict([('distributor', ()), ('client_work', OrderedDict([('train', OrderedDict([('sparse_categorical_accuracy', 0.41963226), ('true_positives', 17086.0), ('true_negatives', 8295.0), ('false_positives', 5855.0), ('false_negatives', 2484.0), ('loss', 0.8058577), ('num_examples', 33720), ('num_batches', 33720)]))])), ('aggregator', OrderedDict([('mean_value', ()), ('mean_weight', ())])), ('finalizer', OrderedDict([('update_non_finite', 0)]))])\n",
            "round 72, metrics=OrderedDict([('distributor', ()), ('client_work', OrderedDict([('train', OrderedDict([('sparse_categorical_accuracy', 0.41963226), ('true_positives', 17109.0), ('true_negatives', 8294.0), ('false_positives', 5856.0), ('false_negatives', 2461.0), ('loss', 0.80575746), ('num_examples', 33720), ('num_batches', 33720)]))])), ('aggregator', OrderedDict([('mean_value', ()), ('mean_weight', ())])), ('finalizer', OrderedDict([('update_non_finite', 0)]))])\n",
            "round 73, metrics=OrderedDict([('distributor', ()), ('client_work', OrderedDict([('train', OrderedDict([('sparse_categorical_accuracy', 0.41963226), ('true_positives', 17073.0), ('true_negatives', 8277.0), ('false_positives', 5873.0), ('false_negatives', 2497.0), ('loss', 0.8057914), ('num_examples', 33720), ('num_batches', 33720)]))])), ('aggregator', OrderedDict([('mean_value', ()), ('mean_weight', ())])), ('finalizer', OrderedDict([('update_non_finite', 0)]))])\n",
            "round 74, metrics=OrderedDict([('distributor', ()), ('client_work', OrderedDict([('train', OrderedDict([('sparse_categorical_accuracy', 0.41963226), ('true_positives', 17145.0), ('true_negatives', 8277.0), ('false_positives', 5873.0), ('false_negatives', 2425.0), ('loss', 0.8059763), ('num_examples', 33720), ('num_batches', 33720)]))])), ('aggregator', OrderedDict([('mean_value', ()), ('mean_weight', ())])), ('finalizer', OrderedDict([('update_non_finite', 0)]))])\n",
            "round 75, metrics=OrderedDict([('distributor', ()), ('client_work', OrderedDict([('train', OrderedDict([('sparse_categorical_accuracy', 0.41963226), ('true_positives', 17084.0), ('true_negatives', 8340.0), ('false_positives', 5810.0), ('false_negatives', 2486.0), ('loss', 0.8058786), ('num_examples', 33720), ('num_batches', 33720)]))])), ('aggregator', OrderedDict([('mean_value', ()), ('mean_weight', ())])), ('finalizer', OrderedDict([('update_non_finite', 0)]))])\n",
            "round 76, metrics=OrderedDict([('distributor', ()), ('client_work', OrderedDict([('train', OrderedDict([('sparse_categorical_accuracy', 0.41963226), ('true_positives', 17086.0), ('true_negatives', 8260.0), ('false_positives', 5890.0), ('false_negatives', 2484.0), ('loss', 0.80573857), ('num_examples', 33720), ('num_batches', 33720)]))])), ('aggregator', OrderedDict([('mean_value', ()), ('mean_weight', ())])), ('finalizer', OrderedDict([('update_non_finite', 0)]))])\n",
            "round 77, metrics=OrderedDict([('distributor', ()), ('client_work', OrderedDict([('train', OrderedDict([('sparse_categorical_accuracy', 0.41963226), ('true_positives', 17121.0), ('true_negatives', 8245.0), ('false_positives', 5905.0), ('false_negatives', 2449.0), ('loss', 0.8059703), ('num_examples', 33720), ('num_batches', 33720)]))])), ('aggregator', OrderedDict([('mean_value', ()), ('mean_weight', ())])), ('finalizer', OrderedDict([('update_non_finite', 0)]))])\n",
            "round 78, metrics=OrderedDict([('distributor', ()), ('client_work', OrderedDict([('train', OrderedDict([('sparse_categorical_accuracy', 0.41963226), ('true_positives', 17081.0), ('true_negatives', 8271.0), ('false_positives', 5879.0), ('false_negatives', 2489.0), ('loss', 0.8059853), ('num_examples', 33720), ('num_batches', 33720)]))])), ('aggregator', OrderedDict([('mean_value', ()), ('mean_weight', ())])), ('finalizer', OrderedDict([('update_non_finite', 0)]))])\n",
            "round 79, metrics=OrderedDict([('distributor', ()), ('client_work', OrderedDict([('train', OrderedDict([('sparse_categorical_accuracy', 0.41963226), ('true_positives', 17089.0), ('true_negatives', 8308.0), ('false_positives', 5842.0), ('false_negatives', 2481.0), ('loss', 0.8058666), ('num_examples', 33720), ('num_batches', 33720)]))])), ('aggregator', OrderedDict([('mean_value', ()), ('mean_weight', ())])), ('finalizer', OrderedDict([('update_non_finite', 0)]))])\n",
            "round 80, metrics=OrderedDict([('distributor', ()), ('client_work', OrderedDict([('train', OrderedDict([('sparse_categorical_accuracy', 0.41963226), ('true_positives', 17050.0), ('true_negatives', 8313.0), ('false_positives', 5837.0), ('false_negatives', 2520.0), ('loss', 0.80583364), ('num_examples', 33720), ('num_batches', 33720)]))])), ('aggregator', OrderedDict([('mean_value', ()), ('mean_weight', ())])), ('finalizer', OrderedDict([('update_non_finite', 0)]))])\n",
            "round 81, metrics=OrderedDict([('distributor', ()), ('client_work', OrderedDict([('train', OrderedDict([('sparse_categorical_accuracy', 0.41963226), ('true_positives', 17081.0), ('true_negatives', 8284.0), ('false_positives', 5866.0), ('false_negatives', 2489.0), ('loss', 0.8058692), ('num_examples', 33720), ('num_batches', 33720)]))])), ('aggregator', OrderedDict([('mean_value', ()), ('mean_weight', ())])), ('finalizer', OrderedDict([('update_non_finite', 0)]))])\n",
            "round 82, metrics=OrderedDict([('distributor', ()), ('client_work', OrderedDict([('train', OrderedDict([('sparse_categorical_accuracy', 0.41963226), ('true_positives', 17095.0), ('true_negatives', 8321.0), ('false_positives', 5829.0), ('false_negatives', 2475.0), ('loss', 0.805615), ('num_examples', 33720), ('num_batches', 33720)]))])), ('aggregator', OrderedDict([('mean_value', ()), ('mean_weight', ())])), ('finalizer', OrderedDict([('update_non_finite', 0)]))])\n",
            "round 83, metrics=OrderedDict([('distributor', ()), ('client_work', OrderedDict([('train', OrderedDict([('sparse_categorical_accuracy', 0.41963226), ('true_positives', 17114.0), ('true_negatives', 8294.0), ('false_positives', 5856.0), ('false_negatives', 2456.0), ('loss', 0.80557173), ('num_examples', 33720), ('num_batches', 33720)]))])), ('aggregator', OrderedDict([('mean_value', ()), ('mean_weight', ())])), ('finalizer', OrderedDict([('update_non_finite', 0)]))])\n",
            "round 84, metrics=OrderedDict([('distributor', ()), ('client_work', OrderedDict([('train', OrderedDict([('sparse_categorical_accuracy', 0.41963226), ('true_positives', 17102.0), ('true_negatives', 8267.0), ('false_positives', 5883.0), ('false_negatives', 2468.0), ('loss', 0.8056527), ('num_examples', 33720), ('num_batches', 33720)]))])), ('aggregator', OrderedDict([('mean_value', ()), ('mean_weight', ())])), ('finalizer', OrderedDict([('update_non_finite', 0)]))])\n",
            "round 85, metrics=OrderedDict([('distributor', ()), ('client_work', OrderedDict([('train', OrderedDict([('sparse_categorical_accuracy', 0.41963226), ('true_positives', 17094.0), ('true_negatives', 8286.0), ('false_positives', 5864.0), ('false_negatives', 2476.0), ('loss', 0.80558026), ('num_examples', 33720), ('num_batches', 33720)]))])), ('aggregator', OrderedDict([('mean_value', ()), ('mean_weight', ())])), ('finalizer', OrderedDict([('update_non_finite', 0)]))])\n",
            "round 86, metrics=OrderedDict([('distributor', ()), ('client_work', OrderedDict([('train', OrderedDict([('sparse_categorical_accuracy', 0.41963226), ('true_positives', 17075.0), ('true_negatives', 8289.0), ('false_positives', 5861.0), ('false_negatives', 2495.0), ('loss', 0.80567914), ('num_examples', 33720), ('num_batches', 33720)]))])), ('aggregator', OrderedDict([('mean_value', ()), ('mean_weight', ())])), ('finalizer', OrderedDict([('update_non_finite', 0)]))])\n",
            "round 87, metrics=OrderedDict([('distributor', ()), ('client_work', OrderedDict([('train', OrderedDict([('sparse_categorical_accuracy', 0.41963226), ('true_positives', 17066.0), ('true_negatives', 8305.0), ('false_positives', 5845.0), ('false_negatives', 2504.0), ('loss', 0.8054119), ('num_examples', 33720), ('num_batches', 33720)]))])), ('aggregator', OrderedDict([('mean_value', ()), ('mean_weight', ())])), ('finalizer', OrderedDict([('update_non_finite', 0)]))])\n",
            "round 88, metrics=OrderedDict([('distributor', ()), ('client_work', OrderedDict([('train', OrderedDict([('sparse_categorical_accuracy', 0.41963226), ('true_positives', 17094.0), ('true_negatives', 8272.0), ('false_positives', 5878.0), ('false_negatives', 2476.0), ('loss', 0.80537385), ('num_examples', 33720), ('num_batches', 33720)]))])), ('aggregator', OrderedDict([('mean_value', ()), ('mean_weight', ())])), ('finalizer', OrderedDict([('update_non_finite', 0)]))])\n",
            "round 89, metrics=OrderedDict([('distributor', ()), ('client_work', OrderedDict([('train', OrderedDict([('sparse_categorical_accuracy', 0.41963226), ('true_positives', 17091.0), ('true_negatives', 8272.0), ('false_positives', 5878.0), ('false_negatives', 2479.0), ('loss', 0.80563366), ('num_examples', 33720), ('num_batches', 33720)]))])), ('aggregator', OrderedDict([('mean_value', ()), ('mean_weight', ())])), ('finalizer', OrderedDict([('update_non_finite', 0)]))])\n",
            "round 90, metrics=OrderedDict([('distributor', ()), ('client_work', OrderedDict([('train', OrderedDict([('sparse_categorical_accuracy', 0.41963226), ('true_positives', 17086.0), ('true_negatives', 8316.0), ('false_positives', 5834.0), ('false_negatives', 2484.0), ('loss', 0.80537397), ('num_examples', 33720), ('num_batches', 33720)]))])), ('aggregator', OrderedDict([('mean_value', ()), ('mean_weight', ())])), ('finalizer', OrderedDict([('update_non_finite', 0)]))])\n",
            "round 91, metrics=OrderedDict([('distributor', ()), ('client_work', OrderedDict([('train', OrderedDict([('sparse_categorical_accuracy', 0.41963226), ('true_positives', 17106.0), ('true_negatives', 8272.0), ('false_positives', 5878.0), ('false_negatives', 2464.0), ('loss', 0.80537343), ('num_examples', 33720), ('num_batches', 33720)]))])), ('aggregator', OrderedDict([('mean_value', ()), ('mean_weight', ())])), ('finalizer', OrderedDict([('update_non_finite', 0)]))])\n",
            "round 92, metrics=OrderedDict([('distributor', ()), ('client_work', OrderedDict([('train', OrderedDict([('sparse_categorical_accuracy', 0.41963226), ('true_positives', 17122.0), ('true_negatives', 8283.0), ('false_positives', 5867.0), ('false_negatives', 2448.0), ('loss', 0.8052014), ('num_examples', 33720), ('num_batches', 33720)]))])), ('aggregator', OrderedDict([('mean_value', ()), ('mean_weight', ())])), ('finalizer', OrderedDict([('update_non_finite', 0)]))])\n",
            "round 93, metrics=OrderedDict([('distributor', ()), ('client_work', OrderedDict([('train', OrderedDict([('sparse_categorical_accuracy', 0.41963226), ('true_positives', 17090.0), ('true_negatives', 8288.0), ('false_positives', 5862.0), ('false_negatives', 2480.0), ('loss', 0.80527616), ('num_examples', 33720), ('num_batches', 33720)]))])), ('aggregator', OrderedDict([('mean_value', ()), ('mean_weight', ())])), ('finalizer', OrderedDict([('update_non_finite', 0)]))])\n",
            "round 94, metrics=OrderedDict([('distributor', ()), ('client_work', OrderedDict([('train', OrderedDict([('sparse_categorical_accuracy', 0.41963226), ('true_positives', 17084.0), ('true_negatives', 8280.0), ('false_positives', 5870.0), ('false_negatives', 2486.0), ('loss', 0.8053784), ('num_examples', 33720), ('num_batches', 33720)]))])), ('aggregator', OrderedDict([('mean_value', ()), ('mean_weight', ())])), ('finalizer', OrderedDict([('update_non_finite', 0)]))])\n",
            "round 95, metrics=OrderedDict([('distributor', ()), ('client_work', OrderedDict([('train', OrderedDict([('sparse_categorical_accuracy', 0.41963226), ('true_positives', 17072.0), ('true_negatives', 8274.0), ('false_positives', 5876.0), ('false_negatives', 2498.0), ('loss', 0.8052751), ('num_examples', 33720), ('num_batches', 33720)]))])), ('aggregator', OrderedDict([('mean_value', ()), ('mean_weight', ())])), ('finalizer', OrderedDict([('update_non_finite', 0)]))])\n",
            "round 96, metrics=OrderedDict([('distributor', ()), ('client_work', OrderedDict([('train', OrderedDict([('sparse_categorical_accuracy', 0.41963226), ('true_positives', 17086.0), ('true_negatives', 8313.0), ('false_positives', 5837.0), ('false_negatives', 2484.0), ('loss', 0.8053064), ('num_examples', 33720), ('num_batches', 33720)]))])), ('aggregator', OrderedDict([('mean_value', ()), ('mean_weight', ())])), ('finalizer', OrderedDict([('update_non_finite', 0)]))])\n",
            "round 97, metrics=OrderedDict([('distributor', ()), ('client_work', OrderedDict([('train', OrderedDict([('sparse_categorical_accuracy', 0.41963226), ('true_positives', 17091.0), ('true_negatives', 8328.0), ('false_positives', 5822.0), ('false_negatives', 2479.0), ('loss', 0.8052107), ('num_examples', 33720), ('num_batches', 33720)]))])), ('aggregator', OrderedDict([('mean_value', ()), ('mean_weight', ())])), ('finalizer', OrderedDict([('update_non_finite', 0)]))])\n",
            "round 98, metrics=OrderedDict([('distributor', ()), ('client_work', OrderedDict([('train', OrderedDict([('sparse_categorical_accuracy', 0.41963226), ('true_positives', 17089.0), ('true_negatives', 8321.0), ('false_positives', 5829.0), ('false_negatives', 2481.0), ('loss', 0.8053928), ('num_examples', 33720), ('num_batches', 33720)]))])), ('aggregator', OrderedDict([('mean_value', ()), ('mean_weight', ())])), ('finalizer', OrderedDict([('update_non_finite', 0)]))])\n",
            "round 99, metrics=OrderedDict([('distributor', ()), ('client_work', OrderedDict([('train', OrderedDict([('sparse_categorical_accuracy', 0.41963226), ('true_positives', 17089.0), ('true_negatives', 8306.0), ('false_positives', 5844.0), ('false_negatives', 2481.0), ('loss', 0.80533886), ('num_examples', 33720), ('num_batches', 33720)]))])), ('aggregator', OrderedDict([('mean_value', ()), ('mean_weight', ())])), ('finalizer', OrderedDict([('update_non_finite', 0)]))])\n"
          ]
        }
      ],
      "source": [
        "NUM_ROUNDS = 100\n",
        "\n",
        "acc = []\n",
        "for round_num in range(2, NUM_ROUNDS):\n",
        "    state, metrics = iterative_process.next(state, federated_train_data)\n",
        "    print('round {:2d}, metrics={}'.format(round_num, metrics))\n",
        "    acc.append( metrics['client_work']['train'])"
      ]
    },
    {
      "cell_type": "code",
      "execution_count": null,
      "metadata": {
        "colab": {
          "base_uri": "https://localhost:8080/",
          "height": 472
        },
        "id": "TQ-fwQzijfLm",
        "outputId": "ecc504cd-84cc-4a34-d091-fb013ac2e9c1"
      },
      "outputs": [
        {
          "output_type": "display_data",
          "data": {
            "text/plain": [
              "<Figure size 640x480 with 1 Axes>"
            ],
            "image/png": "[encoded data removed]"
          },
          "metadata": {}
        }
      ],
      "source": [
        "from matplotlib.animation import FuncAnimation\n",
        "\n",
        "tp_values = [int(i['true_positives']) for i in acc]  # List of true positives values for each round\n",
        "tn_values = [int(i['true_negatives']) for i in acc]  # List of true negatives values for each round\n",
        "fp_values = [int(i['false_positives']) for i in acc]  # List of false positives values for each round\n",
        "fn_values = [int(i['false_negatives']) for i in acc]\n",
        "\n",
        "accuracy_values = [(tp + tn) / (tp + tn + fp + fn) for tp, tn, fp, fn in zip(tp_values, tn_values, fp_values, fn_values)]\n",
        "recall_values = [tp / (tp + fn) if (tp + fn) > 0 else 0 for tp, fn in zip(tp_values, fn_values)]\n",
        "f1_score_values = [tp/(tp+0.5*(fp+fn))  for tp, fp, fn in zip(tp_values, fp_values, fn_values)]\n",
        "\n",
        "# Create x-axis values\n",
        "rounds = np.arange(1, len(tp_values) + 1)\n",
        "precision_values= [tp  / (tp +fp ) for tp,  fp in zip(tp_values,  fp_values)]\n",
        "# Plot recall\n",
        "plt.plot(rounds, recall_values, label='Recall')\n",
        "plt.plot(rounds, precision_values, label='Precision')\n",
        "\n",
        "# Plot accuracy\n",
        "plt.plot(rounds, accuracy_values, label='Accuracy')\n",
        "\n",
        "# Plot F1 score\n",
        "plt.plot(rounds, f1_score_values, label='F1 Score')\n",
        "\n",
        "# Set plot title and labels\n",
        "plt.title('Performance Metrics')\n",
        "plt.xlabel('Round')\n",
        "plt.ylabel('Score')\n",
        "\n",
        "# Add legend\n",
        "plt.legend()\n",
        "\n",
        "# Show the plot\n",
        "plt.show()\n",
        "\n",
        "# Show the plot\n",
        "plt.show()"
      ]
    },
    {
      "cell_type": "markdown",
      "metadata": {
        "id": "7EEC7bJNvj8H"
      },
      "source": [
        "Evaluation process"
      ]
    },
    {
      "cell_type": "code",
      "execution_count": null,
      "metadata": {
        "id": "9dwSZy3Ry00A"
      },
      "outputs": [],
      "source": [
        "\n",
        "# Create a model function\n",
        "\n",
        "# Use this model function to create a training process\n",
        "evaluation_process = tff.learning.algorithms.build_fed_eval(model_fn)"
      ]
    },
    {
      "cell_type": "code",
      "execution_count": null,
      "metadata": {
        "colab": {
          "base_uri": "https://localhost:8080/"
        },
        "id": "_BQtDv8y3ovr",
        "outputId": "23a45527-ebcb-4650-d35b-d78ffd152f45"
      },
      "outputs": [
        {
          "output_type": "stream",
          "name": "stdout",
          "text": [
            "(<\n",
            "  state=<\n",
            "    global_model_weights=<\n",
            "      trainable=<\n",
            "        float32[11,40],\n",
            "        float32[40],\n",
            "        float32[40,15],\n",
            "        float32[15],\n",
            "        float32[15,10],\n",
            "        float32[10],\n",
            "        float32[10,5],\n",
            "        float32[5],\n",
            "        float32[5,1],\n",
            "        float32[1]\n",
            "      >,\n",
            "      non_trainable=<>\n",
            "    >,\n",
            "    distributor=<>,\n",
            "    client_work=<\n",
            "      <>,\n",
            "      <\n",
            "        sparse_categorical_accuracy=<\n",
            "          float32,\n",
            "          float32\n",
            "        >,\n",
            "        true_positives=<\n",
            "          float32[1]\n",
            "        >,\n",
            "        true_negatives=<\n",
            "          float32[1]\n",
            "        >,\n",
            "        false_positives=<\n",
            "          float32[1]\n",
            "        >,\n",
            "        false_negatives=<\n",
            "          float32[1]\n",
            "        >,\n",
            "        loss=<\n",
            "          float32,\n",
            "          float32\n",
            "        >,\n",
            "        num_examples=<\n",
            "          int64\n",
            "        >,\n",
            "        num_batches=<\n",
            "          int64\n",
            "        >\n",
            "      >\n",
            "    >,\n",
            "    aggregator=<\n",
            "      value_sum_process=<>,\n",
            "      weight_sum_process=<>\n",
            "    >,\n",
            "    finalizer=<>\n",
            "  >@SERVER,\n",
            "  client_data={<\n",
            "    x=float32[1,11],\n",
            "    y=int32[1,1]\n",
            "  >*}@CLIENTS\n",
            "> -> <\n",
            "  state=<\n",
            "    global_model_weights=<\n",
            "      trainable=<\n",
            "        float32[11,40],\n",
            "        float32[40],\n",
            "        float32[40,15],\n",
            "        float32[15],\n",
            "        float32[15,10],\n",
            "        float32[10],\n",
            "        float32[10,5],\n",
            "        float32[5],\n",
            "        float32[5,1],\n",
            "        float32[1]\n",
            "      >,\n",
            "      non_trainable=<>\n",
            "    >,\n",
            "    distributor=<>,\n",
            "    client_work=<\n",
            "      <>,\n",
            "      <\n",
            "        sparse_categorical_accuracy=<\n",
            "          float32,\n",
            "          float32\n",
            "        >,\n",
            "        true_positives=<\n",
            "          float32[1]\n",
            "        >,\n",
            "        true_negatives=<\n",
            "          float32[1]\n",
            "        >,\n",
            "        false_positives=<\n",
            "          float32[1]\n",
            "        >,\n",
            "        false_negatives=<\n",
            "          float32[1]\n",
            "        >,\n",
            "        loss=<\n",
            "          float32,\n",
            "          float32\n",
            "        >,\n",
            "        num_examples=<\n",
            "          int64\n",
            "        >,\n",
            "        num_batches=<\n",
            "          int64\n",
            "        >\n",
            "      >\n",
            "    >,\n",
            "    aggregator=<\n",
            "      value_sum_process=<>,\n",
            "      weight_sum_process=<>\n",
            "    >,\n",
            "    finalizer=<>\n",
            "  >@SERVER,\n",
            "  metrics=<\n",
            "    distributor=<>,\n",
            "    client_work=<\n",
            "      eval=<\n",
            "        current_round_metrics=<\n",
            "          sparse_categorical_accuracy=float32,\n",
            "          true_positives=float32,\n",
            "          true_negatives=float32,\n",
            "          false_positives=float32,\n",
            "          false_negatives=float32,\n",
            "          loss=float32,\n",
            "          num_examples=int64,\n",
            "          num_batches=int64\n",
            "        >,\n",
            "        total_rounds_metrics=<\n",
            "          sparse_categorical_accuracy=float32,\n",
            "          true_positives=float32,\n",
            "          true_negatives=float32,\n",
            "          false_positives=float32,\n",
            "          false_negatives=float32,\n",
            "          loss=float32,\n",
            "          num_examples=int64,\n",
            "          num_batches=int64\n",
            "        >\n",
            "      >\n",
            "    >,\n",
            "    aggregator=<\n",
            "      mean_value=<>,\n",
            "      mean_weight=<>\n",
            "    >,\n",
            "    finalizer=<>\n",
            "  >@SERVER\n",
            ">)\n"
          ]
        }
      ],
      "source": [
        "print(evaluation_process.next.type_signature.formatted_representation())"
      ]
    },
    {
      "cell_type": "code",
      "execution_count": null,
      "metadata": {
        "id": "L0XF_HC56-db"
      },
      "outputs": [],
      "source": [
        "evaluation_state = evaluation_process.initialize()\n",
        "model_weights = iterative_process.get_model_weights(state)\n",
        "evaluation_state = evaluation_process.set_model_weights(evaluation_state, model_weights)"
      ]
    },
    {
      "cell_type": "code",
      "execution_count": null,
      "metadata": {
        "id": "TAj2UM8EsT5S"
      },
      "outputs": [],
      "source": [
        "import matplotlib.pyplot as plt\n",
        "import seaborn as sns\n",
        "from sklearn.metrics import ConfusionMatrixDisplay\n"
      ]
    },
    {
      "cell_type": "code",
      "execution_count": null,
      "metadata": {
        "colab": {
          "base_uri": "https://localhost:8080/"
        },
        "id": "C0XXv1dB7LEz",
        "outputId": "9e8a4a5f-9a9c-401e-c9ea-7192fb4571c3"
      },
      "outputs": [
        {
          "output_type": "execute_result",
          "data": {
            "text/plain": [
              "(1,\n",
              " <_MapDataset element_spec=OrderedDict([('x', TensorSpec(shape=(1, 11), dtype=tf.float32, name=None)), ('y', TensorSpec(shape=(1, 1), dtype=tf.int32, name=None))])>)"
            ]
          },
          "metadata": {},
          "execution_count": 44
        }
      ],
      "source": [
        "federated_test_data = make_federated_data(test_data, test_data.client_ids)\n",
        "\n",
        "len(federated_test_data), federated_test_data[0]"
      ]
    },
    {
      "cell_type": "code",
      "execution_count": null,
      "metadata": {
        "id": "apjmQG3w-3G2"
      },
      "outputs": [],
      "source": [
        "evaluation_output = evaluation_process.next(evaluation_state, federated_test_data)"
      ]
    },
    {
      "cell_type": "code",
      "execution_count": null,
      "metadata": {
        "id": "2ZXj96PHRm1I",
        "colab": {
          "base_uri": "https://localhost:8080/",
          "height": 546
        },
        "outputId": "896484f7-d6dc-4b84-a616-368b2a21348a"
      },
      "outputs": [
        {
          "output_type": "stream",
          "name": "stderr",
          "text": [
            "<ipython-input-46-a79d3e099da3>:16: UserWarning: FixedFormatter should only be used together with FixedLocator\n",
            "  ax.set_xticklabels([''] + labels)\n",
            "<ipython-input-46-a79d3e099da3>:17: UserWarning: FixedFormatter should only be used together with FixedLocator\n",
            "  ax.set_yticklabels([''] + labels)\n"
          ]
        },
        {
          "output_type": "display_data",
          "data": {
            "text/plain": [
              "<Figure size 640x480 with 2 Axes>"
            ],
            "image/png": "[encoded data removed]"
          },
          "metadata": {}
        }
      ],
      "source": [
        "tp = int(evaluation_output.metrics[\"client_work\"][\"eval\"]['total_rounds_metrics']['true_positives'])\n",
        "tn = int(evaluation_output.metrics[\"client_work\"][\"eval\"]['total_rounds_metrics']['true_negatives'])\n",
        "fp = int(evaluation_output.metrics[\"client_work\"][\"eval\"]['total_rounds_metrics']['false_positives'])\n",
        "fn = int(evaluation_output.metrics[\"client_work\"][\"eval\"]['total_rounds_metrics']['false_negatives'])\n",
        "\n",
        "cm = np.array([[tp, fp],\n",
        "               [fn, tn]])\n",
        "\n",
        "# labels\n",
        "labels = ['Positive', 'Negative']\n",
        "fig = plt.figure()\n",
        "ax = fig.add_subplot(111)\n",
        "cax = ax.matshow(cm)\n",
        "plt.title('Confusion matrix of the classifier')\n",
        "fig.colorbar(cax)\n",
        "ax.set_xticklabels([''] + labels)\n",
        "ax.set_yticklabels([''] + labels)\n",
        "plt.xlabel('Predicted')\n",
        "plt.ylabel('True')\n",
        "plt.show()"
      ]
    },
    {
      "cell_type": "code",
      "execution_count": null,
      "metadata": {
        "id": "qSz68X0ZvLLV",
        "colab": {
          "base_uri": "https://localhost:8080/",
          "height": 178
        },
        "outputId": "efb25ccb-8716-4370-9daf-1582ffd5f881"
      },
      "outputs": [
        {
          "output_type": "stream",
          "name": "stdout",
          "text": [
            "Precision: 0.07024029574861368\n",
            "Recall: 0.9672727272727273\n",
            "F1 score: 0.1309699655342196\n"
          ]
        },
        {
          "output_type": "display_data",
          "data": {
            "text/plain": [
              "<IPython.core.display.HTML object>"
            ],
            "text/html": [
              "\n",
              "<table>\n",
              "  <tr>\n",
              "    <th>Metric</th>\n",
              "    <th>Value</th>\n",
              "  </tr>\n",
              "  <tr>\n",
              "    <td>Precision</td>\n",
              "    <td>0.07</td>\n",
              "  </tr>\n",
              "  <tr>\n",
              "    <td>Recall</td>\n",
              "    <td>0.97</td>\n",
              "  </tr>\n",
              "  <tr>\n",
              "    <td>F1 Score</td>\n",
              "    <td>0.13</td>\n",
              "  </tr>\n",
              "  <tr>\n",
              "    <td>Accuracy</td>\n",
              "    <td>0.41</td>\n",
              "  </tr>\n",
              "</table>\n"
            ]
          },
          "metadata": {}
        }
      ],
      "source": [
        "\n",
        "precision = tp / (tp + fp)\n",
        "recall = tp / (tp + fn)\n",
        "f1_score = 2 * (precision * recall) / (precision + recall)\n",
        "accuracy=(tp+tn)/(tp+tn+fp+fn)\n",
        "print(\"Precision:\", precision)\n",
        "print(\"Recall:\", recall)\n",
        "print(\"F1 score:\", f1_score)\n",
        "\n",
        "\n",
        "table_html = \"\"\"\n",
        "<table>\n",
        "  <tr>\n",
        "    <th>Metric</th>\n",
        "    <th>Value</th>\n",
        "  </tr>\n",
        "  <tr>\n",
        "    <td>Precision</td>\n",
        "    <td>{:.2f}</td>\n",
        "  </tr>\n",
        "  <tr>\n",
        "    <td>Recall</td>\n",
        "    <td>{:.2f}</td>\n",
        "  </tr>\n",
        "  <tr>\n",
        "    <td>F1 Score</td>\n",
        "    <td>{:.2f}</td>\n",
        "  </tr>\n",
        "  <tr>\n",
        "    <td>Accuracy</td>\n",
        "    <td>{:.2f}</td>\n",
        "  </tr>\n",
        "</table>\n",
        "\"\"\".format(precision, recall, f1_score,accuracy)\n",
        "\n",
        "# Display HTML table in Jupyter Notebook\n",
        "from IPython.display import display, HTML\n",
        "display(HTML(table_html))"
      ]
    },
    {
      "cell_type": "code",
      "source": [
        "L=[]"
      ],
      "metadata": {
        "id": "FfUDr1Hp7xYf"
      },
      "execution_count": null,
      "outputs": []
    },
    {
      "cell_type": "markdown",
      "source": [
        "Scenario repeated:"
      ],
      "metadata": {
        "id": "Ge01W07O5QWy"
      }
    },
    {
      "cell_type": "code",
      "execution_count": null,
      "metadata": {
        "id": "1-cDm-EU5CKG"
      },
      "outputs": [],
      "source": [
        "# Run for Bigdata only\n",
        "NUM_CLIENTS = 5\n",
        "\n",
        "data = pd.read_csv(\"/content/drive/MyDrive/BigData.csv\", sep=',', encoding='latin-1')\n",
        "\n",
        "data.rename(columns={\"ElectronÃ©gativitÃ©\": \"Electronégativité\"}, inplace=True)\n",
        "data.drop(\"Unnamed: 0\", axis=1, inplace=True)\n",
        "data=normalize_columns(data,['A', 'delta', 'TM', 'DELTA_TM', 'Electronégativité', 'Delta_Electro-', 'SID', 'VEC', 'Delta VEC', 'K', 'Delta K'])\n",
        "group_proportions = data[\"Etat d'entropie\"].value_counts(normalize=True)\n",
        "\n",
        "# Step 2: Determine the size of the final dataset after sampling (let's say you want 70% of the original size)\n",
        "desired_sample_size = 6000\n",
        "\n",
        "# Step 3: Calculate the required sample size for each group based on their proportions\n",
        "sample_size_group_0 = int(group_proportions.loc[0] * desired_sample_size)\n",
        "sample_size_group_1 = int(group_proportions.loc[1] * desired_sample_size)\n",
        "\n",
        "# Step 4: Separate the DataFrame into two groups based on the values of \"Etat d'entropie\"\n",
        "grouped_data = data.groupby(\"Etat d'entropie\")\n",
        "\n",
        "# Step 5: Sample the rows from each group with the calculated sample sizes\n",
        "sampled_data = grouped_data.apply(lambda x: x.sample(n=sample_size_group_0) if x[\"Etat d'entropie\"].iloc[0] == 0 else x.sample(n=sample_size_group_1))\n",
        "\n",
        "# Step 6: Concatenate the sampled groups back into a single DataFrame\n",
        "sampled_data = sampled_data.reset_index(drop=True)\n",
        "\n",
        "sampled_data[\"id\"]=NUM_CLIENTS\n",
        "\n",
        "\n",
        "# minority_count = data[\"Etat d'entropie\"].sum()\n",
        "# majority_count = data.shape[0] - minority_count\n",
        "\n",
        "# # Calculate the difference in counts between the classes\n",
        "# count_diff = majority_count - minority_count\n",
        "\n",
        "# # If the difference is positive, we need to add more samples of the minority class (1)\n",
        "# # If the difference is negative, we need to remove samples of the majority class (0)\n",
        "\n",
        "# if count_diff > 0:\n",
        "#     # Get the indices of the rows with target value 1\n",
        "#     minority_indices = data[data['Etat d\\'entropie'] == 1].index\n",
        "#     # Sample rows with replacement from the minority class to match the majority class count\n",
        "#     additional_minority_indices = np.random.choice(minority_indices, count_diff, replace=True)\n",
        "#     # Concatenate the additional samples with the original DataFrame\n",
        "#     data = pd.concat([data, data.loc[additional_minority_indices]])\n",
        "# elif count_diff < 0:\n",
        "#     # Get the indices of the rows with target value 0\n",
        "#     majority_indices = data[data[\"Etat d'entropie\"] == 0].index\n",
        "#     # Randomly select rows from the majority class to remove to match the minority class count\n",
        "#     majority_indices_to_remove = np.random.choice(majority_indices, abs(count_diff), replace=False)\n",
        "#     # Drop the selected rows from the majority class\n",
        "#     data = data.drop(majority_indices_to_remove)\n",
        "df = pd.concat([df1, sampled_data], ignore_index=True)\n",
        "\n"
      ]
    },
    {
      "cell_type": "code",
      "execution_count": null,
      "metadata": {
        "id": "dyo3JzC05CKl"
      },
      "outputs": [],
      "source": [
        "for id in range(1,NUM_CLIENTS+1):\n",
        "  df[df[\"id\"]==id].drop_duplicates(subset=['A', 'delta', 'TM', 'DELTA_TM', 'Electronégativité', 'Delta_Electro-', 'SID', 'VEC', 'Delta VEC', 'K', 'Delta K'])\n",
        "\n",
        "\n",
        "# df=df.drop_duplicates(subset=['A', 'delta', 'TM', 'DELTA_TM', 'Electronégativité', 'Delta_Electro-', 'SID', 'VEC', 'Delta VEC', 'K', 'Delta K'])"
      ]
    },
    {
      "cell_type": "code",
      "execution_count": null,
      "metadata": {
        "id": "qXcR8Sn_5CKm",
        "colab": {
          "base_uri": "https://localhost:8080/"
        },
        "outputId": "62320e03-163f-4862-9eeb-2840c0245b44"
      },
      "outputs": [
        {
          "output_type": "stream",
          "name": "stdout",
          "text": [
            "[1 2 3 4 5]\n"
          ]
        }
      ],
      "source": [
        "# split client id into train and test clients\n",
        "client_id_colname = 'id' # the column that represents client ID\n",
        "client_ids = df[client_id_colname].unique()\n",
        "train_client_ids = range(1,NUM_CLIENTS)\n",
        "test_client_ids = [NUM_CLIENTS]\n",
        "print(client_ids)"
      ]
    },
    {
      "cell_type": "code",
      "execution_count": null,
      "metadata": {
        "id": "9G7kVZap5CKn"
      },
      "outputs": [],
      "source": [
        "NUM_EPOCHS =10\n",
        "BATCH_SIZE = 512\n",
        "SHUFFLE_BUFFER = 2000\n",
        "PREFETCH_BUFFER = 1000\n",
        "\n",
        "\n",
        "\n",
        "train_data = tff.simulation.datasets.ClientData.from_clients_and_tf_fn(\n",
        "        client_ids=train_client_ids,\n",
        "        serializable_dataset_fn=create_tf_dataset_for_client_fn\n",
        "    )\n",
        "\n",
        "#\n",
        "test_data = tff.simulation.datasets.ClientData.from_clients_and_tf_fn(\n",
        "        client_ids=test_client_ids,\n",
        "        serializable_dataset_fn=create_tf_dataset_for_client_fn\n",
        "    )"
      ]
    },
    {
      "cell_type": "code",
      "execution_count": null,
      "metadata": {
        "colab": {
          "base_uri": "https://localhost:8080/"
        },
        "outputId": "e7c6a7b6-c4ea-4809-bd8e-bbe5a623ddee",
        "id": "pPxQsYLF5CKo"
      },
      "outputs": [
        {
          "output_type": "execute_result",
          "data": {
            "text/plain": [
              "(1,\n",
              " <_MapDataset element_spec=OrderedDict([('x', TensorSpec(shape=(1, 11), dtype=tf.float32, name=None)), ('y', TensorSpec(shape=(1, 1), dtype=tf.int32, name=None))])>)"
            ]
          },
          "metadata": {},
          "execution_count": 53
        }
      ],
      "source": [
        "federated_test_data = make_federated_data(test_data, test_data.client_ids)\n",
        "\n",
        "len(federated_test_data), federated_test_data[0]"
      ]
    },
    {
      "cell_type": "code",
      "execution_count": null,
      "metadata": {
        "id": "Q3xCFRQe5CKp"
      },
      "outputs": [],
      "source": [
        "evaluation_output = evaluation_process.next(evaluation_state, federated_test_data)"
      ]
    },
    {
      "cell_type": "code",
      "execution_count": null,
      "metadata": {
        "id": "XQbQKHt45CKq",
        "colab": {
          "base_uri": "https://localhost:8080/",
          "height": 546
        },
        "outputId": "674f77af-d08d-4050-a5fb-7bf6e8f580c7"
      },
      "outputs": [
        {
          "output_type": "stream",
          "name": "stderr",
          "text": [
            "<ipython-input-55-a79d3e099da3>:16: UserWarning: FixedFormatter should only be used together with FixedLocator\n",
            "  ax.set_xticklabels([''] + labels)\n",
            "<ipython-input-55-a79d3e099da3>:17: UserWarning: FixedFormatter should only be used together with FixedLocator\n",
            "  ax.set_yticklabels([''] + labels)\n"
          ]
        },
        {
          "output_type": "display_data",
          "data": {
            "text/plain": [
              "<Figure size 640x480 with 2 Axes>"
            ],
            "image/png": "[encoded data removed]"
          },
          "metadata": {}
        }
      ],
      "source": [
        "tp = int(evaluation_output.metrics[\"client_work\"][\"eval\"]['total_rounds_metrics']['true_positives'])\n",
        "tn = int(evaluation_output.metrics[\"client_work\"][\"eval\"]['total_rounds_metrics']['true_negatives'])\n",
        "fp = int(evaluation_output.metrics[\"client_work\"][\"eval\"]['total_rounds_metrics']['false_positives'])\n",
        "fn = int(evaluation_output.metrics[\"client_work\"][\"eval\"]['total_rounds_metrics']['false_negatives'])\n",
        "\n",
        "cm = np.array([[tp, fp],\n",
        "               [fn, tn]])\n",
        "\n",
        "# labels\n",
        "labels = ['Positive', 'Negative']\n",
        "fig = plt.figure()\n",
        "ax = fig.add_subplot(111)\n",
        "cax = ax.matshow(cm)\n",
        "plt.title('Confusion matrix of the classifier')\n",
        "fig.colorbar(cax)\n",
        "ax.set_xticklabels([''] + labels)\n",
        "ax.set_yticklabels([''] + labels)\n",
        "plt.xlabel('Predicted')\n",
        "plt.ylabel('True')\n",
        "plt.show()"
      ]
    },
    {
      "cell_type": "code",
      "execution_count": null,
      "metadata": {
        "id": "n_MOu_do5CKr",
        "colab": {
          "base_uri": "https://localhost:8080/",
          "height": 178
        },
        "outputId": "6cd2a9ae-acfe-4fab-d48b-aa594326c95e"
      },
      "outputs": [
        {
          "output_type": "stream",
          "name": "stdout",
          "text": [
            "Precision: 0.06977950713359274\n",
            "Recall: 0.9781818181818182\n",
            "F1 score: 0.13026634382566585\n"
          ]
        },
        {
          "output_type": "display_data",
          "data": {
            "text/plain": [
              "<IPython.core.display.HTML object>"
            ],
            "text/html": [
              "\n",
              "<table>\n",
              "  <tr>\n",
              "    <th>Metric</th>\n",
              "    <th>Value</th>\n",
              "  </tr>\n",
              "  <tr>\n",
              "    <td>Precision</td>\n",
              "    <td>0.07</td>\n",
              "  </tr>\n",
              "  <tr>\n",
              "    <td>Recall</td>\n",
              "    <td>0.98</td>\n",
              "  </tr>\n",
              "  <tr>\n",
              "    <td>F1 Score</td>\n",
              "    <td>0.13</td>\n",
              "  </tr>\n",
              "  <tr>\n",
              "    <td>Accuracy</td>\n",
              "    <td>0.40</td>\n",
              "  </tr>\n",
              "</table>\n"
            ]
          },
          "metadata": {}
        }
      ],
      "source": [
        "\n",
        "precision = tp / (tp + fp)\n",
        "recall = tp / (tp + fn)\n",
        "f1_score = 2 * (precision * recall) / (precision + recall)\n",
        "accuracy=(tp+tn)/(tp+tn+fp+fn)\n",
        "print(\"Precision:\", precision)\n",
        "print(\"Recall:\", recall)\n",
        "print(\"F1 score:\", f1_score)\n",
        "\n",
        "\n",
        "table_html = \"\"\"\n",
        "<table>\n",
        "  <tr>\n",
        "    <th>Metric</th>\n",
        "    <th>Value</th>\n",
        "  </tr>\n",
        "  <tr>\n",
        "    <td>Precision</td>\n",
        "    <td>{:.2f}</td>\n",
        "  </tr>\n",
        "  <tr>\n",
        "    <td>Recall</td>\n",
        "    <td>{:.2f}</td>\n",
        "  </tr>\n",
        "  <tr>\n",
        "    <td>F1 Score</td>\n",
        "    <td>{:.2f}</td>\n",
        "  </tr>\n",
        "  <tr>\n",
        "    <td>Accuracy</td>\n",
        "    <td>{:.2f}</td>\n",
        "  </tr>\n",
        "</table>\n",
        "\"\"\".format(precision, recall, f1_score,accuracy)\n",
        "\n",
        "# Display HTML table in Jupyter Notebook\n",
        "from IPython.display import display, HTML\n",
        "display(HTML(table_html))"
      ]
    },
    {
      "cell_type": "code",
      "source": [
        "L.append([precision, recall, f1_score,accuracy])"
      ],
      "metadata": {
        "id": "Efeucnws70kW"
      },
      "execution_count": null,
      "outputs": []
    },
    {
      "cell_type": "code",
      "source": [
        "legends = ['Precision', 'Recall', 'F1 Score', 'Accuracy']\n",
        "\n",
        "# Transpose the data to separate the metrics\n",
        "metrics = list(zip(*L))\n",
        "\n",
        "# Create the plot\n",
        "plt.figure(figsize=(10, 6))\n",
        "\n",
        "for i, metric in enumerate(metrics):\n",
        "    plt.plot(metric, label=legends[i])\n",
        "\n",
        "plt.xlabel('Echantillon')\n",
        "plt.ylabel('Scores')\n",
        "plt.title('Precision, Recall, F1 Score, and Accuracy')\n",
        "plt.legend()\n",
        "plt.grid(True)\n",
        "plt.show()"
      ],
      "metadata": {
        "id": "endQoGhI_Jy_",
        "colab": {
          "base_uri": "https://localhost:8080/",
          "height": 564
        },
        "outputId": "cd14fae2-e063-48e8-9a5c-2e214f78171d"
      },
      "execution_count": null,
      "outputs": [
        {
          "output_type": "display_data",
          "data": {
            "text/plain": [
              "<Figure size 1000x600 with 1 Axes>"
            ],
            "image/png": "[encoded data removed]"
          },
          "metadata": {}
        }
      ]
    },
    {
      "cell_type": "code",
      "source": [],
      "metadata": {
        "id": "2cztBLfeAeJt",
        "colab": {
          "base_uri": "https://localhost:8080/"
        },
        "outputId": "bbefd40c-275b-4f9a-8d55-b4e7dddddb96"
      },
      "execution_count": null,
      "outputs": [
        {
          "output_type": "execute_result",
          "data": {
            "text/plain": [
              "1"
            ]
          },
          "metadata": {},
          "execution_count": 59
        }
      ]
    },
    {
      "cell_type": "code",
      "source": [
        "while len(L)!=12:\n",
        "\n",
        "  NUM_CLIENTS = 5\n",
        "\n",
        "  data = pd.read_csv(\"/content/drive/MyDrive/BigData.csv\", sep=',', encoding='latin-1')\n",
        "\n",
        "  data.rename(columns={\"ElectronÃ©gativitÃ©\": \"Electronégativité\"}, inplace=True)\n",
        "  data.drop(\"Unnamed: 0\", axis=1, inplace=True)\n",
        "  data=normalize_columns(data,['A', 'delta', 'TM', 'DELTA_TM', 'Electronégativité', 'Delta_Electro-', 'SID', 'VEC', 'Delta VEC', 'K', 'Delta K'])\n",
        "  group_proportions = data[\"Etat d'entropie\"].value_counts(normalize=True)\n",
        "\n",
        "# Step 2: Determine the size of the final dataset after sampling (let's say you want 70% of the original size)\n",
        "  desired_sample_size = 6000\n",
        "\n",
        "# Step 3: Calculate the required sample size for each group based on their proportions\n",
        "  sample_size_group_0 = int(group_proportions.loc[0] * desired_sample_size)\n",
        "  sample_size_group_1 = int(group_proportions.loc[1] * desired_sample_size)\n",
        "\n",
        "# Step 4: Separate the DataFrame into two groups based on the values of \"Etat d'entropie\"\n",
        "  grouped_data = data.groupby(\"Etat d'entropie\")\n",
        "\n",
        "# Step 5: Sample the rows from each group with the calculated sample sizes\n",
        "  sampled_data = grouped_data.apply(lambda x: x.sample(n=sample_size_group_0) if x[\"Etat d'entropie\"].iloc[0] == 0 else x.sample(n=sample_size_group_1))\n",
        "\n",
        "# Step 6: Concatenate the sampled groups back into a single DataFrame\n",
        "  sampled_data = sampled_data.reset_index(drop=True)\n",
        "\n",
        "  sampled_data[\"id\"]=NUM_CLIENTS\n",
        "\n",
        "\n",
        "# minority_count = data[\"Etat d'entropie\"].sum()\n",
        "# majority_count = data.shape[0] - minority_count\n",
        "\n",
        "# # Calculate the difference in counts between the classes\n",
        "# count_diff = majority_count - minority_count\n",
        "\n",
        "# # If the difference is positive, we need to add more samples of the minority class (1)\n",
        "# # If the difference is negative, we need to remove samples of the majority class (0)\n",
        "\n",
        "# if count_diff > 0:\n",
        "#     # Get the indices of the rows with target value 1\n",
        "#     minority_indices = data[data['Etat d\\'entropie'] == 1].index\n",
        "#     # Sample rows with replacement from the minority class to match the majority class count\n",
        "#     additional_minority_indices = np.random.choice(minority_indices, count_diff, replace=True)\n",
        "#     # Concatenate the additional samples with the original DataFrame\n",
        "#     data = pd.concat([data, data.loc[additional_minority_indices]])\n",
        "# elif count_diff < 0:\n",
        "#     # Get the indices of the rows with target value 0\n",
        "#     majority_indices = data[data[\"Etat d'entropie\"] == 0].index\n",
        "#     # Randomly select rows from the majority class to remove to match the minority class count\n",
        "#     majority_indices_to_remove = np.random.choice(majority_indices, abs(count_diff), replace=False)\n",
        "#     # Drop the selected rows from the majority class\n",
        "#     data = data.drop(majority_indices_to_remove)\n",
        "  df = pd.concat([df1, sampled_data], ignore_index=True)\n",
        "\n",
        "  for id in range(1,NUM_CLIENTS+1):\n",
        "\n",
        "    df[df[\"id\"]==id].drop_duplicates(subset=['A', 'delta', 'TM', 'DELTA_TM', 'Electronégativité', 'Delta_Electro-', 'SID', 'VEC', 'Delta VEC', 'K', 'Delta K'])\n",
        "  # split client id into train and test clients\n",
        "  client_id_colname = 'id' # the column that represents client ID\n",
        "  client_ids = df[client_id_colname].unique()\n",
        "  train_client_ids = range(1,NUM_CLIENTS)\n",
        "  test_client_ids = [NUM_CLIENTS]\n",
        "\n",
        "  NUM_EPOCHS =10\n",
        "  BATCH_SIZE = 512\n",
        "  SHUFFLE_BUFFER = 2000\n",
        "  PREFETCH_BUFFER = 1000\n",
        "\n",
        "\n",
        "\n",
        "  train_data = tff.simulation.datasets.ClientData.from_clients_and_tf_fn(\n",
        "        client_ids=train_client_ids,\n",
        "        serializable_dataset_fn=create_tf_dataset_for_client_fn\n",
        "    )\n",
        "\n",
        "#\n",
        "  test_data = tff.simulation.datasets.ClientData.from_clients_and_tf_fn(\n",
        "        client_ids=test_client_ids,\n",
        "        serializable_dataset_fn=create_tf_dataset_for_client_fn\n",
        "    )\n",
        "  federated_test_data = make_federated_data(test_data, test_data.client_ids)\n",
        "\n",
        "  len(federated_test_data), federated_test_data[0]\n",
        "\n",
        "  evaluation_output = evaluation_process.next(evaluation_state, federated_test_data)\n",
        "\n",
        "# df=df.drop_duplicates(subset=['A', 'delta', 'TM', 'DELTA_TM', 'Electronégativité', 'Delta_Electro-', 'SID', 'VEC', 'Delta VEC', 'K', 'Delta K'])\n",
        "  tp = int(evaluation_output.metrics[\"client_work\"][\"eval\"]['total_rounds_metrics']['true_positives'])\n",
        "  tn = int(evaluation_output.metrics[\"client_work\"][\"eval\"]['total_rounds_metrics']['true_negatives'])\n",
        "  fp = int(evaluation_output.metrics[\"client_work\"][\"eval\"]['total_rounds_metrics']['false_positives'])\n",
        "  fn = int(evaluation_output.metrics[\"client_work\"][\"eval\"]['total_rounds_metrics']['false_negatives'])\n",
        "\n",
        "  precision = tp / (tp + fp)\n",
        "  recall = tp / (tp + fn)\n",
        "  f1_score = 2 * (precision * recall) / (precision + recall)\n",
        "  accuracy=(tp+tn)/(tp+tn+fp+fn)\n",
        "  L.append([precision, recall, f1_score,accuracy])\n",
        "legends = ['Precision', 'Recall', 'F1 Score', 'Accuracy']\n",
        "\n",
        "# Transpose the data to separate the metrics\n",
        "metrics = list(zip(*L))\n",
        "\n",
        "# Create the plot\n",
        "plt.figure(figsize=(10, 6))\n",
        "\n",
        "for i, metric in enumerate(metrics):\n",
        "    plt.plot(metric, label=legends[i])\n",
        "\n",
        "plt.xlabel('Echantillon')\n",
        "plt.ylabel('Scores')\n",
        "plt.title('Precision, Recall, F1 Score, and Accuracy')\n",
        "plt.legend()\n",
        "plt.grid(True)\n",
        "plt.show()\n"
      ],
      "metadata": {
        "id": "yodNf21uAjg7",
        "colab": {
          "base_uri": "https://localhost:8080/"
        },
        "outputId": "449878dd-493b-4ac7-9b5f-908e8551144f"
      },
      "execution_count": null,
      "outputs": [
        {
          "output_type": "display_data",
          "data": {
            "text/plain": [
              "<Figure size 1000x600 with 1 Axes>"
            ],
            "image/png": "[encoded data removed]"
          },
          "metadata": {}
        }
      ]
    }
  ],
  "metadata": {
    "colab": {
      "provenance": [],
      "toc_visible": true,
      "include_colab_link": true
    },
    "kernelspec": {
      "display_name": "Python 3",
      "name": "python3"
    }
  },
  "nbformat": 4,
  "nbformat_minor": 0
}