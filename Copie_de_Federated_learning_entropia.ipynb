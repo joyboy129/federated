{
  "cells": [
    {
      "cell_type": "markdown",
      "metadata": {
        "id": "view-in-github",
        "colab_type": "text"
      },
      "source": [
        "<a href=\"https://colab.research.google.com/github/joyboy129/federated/blob/main/Copie_de_Federated_learning_entropia.ipynb\" target=\"_parent\"><img src=\"https://colab.research.google.com/assets/colab-badge.svg\" alt=\"Open In Colab\"/></a>"
      ]
    },
    {
      "cell_type": "markdown",
      "metadata": {
        "id": "qN8P0AnTnAhh"
      },
      "source": [
        "##### Copyright 2019 The TensorFlow Authors."
      ]
    },
    {
      "cell_type": "code",
      "execution_count": 1,
      "metadata": {
        "id": "ZrGitA_KnRO0",
        "colab": {
          "base_uri": "https://localhost:8080/"
        },
        "outputId": "684f4d7e-4528-4d8a-d17d-dfda7363566f"
      },
      "outputs": [
        {
          "output_type": "stream",
          "name": "stdout",
          "text": [
            "\u001b[2K     \u001b[90m━━━━━━━━━━━━━━━━━━━━━━━━━━━━━━━━━━━━━━━\u001b[0m \u001b[32m114.4/114.4 MB\u001b[0m \u001b[31m8.0 MB/s\u001b[0m eta \u001b[36m0:00:00\u001b[0m\n",
            "\u001b[2K     \u001b[90m━━━━━━━━━━━━━━━━━━━━━━━━━━━━━━━━━━━━━━━━\u001b[0m \u001b[32m60.6/60.6 kB\u001b[0m \u001b[31m3.6 MB/s\u001b[0m eta \u001b[36m0:00:00\u001b[0m\n",
            "\u001b[2K     \u001b[90m━━━━━━━━━━━━━━━━━━━━━━━━━━━━━━━━━━━━━━━\u001b[0m \u001b[32m104.6/104.6 kB\u001b[0m \u001b[31m4.8 MB/s\u001b[0m eta \u001b[36m0:00:00\u001b[0m\n",
            "\u001b[2K     \u001b[90m━━━━━━━━━━━━━━━━━━━━━━━━━━━━━━━━━━━━━━━━\u001b[0m \u001b[32m98.7/98.7 kB\u001b[0m \u001b[31m3.2 MB/s\u001b[0m eta \u001b[36m0:00:00\u001b[0m\n",
            "\u001b[?25h  Preparing metadata (setup.py) ... \u001b[?25l\u001b[?25hdone\n",
            "\u001b[2K     \u001b[90m━━━━━━━━━━━━━━━━━━━━━━━━━━━━━━━━━━━━━━\u001b[0m \u001b[32m558.5/558.5 kB\u001b[0m \u001b[31m23.7 MB/s\u001b[0m eta \u001b[36m0:00:00\u001b[0m\n",
            "\u001b[2K     \u001b[90m━━━━━━━━━━━━━━━━━━━━━━━━━━━━━━━━━━━━━━━━\u001b[0m \u001b[32m33.7/33.7 MB\u001b[0m \u001b[31m16.2 MB/s\u001b[0m eta \u001b[36m0:00:00\u001b[0m\n",
            "\u001b[2K     \u001b[90m━━━━━━━━━━━━━━━━━━━━━━━━━━━━━━━━━━━━━━\u001b[0m \u001b[32m255.8/255.8 kB\u001b[0m \u001b[31m14.9 MB/s\u001b[0m eta \u001b[36m0:00:00\u001b[0m\n",
            "\u001b[2K     \u001b[90m━━━━━━━━━━━━━━━━━━━━━━━━━━━━━━━━━━━━━━\u001b[0m \u001b[32m238.9/238.9 kB\u001b[0m \u001b[31m13.6 MB/s\u001b[0m eta \u001b[36m0:00:00\u001b[0m\n",
            "\u001b[2K     \u001b[90m━━━━━━━━━━━━━━━━━━━━━━━━━━━━━━━━━━━━━━\u001b[0m \u001b[32m365.2/365.2 kB\u001b[0m \u001b[31m18.5 MB/s\u001b[0m eta \u001b[36m0:00:00\u001b[0m\n",
            "\u001b[2K     \u001b[90m━━━━━━━━━━━━━━━━━━━━━━━━━━━━━━━━━━━━━━━━\u001b[0m \u001b[32m4.6/4.6 MB\u001b[0m \u001b[31m49.3 MB/s\u001b[0m eta \u001b[36m0:00:00\u001b[0m\n",
            "\u001b[2K     \u001b[90m━━━━━━━━━━━━━━━━━━━━━━━━━━━━━━━━━━━━━━━━\u001b[0m \u001b[32m2.4/2.4 MB\u001b[0m \u001b[31m22.2 MB/s\u001b[0m eta \u001b[36m0:00:00\u001b[0m\n",
            "\u001b[2K     \u001b[90m━━━━━━━━━━━━━━━━━━━━━━━━━━━━━━━━━━━━━━━━\u001b[0m \u001b[32m7.4/7.4 MB\u001b[0m \u001b[31m46.7 MB/s\u001b[0m eta \u001b[36m0:00:00\u001b[0m\n",
            "\u001b[?25h  Preparing metadata (setup.py) ... \u001b[?25l\u001b[?25hdone\n",
            "\u001b[2K     \u001b[90m━━━━━━━━━━━━━━━━━━━━━━━━━━━━━━━━━━━━━━━━\u001b[0m \u001b[32m42.6/42.6 kB\u001b[0m \u001b[31m4.1 MB/s\u001b[0m eta \u001b[36m0:00:00\u001b[0m\n",
            "\u001b[?25h  Building wheel for farmhashpy (setup.py) ... \u001b[?25l\u001b[?25hdone\n",
            "  Building wheel for sqlalchemy (setup.py) ... \u001b[?25l\u001b[?25hdone\n",
            "\u001b[31mERROR: pip's dependency resolver does not currently take into account all the packages that are installed. This behaviour is the source of the following dependency conflicts.\n",
            "pymc 5.1.2 requires cachetools>=4.2.1, but you have cachetools 3.1.1 which is incompatible.\u001b[0m\u001b[31m\n",
            "\u001b[0m"
          ]
        }
      ],
      "source": [
        "#@test {\"skip\": true}\n",
        "\n",
        "!pip install --quiet --upgrade tensorflow-federated\n",
        "import nest_asyncio\n",
        "nest_asyncio.apply()"
      ]
    },
    {
      "cell_type": "code",
      "execution_count": 2,
      "metadata": {
        "id": "QLyJIaLlERJ8"
      },
      "outputs": [],
      "source": [
        "%load_ext tensorboard"
      ]
    },
    {
      "cell_type": "code",
      "execution_count": 3,
      "metadata": {
        "colab": {
          "base_uri": "https://localhost:8080/"
        },
        "id": "8BKyHkMxKHfV",
        "outputId": "c6831269-6970-4bbf-fb02-245279bdb8fb"
      },
      "outputs": [
        {
          "output_type": "execute_result",
          "data": {
            "text/plain": [
              "b'Hello, World!'"
            ]
          },
          "metadata": {},
          "execution_count": 3
        }
      ],
      "source": [
        "import collections\n",
        "\n",
        "import numpy as np\n",
        "import tensorflow as tf\n",
        "import tensorflow_federated as tff\n",
        "\n",
        "np.random.seed(0)\n",
        "\n",
        "tff.federated_computation(lambda: 'Hello, World!')()"
      ]
    },
    {
      "cell_type": "code",
      "execution_count": 4,
      "metadata": {
        "colab": {
          "base_uri": "https://localhost:8080/"
        },
        "id": "afc6bc6f",
        "outputId": "194af10a-d502-4db5-f693-4426113e4324"
      },
      "outputs": [
        {
          "output_type": "stream",
          "name": "stdout",
          "text": [
            "Mounted at /content/drive\n"
          ]
        }
      ],
      "source": [
        "import pandas as pd\n",
        "import numpy as np\n",
        "from google.colab import drive\n",
        "drive.mount('/content/drive')\n",
        "from sklearn.preprocessing import MinMaxScaler\n"
      ]
    },
    {
      "cell_type": "code",
      "execution_count": 5,
      "metadata": {
        "colab": {
          "base_uri": "https://localhost:8080/",
          "height": 296
        },
        "id": "XYc9s0OrF6Av",
        "outputId": "19d28f8b-d639-463e-c3e8-a8802e928f94"
      },
      "outputs": [
        {
          "output_type": "execute_result",
          "data": {
            "text/plain": [
              "    Alloy Longue Phase         A         delta           TM  DELTA_TM  \\\n",
              "0   Ag2Al            L  1.800000  2.220446e-16  1133.900000  0.125033   \n",
              "1  Ag5Cd8            L  1.738462  2.798476e-02   840.414615  0.370383   \n",
              "2  Ag2Ga3            L  1.800000  1.110223e-16   675.406000  0.675464   \n",
              "3   Ag3Ga            L  1.800000  0.000000e+00  1001.340000  0.402699   \n",
              "4   AgMg3            L  1.725000  2.510219e-02  1000.900000  0.134546   \n",
              "\n",
              "   ElectronÃ©gativitÃ©  Delta_Electro-       SID       VEC  ...   Pr    N  \\\n",
              "0             1.823333        0.150849  5.291979  1.666667  ...  0.0  0.0   \n",
              "1             1.782308        0.116761  5.539439  1.615385  ...  0.0  0.0   \n",
              "2             1.858000        0.058788  5.595419  2.200000  ...  0.0  0.0   \n",
              "3             1.900000        0.051962  4.675254  1.500000  ...  0.0  0.0   \n",
              "4             1.465000        0.268468  4.675254  1.750000  ...  0.0  0.0   \n",
              "\n",
              "    Tb   Sc   Tm   Lu   Ir   Os   As   Tc  \n",
              "0  0.0  0.0  0.0  0.0  0.0  0.0  0.0  0.0  \n",
              "1  0.0  0.0  0.0  0.0  0.0  0.0  0.0  0.0  \n",
              "2  0.0  0.0  0.0  0.0  0.0  0.0  0.0  0.0  \n",
              "3  0.0  0.0  0.0  0.0  0.0  0.0  0.0  0.0  \n",
              "4  0.0  0.0  0.0  0.0  0.0  0.0  0.0  0.0  \n",
              "\n",
              "[5 rows x 75 columns]"
            ],
            "text/html": [
              "\n",
              "\n",
              "  <div id=\"df-75612276-a70f-429c-97a9-f901bdee7567\">\n",
              "    <div class=\"colab-df-container\">\n",
              "      <div>\n",
              "<style scoped>\n",
              "    .dataframe tbody tr th:only-of-type {\n",
              "        vertical-align: middle;\n",
              "    }\n",
              "\n",
              "    .dataframe tbody tr th {\n",
              "        vertical-align: top;\n",
              "    }\n",
              "\n",
              "    .dataframe thead th {\n",
              "        text-align: right;\n",
              "    }\n",
              "</style>\n",
              "<table border=\"1\" class=\"dataframe\">\n",
              "  <thead>\n",
              "    <tr style=\"text-align: right;\">\n",
              "      <th></th>\n",
              "      <th>Alloy</th>\n",
              "      <th>Longue Phase</th>\n",
              "      <th>A</th>\n",
              "      <th>delta</th>\n",
              "      <th>TM</th>\n",
              "      <th>DELTA_TM</th>\n",
              "      <th>ElectronÃ©gativitÃ©</th>\n",
              "      <th>Delta_Electro-</th>\n",
              "      <th>SID</th>\n",
              "      <th>VEC</th>\n",
              "      <th>...</th>\n",
              "      <th>Pr</th>\n",
              "      <th>N</th>\n",
              "      <th>Tb</th>\n",
              "      <th>Sc</th>\n",
              "      <th>Tm</th>\n",
              "      <th>Lu</th>\n",
              "      <th>Ir</th>\n",
              "      <th>Os</th>\n",
              "      <th>As</th>\n",
              "      <th>Tc</th>\n",
              "    </tr>\n",
              "  </thead>\n",
              "  <tbody>\n",
              "    <tr>\n",
              "      <th>0</th>\n",
              "      <td>Ag2Al</td>\n",
              "      <td>L</td>\n",
              "      <td>1.800000</td>\n",
              "      <td>2.220446e-16</td>\n",
              "      <td>1133.900000</td>\n",
              "      <td>0.125033</td>\n",
              "      <td>1.823333</td>\n",
              "      <td>0.150849</td>\n",
              "      <td>5.291979</td>\n",
              "      <td>1.666667</td>\n",
              "      <td>...</td>\n",
              "      <td>0.0</td>\n",
              "      <td>0.0</td>\n",
              "      <td>0.0</td>\n",
              "      <td>0.0</td>\n",
              "      <td>0.0</td>\n",
              "      <td>0.0</td>\n",
              "      <td>0.0</td>\n",
              "      <td>0.0</td>\n",
              "      <td>0.0</td>\n",
              "      <td>0.0</td>\n",
              "    </tr>\n",
              "    <tr>\n",
              "      <th>1</th>\n",
              "      <td>Ag5Cd8</td>\n",
              "      <td>L</td>\n",
              "      <td>1.738462</td>\n",
              "      <td>2.798476e-02</td>\n",
              "      <td>840.414615</td>\n",
              "      <td>0.370383</td>\n",
              "      <td>1.782308</td>\n",
              "      <td>0.116761</td>\n",
              "      <td>5.539439</td>\n",
              "      <td>1.615385</td>\n",
              "      <td>...</td>\n",
              "      <td>0.0</td>\n",
              "      <td>0.0</td>\n",
              "      <td>0.0</td>\n",
              "      <td>0.0</td>\n",
              "      <td>0.0</td>\n",
              "      <td>0.0</td>\n",
              "      <td>0.0</td>\n",
              "      <td>0.0</td>\n",
              "      <td>0.0</td>\n",
              "      <td>0.0</td>\n",
              "    </tr>\n",
              "    <tr>\n",
              "      <th>2</th>\n",
              "      <td>Ag2Ga3</td>\n",
              "      <td>L</td>\n",
              "      <td>1.800000</td>\n",
              "      <td>1.110223e-16</td>\n",
              "      <td>675.406000</td>\n",
              "      <td>0.675464</td>\n",
              "      <td>1.858000</td>\n",
              "      <td>0.058788</td>\n",
              "      <td>5.595419</td>\n",
              "      <td>2.200000</td>\n",
              "      <td>...</td>\n",
              "      <td>0.0</td>\n",
              "      <td>0.0</td>\n",
              "      <td>0.0</td>\n",
              "      <td>0.0</td>\n",
              "      <td>0.0</td>\n",
              "      <td>0.0</td>\n",
              "      <td>0.0</td>\n",
              "      <td>0.0</td>\n",
              "      <td>0.0</td>\n",
              "      <td>0.0</td>\n",
              "    </tr>\n",
              "    <tr>\n",
              "      <th>3</th>\n",
              "      <td>Ag3Ga</td>\n",
              "      <td>L</td>\n",
              "      <td>1.800000</td>\n",
              "      <td>0.000000e+00</td>\n",
              "      <td>1001.340000</td>\n",
              "      <td>0.402699</td>\n",
              "      <td>1.900000</td>\n",
              "      <td>0.051962</td>\n",
              "      <td>4.675254</td>\n",
              "      <td>1.500000</td>\n",
              "      <td>...</td>\n",
              "      <td>0.0</td>\n",
              "      <td>0.0</td>\n",
              "      <td>0.0</td>\n",
              "      <td>0.0</td>\n",
              "      <td>0.0</td>\n",
              "      <td>0.0</td>\n",
              "      <td>0.0</td>\n",
              "      <td>0.0</td>\n",
              "      <td>0.0</td>\n",
              "      <td>0.0</td>\n",
              "    </tr>\n",
              "    <tr>\n",
              "      <th>4</th>\n",
              "      <td>AgMg3</td>\n",
              "      <td>L</td>\n",
              "      <td>1.725000</td>\n",
              "      <td>2.510219e-02</td>\n",
              "      <td>1000.900000</td>\n",
              "      <td>0.134546</td>\n",
              "      <td>1.465000</td>\n",
              "      <td>0.268468</td>\n",
              "      <td>4.675254</td>\n",
              "      <td>1.750000</td>\n",
              "      <td>...</td>\n",
              "      <td>0.0</td>\n",
              "      <td>0.0</td>\n",
              "      <td>0.0</td>\n",
              "      <td>0.0</td>\n",
              "      <td>0.0</td>\n",
              "      <td>0.0</td>\n",
              "      <td>0.0</td>\n",
              "      <td>0.0</td>\n",
              "      <td>0.0</td>\n",
              "      <td>0.0</td>\n",
              "    </tr>\n",
              "  </tbody>\n",
              "</table>\n",
              "<p>5 rows × 75 columns</p>\n",
              "</div>\n",
              "      <button class=\"colab-df-convert\" onclick=\"convertToInteractive('df-75612276-a70f-429c-97a9-f901bdee7567')\"\n",
              "              title=\"Convert this dataframe to an interactive table.\"\n",
              "              style=\"display:none;\">\n",
              "\n",
              "  <svg xmlns=\"http://www.w3.org/2000/svg\" height=\"24px\"viewBox=\"0 0 24 24\"\n",
              "       width=\"24px\">\n",
              "    <path d=\"M0 0h24v24H0V0z\" fill=\"none\"/>\n",
              "    <path d=\"M18.56 5.44l.94 2.06.94-2.06 2.06-.94-2.06-.94-.94-2.06-.94 2.06-2.06.94zm-11 1L8.5 8.5l.94-2.06 2.06-.94-2.06-.94L8.5 2.5l-.94 2.06-2.06.94zm10 10l.94 2.06.94-2.06 2.06-.94-2.06-.94-.94-2.06-.94 2.06-2.06.94z\"/><path d=\"M17.41 7.96l-1.37-1.37c-.4-.4-.92-.59-1.43-.59-.52 0-1.04.2-1.43.59L10.3 9.45l-7.72 7.72c-.78.78-.78 2.05 0 2.83L4 21.41c.39.39.9.59 1.41.59.51 0 1.02-.2 1.41-.59l7.78-7.78 2.81-2.81c.8-.78.8-2.07 0-2.86zM5.41 20L4 18.59l7.72-7.72 1.47 1.35L5.41 20z\"/>\n",
              "  </svg>\n",
              "      </button>\n",
              "\n",
              "\n",
              "\n",
              "    <div id=\"df-3f21915b-a32f-4b38-a3a8-543e59d2cf04\">\n",
              "      <button class=\"colab-df-quickchart\" onclick=\"quickchart('df-3f21915b-a32f-4b38-a3a8-543e59d2cf04')\"\n",
              "              title=\"Suggest charts.\"\n",
              "              style=\"display:none;\">\n",
              "\n",
              "<svg xmlns=\"http://www.w3.org/2000/svg\" height=\"24px\"viewBox=\"0 0 24 24\"\n",
              "     width=\"24px\">\n",
              "    <g>\n",
              "        <path d=\"M19 3H5c-1.1 0-2 .9-2 2v14c0 1.1.9 2 2 2h14c1.1 0 2-.9 2-2V5c0-1.1-.9-2-2-2zM9 17H7v-7h2v7zm4 0h-2V7h2v10zm4 0h-2v-4h2v4z\"/>\n",
              "    </g>\n",
              "</svg>\n",
              "      </button>\n",
              "    </div>\n",
              "\n",
              "<style>\n",
              "  .colab-df-quickchart {\n",
              "    background-color: #E8F0FE;\n",
              "    border: none;\n",
              "    border-radius: 50%;\n",
              "    cursor: pointer;\n",
              "    display: none;\n",
              "    fill: #1967D2;\n",
              "    height: 32px;\n",
              "    padding: 0 0 0 0;\n",
              "    width: 32px;\n",
              "  }\n",
              "\n",
              "  .colab-df-quickchart:hover {\n",
              "    background-color: #E2EBFA;\n",
              "    box-shadow: 0px 1px 2px rgba(60, 64, 67, 0.3), 0px 1px 3px 1px rgba(60, 64, 67, 0.15);\n",
              "    fill: #174EA6;\n",
              "  }\n",
              "\n",
              "  [theme=dark] .colab-df-quickchart {\n",
              "    background-color: #3B4455;\n",
              "    fill: #D2E3FC;\n",
              "  }\n",
              "\n",
              "  [theme=dark] .colab-df-quickchart:hover {\n",
              "    background-color: #434B5C;\n",
              "    box-shadow: 0px 1px 3px 1px rgba(0, 0, 0, 0.15);\n",
              "    filter: drop-shadow(0px 1px 2px rgba(0, 0, 0, 0.3));\n",
              "    fill: #FFFFFF;\n",
              "  }\n",
              "</style>\n",
              "\n",
              "    <script>\n",
              "      async function quickchart(key) {\n",
              "        const containerElement = document.querySelector('#' + key);\n",
              "        const charts = await google.colab.kernel.invokeFunction(\n",
              "            'suggestCharts', [key], {});\n",
              "      }\n",
              "    </script>\n",
              "\n",
              "      <script>\n",
              "\n",
              "function displayQuickchartButton(domScope) {\n",
              "  let quickchartButtonEl =\n",
              "    domScope.querySelector('#df-3f21915b-a32f-4b38-a3a8-543e59d2cf04 button.colab-df-quickchart');\n",
              "  quickchartButtonEl.style.display =\n",
              "    google.colab.kernel.accessAllowed ? 'block' : 'none';\n",
              "}\n",
              "\n",
              "        displayQuickchartButton(document);\n",
              "      </script>\n",
              "      <style>\n",
              "    .colab-df-container {\n",
              "      display:flex;\n",
              "      flex-wrap:wrap;\n",
              "      gap: 12px;\n",
              "    }\n",
              "\n",
              "    .colab-df-convert {\n",
              "      background-color: #E8F0FE;\n",
              "      border: none;\n",
              "      border-radius: 50%;\n",
              "      cursor: pointer;\n",
              "      display: none;\n",
              "      fill: #1967D2;\n",
              "      height: 32px;\n",
              "      padding: 0 0 0 0;\n",
              "      width: 32px;\n",
              "    }\n",
              "\n",
              "    .colab-df-convert:hover {\n",
              "      background-color: #E2EBFA;\n",
              "      box-shadow: 0px 1px 2px rgba(60, 64, 67, 0.3), 0px 1px 3px 1px rgba(60, 64, 67, 0.15);\n",
              "      fill: #174EA6;\n",
              "    }\n",
              "\n",
              "    [theme=dark] .colab-df-convert {\n",
              "      background-color: #3B4455;\n",
              "      fill: #D2E3FC;\n",
              "    }\n",
              "\n",
              "    [theme=dark] .colab-df-convert:hover {\n",
              "      background-color: #434B5C;\n",
              "      box-shadow: 0px 1px 3px 1px rgba(0, 0, 0, 0.15);\n",
              "      filter: drop-shadow(0px 1px 2px rgba(0, 0, 0, 0.3));\n",
              "      fill: #FFFFFF;\n",
              "    }\n",
              "  </style>\n",
              "\n",
              "      <script>\n",
              "        const buttonEl =\n",
              "          document.querySelector('#df-75612276-a70f-429c-97a9-f901bdee7567 button.colab-df-convert');\n",
              "        buttonEl.style.display =\n",
              "          google.colab.kernel.accessAllowed ? 'block' : 'none';\n",
              "\n",
              "        async function convertToInteractive(key) {\n",
              "          const element = document.querySelector('#df-75612276-a70f-429c-97a9-f901bdee7567');\n",
              "          const dataTable =\n",
              "            await google.colab.kernel.invokeFunction('convertToInteractive',\n",
              "                                                     [key], {});\n",
              "          if (!dataTable) return;\n",
              "\n",
              "          const docLinkHtml = 'Like what you see? Visit the ' +\n",
              "            '<a target=\"_blank\" href=https://colab.research.google.com/notebooks/data_table.ipynb>data table notebook</a>'\n",
              "            + ' to learn more about interactive tables.';\n",
              "          element.innerHTML = '';\n",
              "          dataTable['output_type'] = 'display_data';\n",
              "          await google.colab.output.renderOutput(dataTable, element);\n",
              "          const docLink = document.createElement('div');\n",
              "          docLink.innerHTML = docLinkHtml;\n",
              "          element.appendChild(docLink);\n",
              "        }\n",
              "      </script>\n",
              "    </div>\n",
              "  </div>\n"
            ]
          },
          "metadata": {},
          "execution_count": 5
        }
      ],
      "source": [
        "df = pd.read_csv(\"/content/drive/MyDrive/first_file.csv\", sep=',', encoding='latin-1')\n",
        "df.head()"
      ]
    },
    {
      "cell_type": "code",
      "execution_count": 6,
      "metadata": {
        "colab": {
          "base_uri": "https://localhost:8080/"
        },
        "id": "uAuYYYdU_m9V",
        "outputId": "766acbb6-bee7-4fb2-d1b6-7581a421d6ce"
      },
      "outputs": [
        {
          "output_type": "execute_result",
          "data": {
            "text/plain": [
              "(3638, 75)"
            ]
          },
          "metadata": {},
          "execution_count": 6
        }
      ],
      "source": [
        "df.shape"
      ]
    },
    {
      "cell_type": "code",
      "execution_count": 7,
      "metadata": {
        "id": "81QhaunIGuFL"
      },
      "outputs": [],
      "source": [
        "df.dtypes\n",
        "# df=df.iloc[:50000]\n",
        "# Run for small data\n",
        "df.rename(columns={\"ElectronÃ©gativitÃ©\": \"Electronégativité\"}, inplace=True)\n",
        "\n",
        "df.columns\n",
        "df.drop(['Alloy', 'Longue Phase', 'Ag', 'Al', 'Cd', 'Ga', 'Mg', 'Pt', 'Sb',\n",
        "       'Sn', 'Ti', 'Zn', 'Zr', 'B', 'Ca', 'Ce', 'Co', 'Cr', 'Cu', 'Er', 'Fe',\n",
        "       'In', 'La', 'Li', 'Mn', 'Mo', 'Nd', 'Ni', 'Re', 'Ru', 'Sm', 'V', 'Yb',\n",
        "       'Au', 'Be', 'Bi', 'Pb', 'Nb', 'Si', 'Dy', 'Ge', 'Hf', 'W', 'Pd', 'Sr',\n",
        "       'Na', 'Y', 'Ta', 'Gd', 'Rh', 'P', 'C', 'Ho', 'Pr', 'N', 'Tb', 'Sc',\n",
        "       'Tm', 'Lu', 'Ir', 'Os', 'As', 'Tc'], axis=1, inplace=True)\n"
      ]
    },
    {
      "cell_type": "code",
      "execution_count": 8,
      "metadata": {
        "colab": {
          "base_uri": "https://localhost:8080/"
        },
        "id": "lWxoh3P7__fC",
        "outputId": "7e21ccb7-8985-4f5e-93a3-168fe9d3b8c0"
      },
      "outputs": [
        {
          "output_type": "execute_result",
          "data": {
            "text/plain": [
              "(3638, 12)"
            ]
          },
          "metadata": {},
          "execution_count": 8
        }
      ],
      "source": [
        "df.shape"
      ]
    },
    {
      "cell_type": "code",
      "execution_count": 9,
      "metadata": {
        "colab": {
          "base_uri": "https://localhost:8080/"
        },
        "id": "ed06a5b1",
        "outputId": "31dabc6c-7249-4b29-9680-52fecb6e73df"
      },
      "outputs": [
        {
          "output_type": "execute_result",
          "data": {
            "text/plain": [
              "1    1957\n",
              "0    1681\n",
              "Name: Etat d'entropie, dtype: int64"
            ]
          },
          "metadata": {},
          "execution_count": 9
        }
      ],
      "source": [
        "# client1 = 25\n",
        "# client2 = 25\n",
        "# client3 = 25\n",
        "# client4 = 25\n",
        "df[\"Etat d'entropie\"] = df[\"Etat d'entropie\"].map({'H': 1, 'L': 0})\n",
        "df[\"Etat d'entropie\"].value_counts()"
      ]
    },
    {
      "cell_type": "code",
      "execution_count": 10,
      "metadata": {
        "colab": {
          "base_uri": "https://localhost:8080/"
        },
        "id": "lgHSHiHhRT9K",
        "outputId": "e6e73437-63f4-4c10-ca4f-bac40c559178"
      },
      "outputs": [
        {
          "output_type": "stream",
          "name": "stdout",
          "text": [
            "['A', 'delta', 'TM', 'DELTA_TM', 'Electronégativité', 'Delta_Electro-', 'SID', 'VEC', 'Delta VEC', 'K', 'Delta K', \"Etat d'entropie\"]\n"
          ]
        }
      ],
      "source": [
        "column_names=list(df.columns)\n",
        "print(column_names)"
      ]
    },
    {
      "cell_type": "code",
      "execution_count": 11,
      "metadata": {
        "colab": {
          "base_uri": "https://localhost:8080/",
          "height": 206
        },
        "id": "d507ae97",
        "outputId": "d8582cad-d310-4d8d-8369-c5ba4466738f"
      },
      "outputs": [
        {
          "output_type": "execute_result",
          "data": {
            "text/plain": [
              "             A     delta           TM  DELTA_TM  Electronégativité  \\\n",
              "3394  2.066667  0.060349  2508.150000  0.214545           1.496667   \n",
              "897   1.737000  0.076008  1663.191250  0.203819           1.781300   \n",
              "204   1.500000  0.167774  1974.372222  0.225639           1.902778   \n",
              "49    1.833333  0.025713  1463.316667  0.512135           1.806667   \n",
              "1873  1.975000  0.065774  2414.900000  0.271512           1.577500   \n",
              "\n",
              "      Delta_Electro-        SID       VEC  Delta VEC           K    Delta K  \\\n",
              "3394        0.134743   9.133863  5.000000   0.816497  120.000000  86.409876   \n",
              "897         0.144552  13.919003  7.360000   2.738686  151.140000  40.567726   \n",
              "204         0.227127   6.881815  7.222222   3.488960  217.611111  81.208332   \n",
              "49          0.278129   5.291979  4.666667   2.357023  124.000000  67.882251   \n",
              "1873        0.059319  11.525651  5.750000   0.829156  162.500000  28.613808   \n",
              "\n",
              "      Etat d'entropie  id  \n",
              "3394                0   1  \n",
              "897                 0   1  \n",
              "204                 0   1  \n",
              "49                  0   1  \n",
              "1873                0   1  "
            ],
            "text/html": [
              "\n",
              "\n",
              "  <div id=\"df-8647d02f-9b72-4a3a-b4ac-1917d7a18da2\">\n",
              "    <div class=\"colab-df-container\">\n",
              "      <div>\n",
              "<style scoped>\n",
              "    .dataframe tbody tr th:only-of-type {\n",
              "        vertical-align: middle;\n",
              "    }\n",
              "\n",
              "    .dataframe tbody tr th {\n",
              "        vertical-align: top;\n",
              "    }\n",
              "\n",
              "    .dataframe thead th {\n",
              "        text-align: right;\n",
              "    }\n",
              "</style>\n",
              "<table border=\"1\" class=\"dataframe\">\n",
              "  <thead>\n",
              "    <tr style=\"text-align: right;\">\n",
              "      <th></th>\n",
              "      <th>A</th>\n",
              "      <th>delta</th>\n",
              "      <th>TM</th>\n",
              "      <th>DELTA_TM</th>\n",
              "      <th>Electronégativité</th>\n",
              "      <th>Delta_Electro-</th>\n",
              "      <th>SID</th>\n",
              "      <th>VEC</th>\n",
              "      <th>Delta VEC</th>\n",
              "      <th>K</th>\n",
              "      <th>Delta K</th>\n",
              "      <th>Etat d'entropie</th>\n",
              "      <th>id</th>\n",
              "    </tr>\n",
              "  </thead>\n",
              "  <tbody>\n",
              "    <tr>\n",
              "      <th>3394</th>\n",
              "      <td>2.066667</td>\n",
              "      <td>0.060349</td>\n",
              "      <td>2508.150000</td>\n",
              "      <td>0.214545</td>\n",
              "      <td>1.496667</td>\n",
              "      <td>0.134743</td>\n",
              "      <td>9.133863</td>\n",
              "      <td>5.000000</td>\n",
              "      <td>0.816497</td>\n",
              "      <td>120.000000</td>\n",
              "      <td>86.409876</td>\n",
              "      <td>0</td>\n",
              "      <td>1</td>\n",
              "    </tr>\n",
              "    <tr>\n",
              "      <th>897</th>\n",
              "      <td>1.737000</td>\n",
              "      <td>0.076008</td>\n",
              "      <td>1663.191250</td>\n",
              "      <td>0.203819</td>\n",
              "      <td>1.781300</td>\n",
              "      <td>0.144552</td>\n",
              "      <td>13.919003</td>\n",
              "      <td>7.360000</td>\n",
              "      <td>2.738686</td>\n",
              "      <td>151.140000</td>\n",
              "      <td>40.567726</td>\n",
              "      <td>0</td>\n",
              "      <td>1</td>\n",
              "    </tr>\n",
              "    <tr>\n",
              "      <th>204</th>\n",
              "      <td>1.500000</td>\n",
              "      <td>0.167774</td>\n",
              "      <td>1974.372222</td>\n",
              "      <td>0.225639</td>\n",
              "      <td>1.902778</td>\n",
              "      <td>0.227127</td>\n",
              "      <td>6.881815</td>\n",
              "      <td>7.222222</td>\n",
              "      <td>3.488960</td>\n",
              "      <td>217.611111</td>\n",
              "      <td>81.208332</td>\n",
              "      <td>0</td>\n",
              "      <td>1</td>\n",
              "    </tr>\n",
              "    <tr>\n",
              "      <th>49</th>\n",
              "      <td>1.833333</td>\n",
              "      <td>0.025713</td>\n",
              "      <td>1463.316667</td>\n",
              "      <td>0.512135</td>\n",
              "      <td>1.806667</td>\n",
              "      <td>0.278129</td>\n",
              "      <td>5.291979</td>\n",
              "      <td>4.666667</td>\n",
              "      <td>2.357023</td>\n",
              "      <td>124.000000</td>\n",
              "      <td>67.882251</td>\n",
              "      <td>0</td>\n",
              "      <td>1</td>\n",
              "    </tr>\n",
              "    <tr>\n",
              "      <th>1873</th>\n",
              "      <td>1.975000</td>\n",
              "      <td>0.065774</td>\n",
              "      <td>2414.900000</td>\n",
              "      <td>0.271512</td>\n",
              "      <td>1.577500</td>\n",
              "      <td>0.059319</td>\n",
              "      <td>11.525651</td>\n",
              "      <td>5.750000</td>\n",
              "      <td>0.829156</td>\n",
              "      <td>162.500000</td>\n",
              "      <td>28.613808</td>\n",
              "      <td>0</td>\n",
              "      <td>1</td>\n",
              "    </tr>\n",
              "  </tbody>\n",
              "</table>\n",
              "</div>\n",
              "      <button class=\"colab-df-convert\" onclick=\"convertToInteractive('df-8647d02f-9b72-4a3a-b4ac-1917d7a18da2')\"\n",
              "              title=\"Convert this dataframe to an interactive table.\"\n",
              "              style=\"display:none;\">\n",
              "\n",
              "  <svg xmlns=\"http://www.w3.org/2000/svg\" height=\"24px\"viewBox=\"0 0 24 24\"\n",
              "       width=\"24px\">\n",
              "    <path d=\"M0 0h24v24H0V0z\" fill=\"none\"/>\n",
              "    <path d=\"M18.56 5.44l.94 2.06.94-2.06 2.06-.94-2.06-.94-.94-2.06-.94 2.06-2.06.94zm-11 1L8.5 8.5l.94-2.06 2.06-.94-2.06-.94L8.5 2.5l-.94 2.06-2.06.94zm10 10l.94 2.06.94-2.06 2.06-.94-2.06-.94-.94-2.06-.94 2.06-2.06.94z\"/><path d=\"M17.41 7.96l-1.37-1.37c-.4-.4-.92-.59-1.43-.59-.52 0-1.04.2-1.43.59L10.3 9.45l-7.72 7.72c-.78.78-.78 2.05 0 2.83L4 21.41c.39.39.9.59 1.41.59.51 0 1.02-.2 1.41-.59l7.78-7.78 2.81-2.81c.8-.78.8-2.07 0-2.86zM5.41 20L4 18.59l7.72-7.72 1.47 1.35L5.41 20z\"/>\n",
              "  </svg>\n",
              "      </button>\n",
              "\n",
              "\n",
              "\n",
              "    <div id=\"df-d4f156f0-4d40-4ec8-8e3e-3075d0618002\">\n",
              "      <button class=\"colab-df-quickchart\" onclick=\"quickchart('df-d4f156f0-4d40-4ec8-8e3e-3075d0618002')\"\n",
              "              title=\"Suggest charts.\"\n",
              "              style=\"display:none;\">\n",
              "\n",
              "<svg xmlns=\"http://www.w3.org/2000/svg\" height=\"24px\"viewBox=\"0 0 24 24\"\n",
              "     width=\"24px\">\n",
              "    <g>\n",
              "        <path d=\"M19 3H5c-1.1 0-2 .9-2 2v14c0 1.1.9 2 2 2h14c1.1 0 2-.9 2-2V5c0-1.1-.9-2-2-2zM9 17H7v-7h2v7zm4 0h-2V7h2v10zm4 0h-2v-4h2v4z\"/>\n",
              "    </g>\n",
              "</svg>\n",
              "      </button>\n",
              "    </div>\n",
              "\n",
              "<style>\n",
              "  .colab-df-quickchart {\n",
              "    background-color: #E8F0FE;\n",
              "    border: none;\n",
              "    border-radius: 50%;\n",
              "    cursor: pointer;\n",
              "    display: none;\n",
              "    fill: #1967D2;\n",
              "    height: 32px;\n",
              "    padding: 0 0 0 0;\n",
              "    width: 32px;\n",
              "  }\n",
              "\n",
              "  .colab-df-quickchart:hover {\n",
              "    background-color: #E2EBFA;\n",
              "    box-shadow: 0px 1px 2px rgba(60, 64, 67, 0.3), 0px 1px 3px 1px rgba(60, 64, 67, 0.15);\n",
              "    fill: #174EA6;\n",
              "  }\n",
              "\n",
              "  [theme=dark] .colab-df-quickchart {\n",
              "    background-color: #3B4455;\n",
              "    fill: #D2E3FC;\n",
              "  }\n",
              "\n",
              "  [theme=dark] .colab-df-quickchart:hover {\n",
              "    background-color: #434B5C;\n",
              "    box-shadow: 0px 1px 3px 1px rgba(0, 0, 0, 0.15);\n",
              "    filter: drop-shadow(0px 1px 2px rgba(0, 0, 0, 0.3));\n",
              "    fill: #FFFFFF;\n",
              "  }\n",
              "</style>\n",
              "\n",
              "    <script>\n",
              "      async function quickchart(key) {\n",
              "        const containerElement = document.querySelector('#' + key);\n",
              "        const charts = await google.colab.kernel.invokeFunction(\n",
              "            'suggestCharts', [key], {});\n",
              "      }\n",
              "    </script>\n",
              "\n",
              "      <script>\n",
              "\n",
              "function displayQuickchartButton(domScope) {\n",
              "  let quickchartButtonEl =\n",
              "    domScope.querySelector('#df-d4f156f0-4d40-4ec8-8e3e-3075d0618002 button.colab-df-quickchart');\n",
              "  quickchartButtonEl.style.display =\n",
              "    google.colab.kernel.accessAllowed ? 'block' : 'none';\n",
              "}\n",
              "\n",
              "        displayQuickchartButton(document);\n",
              "      </script>\n",
              "      <style>\n",
              "    .colab-df-container {\n",
              "      display:flex;\n",
              "      flex-wrap:wrap;\n",
              "      gap: 12px;\n",
              "    }\n",
              "\n",
              "    .colab-df-convert {\n",
              "      background-color: #E8F0FE;\n",
              "      border: none;\n",
              "      border-radius: 50%;\n",
              "      cursor: pointer;\n",
              "      display: none;\n",
              "      fill: #1967D2;\n",
              "      height: 32px;\n",
              "      padding: 0 0 0 0;\n",
              "      width: 32px;\n",
              "    }\n",
              "\n",
              "    .colab-df-convert:hover {\n",
              "      background-color: #E2EBFA;\n",
              "      box-shadow: 0px 1px 2px rgba(60, 64, 67, 0.3), 0px 1px 3px 1px rgba(60, 64, 67, 0.15);\n",
              "      fill: #174EA6;\n",
              "    }\n",
              "\n",
              "    [theme=dark] .colab-df-convert {\n",
              "      background-color: #3B4455;\n",
              "      fill: #D2E3FC;\n",
              "    }\n",
              "\n",
              "    [theme=dark] .colab-df-convert:hover {\n",
              "      background-color: #434B5C;\n",
              "      box-shadow: 0px 1px 3px 1px rgba(0, 0, 0, 0.15);\n",
              "      filter: drop-shadow(0px 1px 2px rgba(0, 0, 0, 0.3));\n",
              "      fill: #FFFFFF;\n",
              "    }\n",
              "  </style>\n",
              "\n",
              "      <script>\n",
              "        const buttonEl =\n",
              "          document.querySelector('#df-8647d02f-9b72-4a3a-b4ac-1917d7a18da2 button.colab-df-convert');\n",
              "        buttonEl.style.display =\n",
              "          google.colab.kernel.accessAllowed ? 'block' : 'none';\n",
              "\n",
              "        async function convertToInteractive(key) {\n",
              "          const element = document.querySelector('#df-8647d02f-9b72-4a3a-b4ac-1917d7a18da2');\n",
              "          const dataTable =\n",
              "            await google.colab.kernel.invokeFunction('convertToInteractive',\n",
              "                                                     [key], {});\n",
              "          if (!dataTable) return;\n",
              "\n",
              "          const docLinkHtml = 'Like what you see? Visit the ' +\n",
              "            '<a target=\"_blank\" href=https://colab.research.google.com/notebooks/data_table.ipynb>data table notebook</a>'\n",
              "            + ' to learn more about interactive tables.';\n",
              "          element.innerHTML = '';\n",
              "          dataTable['output_type'] = 'display_data';\n",
              "          await google.colab.output.renderOutput(dataTable, element);\n",
              "          const docLink = document.createElement('div');\n",
              "          docLink.innerHTML = docLinkHtml;\n",
              "          element.appendChild(docLink);\n",
              "        }\n",
              "      </script>\n",
              "    </div>\n",
              "  </div>\n"
            ]
          },
          "metadata": {},
          "execution_count": 11
        }
      ],
      "source": [
        "# import random\n",
        "# client1 = int((client1/100) *df.shape[0])\n",
        "# client2 = int((client2/100) *df.shape[0])\n",
        "# client3 = int((client3/100) *df.shape[0])\n",
        "# client4 = df.shape[0] - client1 - client2 - client3\n",
        "# my_list = [1] * client1 + [2] * client2 + [3] * client3 + [4] * client4\n",
        "# random.shuffle(my_list)\n",
        "from sklearn.utils import resample\n",
        "from sklearn.model_selection import train_test_split\n",
        "from sklearn.preprocessing import StandardScaler\n",
        "\n",
        "client_distributions = {\n",
        "    1: {'percentage': 0.25, 'distribution': [0.50, 0.50]},\n",
        "    2: {'percentage': 0.25, 'distribution': [0.50, 0.50]},\n",
        "    3: {'percentage': 0.25, 'distribution': [0.50, 0.50]},\n",
        "    4: {'percentage': 0.25, 'distribution': [0.50, 0.50]},\n",
        "}\n",
        "def distribute_dataframe(df, client_distributions):\n",
        "    np.random.seed(42)\n",
        "\n",
        "    # Separate the dataframe into 0s and 1s\n",
        "    df0 = df[df['Etat d\\'entropie'] == 0]\n",
        "    df1 = df[df['Etat d\\'entropie'] == 1]\n",
        "\n",
        "    # Perform undersampling\n",
        "    # if len(df0) > len(df1):\n",
        "    #     df0 = df0.sample(len(df1))\n",
        "    # else:\n",
        "    #     df1 = df1.sample(len(df0))\n",
        "\n",
        "    # Combine back to a single dataframe\n",
        "\n",
        "    distributed_df = pd.DataFrame()\n",
        "\n",
        "    for client_id, client_info in client_distributions.items():\n",
        "        client_percentage = client_info['percentage']\n",
        "        class_distribution = client_info['distribution']\n",
        "\n",
        "        # Calculate the exact number of rows for this client\n",
        "        n_rows = int(client_percentage * len(df))\n",
        "\n",
        "        # Calculate desired number of samples for each class\n",
        "        n0 = int(class_distribution[0] * n_rows)\n",
        "        n1 = n_rows - n0\n",
        "\n",
        "        # Check if there are enough samples for each class\n",
        "        if n0 > len(df0):\n",
        "            n0 = len(df0)\n",
        "        if n1 > len(df1):\n",
        "            n1 = len(df1)\n",
        "\n",
        "        # Sample the rows for this client\n",
        "        tmp_df0 = df0.sample(n=n0, random_state=42)\n",
        "        tmp_df1 = df1.sample(n=n1, random_state=42)\n",
        "\n",
        "        # Drop these rows from the original dataframes\n",
        "        df0 = df0.drop(tmp_df0.index)\n",
        "        df1 = df1.drop(tmp_df1.index)\n",
        "\n",
        "        # Add the client id and combine the samples\n",
        "        tmp_df = pd.concat([tmp_df0, tmp_df1])\n",
        "        tmp_df['id'] = client_id\n",
        "\n",
        "        distributed_df = pd.concat([distributed_df, tmp_df])\n",
        "\n",
        "\n",
        "    return distributed_df\n",
        "\n",
        "df =distribute_dataframe(df, client_distributions)\n",
        "# Create a copy of the data excluding the specified column\n",
        "\n",
        "# Prepare the 'id' column\n",
        "# ids = np.random.choice([1,2,3,4], size=len(df), p=list(id_percentages.values()))\n",
        "# df['id'] = ids\n",
        "\n",
        "# # Prepare the \"Etat d'entropie\" column\n",
        "# for id_val, percentages in entropy_percentages.items():\n",
        "#     size = len(df[df['id'] == id_val])\n",
        "#     entropy_values = np.random.choice([0,1], size=size, p=list(percentages.values()))\n",
        "#     df.loc[df['id'] == id_val, 'Etat d\\'entropie'] = entropy_values\n",
        "df.head()"
      ]
    },
    {
      "cell_type": "code",
      "execution_count": 12,
      "metadata": {
        "colab": {
          "base_uri": "https://localhost:8080/"
        },
        "id": "m1wny9pDYNF8",
        "outputId": "7d7efa4a-283f-40e7-fa61-2ebc09681d59"
      },
      "outputs": [
        {
          "output_type": "execute_result",
          "data": {
            "text/plain": [
              "(3501, 13)"
            ]
          },
          "metadata": {},
          "execution_count": 12
        }
      ],
      "source": [
        "df.shape"
      ]
    },
    {
      "cell_type": "code",
      "execution_count": 13,
      "metadata": {
        "colab": {
          "base_uri": "https://localhost:8080/",
          "height": 206
        },
        "id": "Ux2gg2btSYl1",
        "outputId": "8a0ffe3c-f6c4-49cf-c72e-831881ccf79e"
      },
      "outputs": [
        {
          "output_type": "execute_result",
          "data": {
            "text/plain": [
              "             A     delta        TM  DELTA_TM  Electronégativité  \\\n",
              "3394  1.559996 -0.119017  0.946469 -0.080914          -1.574640   \n",
              "897  -0.892637  0.312325 -0.823337 -0.202967          -0.271039   \n",
              "204  -2.655854  2.840091 -0.171554  0.045312           0.285321   \n",
              "49   -0.175942 -1.073105 -1.241984  3.305121          -0.154861   \n",
              "1873  0.878020  0.030413  0.751152  0.567261          -1.204429   \n",
              "\n",
              "      Delta_Electro-       SID       VEC  Delta VEC         K   Delta K  \\\n",
              "3394       -0.666643 -0.695881 -0.341786  -1.054556 -0.994705  0.862754   \n",
              "897        -0.565383  1.190048  1.115901   0.497901 -0.369157 -0.573426   \n",
              "204         0.287002 -1.583462  1.030801   1.103860  0.966131  0.699796   \n",
              "49          0.813469 -2.210051 -0.547674   0.189651 -0.914352  0.282306   \n",
              "1873       -1.445206  0.246776  0.121462  -1.044331 -0.140955 -0.947927   \n",
              "\n",
              "      Etat d'entropie  id  \n",
              "3394                0   1  \n",
              "897                 0   1  \n",
              "204                 0   1  \n",
              "49                  0   1  \n",
              "1873                0   1  "
            ],
            "text/html": [
              "\n",
              "\n",
              "  <div id=\"df-9fa14af4-8f2c-4ef3-85a7-434f79c9a85c\">\n",
              "    <div class=\"colab-df-container\">\n",
              "      <div>\n",
              "<style scoped>\n",
              "    .dataframe tbody tr th:only-of-type {\n",
              "        vertical-align: middle;\n",
              "    }\n",
              "\n",
              "    .dataframe tbody tr th {\n",
              "        vertical-align: top;\n",
              "    }\n",
              "\n",
              "    .dataframe thead th {\n",
              "        text-align: right;\n",
              "    }\n",
              "</style>\n",
              "<table border=\"1\" class=\"dataframe\">\n",
              "  <thead>\n",
              "    <tr style=\"text-align: right;\">\n",
              "      <th></th>\n",
              "      <th>A</th>\n",
              "      <th>delta</th>\n",
              "      <th>TM</th>\n",
              "      <th>DELTA_TM</th>\n",
              "      <th>Electronégativité</th>\n",
              "      <th>Delta_Electro-</th>\n",
              "      <th>SID</th>\n",
              "      <th>VEC</th>\n",
              "      <th>Delta VEC</th>\n",
              "      <th>K</th>\n",
              "      <th>Delta K</th>\n",
              "      <th>Etat d'entropie</th>\n",
              "      <th>id</th>\n",
              "    </tr>\n",
              "  </thead>\n",
              "  <tbody>\n",
              "    <tr>\n",
              "      <th>3394</th>\n",
              "      <td>1.559996</td>\n",
              "      <td>-0.119017</td>\n",
              "      <td>0.946469</td>\n",
              "      <td>-0.080914</td>\n",
              "      <td>-1.574640</td>\n",
              "      <td>-0.666643</td>\n",
              "      <td>-0.695881</td>\n",
              "      <td>-0.341786</td>\n",
              "      <td>-1.054556</td>\n",
              "      <td>-0.994705</td>\n",
              "      <td>0.862754</td>\n",
              "      <td>0</td>\n",
              "      <td>1</td>\n",
              "    </tr>\n",
              "    <tr>\n",
              "      <th>897</th>\n",
              "      <td>-0.892637</td>\n",
              "      <td>0.312325</td>\n",
              "      <td>-0.823337</td>\n",
              "      <td>-0.202967</td>\n",
              "      <td>-0.271039</td>\n",
              "      <td>-0.565383</td>\n",
              "      <td>1.190048</td>\n",
              "      <td>1.115901</td>\n",
              "      <td>0.497901</td>\n",
              "      <td>-0.369157</td>\n",
              "      <td>-0.573426</td>\n",
              "      <td>0</td>\n",
              "      <td>1</td>\n",
              "    </tr>\n",
              "    <tr>\n",
              "      <th>204</th>\n",
              "      <td>-2.655854</td>\n",
              "      <td>2.840091</td>\n",
              "      <td>-0.171554</td>\n",
              "      <td>0.045312</td>\n",
              "      <td>0.285321</td>\n",
              "      <td>0.287002</td>\n",
              "      <td>-1.583462</td>\n",
              "      <td>1.030801</td>\n",
              "      <td>1.103860</td>\n",
              "      <td>0.966131</td>\n",
              "      <td>0.699796</td>\n",
              "      <td>0</td>\n",
              "      <td>1</td>\n",
              "    </tr>\n",
              "    <tr>\n",
              "      <th>49</th>\n",
              "      <td>-0.175942</td>\n",
              "      <td>-1.073105</td>\n",
              "      <td>-1.241984</td>\n",
              "      <td>3.305121</td>\n",
              "      <td>-0.154861</td>\n",
              "      <td>0.813469</td>\n",
              "      <td>-2.210051</td>\n",
              "      <td>-0.547674</td>\n",
              "      <td>0.189651</td>\n",
              "      <td>-0.914352</td>\n",
              "      <td>0.282306</td>\n",
              "      <td>0</td>\n",
              "      <td>1</td>\n",
              "    </tr>\n",
              "    <tr>\n",
              "      <th>1873</th>\n",
              "      <td>0.878020</td>\n",
              "      <td>0.030413</td>\n",
              "      <td>0.751152</td>\n",
              "      <td>0.567261</td>\n",
              "      <td>-1.204429</td>\n",
              "      <td>-1.445206</td>\n",
              "      <td>0.246776</td>\n",
              "      <td>0.121462</td>\n",
              "      <td>-1.044331</td>\n",
              "      <td>-0.140955</td>\n",
              "      <td>-0.947927</td>\n",
              "      <td>0</td>\n",
              "      <td>1</td>\n",
              "    </tr>\n",
              "  </tbody>\n",
              "</table>\n",
              "</div>\n",
              "      <button class=\"colab-df-convert\" onclick=\"convertToInteractive('df-9fa14af4-8f2c-4ef3-85a7-434f79c9a85c')\"\n",
              "              title=\"Convert this dataframe to an interactive table.\"\n",
              "              style=\"display:none;\">\n",
              "\n",
              "  <svg xmlns=\"http://www.w3.org/2000/svg\" height=\"24px\"viewBox=\"0 0 24 24\"\n",
              "       width=\"24px\">\n",
              "    <path d=\"M0 0h24v24H0V0z\" fill=\"none\"/>\n",
              "    <path d=\"M18.56 5.44l.94 2.06.94-2.06 2.06-.94-2.06-.94-.94-2.06-.94 2.06-2.06.94zm-11 1L8.5 8.5l.94-2.06 2.06-.94-2.06-.94L8.5 2.5l-.94 2.06-2.06.94zm10 10l.94 2.06.94-2.06 2.06-.94-2.06-.94-.94-2.06-.94 2.06-2.06.94z\"/><path d=\"M17.41 7.96l-1.37-1.37c-.4-.4-.92-.59-1.43-.59-.52 0-1.04.2-1.43.59L10.3 9.45l-7.72 7.72c-.78.78-.78 2.05 0 2.83L4 21.41c.39.39.9.59 1.41.59.51 0 1.02-.2 1.41-.59l7.78-7.78 2.81-2.81c.8-.78.8-2.07 0-2.86zM5.41 20L4 18.59l7.72-7.72 1.47 1.35L5.41 20z\"/>\n",
              "  </svg>\n",
              "      </button>\n",
              "\n",
              "\n",
              "\n",
              "    <div id=\"df-de823456-6537-4bc0-bb0b-b0a3f1136e8b\">\n",
              "      <button class=\"colab-df-quickchart\" onclick=\"quickchart('df-de823456-6537-4bc0-bb0b-b0a3f1136e8b')\"\n",
              "              title=\"Suggest charts.\"\n",
              "              style=\"display:none;\">\n",
              "\n",
              "<svg xmlns=\"http://www.w3.org/2000/svg\" height=\"24px\"viewBox=\"0 0 24 24\"\n",
              "     width=\"24px\">\n",
              "    <g>\n",
              "        <path d=\"M19 3H5c-1.1 0-2 .9-2 2v14c0 1.1.9 2 2 2h14c1.1 0 2-.9 2-2V5c0-1.1-.9-2-2-2zM9 17H7v-7h2v7zm4 0h-2V7h2v10zm4 0h-2v-4h2v4z\"/>\n",
              "    </g>\n",
              "</svg>\n",
              "      </button>\n",
              "    </div>\n",
              "\n",
              "<style>\n",
              "  .colab-df-quickchart {\n",
              "    background-color: #E8F0FE;\n",
              "    border: none;\n",
              "    border-radius: 50%;\n",
              "    cursor: pointer;\n",
              "    display: none;\n",
              "    fill: #1967D2;\n",
              "    height: 32px;\n",
              "    padding: 0 0 0 0;\n",
              "    width: 32px;\n",
              "  }\n",
              "\n",
              "  .colab-df-quickchart:hover {\n",
              "    background-color: #E2EBFA;\n",
              "    box-shadow: 0px 1px 2px rgba(60, 64, 67, 0.3), 0px 1px 3px 1px rgba(60, 64, 67, 0.15);\n",
              "    fill: #174EA6;\n",
              "  }\n",
              "\n",
              "  [theme=dark] .colab-df-quickchart {\n",
              "    background-color: #3B4455;\n",
              "    fill: #D2E3FC;\n",
              "  }\n",
              "\n",
              "  [theme=dark] .colab-df-quickchart:hover {\n",
              "    background-color: #434B5C;\n",
              "    box-shadow: 0px 1px 3px 1px rgba(0, 0, 0, 0.15);\n",
              "    filter: drop-shadow(0px 1px 2px rgba(0, 0, 0, 0.3));\n",
              "    fill: #FFFFFF;\n",
              "  }\n",
              "</style>\n",
              "\n",
              "    <script>\n",
              "      async function quickchart(key) {\n",
              "        const containerElement = document.querySelector('#' + key);\n",
              "        const charts = await google.colab.kernel.invokeFunction(\n",
              "            'suggestCharts', [key], {});\n",
              "      }\n",
              "    </script>\n",
              "\n",
              "      <script>\n",
              "\n",
              "function displayQuickchartButton(domScope) {\n",
              "  let quickchartButtonEl =\n",
              "    domScope.querySelector('#df-de823456-6537-4bc0-bb0b-b0a3f1136e8b button.colab-df-quickchart');\n",
              "  quickchartButtonEl.style.display =\n",
              "    google.colab.kernel.accessAllowed ? 'block' : 'none';\n",
              "}\n",
              "\n",
              "        displayQuickchartButton(document);\n",
              "      </script>\n",
              "      <style>\n",
              "    .colab-df-container {\n",
              "      display:flex;\n",
              "      flex-wrap:wrap;\n",
              "      gap: 12px;\n",
              "    }\n",
              "\n",
              "    .colab-df-convert {\n",
              "      background-color: #E8F0FE;\n",
              "      border: none;\n",
              "      border-radius: 50%;\n",
              "      cursor: pointer;\n",
              "      display: none;\n",
              "      fill: #1967D2;\n",
              "      height: 32px;\n",
              "      padding: 0 0 0 0;\n",
              "      width: 32px;\n",
              "    }\n",
              "\n",
              "    .colab-df-convert:hover {\n",
              "      background-color: #E2EBFA;\n",
              "      box-shadow: 0px 1px 2px rgba(60, 64, 67, 0.3), 0px 1px 3px 1px rgba(60, 64, 67, 0.15);\n",
              "      fill: #174EA6;\n",
              "    }\n",
              "\n",
              "    [theme=dark] .colab-df-convert {\n",
              "      background-color: #3B4455;\n",
              "      fill: #D2E3FC;\n",
              "    }\n",
              "\n",
              "    [theme=dark] .colab-df-convert:hover {\n",
              "      background-color: #434B5C;\n",
              "      box-shadow: 0px 1px 3px 1px rgba(0, 0, 0, 0.15);\n",
              "      filter: drop-shadow(0px 1px 2px rgba(0, 0, 0, 0.3));\n",
              "      fill: #FFFFFF;\n",
              "    }\n",
              "  </style>\n",
              "\n",
              "      <script>\n",
              "        const buttonEl =\n",
              "          document.querySelector('#df-9fa14af4-8f2c-4ef3-85a7-434f79c9a85c button.colab-df-convert');\n",
              "        buttonEl.style.display =\n",
              "          google.colab.kernel.accessAllowed ? 'block' : 'none';\n",
              "\n",
              "        async function convertToInteractive(key) {\n",
              "          const element = document.querySelector('#df-9fa14af4-8f2c-4ef3-85a7-434f79c9a85c');\n",
              "          const dataTable =\n",
              "            await google.colab.kernel.invokeFunction('convertToInteractive',\n",
              "                                                     [key], {});\n",
              "          if (!dataTable) return;\n",
              "\n",
              "          const docLinkHtml = 'Like what you see? Visit the ' +\n",
              "            '<a target=\"_blank\" href=https://colab.research.google.com/notebooks/data_table.ipynb>data table notebook</a>'\n",
              "            + ' to learn more about interactive tables.';\n",
              "          element.innerHTML = '';\n",
              "          dataTable['output_type'] = 'display_data';\n",
              "          await google.colab.output.renderOutput(dataTable, element);\n",
              "          const docLink = document.createElement('div');\n",
              "          docLink.innerHTML = docLinkHtml;\n",
              "          element.appendChild(docLink);\n",
              "        }\n",
              "      </script>\n",
              "    </div>\n",
              "  </div>\n"
            ]
          },
          "metadata": {},
          "execution_count": 13
        }
      ],
      "source": [
        "\n",
        "def normalize_columns(df, columns_to_normalize):\n",
        "    # Create a copy of the original dataframe\n",
        "    normalized_df = df.copy()\n",
        "\n",
        "    # Select the columns to normalize\n",
        "    data_to_normalize = normalized_df[columns_to_normalize]\n",
        "\n",
        "    # Create an instance of the scaler\n",
        "    scaler = StandardScaler()\n",
        "\n",
        "    # Fit the scaler to the selected columns\n",
        "    scaler.fit(data_to_normalize)\n",
        "\n",
        "    # Normalize the selected columns\n",
        "    normalized_data = scaler.transform(data_to_normalize)\n",
        "\n",
        "    # Update the normalized values in the dataframe\n",
        "    normalized_df[columns_to_normalize] = normalized_data\n",
        "\n",
        "    return normalized_df\n",
        "df1=normalize_columns(df,['A', 'delta', 'TM', 'DELTA_TM', 'Electronégativité', 'Delta_Electro-', 'SID', 'VEC', 'Delta VEC', 'K', 'Delta K'])\n",
        "df1.head()"
      ]
    },
    {
      "cell_type": "code",
      "execution_count": 14,
      "metadata": {
        "id": "151ebe1e"
      },
      "outputs": [],
      "source": [
        "# Run for Bigdata only\n",
        "NUM_CLIENTS = 5\n",
        "\n",
        "data = pd.read_csv(\"/content/drive/MyDrive/BigData.csv\", sep=',', encoding='latin-1')\n",
        "\n",
        "data.rename(columns={\"ElectronÃ©gativitÃ©\": \"Electronégativité\"}, inplace=True)\n",
        "data.drop(\"Unnamed: 0\", axis=1, inplace=True)\n",
        "data=normalize_columns(data,['A', 'delta', 'TM', 'DELTA_TM', 'Electronégativité', 'Delta_Electro-', 'SID', 'VEC', 'Delta VEC', 'K', 'Delta K'])\n",
        "data[\"id\"]=NUM_CLIENTS\n",
        "df = pd.concat([df1, data], ignore_index=True)\n",
        "\n"
      ]
    },
    {
      "cell_type": "code",
      "execution_count": 15,
      "metadata": {
        "id": "VMaNcWHV_oXU"
      },
      "outputs": [],
      "source": [
        "for id in range(1,NUM_CLIENTS+1):\n",
        "  df[df[\"id\"]==id].drop_duplicates(subset=['A', 'delta', 'TM', 'DELTA_TM', 'Electronégativité', 'Delta_Electro-', 'SID', 'VEC', 'Delta VEC', 'K', 'Delta K'])\n",
        "\n",
        "\n",
        "# df=df.drop_duplicates(subset=['A', 'delta', 'TM', 'DELTA_TM', 'Electronégativité', 'Delta_Electro-', 'SID', 'VEC', 'Delta VEC', 'K', 'Delta K'])"
      ]
    },
    {
      "cell_type": "code",
      "execution_count": 16,
      "metadata": {
        "colab": {
          "base_uri": "https://localhost:8080/"
        },
        "id": "Wgpj-2PLJF10",
        "outputId": "dd769fb6-d483-4d40-a31e-3bec59994f9a"
      },
      "outputs": [
        {
          "output_type": "execute_result",
          "data": {
            "text/plain": [
              "Index(['A', 'delta', 'TM', 'DELTA_TM', 'Electronégativité', 'Delta_Electro-',\n",
              "       'SID', 'VEC', 'Delta VEC', 'K', 'Delta K', 'Etat d'entropie', 'id'],\n",
              "      dtype='object')"
            ]
          },
          "metadata": {},
          "execution_count": 16
        }
      ],
      "source": [
        "df.columns"
      ]
    },
    {
      "cell_type": "code",
      "execution_count": 17,
      "metadata": {
        "id": "njVIi3KX-fI9"
      },
      "outputs": [],
      "source": [
        "from scipy.stats import gaussian_kde\n",
        "import seaborn as sns\n",
        "import matplotlib.pyplot as plt\n",
        "\n",
        "\n",
        "def pair_plot(df):\n",
        "  etat_entropie_values = [0, 1]\n",
        "\n",
        "# Plotting the density plots\n",
        "  id_values = range(1,NUM_CLIENTS+1)\n",
        "\n",
        "# Plotting the density plots\n",
        "  num_rows = 11\n",
        "  num_cols = NUM_CLIENTS\n",
        "  num_plots = num_rows * num_cols\n",
        "\n",
        "  fig, axes = plt.subplots(num_rows, num_cols, figsize=(18, 36))\n",
        "  axes = axes.flatten()\n",
        "\n",
        "  for i, col in enumerate(df.columns):\n",
        "    if col != 'id' and col != 'Etat d\\'entropie':\n",
        "        for j, id_value in enumerate(id_values):\n",
        "            ax = axes[(i * len(id_values)) + j]\n",
        "            for etat_entropie in [0, 1]:\n",
        "                filtered_data = df[df['Etat d\\'entropie'] == etat_entropie]\n",
        "                if not filtered_data.empty:\n",
        "                    filtered_data[col].plot(kind='density', label=f'Etat Entropie = {etat_entropie}', ax=ax)\n",
        "            filtered_data = df[(df['Etat d\\'entropie'] == 0) | (df['Etat d\\'entropie'] == 1)]\n",
        "            if not filtered_data.empty:\n",
        "                filtered_data[col].plot(kind='density', label='All Data', ax=ax, linestyle='--')\n",
        "            ax.set_title(f'Density Plot - {col}, id = {id_value}')\n",
        "            ax.legend()\n",
        "\n",
        "  plt.tight_layout()\n",
        "  plt.show()\n",
        "# pair_plot(df)\n",
        "\n"
      ]
    },
    {
      "cell_type": "code",
      "execution_count": 18,
      "metadata": {
        "id": "-WZgRifhkP22"
      },
      "outputs": [],
      "source": [
        "import seaborn as sns\n",
        "import matplotlib.pyplot as plt\n",
        "\n"
      ]
    },
    {
      "cell_type": "code",
      "execution_count": 19,
      "metadata": {
        "colab": {
          "base_uri": "https://localhost:8080/"
        },
        "id": "8fa330b2",
        "outputId": "8d11a8d6-d35b-4335-f907-4e6002fb6130"
      },
      "outputs": [
        {
          "output_type": "stream",
          "name": "stdout",
          "text": [
            "The tensorboard extension is already loaded. To reload it, use:\n",
            "  %reload_ext tensorboard\n"
          ]
        }
      ],
      "source": [
        "import nest_asyncio\n",
        "nest_asyncio.apply()\n",
        "%load_ext tensorboard"
      ]
    },
    {
      "cell_type": "code",
      "execution_count": 20,
      "metadata": {
        "colab": {
          "base_uri": "https://localhost:8080/"
        },
        "id": "fe478e94",
        "outputId": "25e7199c-a2f0-48b5-aaf3-d7aa0ccd637b"
      },
      "outputs": [
        {
          "output_type": "execute_result",
          "data": {
            "text/plain": [
              "b'Hello, World!'"
            ]
          },
          "metadata": {},
          "execution_count": 20
        }
      ],
      "source": [
        "import collections\n",
        "import numpy as np\n",
        "import tensorflow as tf\n",
        "import tensorflow_federated as tff\n",
        "np.random.seed(0)\n",
        "tff.federated_computation(lambda: 'Hello, World!')()"
      ]
    },
    {
      "cell_type": "code",
      "execution_count": 21,
      "metadata": {
        "colab": {
          "base_uri": "https://localhost:8080/"
        },
        "id": "5Rwx2ugffeOW",
        "outputId": "022e4728-fc9e-4441-bf72-335796db07cf"
      },
      "outputs": [
        {
          "output_type": "execute_result",
          "data": {
            "text/plain": [
              "A                    float64\n",
              "delta                float64\n",
              "TM                   float64\n",
              "DELTA_TM             float64\n",
              "Electronégativité    float64\n",
              "Delta_Electro-       float64\n",
              "SID                  float64\n",
              "VEC                  float64\n",
              "Delta VEC            float64\n",
              "K                    float64\n",
              "Delta K              float64\n",
              "Etat d'entropie        int64\n",
              "id                     int64\n",
              "dtype: object"
            ]
          },
          "metadata": {},
          "execution_count": 21
        }
      ],
      "source": [
        "df.dtypes"
      ]
    },
    {
      "cell_type": "code",
      "execution_count": 22,
      "metadata": {
        "colab": {
          "base_uri": "https://localhost:8080/"
        },
        "id": "0ce0e9f1",
        "outputId": "7cbe0cb2-2499-41e0-a073-2f20653f5d8b"
      },
      "outputs": [
        {
          "output_type": "stream",
          "name": "stdout",
          "text": [
            "[1 2 3 4 5]\n"
          ]
        }
      ],
      "source": [
        "# split client id into train and test clients\n",
        "client_id_colname = 'id' # the column that represents client ID\n",
        "client_ids = df[client_id_colname].unique()\n",
        "train_client_ids = range(1,NUM_CLIENTS)\n",
        "test_client_ids = [NUM_CLIENTS]\n",
        "print(client_ids)"
      ]
    },
    {
      "cell_type": "code",
      "execution_count": 23,
      "metadata": {
        "id": "6dbba4e1"
      },
      "outputs": [],
      "source": [
        "def create_tf_dataset_for_client_fn(client_id):\n",
        "  # a function which takes a client_id and returns a\n",
        "  # tf.data.Dataset for that client\n",
        "    client_data = df[df[client_id_colname] == client_id]\n",
        "    client_data = client_data.drop(columns=[\"id\"])\n",
        "    dataset = tf.data.Dataset.from_tensor_slices(client_data.to_dict('list'))\n",
        "    dataset = dataset.shuffle(SHUFFLE_BUFFER).batch(1).repeat(NUM_EPOCHS)\n",
        "    return dataset"
      ]
    },
    {
      "cell_type": "code",
      "execution_count": 24,
      "metadata": {
        "id": "e62dd808"
      },
      "outputs": [],
      "source": [
        "NUM_EPOCHS =10\n",
        "BATCH_SIZE = 512\n",
        "SHUFFLE_BUFFER = 2000\n",
        "PREFETCH_BUFFER = 1000\n",
        "\n",
        "\n",
        "\n",
        "train_data = tff.simulation.datasets.ClientData.from_clients_and_tf_fn(\n",
        "        client_ids=train_client_ids,\n",
        "        serializable_dataset_fn=create_tf_dataset_for_client_fn\n",
        "    )\n",
        "\n",
        "#\n",
        "test_data = tff.simulation.datasets.ClientData.from_clients_and_tf_fn(\n",
        "        client_ids=test_client_ids,\n",
        "        serializable_dataset_fn=create_tf_dataset_for_client_fn\n",
        "    )"
      ]
    },
    {
      "cell_type": "code",
      "execution_count": 25,
      "metadata": {
        "colab": {
          "base_uri": "https://localhost:8080/"
        },
        "id": "efba9238",
        "outputId": "cd04e56c-c42e-4e41-fd46-97d76a8cadca"
      },
      "outputs": [
        {
          "output_type": "execute_result",
          "data": {
            "text/plain": [
              "{'A': TensorSpec(shape=(None,), dtype=tf.float32, name=None),\n",
              " 'delta': TensorSpec(shape=(None,), dtype=tf.float32, name=None),\n",
              " 'TM': TensorSpec(shape=(None,), dtype=tf.float32, name=None),\n",
              " 'DELTA_TM': TensorSpec(shape=(None,), dtype=tf.float32, name=None),\n",
              " 'Electronégativité': TensorSpec(shape=(None,), dtype=tf.float32, name=None),\n",
              " 'Delta_Electro-': TensorSpec(shape=(None,), dtype=tf.float32, name=None),\n",
              " 'SID': TensorSpec(shape=(None,), dtype=tf.float32, name=None),\n",
              " 'VEC': TensorSpec(shape=(None,), dtype=tf.float32, name=None),\n",
              " 'Delta VEC': TensorSpec(shape=(None,), dtype=tf.float32, name=None),\n",
              " 'K': TensorSpec(shape=(None,), dtype=tf.float32, name=None),\n",
              " 'Delta K': TensorSpec(shape=(None,), dtype=tf.float32, name=None),\n",
              " \"Etat d'entropie\": TensorSpec(shape=(None,), dtype=tf.int32, name=None)}"
            ]
          },
          "metadata": {},
          "execution_count": 25
        }
      ],
      "source": [
        "train_data.element_type_structure"
      ]
    },
    {
      "cell_type": "code",
      "execution_count": 26,
      "metadata": {
        "id": "be904144"
      },
      "outputs": [],
      "source": [
        "example_dataset = train_data.create_tf_dataset_for_client(\n",
        "    train_data.client_ids[0])\n",
        "\n",
        "example_element = next(iter(example_dataset))\n"
      ]
    },
    {
      "cell_type": "code",
      "execution_count": 27,
      "metadata": {
        "id": "b0814bb6"
      },
      "outputs": [],
      "source": [
        "\n",
        "def preprocess(dataset):\n",
        "\n",
        "        def batch_format_fn(element):\n",
        "            output = tf.concat([\n",
        "                tf.expand_dims(element['Electronégativité'],1)\n",
        "                ,tf.expand_dims(element['Delta_Electro-'],1)\n",
        "                ,tf.expand_dims(element['SID'],1)\n",
        "                ,tf.expand_dims(element['VEC'],1)\n",
        "                ,tf.expand_dims(element['Delta VEC'],1)\n",
        "                ,tf.expand_dims(element[ 'K'],1)\n",
        "                ,tf.expand_dims(element['Delta K'],1)\n",
        "                ,tf.expand_dims(element['A'],1)\n",
        "                ,tf.expand_dims(element['delta'],1)\n",
        "                ,tf.expand_dims(element['TM'],1)\n",
        "                ,tf.expand_dims(element['DELTA_TM'],1)], axis=1)\n",
        "            return collections.OrderedDict(x= tf.reshape(output, [1, 11] )\n",
        "                                           ,\n",
        "                                           y= tf.reshape(element[\"Etat d'entropie\"], [1,1]) )\n",
        "\n",
        "        return dataset.map(batch_format_fn)"
      ]
    },
    {
      "cell_type": "code",
      "execution_count": 28,
      "metadata": {
        "colab": {
          "base_uri": "https://localhost:8080/"
        },
        "id": "3fc13188",
        "outputId": "7327bdef-4f4e-4a09-ea20-89b3b51fd494"
      },
      "outputs": [
        {
          "output_type": "execute_result",
          "data": {
            "text/plain": [
              "OrderedDict([('x',\n",
              "              array([[ 1.2801837 , -0.6271952 ,  0.24677555,  0.43029425,  1.2189506 ,\n",
              "                      -0.4924992 ,  0.8277824 , -0.23794003, -0.5298937 ,  0.6239086 ,\n",
              "                       0.48342976]], dtype=float32)),\n",
              "             ('y', array([[1]], dtype=int32))])"
            ]
          },
          "metadata": {},
          "execution_count": 28
        }
      ],
      "source": [
        "\n",
        "preprocessed_example_dataset = preprocess(example_dataset)\n",
        "\n",
        "sample_batch = tf.nest.map_structure(lambda x: x.numpy(),\n",
        "                                     next(iter(preprocessed_example_dataset)))\n",
        "\n",
        "sample_batch"
      ]
    },
    {
      "cell_type": "code",
      "execution_count": 29,
      "metadata": {
        "id": "5ebebf42"
      },
      "outputs": [],
      "source": [
        "def make_federated_data(client_data, client_ids):\n",
        "    return [\n",
        "      preprocess(client_data.create_tf_dataset_for_client(x))\n",
        "      for x in client_ids\n",
        "  ]"
      ]
    },
    {
      "cell_type": "code",
      "execution_count": 30,
      "metadata": {
        "colab": {
          "base_uri": "https://localhost:8080/"
        },
        "id": "b5e10e72",
        "outputId": "a6121963-736a-4540-8204-a39d1781f767"
      },
      "outputs": [
        {
          "output_type": "stream",
          "name": "stdout",
          "text": [
            "Number of client datasets: 4\n",
            "First dataset: <_MapDataset element_spec=OrderedDict([('x', TensorSpec(shape=(1, 11), dtype=tf.float32, name=None)), ('y', TensorSpec(shape=(1, 1), dtype=tf.int32, name=None))])>\n"
          ]
        }
      ],
      "source": [
        "sample_clients = train_data.client_ids[0:NUM_CLIENTS]\n",
        "# sample_clients_test=test_data.client_ids[0:NUM_CLIENTS]\n",
        "federated_train_data = make_federated_data(train_data, sample_clients)\n",
        "\n",
        "print('Number of client datasets: {l}'.format(l=len(federated_train_data)))\n",
        "print('First dataset: {d}'.format(d=federated_train_data[0]))"
      ]
    },
    {
      "cell_type": "code",
      "execution_count": 31,
      "metadata": {
        "colab": {
          "base_uri": "https://localhost:8080/",
          "height": 865
        },
        "id": "622e3bd9",
        "outputId": "f0a2af55-5d3c-4c53-d2e1-c0617035b7db"
      },
      "outputs": [
        {
          "output_type": "execute_result",
          "data": {
            "image/png": "[encoded data removed]",
            "text/plain": [
              "<IPython.core.display.Image object>"
            ]
          },
          "metadata": {},
          "execution_count": 31
        }
      ],
      "source": [
        "\n",
        "def create_keras_model():\n",
        "    return tf.keras.models.Sequential([\n",
        "        tf.keras.layers.Reshape(target_shape=(11, 1), input_shape=(11,)),\n",
        "        tf.keras.layers.Flatten(),\n",
        "        tf.keras.layers.Dense(40, kernel_initializer='glorot_uniform'),\n",
        "        tf.keras.layers.Dense(15, kernel_initializer='glorot_uniform'),\n",
        "        tf.keras.layers.Dense(10, kernel_initializer='glorot_uniform'),\n",
        "        tf.keras.layers.Dense(5, kernel_initializer='glorot_uniform'),\n",
        "        tf.keras.layers.Dense(1, kernel_initializer='glorot_uniform', activation='sigmoid')\n",
        "    ])\n",
        "\n",
        "# RNN\n",
        "# def create_keras_model():\n",
        "#     return tf.keras.models.Sequential([\n",
        "#         tf.keras.layers.Reshape(target_shape=(11, 1), input_shape=(11,)),\n",
        "#         tf.keras.layers.SimpleRNN(32),\n",
        "#         tf.keras.layers.Dense(85, kernel_initializer='zeros'),\n",
        "#         tf.keras.layers.Dense(60, kernel_initializer='zeros'),\n",
        "#         tf.keras.layers.Dense(25, kernel_initializer='zeros'),\n",
        "#         tf.keras.layers.Dense(10, kernel_initializer='zeros'),\n",
        "#         tf.keras.layers.Softmax(),\n",
        "#     ])\n",
        "# def create_keras_model():\n",
        "#     return tf.keras.models.Sequential([\n",
        "#         tf.keras.layers.Reshape(target_shape=(11, 1), input_shape=(11,)),\n",
        "#         tf.keras.layers.LSTM(32),\n",
        "#         tf.keras.layers.Dense(85, kernel_initializer='zeros'),\n",
        "#         tf.keras.layers.Dense(60, kernel_initializer='zeros'),\n",
        "#         tf.keras.layers.Dense(25, kernel_initializer='zeros'),\n",
        "#         tf.keras.layers.Dense(10, kernel_initializer='zeros'),\n",
        "#         tf.keras.layers.Dense(32, kernel_initializer='lecun_normal',activation='selu'),\n",
        "#     ])\n",
        "# def create_keras_model():\n",
        "#     return tf.keras.models.Sequential([\n",
        "#         tf.keras.layers.Reshape(target_shape=(11, 1), input_shape=(11,)),\n",
        "#         tf.keras.layers.GRU(32),\n",
        "#         tf.keras.layers.Dense(30, kernel_initializer='zeros'),\n",
        "#         tf.keras.layers.Dense(25, kernel_initializer='zeros'),\n",
        "#         tf.keras.layers.Dense(1, kernel_initializer='zeros'),\n",
        "#         tf.keras.layers.Softmax(),\n",
        "#     ])\n",
        "\n",
        "model=create_keras_model()\n",
        "tf.keras.utils.plot_model(\n",
        "model,\n",
        "to_file=\"model_ann.png\",\n",
        "show_shapes=True,\n",
        "show_dtype=False,\n",
        "show_layer_names=True,\n",
        "rankdir=\"TB\",\n",
        "expand_nested=True,\n",
        "dpi=96,\n",
        "layer_range=None,\n",
        "show_layer_activations=True,\n",
        ")"
      ]
    },
    {
      "cell_type": "code",
      "execution_count": 32,
      "metadata": {
        "id": "c43084e9"
      },
      "outputs": [],
      "source": [
        "def model_fn():\n",
        "  # We _must_ create a new model here, and _not_ capture it from an external\n",
        "  # scope. TFF will call this within different graph contexts.\n",
        "    keras_model = create_keras_model()\n",
        "    return tff.learning.models.from_keras_model(\n",
        "    keras_model=keras_model,\n",
        "    input_spec=preprocessed_example_dataset.element_spec,\n",
        "    loss=tf.keras.losses.Poisson(reduction=\"auto\", name=\"poisson\"),\n",
        "    metrics=[\n",
        "        tf.keras.metrics.SparseCategoricalAccuracy(),\n",
        "        tf.keras.metrics.TruePositives(),\n",
        "        tf.keras.metrics.TrueNegatives(),\n",
        "        tf.keras.metrics.FalsePositives(),\n",
        "        tf.keras.metrics.FalseNegatives()\n",
        "    ]\n",
        ")"
      ]
    },
    {
      "cell_type": "code",
      "execution_count": 33,
      "metadata": {
        "id": "aef5fc54"
      },
      "outputs": [],
      "source": [
        "iterative_process = tff.learning.algorithms.build_weighted_fed_avg(\n",
        "    model_fn,\n",
        "    client_optimizer_fn=lambda: tf.keras.optimizers.Adam(),\n",
        "    server_optimizer_fn=lambda: tf.keras.optimizers.Adam())\n",
        "\n"
      ]
    },
    {
      "cell_type": "code",
      "execution_count": 34,
      "metadata": {
        "colab": {
          "base_uri": "https://localhost:8080/",
          "height": 90
        },
        "id": "5a224b72",
        "outputId": "28631e74-e89d-4f40-e0dd-db67af33c60c"
      },
      "outputs": [
        {
          "output_type": "execute_result",
          "data": {
            "text/plain": [
              "'( -> <global_model_weights=<trainable=<float32[11,40],float32[40],float32[40,15],float32[15],float32[15,10],float32[10],float32[10,5],float32[5],float32[5,1],float32[1]>,non_trainable=<>>,distributor=<>,client_work=<>,aggregator=<value_sum_process=<>,weight_sum_process=<>>,finalizer=<int64,float32[11,40],float32[11,40],float32[40],float32[40],float32[40,15],float32[40,15],float32[15],float32[15],float32[15,10],float32[15,10],float32[10],float32[10],float32[10,5],float32[10,5],float32[5],float32[5],float32[5,1],float32[5,1],float32[1],float32[1]>>@SERVER)'"
            ],
            "application/vnd.google.colaboratory.intrinsic+json": {
              "type": "string"
            }
          },
          "metadata": {},
          "execution_count": 34
        }
      ],
      "source": [
        "str(iterative_process.initialize.type_signature)"
      ]
    },
    {
      "cell_type": "code",
      "execution_count": 35,
      "metadata": {
        "id": "62ad6dcc"
      },
      "outputs": [],
      "source": [
        "state = iterative_process.initialize()"
      ]
    },
    {
      "cell_type": "code",
      "execution_count": 36,
      "metadata": {
        "colab": {
          "base_uri": "https://localhost:8080/"
        },
        "id": "FrSYpAAEdu8V",
        "outputId": "5af3aa4a-ec4d-42e5-d445-d0eb3c9e975e"
      },
      "outputs": [
        {
          "output_type": "execute_result",
          "data": {
            "text/plain": [
              "A                    float64\n",
              "delta                float64\n",
              "TM                   float64\n",
              "DELTA_TM             float64\n",
              "Electronégativité    float64\n",
              "Delta_Electro-       float64\n",
              "SID                  float64\n",
              "VEC                  float64\n",
              "Delta VEC            float64\n",
              "K                    float64\n",
              "Delta K              float64\n",
              "Etat d'entropie        int64\n",
              "id                     int64\n",
              "dtype: object"
            ]
          },
          "metadata": {},
          "execution_count": 36
        }
      ],
      "source": [
        "df.dtypes"
      ]
    },
    {
      "cell_type": "code",
      "execution_count": 37,
      "metadata": {
        "colab": {
          "base_uri": "https://localhost:8080/"
        },
        "id": "5a601363",
        "outputId": "6666953f-df1a-4d0c-b9a2-92425e712b88"
      },
      "outputs": [
        {
          "output_type": "stream",
          "name": "stdout",
          "text": [
            "round  1, metrics=OrderedDict([('distributor', ()), ('client_work', OrderedDict([('train', OrderedDict([('sparse_categorical_accuracy', 0.48014852), ('true_positives', 14237.0), ('true_negatives', 10169.0), ('false_positives', 6641.0), ('false_negatives', 3963.0), ('loss', 0.7901207), ('num_examples', 35010), ('num_batches', 35010)]))])), ('aggregator', OrderedDict([('mean_value', ()), ('mean_weight', ())])), ('finalizer', OrderedDict([('update_non_finite', 0)]))])\n"
          ]
        }
      ],
      "source": [
        "state, metrics = iterative_process.next(state, federated_train_data)\n",
        "print('round  1, metrics={}'.format(metrics))"
      ]
    },
    {
      "cell_type": "code",
      "execution_count": null,
      "metadata": {
        "id": "f339718a",
        "colab": {
          "base_uri": "https://localhost:8080/"
        },
        "outputId": "88702308-f57b-4f78-c4b4-2aba6ad4ecca"
      },
      "outputs": [
        {
          "output_type": "stream",
          "name": "stdout",
          "text": [
            "round  2, metrics=OrderedDict([('distributor', ()), ('client_work', OrderedDict([('train', OrderedDict([('sparse_categorical_accuracy', 0.48014852), ('true_positives', 14249.0), ('true_negatives', 10152.0), ('false_positives', 6658.0), ('false_negatives', 3951.0), ('loss', 0.79024607), ('num_examples', 35010), ('num_batches', 35010)]))])), ('aggregator', OrderedDict([('mean_value', ()), ('mean_weight', ())])), ('finalizer', OrderedDict([('update_non_finite', 0)]))])\n",
            "round  3, metrics=OrderedDict([('distributor', ()), ('client_work', OrderedDict([('train', OrderedDict([('sparse_categorical_accuracy', 0.48014852), ('true_positives', 14214.0), ('true_negatives', 10166.0), ('false_positives', 6644.0), ('false_negatives', 3986.0), ('loss', 0.7898917), ('num_examples', 35010), ('num_batches', 35010)]))])), ('aggregator', OrderedDict([('mean_value', ()), ('mean_weight', ())])), ('finalizer', OrderedDict([('update_non_finite', 0)]))])\n",
            "round  4, metrics=OrderedDict([('distributor', ()), ('client_work', OrderedDict([('train', OrderedDict([('sparse_categorical_accuracy', 0.48014852), ('true_positives', 14255.0), ('true_negatives', 10197.0), ('false_positives', 6613.0), ('false_negatives', 3945.0), ('loss', 0.7899836), ('num_examples', 35010), ('num_batches', 35010)]))])), ('aggregator', OrderedDict([('mean_value', ()), ('mean_weight', ())])), ('finalizer', OrderedDict([('update_non_finite', 0)]))])\n",
            "round  5, metrics=OrderedDict([('distributor', ()), ('client_work', OrderedDict([('train', OrderedDict([('sparse_categorical_accuracy', 0.48014852), ('true_positives', 14238.0), ('true_negatives', 10118.0), ('false_positives', 6692.0), ('false_negatives', 3962.0), ('loss', 0.78943706), ('num_examples', 35010), ('num_batches', 35010)]))])), ('aggregator', OrderedDict([('mean_value', ()), ('mean_weight', ())])), ('finalizer', OrderedDict([('update_non_finite', 0)]))])\n",
            "round  6, metrics=OrderedDict([('distributor', ()), ('client_work', OrderedDict([('train', OrderedDict([('sparse_categorical_accuracy', 0.48014852), ('true_positives', 14175.0), ('true_negatives', 10208.0), ('false_positives', 6602.0), ('false_negatives', 4025.0), ('loss', 0.789748), ('num_examples', 35010), ('num_batches', 35010)]))])), ('aggregator', OrderedDict([('mean_value', ()), ('mean_weight', ())])), ('finalizer', OrderedDict([('update_non_finite', 0)]))])\n",
            "round  7, metrics=OrderedDict([('distributor', ()), ('client_work', OrderedDict([('train', OrderedDict([('sparse_categorical_accuracy', 0.48014852), ('true_positives', 14207.0), ('true_negatives', 10160.0), ('false_positives', 6650.0), ('false_negatives', 3993.0), ('loss', 0.7898552), ('num_examples', 35010), ('num_batches', 35010)]))])), ('aggregator', OrderedDict([('mean_value', ()), ('mean_weight', ())])), ('finalizer', OrderedDict([('update_non_finite', 0)]))])\n",
            "round  8, metrics=OrderedDict([('distributor', ()), ('client_work', OrderedDict([('train', OrderedDict([('sparse_categorical_accuracy', 0.48014852), ('true_positives', 14221.0), ('true_negatives', 10252.0), ('false_positives', 6558.0), ('false_negatives', 3979.0), ('loss', 0.7895525), ('num_examples', 35010), ('num_batches', 35010)]))])), ('aggregator', OrderedDict([('mean_value', ()), ('mean_weight', ())])), ('finalizer', OrderedDict([('update_non_finite', 0)]))])\n",
            "round  9, metrics=OrderedDict([('distributor', ()), ('client_work', OrderedDict([('train', OrderedDict([('sparse_categorical_accuracy', 0.48014852), ('true_positives', 14214.0), ('true_negatives', 10238.0), ('false_positives', 6572.0), ('false_negatives', 3986.0), ('loss', 0.78953636), ('num_examples', 35010), ('num_batches', 35010)]))])), ('aggregator', OrderedDict([('mean_value', ()), ('mean_weight', ())])), ('finalizer', OrderedDict([('update_non_finite', 0)]))])\n",
            "round 10, metrics=OrderedDict([('distributor', ()), ('client_work', OrderedDict([('train', OrderedDict([('sparse_categorical_accuracy', 0.48014852), ('true_positives', 14225.0), ('true_negatives', 10199.0), ('false_positives', 6611.0), ('false_negatives', 3975.0), ('loss', 0.78925663), ('num_examples', 35010), ('num_batches', 35010)]))])), ('aggregator', OrderedDict([('mean_value', ()), ('mean_weight', ())])), ('finalizer', OrderedDict([('update_non_finite', 0)]))])\n",
            "round 11, metrics=OrderedDict([('distributor', ()), ('client_work', OrderedDict([('train', OrderedDict([('sparse_categorical_accuracy', 0.48014852), ('true_positives', 14272.0), ('true_negatives', 10256.0), ('false_positives', 6554.0), ('false_negatives', 3928.0), ('loss', 0.78935707), ('num_examples', 35010), ('num_batches', 35010)]))])), ('aggregator', OrderedDict([('mean_value', ()), ('mean_weight', ())])), ('finalizer', OrderedDict([('update_non_finite', 0)]))])\n",
            "round 12, metrics=OrderedDict([('distributor', ()), ('client_work', OrderedDict([('train', OrderedDict([('sparse_categorical_accuracy', 0.48014852), ('true_positives', 14247.0), ('true_negatives', 10190.0), ('false_positives', 6620.0), ('false_negatives', 3953.0), ('loss', 0.7892112), ('num_examples', 35010), ('num_batches', 35010)]))])), ('aggregator', OrderedDict([('mean_value', ()), ('mean_weight', ())])), ('finalizer', OrderedDict([('update_non_finite', 0)]))])\n",
            "round 13, metrics=OrderedDict([('distributor', ()), ('client_work', OrderedDict([('train', OrderedDict([('sparse_categorical_accuracy', 0.48014852), ('true_positives', 14247.0), ('true_negatives', 10224.0), ('false_positives', 6586.0), ('false_negatives', 3953.0), ('loss', 0.7892785), ('num_examples', 35010), ('num_batches', 35010)]))])), ('aggregator', OrderedDict([('mean_value', ()), ('mean_weight', ())])), ('finalizer', OrderedDict([('update_non_finite', 0)]))])\n",
            "round 14, metrics=OrderedDict([('distributor', ()), ('client_work', OrderedDict([('train', OrderedDict([('sparse_categorical_accuracy', 0.48014852), ('true_positives', 14248.0), ('true_negatives', 10222.0), ('false_positives', 6588.0), ('false_negatives', 3952.0), ('loss', 0.789212), ('num_examples', 35010), ('num_batches', 35010)]))])), ('aggregator', OrderedDict([('mean_value', ()), ('mean_weight', ())])), ('finalizer', OrderedDict([('update_non_finite', 0)]))])\n",
            "round 15, metrics=OrderedDict([('distributor', ()), ('client_work', OrderedDict([('train', OrderedDict([('sparse_categorical_accuracy', 0.48014852), ('true_positives', 14221.0), ('true_negatives', 10212.0), ('false_positives', 6598.0), ('false_negatives', 3979.0), ('loss', 0.78932315), ('num_examples', 35010), ('num_batches', 35010)]))])), ('aggregator', OrderedDict([('mean_value', ()), ('mean_weight', ())])), ('finalizer', OrderedDict([('update_non_finite', 0)]))])\n",
            "round 16, metrics=OrderedDict([('distributor', ()), ('client_work', OrderedDict([('train', OrderedDict([('sparse_categorical_accuracy', 0.48014852), ('true_positives', 14227.0), ('true_negatives', 10230.0), ('false_positives', 6580.0), ('false_negatives', 3973.0), ('loss', 0.788747), ('num_examples', 35010), ('num_batches', 35010)]))])), ('aggregator', OrderedDict([('mean_value', ()), ('mean_weight', ())])), ('finalizer', OrderedDict([('update_non_finite', 0)]))])\n",
            "round 17, metrics=OrderedDict([('distributor', ()), ('client_work', OrderedDict([('train', OrderedDict([('sparse_categorical_accuracy', 0.48014852), ('true_positives', 14234.0), ('true_negatives', 10263.0), ('false_positives', 6547.0), ('false_negatives', 3966.0), ('loss', 0.7890639), ('num_examples', 35010), ('num_batches', 35010)]))])), ('aggregator', OrderedDict([('mean_value', ()), ('mean_weight', ())])), ('finalizer', OrderedDict([('update_non_finite', 0)]))])\n",
            "round 18, metrics=OrderedDict([('distributor', ()), ('client_work', OrderedDict([('train', OrderedDict([('sparse_categorical_accuracy', 0.48014852), ('true_positives', 14235.0), ('true_negatives', 10238.0), ('false_positives', 6572.0), ('false_negatives', 3965.0), ('loss', 0.78888893), ('num_examples', 35010), ('num_batches', 35010)]))])), ('aggregator', OrderedDict([('mean_value', ()), ('mean_weight', ())])), ('finalizer', OrderedDict([('update_non_finite', 0)]))])\n"
          ]
        }
      ],
      "source": [
        "NUM_ROUNDS = 100\n",
        "\n",
        "acc = []\n",
        "for round_num in range(2, NUM_ROUNDS):\n",
        "    state, metrics = iterative_process.next(state, federated_train_data)\n",
        "    print('round {:2d}, metrics={}'.format(round_num, metrics))\n",
        "    acc.append( metrics['client_work']['train'])"
      ]
    },
    {
      "cell_type": "code",
      "execution_count": null,
      "metadata": {
        "id": "TQ-fwQzijfLm"
      },
      "outputs": [],
      "source": [
        "from matplotlib.animation import FuncAnimation\n",
        "\n",
        "tp_values = [int(i['true_positives']) for i in acc]  # List of true positives values for each round\n",
        "tn_values = [int(i['true_negatives']) for i in acc]  # List of true negatives values for each round\n",
        "fp_values = [int(i['false_positives']) for i in acc]  # List of false positives values for each round\n",
        "fn_values = [int(i['false_negatives']) for i in acc]\n",
        "\n",
        "accuracy_values = [(tp + tn) / (tp + tn + fp + fn) for tp, tn, fp, fn in zip(tp_values, tn_values, fp_values, fn_values)]\n",
        "recall_values = [tp / (tp + fn) if (tp + fn) > 0 else 0 for tp, fn in zip(tp_values, fn_values)]\n",
        "f1_score_values = [tp/(tp+0.5*(fp+fn))  for tp, fp, fn in zip(tp_values, fp_values, fn_values)]\n",
        "\n",
        "# Create x-axis values\n",
        "rounds = np.arange(1, len(tp_values) + 1)\n",
        "\n",
        "# Plot recall\n",
        "plt.plot(rounds, recall_values, label='Recall')\n",
        "\n",
        "# Plot accuracy\n",
        "plt.plot(rounds, accuracy_values, label='Accuracy')\n",
        "\n",
        "# Plot F1 score\n",
        "plt.plot(rounds, f1_score_values, label='F1 Score')\n",
        "\n",
        "# Set plot title and labels\n",
        "plt.title('Performance Metrics')\n",
        "plt.xlabel('Round')\n",
        "plt.ylabel('Score')\n",
        "\n",
        "# Add legend\n",
        "plt.legend()\n",
        "\n",
        "# Show the plot\n",
        "plt.show()"
      ]
    },
    {
      "cell_type": "markdown",
      "metadata": {
        "id": "7EEC7bJNvj8H"
      },
      "source": [
        "Evaluation process"
      ]
    },
    {
      "cell_type": "code",
      "execution_count": null,
      "metadata": {
        "id": "9dwSZy3Ry00A"
      },
      "outputs": [],
      "source": [
        "\n",
        "# Create a model function\n",
        "\n",
        "# Use this model function to create a training process\n",
        "evaluation_process = tff.learning.algorithms.build_fed_eval(model_fn)"
      ]
    },
    {
      "cell_type": "code",
      "execution_count": null,
      "metadata": {
        "id": "_BQtDv8y3ovr"
      },
      "outputs": [],
      "source": [
        "print(evaluation_process.next.type_signature.formatted_representation())"
      ]
    },
    {
      "cell_type": "code",
      "execution_count": null,
      "metadata": {
        "id": "L0XF_HC56-db"
      },
      "outputs": [],
      "source": [
        "evaluation_state = evaluation_process.initialize()\n",
        "model_weights = iterative_process.get_model_weights(state)\n",
        "evaluation_state = evaluation_process.set_model_weights(evaluation_state, model_weights)"
      ]
    },
    {
      "cell_type": "code",
      "execution_count": null,
      "metadata": {
        "id": "TAj2UM8EsT5S"
      },
      "outputs": [],
      "source": [
        "import matplotlib.pyplot as plt\n",
        "import seaborn as sns\n",
        "from sklearn.metrics import ConfusionMatrixDisplay\n"
      ]
    },
    {
      "cell_type": "code",
      "execution_count": null,
      "metadata": {
        "id": "C0XXv1dB7LEz"
      },
      "outputs": [],
      "source": [
        "federated_test_data = make_federated_data(test_data, test_data.client_ids)\n",
        "\n",
        "len(federated_test_data), federated_test_data[0]"
      ]
    },
    {
      "cell_type": "code",
      "execution_count": null,
      "metadata": {
        "id": "apjmQG3w-3G2"
      },
      "outputs": [],
      "source": [
        "evaluation_output = evaluation_process.next(evaluation_state, federated_test_data)"
      ]
    },
    {
      "cell_type": "code",
      "execution_count": null,
      "metadata": {
        "id": "2ZXj96PHRm1I"
      },
      "outputs": [],
      "source": [
        "tp = int(evaluation_output.metrics[\"client_work\"][\"eval\"]['total_rounds_metrics']['true_positives'])\n",
        "tn = int(evaluation_output.metrics[\"client_work\"][\"eval\"]['total_rounds_metrics']['true_negatives'])\n",
        "fp = int(evaluation_output.metrics[\"client_work\"][\"eval\"]['total_rounds_metrics']['false_positives'])\n",
        "fn = int(evaluation_output.metrics[\"client_work\"][\"eval\"]['total_rounds_metrics']['false_negatives'])\n",
        "\n",
        "cm = np.array([[tp, fp],\n",
        "               [fn, tn]])\n",
        "\n",
        "# labels\n",
        "labels = ['Positive', 'Negative']\n",
        "fig = plt.figure()\n",
        "ax = fig.add_subplot(111)\n",
        "cax = ax.matshow(cm)\n",
        "plt.title('Confusion matrix of the classifier')\n",
        "fig.colorbar(cax)\n",
        "ax.set_xticklabels([''] + labels)\n",
        "ax.set_yticklabels([''] + labels)\n",
        "plt.xlabel('Predicted')\n",
        "plt.ylabel('True')\n",
        "plt.show()"
      ]
    },
    {
      "cell_type": "code",
      "execution_count": null,
      "metadata": {
        "id": "qSz68X0ZvLLV"
      },
      "outputs": [],
      "source": [
        "\n",
        "precision = tp / (tp + fp)\n",
        "recall = tp / (tp + fn)\n",
        "f1_score = 2 * (precision * recall) / (precision + recall)\n",
        "\n",
        "print(\"Precision:\", precision)\n",
        "print(\"Recall:\", recall)\n",
        "print(\"F1 score:\", f1_score)\n",
        "\n",
        "\n",
        "table_html = \"\"\"\n",
        "<table>\n",
        "  <tr>\n",
        "    <th>Metric</th>\n",
        "    <th>Value</th>\n",
        "  </tr>\n",
        "  <tr>\n",
        "    <td>Precision</td>\n",
        "    <td>{:.2f}</td>\n",
        "  </tr>\n",
        "  <tr>\n",
        "    <td>Recall</td>\n",
        "    <td>{:.2f}</td>\n",
        "  </tr>\n",
        "  <tr>\n",
        "    <td>F1 Score</td>\n",
        "    <td>{:.2f}</td>\n",
        "  </tr>\n",
        "</table>\n",
        "\"\"\".format(precision, recall, f1_score)\n",
        "\n",
        "# Display HTML table in Jupyter Notebook\n",
        "from IPython.display import display, HTML\n",
        "display(HTML(table_html))"
      ]
    }
  ],
  "metadata": {
    "colab": {
      "provenance": [],
      "include_colab_link": true
    },
    "kernelspec": {
      "display_name": "Python 3",
      "name": "python3"
    }
  },
  "nbformat": 4,
  "nbformat_minor": 0
}