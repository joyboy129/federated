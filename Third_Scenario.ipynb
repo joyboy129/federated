{
  "cells": [
    {
      "cell_type": "markdown",
      "metadata": {
        "id": "view-in-github",
        "colab_type": "text"
      },
      "source": [
        "<a href=\"https://colab.research.google.com/github/joyboy129/federated/blob/main/Third_Scenario.ipynb\" target=\"_parent\"><img src=\"https://colab.research.google.com/assets/colab-badge.svg\" alt=\"Open In Colab\"/></a>"
      ]
    },
    {
      "cell_type": "markdown",
      "metadata": {
        "id": "qN8P0AnTnAhh"
      },
      "source": [
        "##### Copyright 2019 The TensorFlow Authors."
      ]
    },
    {
      "cell_type": "code",
      "execution_count": null,
      "metadata": {
        "id": "ZrGitA_KnRO0",
        "colab": {
          "base_uri": "https://localhost:8080/"
        },
        "outputId": "3660568b-45dd-4a6e-a514-45b803ac82e5"
      },
      "outputs": [
        {
          "output_type": "stream",
          "name": "stdout",
          "text": [
            "\u001b[2K     \u001b[90m━━━━━━━━━━━━━━━━━━━━━━━━━━━━━━━━━━━━━━━\u001b[0m \u001b[32m114.4/114.4 MB\u001b[0m \u001b[31m5.2 MB/s\u001b[0m eta \u001b[36m0:00:00\u001b[0m\n",
            "\u001b[2K     \u001b[90m━━━━━━━━━━━━━━━━━━━━━━━━━━━━━━━━━━━━━━━━\u001b[0m \u001b[32m60.6/60.6 kB\u001b[0m \u001b[31m1.0 MB/s\u001b[0m eta \u001b[36m0:00:00\u001b[0m\n",
            "\u001b[2K     \u001b[90m━━━━━━━━━━━━━━━━━━━━━━━━━━━━━━━━━━━━━━━\u001b[0m \u001b[32m104.6/104.6 kB\u001b[0m \u001b[31m8.4 MB/s\u001b[0m eta \u001b[36m0:00:00\u001b[0m\n",
            "\u001b[2K     \u001b[90m━━━━━━━━━━━━━━━━━━━━━━━━━━━━━━━━━━━━━━━━\u001b[0m \u001b[32m98.7/98.7 kB\u001b[0m \u001b[31m8.0 MB/s\u001b[0m eta \u001b[36m0:00:00\u001b[0m\n",
            "\u001b[?25h  Preparing metadata (setup.py) ... \u001b[?25l\u001b[?25hdone\n",
            "\u001b[2K     \u001b[90m━━━━━━━━━━━━━━━━━━━━━━━━━━━━━━━━━━━━━━━\u001b[0m \u001b[32m558.5/558.5 kB\u001b[0m \u001b[31m9.9 MB/s\u001b[0m eta \u001b[36m0:00:00\u001b[0m\n",
            "\u001b[2K     \u001b[90m━━━━━━━━━━━━━━━━━━━━━━━━━━━━━━━━━━━━━━━━\u001b[0m \u001b[32m71.6/71.6 MB\u001b[0m \u001b[31m5.3 MB/s\u001b[0m eta \u001b[36m0:00:00\u001b[0m\n",
            "\u001b[2K     \u001b[90m━━━━━━━━━━━━━━━━━━━━━━━━━━━━━━━━━━━━━━━━\u001b[0m \u001b[32m1.3/1.3 MB\u001b[0m \u001b[31m26.2 MB/s\u001b[0m eta \u001b[36m0:00:00\u001b[0m\n",
            "\u001b[?25h  Installing build dependencies ... \u001b[?25l\u001b[?25hdone\n",
            "  Getting requirements to build wheel ... \u001b[?25l\u001b[?25hdone\n",
            "  Preparing metadata (pyproject.toml) ... \u001b[?25l\u001b[?25hdone\n",
            "\u001b[2K     \u001b[90m━━━━━━━━━━━━━━━━━━━━━━━━━━━━━━━━━━━━━━━━\u001b[0m \u001b[32m33.7/33.7 MB\u001b[0m \u001b[31m29.8 MB/s\u001b[0m eta \u001b[36m0:00:00\u001b[0m\n",
            "\u001b[2K     \u001b[90m━━━━━━━━━━━━━━━━━━━━━━━━━━━━━━━━━━━━━━\u001b[0m \u001b[32m255.8/255.8 kB\u001b[0m \u001b[31m17.8 MB/s\u001b[0m eta \u001b[36m0:00:00\u001b[0m\n",
            "\u001b[2K     \u001b[90m━━━━━━━━━━━━━━━━━━━━━━━━━━━━━━━━━━━━━━\u001b[0m \u001b[32m238.9/238.9 kB\u001b[0m \u001b[31m16.0 MB/s\u001b[0m eta \u001b[36m0:00:00\u001b[0m\n",
            "\u001b[2K     \u001b[90m━━━━━━━━━━━━━━━━━━━━━━━━━━━━━━━━━━━━━━\u001b[0m \u001b[32m365.2/365.2 kB\u001b[0m \u001b[31m27.5 MB/s\u001b[0m eta \u001b[36m0:00:00\u001b[0m\n",
            "\u001b[2K     \u001b[90m━━━━━━━━━━━━━━━━━━━━━━━━━━━━━━━━━━━━━━━━\u001b[0m \u001b[32m4.6/4.6 MB\u001b[0m \u001b[31m52.0 MB/s\u001b[0m eta \u001b[36m0:00:00\u001b[0m\n",
            "\u001b[2K     \u001b[90m━━━━━━━━━━━━━━━━━━━━━━━━━━━━━━━━━━━━━━━━\u001b[0m \u001b[32m2.4/2.4 MB\u001b[0m \u001b[31m62.5 MB/s\u001b[0m eta \u001b[36m0:00:00\u001b[0m\n",
            "\u001b[2K     \u001b[90m━━━━━━━━━━━━━━━━━━━━━━━━━━━━━━━━━━━━━━━━\u001b[0m \u001b[32m7.4/7.4 MB\u001b[0m \u001b[31m82.2 MB/s\u001b[0m eta \u001b[36m0:00:00\u001b[0m\n",
            "\u001b[?25h  Preparing metadata (setup.py) ... \u001b[?25l\u001b[?25hdone\n",
            "\u001b[2K     \u001b[90m━━━━━━━━━━━━━━━━━━━━━━━━━━━━━━━━━━━━━━━━\u001b[0m \u001b[32m42.6/42.6 kB\u001b[0m \u001b[31m4.2 MB/s\u001b[0m eta \u001b[36m0:00:00\u001b[0m\n",
            "\u001b[?25h  Building wheel for farmhashpy (setup.py) ... \u001b[?25l\u001b[?25hdone\n",
            "  Building wheel for jax (pyproject.toml) ... \u001b[?25l\u001b[?25hdone\n",
            "  Building wheel for sqlalchemy (setup.py) ... \u001b[?25l\u001b[?25hdone\n",
            "\u001b[31mERROR: pip's dependency resolver does not currently take into account all the packages that are installed. This behaviour is the source of the following dependency conflicts.\n",
            "ipython-sql 0.5.0 requires sqlalchemy>=2.0, but you have sqlalchemy 1.4.0 which is incompatible.\n",
            "jsonschema 4.19.0 requires attrs>=22.2.0, but you have attrs 21.4.0 which is incompatible.\n",
            "pydantic 2.2.0 requires typing-extensions>=4.6.1, but you have typing-extensions 4.4.0 which is incompatible.\n",
            "pydantic-core 2.6.0 requires typing-extensions!=4.7.0,>=4.6.0, but you have typing-extensions 4.4.0 which is incompatible.\n",
            "pymc 5.7.2 requires cachetools>=4.2.1, but you have cachetools 3.1.1 which is incompatible.\n",
            "referencing 0.30.2 requires attrs>=22.2.0, but you have attrs 21.4.0 which is incompatible.\u001b[0m\u001b[31m\n",
            "\u001b[0m"
          ]
        }
      ],
      "source": [
        "#@test {\"skip\": true}\n",
        "\n",
        "!pip install --quiet --upgrade tensorflow-federated\n",
        "import nest_asyncio\n",
        "nest_asyncio.apply()"
      ]
    },
    {
      "cell_type": "code",
      "execution_count": null,
      "metadata": {
        "id": "2RkZiaHkDLH4"
      },
      "outputs": [],
      "source": [
        "L=[]"
      ]
    },
    {
      "cell_type": "code",
      "execution_count": null,
      "metadata": {
        "id": "QLyJIaLlERJ8"
      },
      "outputs": [],
      "source": [
        "%load_ext tensorboard"
      ]
    },
    {
      "cell_type": "code",
      "execution_count": null,
      "metadata": {
        "colab": {
          "base_uri": "https://localhost:8080/"
        },
        "id": "8BKyHkMxKHfV",
        "outputId": "64224e4a-3a85-48cd-ca2d-89b9ad32f49f"
      },
      "outputs": [
        {
          "output_type": "execute_result",
          "data": {
            "text/plain": [
              "b'Hello, World!'"
            ]
          },
          "metadata": {},
          "execution_count": 4
        }
      ],
      "source": [
        "import collections\n",
        "\n",
        "import numpy as np\n",
        "import tensorflow as tf\n",
        "import tensorflow_federated as tff\n",
        "\n",
        "np.random.seed(0)\n",
        "\n",
        "tff.federated_computation(lambda: 'Hello, World!')()"
      ]
    },
    {
      "cell_type": "code",
      "execution_count": null,
      "metadata": {
        "colab": {
          "base_uri": "https://localhost:8080/"
        },
        "id": "afc6bc6f",
        "outputId": "e59725db-eb33-441d-f77a-a930201ccc76"
      },
      "outputs": [
        {
          "output_type": "stream",
          "name": "stdout",
          "text": [
            "Mounted at /content/drive\n"
          ]
        }
      ],
      "source": [
        "import pandas as pd\n",
        "import numpy as np\n",
        "from google.colab import drive\n",
        "drive.mount('/content/drive')\n",
        "from sklearn.preprocessing import MinMaxScaler\n"
      ]
    },
    {
      "cell_type": "code",
      "execution_count": null,
      "metadata": {
        "id": "XYc9s0OrF6Av"
      },
      "outputs": [],
      "source": [
        "df1 = pd.read_csv(\"/content/drive/MyDrive/BigData_1.csv\", sep=';', encoding='latin-1')\n",
        "df2 = pd.read_csv(\"/content/drive/MyDrive/BigData.csv\", sep=',', encoding='latin-1')\n",
        "df2.rename(columns={\"ElectronÃ©gativitÃ©\": \"Electronégativité\"}, inplace=True)\n",
        "df1.rename(columns={\"ï»¿Alloy\":\"Alloy\"}, inplace=True)\n",
        "\n",
        "df=pd.concat([ df2,df1[[\"Alloy\"]]], axis=1)\n",
        "\n",
        "df.drop(\"Unnamed: 0\", axis=1, inplace=True)\n",
        "df = df.dropna(subset=[\"Etat d'entropie\"])\n"
      ]
    },
    {
      "cell_type": "code",
      "execution_count": null,
      "metadata": {
        "colab": {
          "base_uri": "https://localhost:8080/",
          "height": 206
        },
        "id": "uAuYYYdU_m9V",
        "outputId": "a64dab9c-b589-4134-8306-44b1c3c4fac1"
      },
      "outputs": [
        {
          "output_type": "execute_result",
          "data": {
            "text/plain": [
              "   Etat d'entropie     A     delta       TM  DELTA_TM  Electronégativité  \\\n",
              "0                0  1.70  0.128876  1556.39  0.692971              2.002   \n",
              "1                0  1.66  0.118048  1028.02  0.269873              2.056   \n",
              "2                0  1.68  0.147734  1456.45  0.700721              2.078   \n",
              "3                0  1.74  0.187466  1449.87  0.196955              1.822   \n",
              "4                0  1.78  0.096655  1655.41  0.224371              1.804   \n",
              "\n",
              "   Delta_Electro-        SID  VEC  Delta VEC      K     Delta K  \\\n",
              "0        0.243590  13.380867  4.0   1.897367  110.2  105.243337   \n",
              "1        0.305195  13.380867  3.0   1.788854   89.8   71.134802   \n",
              "2        0.160175  13.380867  4.4   1.959592  116.0  129.602469   \n",
              "3        0.319900  13.380867  3.8   2.993326   96.6   59.172967   \n",
              "4        0.175795  13.380867  4.8   2.638181  110.0   62.609903   \n",
              "\n",
              "            Alloy  \n",
              "0   Ag-Al-Ge-Te-W  \n",
              "1  Ag-Al-As-Au-Bi  \n",
              "2  Ag-As-Pb-Re-Sb  \n",
              "3   Ag-As-Co-Cu-Y  \n",
              "4  Ag-Co-Cr-Ge-Ti  "
            ],
            "text/html": [
              "\n",
              "  <div id=\"df-6a1976d3-c8cd-435d-a3cc-8d33bb12f780\" class=\"colab-df-container\">\n",
              "    <div>\n",
              "<style scoped>\n",
              "    .dataframe tbody tr th:only-of-type {\n",
              "        vertical-align: middle;\n",
              "    }\n",
              "\n",
              "    .dataframe tbody tr th {\n",
              "        vertical-align: top;\n",
              "    }\n",
              "\n",
              "    .dataframe thead th {\n",
              "        text-align: right;\n",
              "    }\n",
              "</style>\n",
              "<table border=\"1\" class=\"dataframe\">\n",
              "  <thead>\n",
              "    <tr style=\"text-align: right;\">\n",
              "      <th></th>\n",
              "      <th>Etat d'entropie</th>\n",
              "      <th>A</th>\n",
              "      <th>delta</th>\n",
              "      <th>TM</th>\n",
              "      <th>DELTA_TM</th>\n",
              "      <th>Electronégativité</th>\n",
              "      <th>Delta_Electro-</th>\n",
              "      <th>SID</th>\n",
              "      <th>VEC</th>\n",
              "      <th>Delta VEC</th>\n",
              "      <th>K</th>\n",
              "      <th>Delta K</th>\n",
              "      <th>Alloy</th>\n",
              "    </tr>\n",
              "  </thead>\n",
              "  <tbody>\n",
              "    <tr>\n",
              "      <th>0</th>\n",
              "      <td>0</td>\n",
              "      <td>1.70</td>\n",
              "      <td>0.128876</td>\n",
              "      <td>1556.39</td>\n",
              "      <td>0.692971</td>\n",
              "      <td>2.002</td>\n",
              "      <td>0.243590</td>\n",
              "      <td>13.380867</td>\n",
              "      <td>4.0</td>\n",
              "      <td>1.897367</td>\n",
              "      <td>110.2</td>\n",
              "      <td>105.243337</td>\n",
              "      <td>Ag-Al-Ge-Te-W</td>\n",
              "    </tr>\n",
              "    <tr>\n",
              "      <th>1</th>\n",
              "      <td>0</td>\n",
              "      <td>1.66</td>\n",
              "      <td>0.118048</td>\n",
              "      <td>1028.02</td>\n",
              "      <td>0.269873</td>\n",
              "      <td>2.056</td>\n",
              "      <td>0.305195</td>\n",
              "      <td>13.380867</td>\n",
              "      <td>3.0</td>\n",
              "      <td>1.788854</td>\n",
              "      <td>89.8</td>\n",
              "      <td>71.134802</td>\n",
              "      <td>Ag-Al-As-Au-Bi</td>\n",
              "    </tr>\n",
              "    <tr>\n",
              "      <th>2</th>\n",
              "      <td>0</td>\n",
              "      <td>1.68</td>\n",
              "      <td>0.147734</td>\n",
              "      <td>1456.45</td>\n",
              "      <td>0.700721</td>\n",
              "      <td>2.078</td>\n",
              "      <td>0.160175</td>\n",
              "      <td>13.380867</td>\n",
              "      <td>4.4</td>\n",
              "      <td>1.959592</td>\n",
              "      <td>116.0</td>\n",
              "      <td>129.602469</td>\n",
              "      <td>Ag-As-Pb-Re-Sb</td>\n",
              "    </tr>\n",
              "    <tr>\n",
              "      <th>3</th>\n",
              "      <td>0</td>\n",
              "      <td>1.74</td>\n",
              "      <td>0.187466</td>\n",
              "      <td>1449.87</td>\n",
              "      <td>0.196955</td>\n",
              "      <td>1.822</td>\n",
              "      <td>0.319900</td>\n",
              "      <td>13.380867</td>\n",
              "      <td>3.8</td>\n",
              "      <td>2.993326</td>\n",
              "      <td>96.6</td>\n",
              "      <td>59.172967</td>\n",
              "      <td>Ag-As-Co-Cu-Y</td>\n",
              "    </tr>\n",
              "    <tr>\n",
              "      <th>4</th>\n",
              "      <td>0</td>\n",
              "      <td>1.78</td>\n",
              "      <td>0.096655</td>\n",
              "      <td>1655.41</td>\n",
              "      <td>0.224371</td>\n",
              "      <td>1.804</td>\n",
              "      <td>0.175795</td>\n",
              "      <td>13.380867</td>\n",
              "      <td>4.8</td>\n",
              "      <td>2.638181</td>\n",
              "      <td>110.0</td>\n",
              "      <td>62.609903</td>\n",
              "      <td>Ag-Co-Cr-Ge-Ti</td>\n",
              "    </tr>\n",
              "  </tbody>\n",
              "</table>\n",
              "</div>\n",
              "    <div class=\"colab-df-buttons\">\n",
              "\n",
              "  <div class=\"colab-df-container\">\n",
              "    <button class=\"colab-df-convert\" onclick=\"convertToInteractive('df-6a1976d3-c8cd-435d-a3cc-8d33bb12f780')\"\n",
              "            title=\"Convert this dataframe to an interactive table.\"\n",
              "            style=\"display:none;\">\n",
              "\n",
              "  <svg xmlns=\"http://www.w3.org/2000/svg\" height=\"24px\" viewBox=\"0 -960 960 960\">\n",
              "    <path d=\"M120-120v-720h720v720H120Zm60-500h600v-160H180v160Zm220 220h160v-160H400v160Zm0 220h160v-160H400v160ZM180-400h160v-160H180v160Zm440 0h160v-160H620v160ZM180-180h160v-160H180v160Zm440 0h160v-160H620v160Z\"/>\n",
              "  </svg>\n",
              "    </button>\n",
              "\n",
              "  <style>\n",
              "    .colab-df-container {\n",
              "      display:flex;\n",
              "      gap: 12px;\n",
              "    }\n",
              "\n",
              "    .colab-df-convert {\n",
              "      background-color: #E8F0FE;\n",
              "      border: none;\n",
              "      border-radius: 50%;\n",
              "      cursor: pointer;\n",
              "      display: none;\n",
              "      fill: #1967D2;\n",
              "      height: 32px;\n",
              "      padding: 0 0 0 0;\n",
              "      width: 32px;\n",
              "    }\n",
              "\n",
              "    .colab-df-convert:hover {\n",
              "      background-color: #E2EBFA;\n",
              "      box-shadow: 0px 1px 2px rgba(60, 64, 67, 0.3), 0px 1px 3px 1px rgba(60, 64, 67, 0.15);\n",
              "      fill: #174EA6;\n",
              "    }\n",
              "\n",
              "    .colab-df-buttons div {\n",
              "      margin-bottom: 4px;\n",
              "    }\n",
              "\n",
              "    [theme=dark] .colab-df-convert {\n",
              "      background-color: #3B4455;\n",
              "      fill: #D2E3FC;\n",
              "    }\n",
              "\n",
              "    [theme=dark] .colab-df-convert:hover {\n",
              "      background-color: #434B5C;\n",
              "      box-shadow: 0px 1px 3px 1px rgba(0, 0, 0, 0.15);\n",
              "      filter: drop-shadow(0px 1px 2px rgba(0, 0, 0, 0.3));\n",
              "      fill: #FFFFFF;\n",
              "    }\n",
              "  </style>\n",
              "\n",
              "    <script>\n",
              "      const buttonEl =\n",
              "        document.querySelector('#df-6a1976d3-c8cd-435d-a3cc-8d33bb12f780 button.colab-df-convert');\n",
              "      buttonEl.style.display =\n",
              "        google.colab.kernel.accessAllowed ? 'block' : 'none';\n",
              "\n",
              "      async function convertToInteractive(key) {\n",
              "        const element = document.querySelector('#df-6a1976d3-c8cd-435d-a3cc-8d33bb12f780');\n",
              "        const dataTable =\n",
              "          await google.colab.kernel.invokeFunction('convertToInteractive',\n",
              "                                                    [key], {});\n",
              "        if (!dataTable) return;\n",
              "\n",
              "        const docLinkHtml = 'Like what you see? Visit the ' +\n",
              "          '<a target=\"_blank\" href=https://colab.research.google.com/notebooks/data_table.ipynb>data table notebook</a>'\n",
              "          + ' to learn more about interactive tables.';\n",
              "        element.innerHTML = '';\n",
              "        dataTable['output_type'] = 'display_data';\n",
              "        await google.colab.output.renderOutput(dataTable, element);\n",
              "        const docLink = document.createElement('div');\n",
              "        docLink.innerHTML = docLinkHtml;\n",
              "        element.appendChild(docLink);\n",
              "      }\n",
              "    </script>\n",
              "  </div>\n",
              "\n",
              "\n",
              "<div id=\"df-10128b75-8783-4d7a-8a29-5815a2dc716f\">\n",
              "  <button class=\"colab-df-quickchart\" onclick=\"quickchart('df-10128b75-8783-4d7a-8a29-5815a2dc716f')\"\n",
              "            title=\"Suggest charts.\"\n",
              "            style=\"display:none;\">\n",
              "\n",
              "<svg xmlns=\"http://www.w3.org/2000/svg\" height=\"24px\"viewBox=\"0 0 24 24\"\n",
              "     width=\"24px\">\n",
              "    <g>\n",
              "        <path d=\"M19 3H5c-1.1 0-2 .9-2 2v14c0 1.1.9 2 2 2h14c1.1 0 2-.9 2-2V5c0-1.1-.9-2-2-2zM9 17H7v-7h2v7zm4 0h-2V7h2v10zm4 0h-2v-4h2v4z\"/>\n",
              "    </g>\n",
              "</svg>\n",
              "  </button>\n",
              "\n",
              "<style>\n",
              "  .colab-df-quickchart {\n",
              "    background-color: #E8F0FE;\n",
              "    border: none;\n",
              "    border-radius: 50%;\n",
              "    cursor: pointer;\n",
              "    display: none;\n",
              "    fill: #1967D2;\n",
              "    height: 32px;\n",
              "    padding: 0 0 0 0;\n",
              "    width: 32px;\n",
              "  }\n",
              "\n",
              "  .colab-df-quickchart:hover {\n",
              "    background-color: #E2EBFA;\n",
              "    box-shadow: 0px 1px 2px rgba(60, 64, 67, 0.3), 0px 1px 3px 1px rgba(60, 64, 67, 0.15);\n",
              "    fill: #174EA6;\n",
              "  }\n",
              "\n",
              "  [theme=dark] .colab-df-quickchart {\n",
              "    background-color: #3B4455;\n",
              "    fill: #D2E3FC;\n",
              "  }\n",
              "\n",
              "  [theme=dark] .colab-df-quickchart:hover {\n",
              "    background-color: #434B5C;\n",
              "    box-shadow: 0px 1px 3px 1px rgba(0, 0, 0, 0.15);\n",
              "    filter: drop-shadow(0px 1px 2px rgba(0, 0, 0, 0.3));\n",
              "    fill: #FFFFFF;\n",
              "  }\n",
              "</style>\n",
              "\n",
              "  <script>\n",
              "    async function quickchart(key) {\n",
              "      const charts = await google.colab.kernel.invokeFunction(\n",
              "          'suggestCharts', [key], {});\n",
              "    }\n",
              "    (() => {\n",
              "      let quickchartButtonEl =\n",
              "        document.querySelector('#df-10128b75-8783-4d7a-8a29-5815a2dc716f button');\n",
              "      quickchartButtonEl.style.display =\n",
              "        google.colab.kernel.accessAllowed ? 'block' : 'none';\n",
              "    })();\n",
              "  </script>\n",
              "</div>\n",
              "    </div>\n",
              "  </div>\n"
            ]
          },
          "metadata": {},
          "execution_count": 53
        }
      ],
      "source": [
        "df.head()\n"
      ]
    },
    {
      "cell_type": "code",
      "execution_count": null,
      "metadata": {
        "colab": {
          "base_uri": "https://localhost:8080/"
        },
        "id": "81QhaunIGuFL",
        "outputId": "eb2b9240-88e2-42ec-f30c-179066580c6c"
      },
      "outputs": [
        {
          "output_type": "execute_result",
          "data": {
            "text/plain": [
              "Etat d'entropie        int64\n",
              "A                    float64\n",
              "delta                float64\n",
              "TM                   float64\n",
              "DELTA_TM             float64\n",
              "Electronégativité    float64\n",
              "Delta_Electro-       float64\n",
              "SID                  float64\n",
              "VEC                  float64\n",
              "Delta VEC            float64\n",
              "K                    float64\n",
              "Delta K              float64\n",
              "Alloy                 object\n",
              "dtype: object"
            ]
          },
          "metadata": {},
          "execution_count": 54
        }
      ],
      "source": [
        "df.dtypes\n",
        "# df=df.iloc[:50000]\n",
        "# Run for small data\n",
        "# df.rename(columns={\"ElectronÃ©gativitÃ©\": \"Electronégativité\"}, inplace=True)\n",
        "\n",
        "# df.columns\n",
        "# df.drop(['Alloy', 'Longue Phase', 'Ag', 'Al', 'Cd', 'Ga', 'Mg', 'Pt', 'Sb',\n",
        "#        'Sn', 'Ti', 'Zn', 'Zr', 'B', 'Ca', 'Ce', 'Co', 'Cr', 'Cu', 'Er', 'Fe',\n",
        "#        'In', 'La', 'Li', 'Mn', 'Mo', 'Nd', 'Ni', 'Re', 'Ru', 'Sm', 'V', 'Yb',\n",
        "#        'Au', 'Be', 'Bi', 'Pb', 'Nb', 'Si', 'Dy', 'Ge', 'Hf', 'W', 'Pd', 'Sr',\n",
        "#        'Na', 'Y', 'Ta', 'Gd', 'Rh', 'P', 'C', 'Ho', 'Pr', 'N', 'Tb', 'Sc',\n",
        "#        'Tm', 'Lu', 'Ir', 'Os', 'As', 'Tc'], axis=1, inplace=True)\n",
        "# df[\"Etat d'entropie\"] = df[\"Etat d'entropie\"].map({'H': 1, 'L': 0})\n",
        "# df[\"Etat d'entropie\"].value_counts()\n"
      ]
    },
    {
      "cell_type": "code",
      "execution_count": null,
      "metadata": {
        "colab": {
          "base_uri": "https://localhost:8080/",
          "height": 206
        },
        "id": "d507ae97",
        "outputId": "2d57744e-a47e-49ed-b251-f8dd87992dfa"
      },
      "outputs": [
        {
          "output_type": "execute_result",
          "data": {
            "text/plain": [
              "   Etat d'entropie     A     delta        TM  DELTA_TM  Electronégativité  \\\n",
              "0                0  1.82  0.131868  1446.400  0.552844              1.900   \n",
              "1                1  1.78  0.143890  2388.950  0.362316              2.252   \n",
              "2                1  1.92  0.060739  2263.466  0.260434              2.140   \n",
              "3                1  1.82  0.094531  2444.350  0.252202              2.132   \n",
              "4                1  1.90  0.033287  2657.750  0.207483              2.140   \n",
              "\n",
              "   Delta_Electro-        SID  VEC  Delta VEC      K     Delta K  \\\n",
              "0        0.298463  13.380867  4.0   1.673320   98.2   42.719551   \n",
              "1        0.073321  13.380867  7.2   1.939072  234.4  120.055987   \n",
              "2        0.303051  13.380867  4.0   3.033150  204.0   24.166092   \n",
              "3        0.117030  13.380867  5.2   2.993326  146.0   86.162637   \n",
              "4        0.247225  13.380867  7.6   1.356466  278.0   78.076885   \n",
              "\n",
              "            Alloy  id  \n",
              "0  Ag-Nb-Pb-Te-Ti   1  \n",
              "1   As-Mo-Pt-Rh-W   1  \n",
              "2  Au-Mo-Nb-Pd-Ru   1  \n",
              "3  Mo-Os-Pd-Ru-Si   1  \n",
              "4   Cr-Ir-Rh-Ru-W   1  "
            ],
            "text/html": [
              "\n",
              "  <div id=\"df-8f5f527e-5bf0-427a-a7d4-85a0412b2ec2\" class=\"colab-df-container\">\n",
              "    <div>\n",
              "<style scoped>\n",
              "    .dataframe tbody tr th:only-of-type {\n",
              "        vertical-align: middle;\n",
              "    }\n",
              "\n",
              "    .dataframe tbody tr th {\n",
              "        vertical-align: top;\n",
              "    }\n",
              "\n",
              "    .dataframe thead th {\n",
              "        text-align: right;\n",
              "    }\n",
              "</style>\n",
              "<table border=\"1\" class=\"dataframe\">\n",
              "  <thead>\n",
              "    <tr style=\"text-align: right;\">\n",
              "      <th></th>\n",
              "      <th>Etat d'entropie</th>\n",
              "      <th>A</th>\n",
              "      <th>delta</th>\n",
              "      <th>TM</th>\n",
              "      <th>DELTA_TM</th>\n",
              "      <th>Electronégativité</th>\n",
              "      <th>Delta_Electro-</th>\n",
              "      <th>SID</th>\n",
              "      <th>VEC</th>\n",
              "      <th>Delta VEC</th>\n",
              "      <th>K</th>\n",
              "      <th>Delta K</th>\n",
              "      <th>Alloy</th>\n",
              "      <th>id</th>\n",
              "    </tr>\n",
              "  </thead>\n",
              "  <tbody>\n",
              "    <tr>\n",
              "      <th>0</th>\n",
              "      <td>0</td>\n",
              "      <td>1.82</td>\n",
              "      <td>0.131868</td>\n",
              "      <td>1446.400</td>\n",
              "      <td>0.552844</td>\n",
              "      <td>1.900</td>\n",
              "      <td>0.298463</td>\n",
              "      <td>13.380867</td>\n",
              "      <td>4.0</td>\n",
              "      <td>1.673320</td>\n",
              "      <td>98.2</td>\n",
              "      <td>42.719551</td>\n",
              "      <td>Ag-Nb-Pb-Te-Ti</td>\n",
              "      <td>1</td>\n",
              "    </tr>\n",
              "    <tr>\n",
              "      <th>1</th>\n",
              "      <td>1</td>\n",
              "      <td>1.78</td>\n",
              "      <td>0.143890</td>\n",
              "      <td>2388.950</td>\n",
              "      <td>0.362316</td>\n",
              "      <td>2.252</td>\n",
              "      <td>0.073321</td>\n",
              "      <td>13.380867</td>\n",
              "      <td>7.2</td>\n",
              "      <td>1.939072</td>\n",
              "      <td>234.4</td>\n",
              "      <td>120.055987</td>\n",
              "      <td>As-Mo-Pt-Rh-W</td>\n",
              "      <td>1</td>\n",
              "    </tr>\n",
              "    <tr>\n",
              "      <th>2</th>\n",
              "      <td>1</td>\n",
              "      <td>1.92</td>\n",
              "      <td>0.060739</td>\n",
              "      <td>2263.466</td>\n",
              "      <td>0.260434</td>\n",
              "      <td>2.140</td>\n",
              "      <td>0.303051</td>\n",
              "      <td>13.380867</td>\n",
              "      <td>4.0</td>\n",
              "      <td>3.033150</td>\n",
              "      <td>204.0</td>\n",
              "      <td>24.166092</td>\n",
              "      <td>Au-Mo-Nb-Pd-Ru</td>\n",
              "      <td>1</td>\n",
              "    </tr>\n",
              "    <tr>\n",
              "      <th>3</th>\n",
              "      <td>1</td>\n",
              "      <td>1.82</td>\n",
              "      <td>0.094531</td>\n",
              "      <td>2444.350</td>\n",
              "      <td>0.252202</td>\n",
              "      <td>2.132</td>\n",
              "      <td>0.117030</td>\n",
              "      <td>13.380867</td>\n",
              "      <td>5.2</td>\n",
              "      <td>2.993326</td>\n",
              "      <td>146.0</td>\n",
              "      <td>86.162637</td>\n",
              "      <td>Mo-Os-Pd-Ru-Si</td>\n",
              "      <td>1</td>\n",
              "    </tr>\n",
              "    <tr>\n",
              "      <th>4</th>\n",
              "      <td>1</td>\n",
              "      <td>1.90</td>\n",
              "      <td>0.033287</td>\n",
              "      <td>2657.750</td>\n",
              "      <td>0.207483</td>\n",
              "      <td>2.140</td>\n",
              "      <td>0.247225</td>\n",
              "      <td>13.380867</td>\n",
              "      <td>7.6</td>\n",
              "      <td>1.356466</td>\n",
              "      <td>278.0</td>\n",
              "      <td>78.076885</td>\n",
              "      <td>Cr-Ir-Rh-Ru-W</td>\n",
              "      <td>1</td>\n",
              "    </tr>\n",
              "  </tbody>\n",
              "</table>\n",
              "</div>\n",
              "    <div class=\"colab-df-buttons\">\n",
              "\n",
              "  <div class=\"colab-df-container\">\n",
              "    <button class=\"colab-df-convert\" onclick=\"convertToInteractive('df-8f5f527e-5bf0-427a-a7d4-85a0412b2ec2')\"\n",
              "            title=\"Convert this dataframe to an interactive table.\"\n",
              "            style=\"display:none;\">\n",
              "\n",
              "  <svg xmlns=\"http://www.w3.org/2000/svg\" height=\"24px\" viewBox=\"0 -960 960 960\">\n",
              "    <path d=\"M120-120v-720h720v720H120Zm60-500h600v-160H180v160Zm220 220h160v-160H400v160Zm0 220h160v-160H400v160ZM180-400h160v-160H180v160Zm440 0h160v-160H620v160ZM180-180h160v-160H180v160Zm440 0h160v-160H620v160Z\"/>\n",
              "  </svg>\n",
              "    </button>\n",
              "\n",
              "  <style>\n",
              "    .colab-df-container {\n",
              "      display:flex;\n",
              "      gap: 12px;\n",
              "    }\n",
              "\n",
              "    .colab-df-convert {\n",
              "      background-color: #E8F0FE;\n",
              "      border: none;\n",
              "      border-radius: 50%;\n",
              "      cursor: pointer;\n",
              "      display: none;\n",
              "      fill: #1967D2;\n",
              "      height: 32px;\n",
              "      padding: 0 0 0 0;\n",
              "      width: 32px;\n",
              "    }\n",
              "\n",
              "    .colab-df-convert:hover {\n",
              "      background-color: #E2EBFA;\n",
              "      box-shadow: 0px 1px 2px rgba(60, 64, 67, 0.3), 0px 1px 3px 1px rgba(60, 64, 67, 0.15);\n",
              "      fill: #174EA6;\n",
              "    }\n",
              "\n",
              "    .colab-df-buttons div {\n",
              "      margin-bottom: 4px;\n",
              "    }\n",
              "\n",
              "    [theme=dark] .colab-df-convert {\n",
              "      background-color: #3B4455;\n",
              "      fill: #D2E3FC;\n",
              "    }\n",
              "\n",
              "    [theme=dark] .colab-df-convert:hover {\n",
              "      background-color: #434B5C;\n",
              "      box-shadow: 0px 1px 3px 1px rgba(0, 0, 0, 0.15);\n",
              "      filter: drop-shadow(0px 1px 2px rgba(0, 0, 0, 0.3));\n",
              "      fill: #FFFFFF;\n",
              "    }\n",
              "  </style>\n",
              "\n",
              "    <script>\n",
              "      const buttonEl =\n",
              "        document.querySelector('#df-8f5f527e-5bf0-427a-a7d4-85a0412b2ec2 button.colab-df-convert');\n",
              "      buttonEl.style.display =\n",
              "        google.colab.kernel.accessAllowed ? 'block' : 'none';\n",
              "\n",
              "      async function convertToInteractive(key) {\n",
              "        const element = document.querySelector('#df-8f5f527e-5bf0-427a-a7d4-85a0412b2ec2');\n",
              "        const dataTable =\n",
              "          await google.colab.kernel.invokeFunction('convertToInteractive',\n",
              "                                                    [key], {});\n",
              "        if (!dataTable) return;\n",
              "\n",
              "        const docLinkHtml = 'Like what you see? Visit the ' +\n",
              "          '<a target=\"_blank\" href=https://colab.research.google.com/notebooks/data_table.ipynb>data table notebook</a>'\n",
              "          + ' to learn more about interactive tables.';\n",
              "        element.innerHTML = '';\n",
              "        dataTable['output_type'] = 'display_data';\n",
              "        await google.colab.output.renderOutput(dataTable, element);\n",
              "        const docLink = document.createElement('div');\n",
              "        docLink.innerHTML = docLinkHtml;\n",
              "        element.appendChild(docLink);\n",
              "      }\n",
              "    </script>\n",
              "  </div>\n",
              "\n",
              "\n",
              "<div id=\"df-1249fdc0-ab64-4968-98c2-1317713e7e10\">\n",
              "  <button class=\"colab-df-quickchart\" onclick=\"quickchart('df-1249fdc0-ab64-4968-98c2-1317713e7e10')\"\n",
              "            title=\"Suggest charts.\"\n",
              "            style=\"display:none;\">\n",
              "\n",
              "<svg xmlns=\"http://www.w3.org/2000/svg\" height=\"24px\"viewBox=\"0 0 24 24\"\n",
              "     width=\"24px\">\n",
              "    <g>\n",
              "        <path d=\"M19 3H5c-1.1 0-2 .9-2 2v14c0 1.1.9 2 2 2h14c1.1 0 2-.9 2-2V5c0-1.1-.9-2-2-2zM9 17H7v-7h2v7zm4 0h-2V7h2v10zm4 0h-2v-4h2v4z\"/>\n",
              "    </g>\n",
              "</svg>\n",
              "  </button>\n",
              "\n",
              "<style>\n",
              "  .colab-df-quickchart {\n",
              "    background-color: #E8F0FE;\n",
              "    border: none;\n",
              "    border-radius: 50%;\n",
              "    cursor: pointer;\n",
              "    display: none;\n",
              "    fill: #1967D2;\n",
              "    height: 32px;\n",
              "    padding: 0 0 0 0;\n",
              "    width: 32px;\n",
              "  }\n",
              "\n",
              "  .colab-df-quickchart:hover {\n",
              "    background-color: #E2EBFA;\n",
              "    box-shadow: 0px 1px 2px rgba(60, 64, 67, 0.3), 0px 1px 3px 1px rgba(60, 64, 67, 0.15);\n",
              "    fill: #174EA6;\n",
              "  }\n",
              "\n",
              "  [theme=dark] .colab-df-quickchart {\n",
              "    background-color: #3B4455;\n",
              "    fill: #D2E3FC;\n",
              "  }\n",
              "\n",
              "  [theme=dark] .colab-df-quickchart:hover {\n",
              "    background-color: #434B5C;\n",
              "    box-shadow: 0px 1px 3px 1px rgba(0, 0, 0, 0.15);\n",
              "    filter: drop-shadow(0px 1px 2px rgba(0, 0, 0, 0.3));\n",
              "    fill: #FFFFFF;\n",
              "  }\n",
              "</style>\n",
              "\n",
              "  <script>\n",
              "    async function quickchart(key) {\n",
              "      const charts = await google.colab.kernel.invokeFunction(\n",
              "          'suggestCharts', [key], {});\n",
              "    }\n",
              "    (() => {\n",
              "      let quickchartButtonEl =\n",
              "        document.querySelector('#df-1249fdc0-ab64-4968-98c2-1317713e7e10 button');\n",
              "      quickchartButtonEl.style.display =\n",
              "        google.colab.kernel.accessAllowed ? 'block' : 'none';\n",
              "    })();\n",
              "  </script>\n",
              "</div>\n",
              "    </div>\n",
              "  </div>\n"
            ]
          },
          "metadata": {},
          "execution_count": 55
        }
      ],
      "source": [
        "# import random\n",
        "# client1 = int((client1/100) *df.shape[0])\n",
        "# client2 = int((client2/100) *df.shape[0])\n",
        "# client3 = int((client3/100) *df.shape[0])\n",
        "# client4 = df.shape[0] - client1 - client2 - client3\n",
        "# my_list = [1] * client1 + [2] * client2 + [3] * client3 + [4] * client4\n",
        "# random.shuffle(my_list)\n",
        "from sklearn.utils import resample\n",
        "from sklearn.model_selection import train_test_split\n",
        "from sklearn.preprocessing import StandardScaler\n",
        "\n",
        "num_rows_with_0 = 6000\n",
        "df_ones = df[df['Etat d\\'entropie'] == 0]\n",
        "df_zeros = df[df['Etat d\\'entropie'] == 1]\n",
        "\n",
        "# If the number of rows with binary classification 1 is greater than 30,000, randomly sample the rows\n",
        "df_ones = df_ones.sample(n=num_rows_with_0, replace=False)\n",
        "\n",
        "\n",
        "# Concatenate the undersampled rows with binary classification 0\n",
        "df = pd.concat([df_zeros, df_ones])\n",
        "\n",
        "\n",
        "\n",
        "client_distributions = {\n",
        "    1: {'percentage': 0.4, 'distribution': [0.2, 0.8]},\n",
        "    2: {'percentage': 0.3, 'distribution': [0.7, 0.3]},\n",
        "    3: {'percentage': 0.25, 'distribution': [0.55, 0.45]},\n",
        "    4: {'percentage': 0.15, 'distribution': [0.2, 0.8]},\n",
        "}\n",
        "sampled_dfs = []\n",
        "\n",
        "# For each 'id', sample the data and calculate the binary class distribution\n",
        "total_rows = len(df)\n",
        "num_rows_per_id = {id_: int(total_rows * dist_info['percentage']) for id_, dist_info in client_distributions.items()}\n",
        "\n",
        "# Create an empty list to store the sampled DataFrames\n",
        "sampled_dfs = []\n",
        "\n",
        "# For each 'id', sample the same number of rows for both binary classes\n",
        "for id_, dist_info in client_distributions.items():\n",
        "    num_rows = num_rows_per_id[id_]\n",
        "\n",
        "    # Calculate the number of 0s and 1s based on the distribution\n",
        "    num_zeros = int(num_rows * dist_info['distribution'][0])\n",
        "    num_ones = int(num_rows * dist_info['distribution'][1])\n",
        "\n",
        "    # Sample the data for class 0\n",
        "    sampled_df_0 = df[df['Etat d\\'entropie'] == 0].sample(n=num_zeros,replace=True)\n",
        "\n",
        "    # Sample the data for class 1\n",
        "    sampled_df_1 = df[df['Etat d\\'entropie'] == 1].sample(n=num_ones, replace=True)\n",
        "\n",
        "    # Concatenate the two sampled DataFrames\n",
        "    sampled_df = pd.concat([sampled_df_0, sampled_df_1])\n",
        "\n",
        "    # Assign the 'id' to the rows\n",
        "    sampled_df['id'] = id_\n",
        "\n",
        "    # Shuffle the rows to avoid grouping rows with the same 'id' together\n",
        "    sampled_df = sampled_df.sample(frac=1).reset_index(drop=True)\n",
        "\n",
        "    # Add the sampled DataFrame to the list\n",
        "    sampled_dfs.append(sampled_df)\n",
        "\n",
        "\n",
        "# Concatenate all sampled DataFrames into the final DataFrame\n",
        "df = pd.concat(sampled_dfs)\n",
        "\n",
        "# Reset the index of the final DataFrame\n",
        "df.reset_index(drop=True, inplace=True)\n",
        "\n",
        "\n",
        "# df =distribute_dataframe(df, client_distributions)\n",
        "# Create a copy of the data excluding the specified column\n",
        "\n",
        "# Prepare the 'id' column\n",
        "# ids = np.random.choice([1,2,3,4], size=len(df), p=list(id_percentages.values()))\n",
        "# df['id'] = ids\n",
        "\n",
        "# # Prepare the \"Etat d'entropie\" column\n",
        "# for id_val, percentages in entropy_percentages.items():\n",
        "#     size = len(df[df['id'] == id_val])\n",
        "#     entropy_values = np.random.choice([0,1], size=size, p=list(percentages.values()))\n",
        "#     df.loc[df['id'] == id_val, 'Etat d\\'entropie'] = entropy_values\n",
        "df.head()"
      ]
    },
    {
      "cell_type": "code",
      "execution_count": null,
      "metadata": {
        "colab": {
          "base_uri": "https://localhost:8080/"
        },
        "id": "mZSAWyNxob90",
        "outputId": "c37266f0-4f8d-43d2-b124-09d4e30c6259"
      },
      "outputs": [
        {
          "output_type": "stream",
          "name": "stdout",
          "text": [
            "{'Ag': 2203, 'Nb': 8182, 'Pb': 2199, 'Te': 2582, 'Ti': 7068, 'As': 3881, 'Mo': 7656, 'Pt': 7009, 'Rh': 7053, 'W': 6692, 'Au': 3092, 'Pd': 6349, 'Ru': 7039, 'Os': 7604, 'Si': 4699, 'Cr': 5670, 'Ir': 7532, 'Fe': 6799, 'V': 7648, 'Co': 5511, 'Re': 7509, 'Hf': 4592, 'Zr': 4339, 'Cu': 3310, 'Zn': 5207, 'Al': 5502, 'Sc': 3420, 'Ta': 7914, 'Ni': 6851, 'Ga': 4542, 'Mn': 6090, 'Ge': 4017, 'Mg': 2807, 'Sn': 2346, 'Hg': 2096, 'Y': 2391, 'Bi': 2378, 'Cd': 2429, 'In': 2391, 'Sb': 2491}\n"
          ]
        }
      ],
      "source": [
        "import pandas as pd\n",
        "import matplotlib.pyplot as plt\n",
        "\n",
        "# Read the data from the Excel file into a DataFrame\n",
        "\n",
        "# Function to extract elements from the alloy formula\n",
        "def extract_elements(alloy):\n",
        "    return alloy.split('-')\n",
        "\n",
        "# Apply the element extraction function to the 'Alloy' column and create a new column 'Elements'\n",
        "df['Elements'] = df['Alloy'].apply(extract_elements)\n",
        "\n",
        "# Create a dictionary to store element frequencies\n",
        "element_frequencies = {}\n",
        "\n",
        "# Count the occurrence of each element in the DataFrame\n",
        "for elements in df['Elements']:\n",
        "    for element in elements:\n",
        "        element_frequencies[element] = element_frequencies.get(element, 0) + 1\n",
        "\n",
        "# Plot the periodic table heatmap\n",
        "print(element_frequencies)"
      ]
    },
    {
      "cell_type": "code",
      "execution_count": null,
      "metadata": {
        "colab": {
          "base_uri": "https://localhost:8080/"
        },
        "id": "MVnP0tNkRU1_",
        "outputId": "5e6e530f-6e41-4127-8b6e-935b48760bb2"
      },
      "outputs": [
        {
          "output_type": "stream",
          "name": "stdout",
          "text": [
            "Element frequencies saved to element_frequencies.csv\n"
          ]
        }
      ],
      "source": [
        "freq = pd.DataFrame(list(element_frequencies.items()))\n",
        "\n",
        "# Saving the DataFrame as a CSV file\n",
        "csv_filename = 'element_frequencies.csv'\n",
        "freq.to_csv(\"/content/drive/MyDrive/\"+csv_filename, index=False, header=False)\n",
        "\n",
        "print(f'Element frequencies saved to {csv_filename}')\n",
        "df.drop(\"Alloy\", axis=1, inplace=True)"
      ]
    },
    {
      "cell_type": "code",
      "execution_count": null,
      "metadata": {
        "colab": {
          "base_uri": "https://localhost:8080/",
          "height": 206
        },
        "id": "ypOT20uSUgC8",
        "outputId": "68ce331f-bebe-4b18-f606-2973c762c7e2"
      },
      "outputs": [
        {
          "output_type": "execute_result",
          "data": {
            "text/plain": [
              "    0     1\n",
              "0  Ag  2203\n",
              "1  Nb  8182\n",
              "2  Pb  2199\n",
              "3  Te  2582\n",
              "4  Ti  7068"
            ],
            "text/html": [
              "\n",
              "  <div id=\"df-0b7420a6-ffd4-400f-ae3a-aa6644c0e824\" class=\"colab-df-container\">\n",
              "    <div>\n",
              "<style scoped>\n",
              "    .dataframe tbody tr th:only-of-type {\n",
              "        vertical-align: middle;\n",
              "    }\n",
              "\n",
              "    .dataframe tbody tr th {\n",
              "        vertical-align: top;\n",
              "    }\n",
              "\n",
              "    .dataframe thead th {\n",
              "        text-align: right;\n",
              "    }\n",
              "</style>\n",
              "<table border=\"1\" class=\"dataframe\">\n",
              "  <thead>\n",
              "    <tr style=\"text-align: right;\">\n",
              "      <th></th>\n",
              "      <th>0</th>\n",
              "      <th>1</th>\n",
              "    </tr>\n",
              "  </thead>\n",
              "  <tbody>\n",
              "    <tr>\n",
              "      <th>0</th>\n",
              "      <td>Ag</td>\n",
              "      <td>2203</td>\n",
              "    </tr>\n",
              "    <tr>\n",
              "      <th>1</th>\n",
              "      <td>Nb</td>\n",
              "      <td>8182</td>\n",
              "    </tr>\n",
              "    <tr>\n",
              "      <th>2</th>\n",
              "      <td>Pb</td>\n",
              "      <td>2199</td>\n",
              "    </tr>\n",
              "    <tr>\n",
              "      <th>3</th>\n",
              "      <td>Te</td>\n",
              "      <td>2582</td>\n",
              "    </tr>\n",
              "    <tr>\n",
              "      <th>4</th>\n",
              "      <td>Ti</td>\n",
              "      <td>7068</td>\n",
              "    </tr>\n",
              "  </tbody>\n",
              "</table>\n",
              "</div>\n",
              "    <div class=\"colab-df-buttons\">\n",
              "\n",
              "  <div class=\"colab-df-container\">\n",
              "    <button class=\"colab-df-convert\" onclick=\"convertToInteractive('df-0b7420a6-ffd4-400f-ae3a-aa6644c0e824')\"\n",
              "            title=\"Convert this dataframe to an interactive table.\"\n",
              "            style=\"display:none;\">\n",
              "\n",
              "  <svg xmlns=\"http://www.w3.org/2000/svg\" height=\"24px\" viewBox=\"0 -960 960 960\">\n",
              "    <path d=\"M120-120v-720h720v720H120Zm60-500h600v-160H180v160Zm220 220h160v-160H400v160Zm0 220h160v-160H400v160ZM180-400h160v-160H180v160Zm440 0h160v-160H620v160ZM180-180h160v-160H180v160Zm440 0h160v-160H620v160Z\"/>\n",
              "  </svg>\n",
              "    </button>\n",
              "\n",
              "  <style>\n",
              "    .colab-df-container {\n",
              "      display:flex;\n",
              "      gap: 12px;\n",
              "    }\n",
              "\n",
              "    .colab-df-convert {\n",
              "      background-color: #E8F0FE;\n",
              "      border: none;\n",
              "      border-radius: 50%;\n",
              "      cursor: pointer;\n",
              "      display: none;\n",
              "      fill: #1967D2;\n",
              "      height: 32px;\n",
              "      padding: 0 0 0 0;\n",
              "      width: 32px;\n",
              "    }\n",
              "\n",
              "    .colab-df-convert:hover {\n",
              "      background-color: #E2EBFA;\n",
              "      box-shadow: 0px 1px 2px rgba(60, 64, 67, 0.3), 0px 1px 3px 1px rgba(60, 64, 67, 0.15);\n",
              "      fill: #174EA6;\n",
              "    }\n",
              "\n",
              "    .colab-df-buttons div {\n",
              "      margin-bottom: 4px;\n",
              "    }\n",
              "\n",
              "    [theme=dark] .colab-df-convert {\n",
              "      background-color: #3B4455;\n",
              "      fill: #D2E3FC;\n",
              "    }\n",
              "\n",
              "    [theme=dark] .colab-df-convert:hover {\n",
              "      background-color: #434B5C;\n",
              "      box-shadow: 0px 1px 3px 1px rgba(0, 0, 0, 0.15);\n",
              "      filter: drop-shadow(0px 1px 2px rgba(0, 0, 0, 0.3));\n",
              "      fill: #FFFFFF;\n",
              "    }\n",
              "  </style>\n",
              "\n",
              "    <script>\n",
              "      const buttonEl =\n",
              "        document.querySelector('#df-0b7420a6-ffd4-400f-ae3a-aa6644c0e824 button.colab-df-convert');\n",
              "      buttonEl.style.display =\n",
              "        google.colab.kernel.accessAllowed ? 'block' : 'none';\n",
              "\n",
              "      async function convertToInteractive(key) {\n",
              "        const element = document.querySelector('#df-0b7420a6-ffd4-400f-ae3a-aa6644c0e824');\n",
              "        const dataTable =\n",
              "          await google.colab.kernel.invokeFunction('convertToInteractive',\n",
              "                                                    [key], {});\n",
              "        if (!dataTable) return;\n",
              "\n",
              "        const docLinkHtml = 'Like what you see? Visit the ' +\n",
              "          '<a target=\"_blank\" href=https://colab.research.google.com/notebooks/data_table.ipynb>data table notebook</a>'\n",
              "          + ' to learn more about interactive tables.';\n",
              "        element.innerHTML = '';\n",
              "        dataTable['output_type'] = 'display_data';\n",
              "        await google.colab.output.renderOutput(dataTable, element);\n",
              "        const docLink = document.createElement('div');\n",
              "        docLink.innerHTML = docLinkHtml;\n",
              "        element.appendChild(docLink);\n",
              "      }\n",
              "    </script>\n",
              "  </div>\n",
              "\n",
              "\n",
              "<div id=\"df-7e03bf16-6985-4c28-88c7-12a73d9871d5\">\n",
              "  <button class=\"colab-df-quickchart\" onclick=\"quickchart('df-7e03bf16-6985-4c28-88c7-12a73d9871d5')\"\n",
              "            title=\"Suggest charts.\"\n",
              "            style=\"display:none;\">\n",
              "\n",
              "<svg xmlns=\"http://www.w3.org/2000/svg\" height=\"24px\"viewBox=\"0 0 24 24\"\n",
              "     width=\"24px\">\n",
              "    <g>\n",
              "        <path d=\"M19 3H5c-1.1 0-2 .9-2 2v14c0 1.1.9 2 2 2h14c1.1 0 2-.9 2-2V5c0-1.1-.9-2-2-2zM9 17H7v-7h2v7zm4 0h-2V7h2v10zm4 0h-2v-4h2v4z\"/>\n",
              "    </g>\n",
              "</svg>\n",
              "  </button>\n",
              "\n",
              "<style>\n",
              "  .colab-df-quickchart {\n",
              "    background-color: #E8F0FE;\n",
              "    border: none;\n",
              "    border-radius: 50%;\n",
              "    cursor: pointer;\n",
              "    display: none;\n",
              "    fill: #1967D2;\n",
              "    height: 32px;\n",
              "    padding: 0 0 0 0;\n",
              "    width: 32px;\n",
              "  }\n",
              "\n",
              "  .colab-df-quickchart:hover {\n",
              "    background-color: #E2EBFA;\n",
              "    box-shadow: 0px 1px 2px rgba(60, 64, 67, 0.3), 0px 1px 3px 1px rgba(60, 64, 67, 0.15);\n",
              "    fill: #174EA6;\n",
              "  }\n",
              "\n",
              "  [theme=dark] .colab-df-quickchart {\n",
              "    background-color: #3B4455;\n",
              "    fill: #D2E3FC;\n",
              "  }\n",
              "\n",
              "  [theme=dark] .colab-df-quickchart:hover {\n",
              "    background-color: #434B5C;\n",
              "    box-shadow: 0px 1px 3px 1px rgba(0, 0, 0, 0.15);\n",
              "    filter: drop-shadow(0px 1px 2px rgba(0, 0, 0, 0.3));\n",
              "    fill: #FFFFFF;\n",
              "  }\n",
              "</style>\n",
              "\n",
              "  <script>\n",
              "    async function quickchart(key) {\n",
              "      const charts = await google.colab.kernel.invokeFunction(\n",
              "          'suggestCharts', [key], {});\n",
              "    }\n",
              "    (() => {\n",
              "      let quickchartButtonEl =\n",
              "        document.querySelector('#df-7e03bf16-6985-4c28-88c7-12a73d9871d5 button');\n",
              "      quickchartButtonEl.style.display =\n",
              "        google.colab.kernel.accessAllowed ? 'block' : 'none';\n",
              "    })();\n",
              "  </script>\n",
              "</div>\n",
              "    </div>\n",
              "  </div>\n"
            ]
          },
          "metadata": {},
          "execution_count": 58
        }
      ],
      "source": [
        "freq.head()"
      ]
    },
    {
      "cell_type": "code",
      "execution_count": null,
      "metadata": {
        "colab": {
          "base_uri": "https://localhost:8080/"
        },
        "id": "m1wny9pDYNF8",
        "outputId": "8118d8e5-eb45-4b1b-e81c-a57152bb0aa9"
      },
      "outputs": [
        {
          "output_type": "execute_result",
          "data": {
            "text/plain": [
              "(39818, 14)"
            ]
          },
          "metadata": {},
          "execution_count": 59
        }
      ],
      "source": [
        "df.shape"
      ]
    },
    {
      "cell_type": "code",
      "execution_count": null,
      "metadata": {
        "colab": {
          "base_uri": "https://localhost:8080/"
        },
        "id": "Js0yhrOnK5vb",
        "outputId": "323ffd93-8616-474f-869f-f0c360bedf5c"
      },
      "outputs": [
        {
          "output_type": "execute_result",
          "data": {
            "text/plain": [
              "Etat d'entropie  id\n",
              "1                1     11584\n",
              "0                2      7601\n",
              "                 3      4977\n",
              "1                4      4344\n",
              "                 3      4072\n",
              "                 2      3258\n",
              "0                1      2896\n",
              "                 4      1086\n",
              "dtype: int64"
            ]
          },
          "metadata": {},
          "execution_count": 60
        }
      ],
      "source": [
        "df[[\"Etat d'entropie\", \"id\"]].value_counts()"
      ]
    },
    {
      "cell_type": "code",
      "execution_count": null,
      "metadata": {
        "colab": {
          "base_uri": "https://localhost:8080/",
          "height": 206
        },
        "id": "Ux2gg2btSYl1",
        "outputId": "a555b9d3-bdc8-452b-dbb1-3950ad0ee480"
      },
      "outputs": [
        {
          "output_type": "execute_result",
          "data": {
            "text/plain": [
              "   Etat d'entropie         A     delta        TM  DELTA_TM  Electronégativité  \\\n",
              "0                0 -0.210038  1.059246 -1.183830  1.012077           0.128934   \n",
              "1                1 -0.622136  1.405193  0.898342 -0.225416           2.580643   \n",
              "2                1  0.820205 -0.987526  0.621137 -0.887139           1.800554   \n",
              "3                1 -0.210038 -0.015147  1.020725 -0.940609           1.744833   \n",
              "4                1  0.614156 -1.777469  1.492144 -1.231061           1.800554   \n",
              "\n",
              "   Delta_Electro-           SID       VEC  Delta VEC         K   Delta K  id  \\\n",
              "0        0.297017 -3.552714e-15 -1.127485  -0.768244 -1.079808 -1.532682   1   \n",
              "1       -2.677172 -3.552714e-15  1.321034  -0.385112  1.627578  1.018015   1   \n",
              "2        0.357631 -3.552714e-15 -1.127485   1.192209  1.023286 -2.144609   1   \n",
              "3       -2.099766 -3.552714e-15 -0.209291   1.134795 -0.129639 -0.099850   1   \n",
              "4       -0.379855 -3.552714e-15  1.627099  -1.225049  2.494259 -0.366533   1   \n",
              "\n",
              "               Elements  \n",
              "0  [Ag, Nb, Pb, Te, Ti]  \n",
              "1   [As, Mo, Pt, Rh, W]  \n",
              "2  [Au, Mo, Nb, Pd, Ru]  \n",
              "3  [Mo, Os, Pd, Ru, Si]  \n",
              "4   [Cr, Ir, Rh, Ru, W]  "
            ],
            "text/html": [
              "\n",
              "  <div id=\"df-b7bb9d7b-0c7e-4f03-b2d6-962b498818ab\" class=\"colab-df-container\">\n",
              "    <div>\n",
              "<style scoped>\n",
              "    .dataframe tbody tr th:only-of-type {\n",
              "        vertical-align: middle;\n",
              "    }\n",
              "\n",
              "    .dataframe tbody tr th {\n",
              "        vertical-align: top;\n",
              "    }\n",
              "\n",
              "    .dataframe thead th {\n",
              "        text-align: right;\n",
              "    }\n",
              "</style>\n",
              "<table border=\"1\" class=\"dataframe\">\n",
              "  <thead>\n",
              "    <tr style=\"text-align: right;\">\n",
              "      <th></th>\n",
              "      <th>Etat d'entropie</th>\n",
              "      <th>A</th>\n",
              "      <th>delta</th>\n",
              "      <th>TM</th>\n",
              "      <th>DELTA_TM</th>\n",
              "      <th>Electronégativité</th>\n",
              "      <th>Delta_Electro-</th>\n",
              "      <th>SID</th>\n",
              "      <th>VEC</th>\n",
              "      <th>Delta VEC</th>\n",
              "      <th>K</th>\n",
              "      <th>Delta K</th>\n",
              "      <th>id</th>\n",
              "      <th>Elements</th>\n",
              "    </tr>\n",
              "  </thead>\n",
              "  <tbody>\n",
              "    <tr>\n",
              "      <th>0</th>\n",
              "      <td>0</td>\n",
              "      <td>-0.210038</td>\n",
              "      <td>1.059246</td>\n",
              "      <td>-1.183830</td>\n",
              "      <td>1.012077</td>\n",
              "      <td>0.128934</td>\n",
              "      <td>0.297017</td>\n",
              "      <td>-3.552714e-15</td>\n",
              "      <td>-1.127485</td>\n",
              "      <td>-0.768244</td>\n",
              "      <td>-1.079808</td>\n",
              "      <td>-1.532682</td>\n",
              "      <td>1</td>\n",
              "      <td>[Ag, Nb, Pb, Te, Ti]</td>\n",
              "    </tr>\n",
              "    <tr>\n",
              "      <th>1</th>\n",
              "      <td>1</td>\n",
              "      <td>-0.622136</td>\n",
              "      <td>1.405193</td>\n",
              "      <td>0.898342</td>\n",
              "      <td>-0.225416</td>\n",
              "      <td>2.580643</td>\n",
              "      <td>-2.677172</td>\n",
              "      <td>-3.552714e-15</td>\n",
              "      <td>1.321034</td>\n",
              "      <td>-0.385112</td>\n",
              "      <td>1.627578</td>\n",
              "      <td>1.018015</td>\n",
              "      <td>1</td>\n",
              "      <td>[As, Mo, Pt, Rh, W]</td>\n",
              "    </tr>\n",
              "    <tr>\n",
              "      <th>2</th>\n",
              "      <td>1</td>\n",
              "      <td>0.820205</td>\n",
              "      <td>-0.987526</td>\n",
              "      <td>0.621137</td>\n",
              "      <td>-0.887139</td>\n",
              "      <td>1.800554</td>\n",
              "      <td>0.357631</td>\n",
              "      <td>-3.552714e-15</td>\n",
              "      <td>-1.127485</td>\n",
              "      <td>1.192209</td>\n",
              "      <td>1.023286</td>\n",
              "      <td>-2.144609</td>\n",
              "      <td>1</td>\n",
              "      <td>[Au, Mo, Nb, Pd, Ru]</td>\n",
              "    </tr>\n",
              "    <tr>\n",
              "      <th>3</th>\n",
              "      <td>1</td>\n",
              "      <td>-0.210038</td>\n",
              "      <td>-0.015147</td>\n",
              "      <td>1.020725</td>\n",
              "      <td>-0.940609</td>\n",
              "      <td>1.744833</td>\n",
              "      <td>-2.099766</td>\n",
              "      <td>-3.552714e-15</td>\n",
              "      <td>-0.209291</td>\n",
              "      <td>1.134795</td>\n",
              "      <td>-0.129639</td>\n",
              "      <td>-0.099850</td>\n",
              "      <td>1</td>\n",
              "      <td>[Mo, Os, Pd, Ru, Si]</td>\n",
              "    </tr>\n",
              "    <tr>\n",
              "      <th>4</th>\n",
              "      <td>1</td>\n",
              "      <td>0.614156</td>\n",
              "      <td>-1.777469</td>\n",
              "      <td>1.492144</td>\n",
              "      <td>-1.231061</td>\n",
              "      <td>1.800554</td>\n",
              "      <td>-0.379855</td>\n",
              "      <td>-3.552714e-15</td>\n",
              "      <td>1.627099</td>\n",
              "      <td>-1.225049</td>\n",
              "      <td>2.494259</td>\n",
              "      <td>-0.366533</td>\n",
              "      <td>1</td>\n",
              "      <td>[Cr, Ir, Rh, Ru, W]</td>\n",
              "    </tr>\n",
              "  </tbody>\n",
              "</table>\n",
              "</div>\n",
              "    <div class=\"colab-df-buttons\">\n",
              "\n",
              "  <div class=\"colab-df-container\">\n",
              "    <button class=\"colab-df-convert\" onclick=\"convertToInteractive('df-b7bb9d7b-0c7e-4f03-b2d6-962b498818ab')\"\n",
              "            title=\"Convert this dataframe to an interactive table.\"\n",
              "            style=\"display:none;\">\n",
              "\n",
              "  <svg xmlns=\"http://www.w3.org/2000/svg\" height=\"24px\" viewBox=\"0 -960 960 960\">\n",
              "    <path d=\"M120-120v-720h720v720H120Zm60-500h600v-160H180v160Zm220 220h160v-160H400v160Zm0 220h160v-160H400v160ZM180-400h160v-160H180v160Zm440 0h160v-160H620v160ZM180-180h160v-160H180v160Zm440 0h160v-160H620v160Z\"/>\n",
              "  </svg>\n",
              "    </button>\n",
              "\n",
              "  <style>\n",
              "    .colab-df-container {\n",
              "      display:flex;\n",
              "      gap: 12px;\n",
              "    }\n",
              "\n",
              "    .colab-df-convert {\n",
              "      background-color: #E8F0FE;\n",
              "      border: none;\n",
              "      border-radius: 50%;\n",
              "      cursor: pointer;\n",
              "      display: none;\n",
              "      fill: #1967D2;\n",
              "      height: 32px;\n",
              "      padding: 0 0 0 0;\n",
              "      width: 32px;\n",
              "    }\n",
              "\n",
              "    .colab-df-convert:hover {\n",
              "      background-color: #E2EBFA;\n",
              "      box-shadow: 0px 1px 2px rgba(60, 64, 67, 0.3), 0px 1px 3px 1px rgba(60, 64, 67, 0.15);\n",
              "      fill: #174EA6;\n",
              "    }\n",
              "\n",
              "    .colab-df-buttons div {\n",
              "      margin-bottom: 4px;\n",
              "    }\n",
              "\n",
              "    [theme=dark] .colab-df-convert {\n",
              "      background-color: #3B4455;\n",
              "      fill: #D2E3FC;\n",
              "    }\n",
              "\n",
              "    [theme=dark] .colab-df-convert:hover {\n",
              "      background-color: #434B5C;\n",
              "      box-shadow: 0px 1px 3px 1px rgba(0, 0, 0, 0.15);\n",
              "      filter: drop-shadow(0px 1px 2px rgba(0, 0, 0, 0.3));\n",
              "      fill: #FFFFFF;\n",
              "    }\n",
              "  </style>\n",
              "\n",
              "    <script>\n",
              "      const buttonEl =\n",
              "        document.querySelector('#df-b7bb9d7b-0c7e-4f03-b2d6-962b498818ab button.colab-df-convert');\n",
              "      buttonEl.style.display =\n",
              "        google.colab.kernel.accessAllowed ? 'block' : 'none';\n",
              "\n",
              "      async function convertToInteractive(key) {\n",
              "        const element = document.querySelector('#df-b7bb9d7b-0c7e-4f03-b2d6-962b498818ab');\n",
              "        const dataTable =\n",
              "          await google.colab.kernel.invokeFunction('convertToInteractive',\n",
              "                                                    [key], {});\n",
              "        if (!dataTable) return;\n",
              "\n",
              "        const docLinkHtml = 'Like what you see? Visit the ' +\n",
              "          '<a target=\"_blank\" href=https://colab.research.google.com/notebooks/data_table.ipynb>data table notebook</a>'\n",
              "          + ' to learn more about interactive tables.';\n",
              "        element.innerHTML = '';\n",
              "        dataTable['output_type'] = 'display_data';\n",
              "        await google.colab.output.renderOutput(dataTable, element);\n",
              "        const docLink = document.createElement('div');\n",
              "        docLink.innerHTML = docLinkHtml;\n",
              "        element.appendChild(docLink);\n",
              "      }\n",
              "    </script>\n",
              "  </div>\n",
              "\n",
              "\n",
              "<div id=\"df-c74f033f-d8ac-4792-b2ca-74b18669c777\">\n",
              "  <button class=\"colab-df-quickchart\" onclick=\"quickchart('df-c74f033f-d8ac-4792-b2ca-74b18669c777')\"\n",
              "            title=\"Suggest charts.\"\n",
              "            style=\"display:none;\">\n",
              "\n",
              "<svg xmlns=\"http://www.w3.org/2000/svg\" height=\"24px\"viewBox=\"0 0 24 24\"\n",
              "     width=\"24px\">\n",
              "    <g>\n",
              "        <path d=\"M19 3H5c-1.1 0-2 .9-2 2v14c0 1.1.9 2 2 2h14c1.1 0 2-.9 2-2V5c0-1.1-.9-2-2-2zM9 17H7v-7h2v7zm4 0h-2V7h2v10zm4 0h-2v-4h2v4z\"/>\n",
              "    </g>\n",
              "</svg>\n",
              "  </button>\n",
              "\n",
              "<style>\n",
              "  .colab-df-quickchart {\n",
              "    background-color: #E8F0FE;\n",
              "    border: none;\n",
              "    border-radius: 50%;\n",
              "    cursor: pointer;\n",
              "    display: none;\n",
              "    fill: #1967D2;\n",
              "    height: 32px;\n",
              "    padding: 0 0 0 0;\n",
              "    width: 32px;\n",
              "  }\n",
              "\n",
              "  .colab-df-quickchart:hover {\n",
              "    background-color: #E2EBFA;\n",
              "    box-shadow: 0px 1px 2px rgba(60, 64, 67, 0.3), 0px 1px 3px 1px rgba(60, 64, 67, 0.15);\n",
              "    fill: #174EA6;\n",
              "  }\n",
              "\n",
              "  [theme=dark] .colab-df-quickchart {\n",
              "    background-color: #3B4455;\n",
              "    fill: #D2E3FC;\n",
              "  }\n",
              "\n",
              "  [theme=dark] .colab-df-quickchart:hover {\n",
              "    background-color: #434B5C;\n",
              "    box-shadow: 0px 1px 3px 1px rgba(0, 0, 0, 0.15);\n",
              "    filter: drop-shadow(0px 1px 2px rgba(0, 0, 0, 0.3));\n",
              "    fill: #FFFFFF;\n",
              "  }\n",
              "</style>\n",
              "\n",
              "  <script>\n",
              "    async function quickchart(key) {\n",
              "      const charts = await google.colab.kernel.invokeFunction(\n",
              "          'suggestCharts', [key], {});\n",
              "    }\n",
              "    (() => {\n",
              "      let quickchartButtonEl =\n",
              "        document.querySelector('#df-c74f033f-d8ac-4792-b2ca-74b18669c777 button');\n",
              "      quickchartButtonEl.style.display =\n",
              "        google.colab.kernel.accessAllowed ? 'block' : 'none';\n",
              "    })();\n",
              "  </script>\n",
              "</div>\n",
              "    </div>\n",
              "  </div>\n"
            ]
          },
          "metadata": {},
          "execution_count": 61
        }
      ],
      "source": [
        "\n",
        "def normalize_columns(df, columns_to_normalize):\n",
        "    # Create a copy of the original dataframe\n",
        "    normalized_df = df.copy()\n",
        "\n",
        "    # Select the columns to normalize\n",
        "    data_to_normalize = normalized_df[columns_to_normalize]\n",
        "\n",
        "    # Create an instance of the scaler\n",
        "    scaler = StandardScaler()\n",
        "\n",
        "    # Fit the scaler to the selected columns\n",
        "    scaler.fit(data_to_normalize)\n",
        "\n",
        "    # Normalize the selected columns\n",
        "    normalized_data = scaler.transform(data_to_normalize)\n",
        "\n",
        "    # Update the normalized values in the dataframe\n",
        "    normalized_df[columns_to_normalize] = normalized_data\n",
        "\n",
        "    return normalized_df\n",
        "df1=normalize_columns(df,['A', 'delta', 'TM', 'DELTA_TM', 'Electronégativité', 'Delta_Electro-', 'SID', 'VEC', 'Delta VEC', 'K', 'Delta K'])\n",
        "df1.head()"
      ]
    },
    {
      "cell_type": "code",
      "execution_count": null,
      "metadata": {
        "id": "151ebe1e"
      },
      "outputs": [],
      "source": [
        "# Run for Bigdata only\n",
        "NUM_CLIENTS = 5\n",
        "\n",
        "data = pd.read_csv(\"/content/drive/MyDrive/first_file.csv\", sep=',', encoding='latin-1')\n",
        "\n",
        "data.rename(columns={\"ElectronÃ©gativitÃ©\": \"Electronégativité\"}, inplace=True)\n",
        "data.drop(['Alloy', 'Longue Phase', 'Ag', 'Al', 'Cd', 'Ga', 'Mg', 'Pt', 'Sb',\n",
        "       'Sn', 'Ti', 'Zn', 'Zr', 'B', 'Ca', 'Ce', 'Co', 'Cr', 'Cu', 'Er', 'Fe',\n",
        "       'In', 'La', 'Li', 'Mn', 'Mo', 'Nd', 'Ni', 'Re', 'Ru', 'Sm', 'V', 'Yb',\n",
        "       'Au', 'Be', 'Bi', 'Pb', 'Nb', 'Si', 'Dy', 'Ge', 'Hf', 'W', 'Pd', 'Sr',\n",
        "       'Na', 'Y', 'Ta', 'Gd', 'Rh', 'P', 'C', 'Ho', 'Pr', 'N', 'Tb', 'Sc',\n",
        "       'Tm', 'Lu', 'Ir', 'Os', 'As', 'Tc'], axis=1, inplace=True)\n",
        "data[\"Etat d'entropie\"] = data[\"Etat d'entropie\"].map({'H': 1, 'L': 0})\n",
        "data[\"Etat d'entropie\"].value_counts()\n",
        "\n",
        "data=normalize_columns(data,['A', 'delta', 'TM', 'DELTA_TM', 'Electronégativité', 'Delta_Electro-', 'SID', 'VEC', 'Delta VEC', 'K', 'Delta K'])\n",
        "data[\"id\"]=NUM_CLIENTS\n",
        "\n",
        "df = pd.concat([df1, data], ignore_index=True)\n",
        "\n"
      ]
    },
    {
      "cell_type": "code",
      "execution_count": null,
      "metadata": {
        "id": "VMaNcWHV_oXU"
      },
      "outputs": [],
      "source": [
        "for id in range(1,NUM_CLIENTS+1):\n",
        "  df[df[\"id\"]==id].drop_duplicates(subset=['A', 'delta', 'TM', 'DELTA_TM', 'Electronégativité', 'Delta_Electro-', 'SID', 'VEC', 'Delta VEC', 'K', 'Delta K'])\n",
        "\n",
        "\n",
        "# df=df.drop_duplicates(subset=['A', 'delta', 'TM', 'DELTA_TM', 'Electronégativité', 'Delta_Electro-', 'SID', 'VEC', 'Delta VEC', 'K', 'Delta K'])"
      ]
    },
    {
      "cell_type": "code",
      "execution_count": null,
      "metadata": {
        "colab": {
          "base_uri": "https://localhost:8080/"
        },
        "id": "Wgpj-2PLJF10",
        "outputId": "8b936050-0d25-49fd-ef07-6e2da70caea2"
      },
      "outputs": [
        {
          "output_type": "execute_result",
          "data": {
            "text/plain": [
              "Index(['Etat d'entropie', 'A', 'delta', 'TM', 'DELTA_TM', 'Electronégativité',\n",
              "       'Delta_Electro-', 'SID', 'VEC', 'Delta VEC', 'K', 'Delta K', 'id',\n",
              "       'Elements'],\n",
              "      dtype='object')"
            ]
          },
          "metadata": {},
          "execution_count": 64
        }
      ],
      "source": [
        "df.columns"
      ]
    },
    {
      "cell_type": "code",
      "execution_count": null,
      "metadata": {
        "id": "njVIi3KX-fI9"
      },
      "outputs": [],
      "source": [
        "from scipy.stats import gaussian_kde\n",
        "import seaborn as sns\n",
        "import matplotlib.pyplot as plt\n",
        "\n",
        "\n",
        "def pair_plot(df):\n",
        "  etat_entropie_values = [0, 1]\n",
        "\n",
        "# Plotting the density plots\n",
        "  id_values = range(1,NUM_CLIENTS+1)\n",
        "\n",
        "# Plotting the density plots\n",
        "  num_rows = 11\n",
        "  num_cols = NUM_CLIENTS\n",
        "  num_plots = num_rows * num_cols\n",
        "\n",
        "  fig, axes = plt.subplots(num_rows, num_cols, figsize=(18, 36))\n",
        "  axes = axes.flatten()\n",
        "\n",
        "  for i, col in enumerate(df.columns):\n",
        "    if col != 'id' and col != 'Etat d\\'entropie':\n",
        "        for j, id_value in enumerate(id_values):\n",
        "            ax = axes[(i * len(id_values)) + j]\n",
        "            for etat_entropie in [0, 1]:\n",
        "                filtered_data = df[df['Etat d\\'entropie'] == etat_entropie]\n",
        "                if not filtered_data.empty:\n",
        "                    filtered_data[col].plot(kind='density', label=f'Etat Entropie = {etat_entropie}', ax=ax)\n",
        "            filtered_data = df[(df['Etat d\\'entropie'] == 0) | (df['Etat d\\'entropie'] == 1)]\n",
        "            if not filtered_data.empty:\n",
        "                filtered_data[col].plot(kind='density', label='All Data', ax=ax, linestyle='--')\n",
        "            ax.set_title(f'Density Plot - {col}, id = {id_value}')\n",
        "            ax.legend()\n",
        "\n",
        "  plt.tight_layout()\n",
        "  plt.show()\n",
        "# pair_plot(df)\n",
        "\n"
      ]
    },
    {
      "cell_type": "code",
      "execution_count": null,
      "metadata": {
        "id": "-WZgRifhkP22"
      },
      "outputs": [],
      "source": [
        "import seaborn as sns\n",
        "import matplotlib.pyplot as plt\n",
        "\n"
      ]
    },
    {
      "cell_type": "code",
      "execution_count": null,
      "metadata": {
        "colab": {
          "base_uri": "https://localhost:8080/"
        },
        "id": "8fa330b2",
        "outputId": "b30f42c7-e936-4145-a9a8-cd969eaf93dc"
      },
      "outputs": [
        {
          "output_type": "stream",
          "name": "stdout",
          "text": [
            "The tensorboard extension is already loaded. To reload it, use:\n",
            "  %reload_ext tensorboard\n"
          ]
        }
      ],
      "source": [
        "import nest_asyncio\n",
        "nest_asyncio.apply()\n",
        "%load_ext tensorboard"
      ]
    },
    {
      "cell_type": "code",
      "execution_count": null,
      "metadata": {
        "colab": {
          "base_uri": "https://localhost:8080/"
        },
        "id": "fe478e94",
        "outputId": "612af487-3336-451c-8083-0bbee3822a78"
      },
      "outputs": [
        {
          "output_type": "execute_result",
          "data": {
            "text/plain": [
              "b'Hello, World!'"
            ]
          },
          "metadata": {},
          "execution_count": 68
        }
      ],
      "source": [
        "import collections\n",
        "import numpy as np\n",
        "import tensorflow as tf\n",
        "import tensorflow_federated as tff\n",
        "np.random.seed(0)\n",
        "tff.federated_computation(lambda: 'Hello, World!')()"
      ]
    },
    {
      "cell_type": "code",
      "execution_count": null,
      "metadata": {
        "colab": {
          "base_uri": "https://localhost:8080/"
        },
        "id": "5Rwx2ugffeOW",
        "outputId": "d63c47a5-82fe-4c8e-abe0-a8fad02975cd"
      },
      "outputs": [
        {
          "output_type": "execute_result",
          "data": {
            "text/plain": [
              "Etat d'entropie        int64\n",
              "A                    float64\n",
              "delta                float64\n",
              "TM                   float64\n",
              "DELTA_TM             float64\n",
              "Electronégativité    float64\n",
              "Delta_Electro-       float64\n",
              "SID                  float64\n",
              "VEC                  float64\n",
              "Delta VEC            float64\n",
              "K                    float64\n",
              "Delta K              float64\n",
              "id                     int64\n",
              "Elements              object\n",
              "dtype: object"
            ]
          },
          "metadata": {},
          "execution_count": 69
        }
      ],
      "source": [
        "df.dtypes"
      ]
    },
    {
      "cell_type": "code",
      "execution_count": null,
      "metadata": {
        "colab": {
          "base_uri": "https://localhost:8080/"
        },
        "id": "0ce0e9f1",
        "outputId": "fce03828-5dc8-4abb-e088-a11d87224440"
      },
      "outputs": [
        {
          "output_type": "stream",
          "name": "stdout",
          "text": [
            "[1 2 3 4 5]\n"
          ]
        }
      ],
      "source": [
        "# split client id into train and test clients\n",
        "client_id_colname = 'id' # the column that represents client ID\n",
        "client_ids = df[client_id_colname].unique()\n",
        "train_client_ids = range(1,NUM_CLIENTS)\n",
        "test_client_ids = [NUM_CLIENTS]\n",
        "print(client_ids)"
      ]
    },
    {
      "cell_type": "code",
      "execution_count": null,
      "metadata": {
        "id": "6dbba4e1"
      },
      "outputs": [],
      "source": [
        "def create_tf_dataset_for_client_fn(client_id):\n",
        "  # a function which takes a client_id and returns a\n",
        "  # tf.data.Dataset for that client\n",
        "    client_data = df[df[client_id_colname] == client_id]\n",
        "    client_data = client_data.drop(columns=[\"id\"])\n",
        "    dataset = tf.data.Dataset.from_tensor_slices(client_data.to_dict('list'))\n",
        "    dataset = dataset.shuffle(SHUFFLE_BUFFER).batch(1).repeat(NUM_EPOCHS)\n",
        "    return dataset"
      ]
    },
    {
      "cell_type": "code",
      "execution_count": null,
      "metadata": {
        "id": "e62dd808"
      },
      "outputs": [],
      "source": [
        "NUM_EPOCHS =5\n",
        "BATCH_SIZE = 256\n",
        "SHUFFLE_BUFFER = 500\n",
        "PREFETCH_BUFFER = 500\n",
        "\n",
        "\n",
        "\n",
        "train_data = tff.simulation.datasets.ClientData.from_clients_and_tf_fn(\n",
        "        client_ids=train_client_ids,\n",
        "        serializable_dataset_fn=create_tf_dataset_for_client_fn\n",
        "    )\n",
        "\n",
        "#\n",
        "test_data = tff.simulation.datasets.ClientData.from_clients_and_tf_fn(\n",
        "        client_ids=test_client_ids,\n",
        "        serializable_dataset_fn=create_tf_dataset_for_client_fn\n",
        "    )"
      ]
    },
    {
      "cell_type": "code",
      "execution_count": null,
      "metadata": {
        "colab": {
          "base_uri": "https://localhost:8080/"
        },
        "id": "efba9238",
        "outputId": "94f59c6e-53ac-4292-e124-8f8abb2bba73"
      },
      "outputs": [
        {
          "output_type": "execute_result",
          "data": {
            "text/plain": [
              "{\"Etat d'entropie\": TensorSpec(shape=(None,), dtype=tf.int32, name=None),\n",
              " 'A': TensorSpec(shape=(None,), dtype=tf.float32, name=None),\n",
              " 'delta': TensorSpec(shape=(None,), dtype=tf.float32, name=None),\n",
              " 'TM': TensorSpec(shape=(None,), dtype=tf.float32, name=None),\n",
              " 'DELTA_TM': TensorSpec(shape=(None,), dtype=tf.float32, name=None),\n",
              " 'Electronégativité': TensorSpec(shape=(None,), dtype=tf.float32, name=None),\n",
              " 'Delta_Electro-': TensorSpec(shape=(None,), dtype=tf.float32, name=None),\n",
              " 'SID': TensorSpec(shape=(None,), dtype=tf.float32, name=None),\n",
              " 'VEC': TensorSpec(shape=(None,), dtype=tf.float32, name=None),\n",
              " 'Delta VEC': TensorSpec(shape=(None,), dtype=tf.float32, name=None),\n",
              " 'K': TensorSpec(shape=(None,), dtype=tf.float32, name=None),\n",
              " 'Delta K': TensorSpec(shape=(None,), dtype=tf.float32, name=None),\n",
              " 'Elements': TensorSpec(shape=(None, 5), dtype=tf.string, name=None)}"
            ]
          },
          "metadata": {},
          "execution_count": 73
        }
      ],
      "source": [
        "train_data.element_type_structure"
      ]
    },
    {
      "cell_type": "code",
      "execution_count": null,
      "metadata": {
        "id": "be904144"
      },
      "outputs": [],
      "source": [
        "example_dataset = train_data.create_tf_dataset_for_client(\n",
        "    train_data.client_ids[0])\n",
        "\n",
        "example_element = next(iter(example_dataset))\n"
      ]
    },
    {
      "cell_type": "code",
      "execution_count": null,
      "metadata": {
        "id": "b0814bb6"
      },
      "outputs": [],
      "source": [
        "\n",
        "def preprocess(dataset):\n",
        "\n",
        "        def batch_format_fn(element):\n",
        "            output = tf.concat([\n",
        "                tf.expand_dims(element['Electronégativité'],1)\n",
        "                ,tf.expand_dims(element['Delta_Electro-'],1)\n",
        "                ,tf.expand_dims(element['SID'],1)\n",
        "                ,tf.expand_dims(element['VEC'],1)\n",
        "                ,tf.expand_dims(element['Delta VEC'],1)\n",
        "                ,tf.expand_dims(element[ 'K'],1)\n",
        "                ,tf.expand_dims(element['Delta K'],1)\n",
        "                ,tf.expand_dims(element['A'],1)\n",
        "                ,tf.expand_dims(element['delta'],1)\n",
        "                ,tf.expand_dims(element['TM'],1)\n",
        "                ,tf.expand_dims(element['DELTA_TM'],1)], axis=1)\n",
        "            return collections.OrderedDict(x= tf.reshape(output, [1, 11] )\n",
        "                                           ,\n",
        "                                           y= tf.reshape(element[\"Etat d'entropie\"], [1,1]) )\n",
        "\n",
        "        return dataset.map(batch_format_fn)"
      ]
    },
    {
      "cell_type": "code",
      "execution_count": null,
      "metadata": {
        "colab": {
          "base_uri": "https://localhost:8080/"
        },
        "id": "3fc13188",
        "outputId": "01edcbe9-5748-49a1-eb4e-ac31c45f6c52"
      },
      "outputs": [
        {
          "output_type": "execute_result",
          "data": {
            "text/plain": [
              "OrderedDict([('x',\n",
              "              array([[-3.1683168e-01,  2.3958997e-01, -3.5527137e-15, -1.8926474e+00,\n",
              "                      -1.1417950e+00, -2.2088792e+00, -1.2253789e+00, -2.2705250e+00,\n",
              "                       1.3770257e+00, -2.1644821e+00, -5.0600928e-01]], dtype=float32)),\n",
              "             ('y', array([[0]], dtype=int32))])"
            ]
          },
          "metadata": {},
          "execution_count": 76
        }
      ],
      "source": [
        "\n",
        "preprocessed_example_dataset = preprocess(example_dataset)\n",
        "\n",
        "sample_batch = tf.nest.map_structure(lambda x: x.numpy(),\n",
        "                                     next(iter(preprocessed_example_dataset)))\n",
        "\n",
        "sample_batch"
      ]
    },
    {
      "cell_type": "code",
      "execution_count": null,
      "metadata": {
        "id": "5ebebf42"
      },
      "outputs": [],
      "source": [
        "def make_federated_data(client_data, client_ids):\n",
        "    return [\n",
        "      preprocess(client_data.create_tf_dataset_for_client(x))\n",
        "      for x in client_ids\n",
        "  ]"
      ]
    },
    {
      "cell_type": "code",
      "execution_count": null,
      "metadata": {
        "colab": {
          "base_uri": "https://localhost:8080/"
        },
        "id": "b5e10e72",
        "outputId": "e8404557-45b0-4555-967b-d5a610726a3c"
      },
      "outputs": [
        {
          "output_type": "stream",
          "name": "stdout",
          "text": [
            "Number of client datasets: 4\n",
            "First dataset: <_MapDataset element_spec=OrderedDict([('x', TensorSpec(shape=(1, 11), dtype=tf.float32, name=None)), ('y', TensorSpec(shape=(1, 1), dtype=tf.int32, name=None))])>\n"
          ]
        }
      ],
      "source": [
        "sample_clients = train_data.client_ids[0:NUM_CLIENTS]\n",
        "# sample_clients_test=test_data.client_ids[0:NUM_CLIENTS]\n",
        "federated_train_data = make_federated_data(train_data, sample_clients)\n",
        "\n",
        "print('Number of client datasets: {l}'.format(l=len(federated_train_data)))\n",
        "print('First dataset: {d}'.format(d=federated_train_data[0]))"
      ]
    },
    {
      "cell_type": "code",
      "execution_count": null,
      "metadata": {
        "colab": {
          "base_uri": "https://localhost:8080/",
          "height": 865
        },
        "id": "622e3bd9",
        "outputId": "2bcf282c-07b0-47b4-c1a6-147920b3d02a"
      },
      "outputs": [
        {
          "output_type": "execute_result",
          "data": {
            "image/png": "[encoded data removed]",
            "text/plain": [
              "<IPython.core.display.Image object>"
            ]
          },
          "metadata": {},
          "execution_count": 79
        }
      ],
      "source": [
        "\n",
        "def create_keras_model():\n",
        "    return tf.keras.models.Sequential([\n",
        "        tf.keras.layers.Reshape(target_shape=(11, 1), input_shape=(11,)),\n",
        "        tf.keras.layers.Flatten(),\n",
        "        tf.keras.layers.Dense(40, kernel_initializer='glorot_uniform'),\n",
        "        tf.keras.layers.Dense(15, kernel_initializer='glorot_uniform'),\n",
        "        tf.keras.layers.Dense(10, kernel_initializer='glorot_uniform'),\n",
        "        tf.keras.layers.Dense(5, kernel_initializer='glorot_uniform'),\n",
        "        tf.keras.layers.Dense(1, kernel_initializer='glorot_uniform', activation='sigmoid')\n",
        "    ])\n",
        "\n",
        "# RNN\n",
        "# def create_keras_model():\n",
        "#     return tf.keras.models.Sequential([\n",
        "#         tf.keras.layers.Reshape(target_shape=(11, 1), input_shape=(11,)),\n",
        "#         tf.keras.layers.SimpleRNN(32),\n",
        "#         tf.keras.layers.Dense(85, kernel_initializer='zeros'),\n",
        "#         tf.keras.layers.Dense(60, kernel_initializer='zeros'),\n",
        "#         tf.keras.layers.Dense(25, kernel_initializer='zeros'),\n",
        "#         tf.keras.layers.Dense(10, kernel_initializer='zeros'),\n",
        "#         tf.keras.layers.Softmax(),\n",
        "#     ])\n",
        "# def create_keras_model():\n",
        "#     return tf.keras.models.Sequential([\n",
        "#         tf.keras.layers.Reshape(target_shape=(11, 1), input_shape=(11,)),\n",
        "#         tf.keras.layers.LSTM(32),\n",
        "#         tf.keras.layers.Dense(85, kernel_initializer='zeros'),\n",
        "#         tf.keras.layers.Dense(60, kernel_initializer='zeros'),\n",
        "#         tf.keras.layers.Dense(25, kernel_initializer='zeros'),\n",
        "#         tf.keras.layers.Dense(10, kernel_initializer='zeros'),\n",
        "#         tf.keras.layers.Dense(32, kernel_initializer='lecun_normal',activation='selu'),\n",
        "#     ])\n",
        "# def create_keras_model():\n",
        "#     return tf.keras.models.Sequential([\n",
        "#         tf.keras.layers.Reshape(target_shape=(11, 1), input_shape=(11,)),\n",
        "#         tf.keras.layers.GRU(32),\n",
        "#         tf.keras.layers.Dense(30, kernel_initializer='zeros'),\n",
        "#         tf.keras.layers.Dense(25, kernel_initializer='zeros'),\n",
        "#         tf.keras.layers.Dense(1, kernel_initializer='zeros'),\n",
        "#         tf.keras.layers.Softmax(),\n",
        "#     ])\n",
        "\n",
        "model=create_keras_model()\n",
        "tf.keras.utils.plot_model(\n",
        "model,\n",
        "to_file=\"model_ann.png\",\n",
        "show_shapes=True,\n",
        "show_dtype=False,\n",
        "show_layer_names=True,\n",
        "rankdir=\"TB\",\n",
        "expand_nested=True,\n",
        "dpi=96,\n",
        "layer_range=None,\n",
        "show_layer_activations=True,\n",
        ")"
      ]
    },
    {
      "cell_type": "code",
      "execution_count": null,
      "metadata": {
        "id": "c43084e9"
      },
      "outputs": [],
      "source": [
        "def model_fn():\n",
        "  # We _must_ create a new model here, and _not_ capture it from an external\n",
        "  # scope. TFF will call this within different graph contexts.\n",
        "    keras_model = create_keras_model()\n",
        "    return tff.learning.models.from_keras_model(\n",
        "    keras_model=keras_model,\n",
        "    input_spec=preprocessed_example_dataset.element_spec,\n",
        "    loss=tf.keras.losses.Poisson(reduction=\"auto\", name=\"poisson\"),\n",
        "    metrics=[\n",
        "        tf.keras.metrics.SparseCategoricalAccuracy(),\n",
        "        tf.keras.metrics.TruePositives(),\n",
        "        tf.keras.metrics.TrueNegatives(),\n",
        "        tf.keras.metrics.FalsePositives(),\n",
        "        tf.keras.metrics.FalseNegatives()\n",
        "    ]\n",
        ")"
      ]
    },
    {
      "cell_type": "code",
      "execution_count": null,
      "metadata": {
        "id": "aef5fc54"
      },
      "outputs": [],
      "source": [
        "iterative_process = tff.learning.algorithms.build_weighted_fed_avg(\n",
        "    model_fn,\n",
        "    client_optimizer_fn=lambda: tf.keras.optimizers.Adam(),\n",
        "    server_optimizer_fn=lambda: tf.keras.optimizers.Adam())\n",
        "\n"
      ]
    },
    {
      "cell_type": "code",
      "execution_count": null,
      "metadata": {
        "colab": {
          "base_uri": "https://localhost:8080/",
          "height": 70
        },
        "id": "5a224b72",
        "outputId": "1fc2f14d-14fb-4bda-a3a5-ef01afb73637"
      },
      "outputs": [
        {
          "output_type": "execute_result",
          "data": {
            "text/plain": [
              "'( -> <global_model_weights=<trainable=<float32[11,40],float32[40],float32[40,15],float32[15],float32[15,10],float32[10],float32[10,5],float32[5],float32[5,1],float32[1]>,non_trainable=<>>,distributor=<>,client_work=<>,aggregator=<value_sum_process=<>,weight_sum_process=<>>,finalizer=<int64,float32[11,40],float32[11,40],float32[40],float32[40],float32[40,15],float32[40,15],float32[15],float32[15],float32[15,10],float32[15,10],float32[10],float32[10],float32[10,5],float32[10,5],float32[5],float32[5],float32[5,1],float32[5,1],float32[1],float32[1]>>@SERVER)'"
            ],
            "application/vnd.google.colaboratory.intrinsic+json": {
              "type": "string"
            }
          },
          "metadata": {},
          "execution_count": 82
        }
      ],
      "source": [
        "str(iterative_process.initialize.type_signature)"
      ]
    },
    {
      "cell_type": "code",
      "execution_count": null,
      "metadata": {
        "id": "62ad6dcc"
      },
      "outputs": [],
      "source": [
        "state = iterative_process.initialize()"
      ]
    },
    {
      "cell_type": "code",
      "execution_count": null,
      "metadata": {
        "colab": {
          "base_uri": "https://localhost:8080/"
        },
        "id": "FrSYpAAEdu8V",
        "outputId": "27478bf4-c8b3-469c-c77c-820fc3e3b343"
      },
      "outputs": [
        {
          "output_type": "execute_result",
          "data": {
            "text/plain": [
              "Etat d'entropie        int64\n",
              "A                    float64\n",
              "delta                float64\n",
              "TM                   float64\n",
              "DELTA_TM             float64\n",
              "Electronégativité    float64\n",
              "Delta_Electro-       float64\n",
              "SID                  float64\n",
              "VEC                  float64\n",
              "Delta VEC            float64\n",
              "K                    float64\n",
              "Delta K              float64\n",
              "id                     int64\n",
              "Elements              object\n",
              "dtype: object"
            ]
          },
          "metadata": {},
          "execution_count": 84
        }
      ],
      "source": [
        "df.dtypes"
      ]
    },
    {
      "cell_type": "code",
      "execution_count": null,
      "metadata": {
        "colab": {
          "base_uri": "https://localhost:8080/"
        },
        "id": "5a601363",
        "outputId": "9276e179-d6d8-4e4f-fdcd-f3efe301d82d"
      },
      "outputs": [
        {
          "output_type": "stream",
          "name": "stdout",
          "text": [
            "round  1, metrics=OrderedDict([('distributor', ()), ('client_work', OrderedDict([('train', OrderedDict([('sparse_categorical_accuracy', 0.4158923), ('true_positives', 103114.0), ('true_negatives', 66762.0), ('false_positives', 16038.0), ('false_negatives', 13176.0), ('loss', 0.7482867), ('num_examples', 199090), ('num_batches', 199090)]))])), ('aggregator', OrderedDict([('mean_value', ()), ('mean_weight', ())])), ('finalizer', OrderedDict([('update_non_finite', 0)]))])\n"
          ]
        }
      ],
      "source": [
        "state, metrics = iterative_process.next(state, federated_train_data)\n",
        "print('round  1, metrics={}'.format(metrics))"
      ]
    },
    {
      "cell_type": "code",
      "execution_count": null,
      "metadata": {
        "colab": {
          "base_uri": "https://localhost:8080/"
        },
        "id": "f339718a",
        "outputId": "14bee6a4-2f6c-48e0-dd34-f7d688262167"
      },
      "outputs": [
        {
          "output_type": "stream",
          "name": "stdout",
          "text": [
            "round  2, metrics=OrderedDict([('distributor', ()), ('client_work', OrderedDict([('train', OrderedDict([('sparse_categorical_accuracy', 0.4158923), ('true_positives', 103051.0), ('true_negatives', 66839.0), ('false_positives', 15961.0), ('false_negatives', 13239.0), ('loss', 0.7483216), ('num_examples', 199090), ('num_batches', 199090)]))])), ('aggregator', OrderedDict([('mean_value', ()), ('mean_weight', ())])), ('finalizer', OrderedDict([('update_non_finite', 0)]))])\n",
            "round  3, metrics=OrderedDict([('distributor', ()), ('client_work', OrderedDict([('train', OrderedDict([('sparse_categorical_accuracy', 0.4158923), ('true_positives', 103159.0), ('true_negatives', 66771.0), ('false_positives', 16029.0), ('false_negatives', 13131.0), ('loss', 0.7482282), ('num_examples', 199090), ('num_batches', 199090)]))])), ('aggregator', OrderedDict([('mean_value', ()), ('mean_weight', ())])), ('finalizer', OrderedDict([('update_non_finite', 0)]))])\n",
            "round  4, metrics=OrderedDict([('distributor', ()), ('client_work', OrderedDict([('train', OrderedDict([('sparse_categorical_accuracy', 0.4158923), ('true_positives', 103075.0), ('true_negatives', 66795.0), ('false_positives', 16005.0), ('false_negatives', 13215.0), ('loss', 0.74825156), ('num_examples', 199090), ('num_batches', 199090)]))])), ('aggregator', OrderedDict([('mean_value', ()), ('mean_weight', ())])), ('finalizer', OrderedDict([('update_non_finite', 0)]))])\n",
            "round  5, metrics=OrderedDict([('distributor', ()), ('client_work', OrderedDict([('train', OrderedDict([('sparse_categorical_accuracy', 0.4158923), ('true_positives', 103097.0), ('true_negatives', 66849.0), ('false_positives', 15951.0), ('false_negatives', 13193.0), ('loss', 0.7482039), ('num_examples', 199090), ('num_batches', 199090)]))])), ('aggregator', OrderedDict([('mean_value', ()), ('mean_weight', ())])), ('finalizer', OrderedDict([('update_non_finite', 0)]))])\n",
            "round  6, metrics=OrderedDict([('distributor', ()), ('client_work', OrderedDict([('train', OrderedDict([('sparse_categorical_accuracy', 0.4158923), ('true_positives', 103107.0), ('true_negatives', 66845.0), ('false_positives', 15955.0), ('false_negatives', 13183.0), ('loss', 0.7483412), ('num_examples', 199090), ('num_batches', 199090)]))])), ('aggregator', OrderedDict([('mean_value', ()), ('mean_weight', ())])), ('finalizer', OrderedDict([('update_non_finite', 0)]))])\n",
            "round  7, metrics=OrderedDict([('distributor', ()), ('client_work', OrderedDict([('train', OrderedDict([('sparse_categorical_accuracy', 0.4158923), ('true_positives', 103140.0), ('true_negatives', 66755.0), ('false_positives', 16045.0), ('false_negatives', 13150.0), ('loss', 0.7480797), ('num_examples', 199090), ('num_batches', 199090)]))])), ('aggregator', OrderedDict([('mean_value', ()), ('mean_weight', ())])), ('finalizer', OrderedDict([('update_non_finite', 0)]))])\n",
            "round  8, metrics=OrderedDict([('distributor', ()), ('client_work', OrderedDict([('train', OrderedDict([('sparse_categorical_accuracy', 0.4158923), ('true_positives', 103133.0), ('true_negatives', 66840.0), ('false_positives', 15960.0), ('false_negatives', 13157.0), ('loss', 0.7481807), ('num_examples', 199090), ('num_batches', 199090)]))])), ('aggregator', OrderedDict([('mean_value', ()), ('mean_weight', ())])), ('finalizer', OrderedDict([('update_non_finite', 0)]))])\n",
            "round  9, metrics=OrderedDict([('distributor', ()), ('client_work', OrderedDict([('train', OrderedDict([('sparse_categorical_accuracy', 0.4158923), ('true_positives', 103093.0), ('true_negatives', 66883.0), ('false_positives', 15917.0), ('false_negatives', 13197.0), ('loss', 0.748363), ('num_examples', 199090), ('num_batches', 199090)]))])), ('aggregator', OrderedDict([('mean_value', ()), ('mean_weight', ())])), ('finalizer', OrderedDict([('update_non_finite', 0)]))])\n"
          ]
        }
      ],
      "source": [
        "NUM_ROUNDS = 10\n",
        "\n",
        "acc = []\n",
        "\n",
        "for round_num in range(2, NUM_ROUNDS):\n",
        "    state, metrics = iterative_process.next(state, federated_train_data)\n",
        "    print('round {:2d}, metrics={}'.format(round_num, metrics))\n",
        "    acc.append( metrics['client_work']['train'])"
      ]
    },
    {
      "cell_type": "code",
      "execution_count": null,
      "metadata": {
        "colab": {
          "base_uri": "https://localhost:8080/",
          "height": 472
        },
        "id": "TQ-fwQzijfLm",
        "outputId": "c74cde12-3433-4bf9-e471-53dde6d7ae73"
      },
      "outputs": [
        {
          "output_type": "display_data",
          "data": {
            "text/plain": [
              "<Figure size 640x480 with 1 Axes>"
            ],
            "image/png": "[encoded data removed]"
          },
          "metadata": {}
        }
      ],
      "source": [
        "from matplotlib.animation import FuncAnimation\n",
        "\n",
        "tp_values = [int(i['true_positives']) for i in acc]  # List of true positives values for each round\n",
        "tn_values = [int(i['true_negatives']) for i in acc]  # List of true negatives values for each round\n",
        "fp_values = [int(i['false_positives']) for i in acc]  # List of false positives values for each round\n",
        "fn_values = [int(i['false_negatives']) for i in acc]\n",
        "\n",
        "accuracy_values = [(tp + tn) / (tp + tn + fp + fn) for tp, tn, fp, fn in zip(tp_values, tn_values, fp_values, fn_values)]\n",
        "recall_values = [tp / (tp + fn) if (tp + fn) > 0 else 0 for tp, fn in zip(tp_values, fn_values)]\n",
        "f1_score_values = [tp/(tp+0.5*(fp+fn))  for tp, fp, fn in zip(tp_values, fp_values, fn_values)]\n",
        "\n",
        "# Create x-axis values\n",
        "rounds = np.arange(1, len(tp_values) + 1)\n",
        "\n",
        "# Plot recall\n",
        "plt.plot(rounds, recall_values, label='Recall')\n",
        "\n",
        "# Plot accuracy\n",
        "plt.plot(rounds, accuracy_values, label='Accuracy')\n",
        "\n",
        "# Plot F1 score\n",
        "plt.plot(rounds, f1_score_values, label='F1 Score')\n",
        "\n",
        "# Set plot title and labels\n",
        "plt.title('Performance Metrics')\n",
        "plt.xlabel('Round')\n",
        "plt.ylabel('Score')\n",
        "\n",
        "# Add legend\n",
        "plt.legend()\n",
        "\n",
        "# Show the plot\n",
        "plt.show()"
      ]
    },
    {
      "cell_type": "markdown",
      "metadata": {
        "id": "7EEC7bJNvj8H"
      },
      "source": [
        "Evaluation process"
      ]
    },
    {
      "cell_type": "code",
      "execution_count": null,
      "metadata": {
        "id": "9dwSZy3Ry00A"
      },
      "outputs": [],
      "source": [
        "\n",
        "# Create a model function\n",
        "\n",
        "# Use this model function to create a training process\n",
        "evaluation_process = tff.learning.algorithms.build_fed_eval(model_fn)"
      ]
    },
    {
      "cell_type": "code",
      "execution_count": null,
      "metadata": {
        "colab": {
          "base_uri": "https://localhost:8080/"
        },
        "id": "_BQtDv8y3ovr",
        "outputId": "28b2236a-0924-4171-b664-f69f2b896308"
      },
      "outputs": [
        {
          "output_type": "stream",
          "name": "stdout",
          "text": [
            "(<\n",
            "  state=<\n",
            "    global_model_weights=<\n",
            "      trainable=<\n",
            "        float32[11,40],\n",
            "        float32[40],\n",
            "        float32[40,15],\n",
            "        float32[15],\n",
            "        float32[15,10],\n",
            "        float32[10],\n",
            "        float32[10,5],\n",
            "        float32[5],\n",
            "        float32[5,1],\n",
            "        float32[1]\n",
            "      >,\n",
            "      non_trainable=<>\n",
            "    >,\n",
            "    distributor=<>,\n",
            "    client_work=<\n",
            "      <>,\n",
            "      <\n",
            "        sparse_categorical_accuracy=<\n",
            "          float32,\n",
            "          float32\n",
            "        >,\n",
            "        true_positives=<\n",
            "          float32[1]\n",
            "        >,\n",
            "        true_negatives=<\n",
            "          float32[1]\n",
            "        >,\n",
            "        false_positives=<\n",
            "          float32[1]\n",
            "        >,\n",
            "        false_negatives=<\n",
            "          float32[1]\n",
            "        >,\n",
            "        loss=<\n",
            "          float32,\n",
            "          float32\n",
            "        >,\n",
            "        num_examples=<\n",
            "          int64\n",
            "        >,\n",
            "        num_batches=<\n",
            "          int64\n",
            "        >\n",
            "      >\n",
            "    >,\n",
            "    aggregator=<\n",
            "      value_sum_process=<>,\n",
            "      weight_sum_process=<>\n",
            "    >,\n",
            "    finalizer=<>\n",
            "  >@SERVER,\n",
            "  client_data={<\n",
            "    x=float32[1,11],\n",
            "    y=int32[1,1]\n",
            "  >*}@CLIENTS\n",
            "> -> <\n",
            "  state=<\n",
            "    global_model_weights=<\n",
            "      trainable=<\n",
            "        float32[11,40],\n",
            "        float32[40],\n",
            "        float32[40,15],\n",
            "        float32[15],\n",
            "        float32[15,10],\n",
            "        float32[10],\n",
            "        float32[10,5],\n",
            "        float32[5],\n",
            "        float32[5,1],\n",
            "        float32[1]\n",
            "      >,\n",
            "      non_trainable=<>\n",
            "    >,\n",
            "    distributor=<>,\n",
            "    client_work=<\n",
            "      <>,\n",
            "      <\n",
            "        sparse_categorical_accuracy=<\n",
            "          float32,\n",
            "          float32\n",
            "        >,\n",
            "        true_positives=<\n",
            "          float32[1]\n",
            "        >,\n",
            "        true_negatives=<\n",
            "          float32[1]\n",
            "        >,\n",
            "        false_positives=<\n",
            "          float32[1]\n",
            "        >,\n",
            "        false_negatives=<\n",
            "          float32[1]\n",
            "        >,\n",
            "        loss=<\n",
            "          float32,\n",
            "          float32\n",
            "        >,\n",
            "        num_examples=<\n",
            "          int64\n",
            "        >,\n",
            "        num_batches=<\n",
            "          int64\n",
            "        >\n",
            "      >\n",
            "    >,\n",
            "    aggregator=<\n",
            "      value_sum_process=<>,\n",
            "      weight_sum_process=<>\n",
            "    >,\n",
            "    finalizer=<>\n",
            "  >@SERVER,\n",
            "  metrics=<\n",
            "    distributor=<>,\n",
            "    client_work=<\n",
            "      eval=<\n",
            "        current_round_metrics=<\n",
            "          sparse_categorical_accuracy=float32,\n",
            "          true_positives=float32,\n",
            "          true_negatives=float32,\n",
            "          false_positives=float32,\n",
            "          false_negatives=float32,\n",
            "          loss=float32,\n",
            "          num_examples=int64,\n",
            "          num_batches=int64\n",
            "        >,\n",
            "        total_rounds_metrics=<\n",
            "          sparse_categorical_accuracy=float32,\n",
            "          true_positives=float32,\n",
            "          true_negatives=float32,\n",
            "          false_positives=float32,\n",
            "          false_negatives=float32,\n",
            "          loss=float32,\n",
            "          num_examples=int64,\n",
            "          num_batches=int64\n",
            "        >\n",
            "      >\n",
            "    >,\n",
            "    aggregator=<\n",
            "      mean_value=<>,\n",
            "      mean_weight=<>\n",
            "    >,\n",
            "    finalizer=<>\n",
            "  >@SERVER\n",
            ">)\n"
          ]
        }
      ],
      "source": [
        "print(evaluation_process.next.type_signature.formatted_representation())"
      ]
    },
    {
      "cell_type": "code",
      "execution_count": null,
      "metadata": {
        "id": "L0XF_HC56-db"
      },
      "outputs": [],
      "source": [
        "evaluation_state = evaluation_process.initialize()\n",
        "model_weights = iterative_process.get_model_weights(state)\n",
        "evaluation_state = evaluation_process.set_model_weights(evaluation_state, model_weights)"
      ]
    },
    {
      "cell_type": "code",
      "execution_count": null,
      "metadata": {
        "id": "TAj2UM8EsT5S"
      },
      "outputs": [],
      "source": [
        "import matplotlib.pyplot as plt\n",
        "import seaborn as sns\n",
        "from sklearn.metrics import ConfusionMatrixDisplay\n"
      ]
    },
    {
      "cell_type": "code",
      "execution_count": null,
      "metadata": {
        "colab": {
          "base_uri": "https://localhost:8080/"
        },
        "id": "C0XXv1dB7LEz",
        "outputId": "18332728-ead2-406e-833a-f53c3c5f42de"
      },
      "outputs": [
        {
          "output_type": "execute_result",
          "data": {
            "text/plain": [
              "(1,\n",
              " <_MapDataset element_spec=OrderedDict([('x', TensorSpec(shape=(1, 11), dtype=tf.float32, name=None)), ('y', TensorSpec(shape=(1, 1), dtype=tf.int32, name=None))])>)"
            ]
          },
          "metadata": {},
          "execution_count": 92
        }
      ],
      "source": [
        "federated_test_data = make_federated_data(test_data, test_data.client_ids)\n",
        "\n",
        "len(federated_test_data), federated_test_data[0]"
      ]
    },
    {
      "cell_type": "code",
      "execution_count": null,
      "metadata": {
        "id": "apjmQG3w-3G2"
      },
      "outputs": [],
      "source": [
        "evaluation_output = evaluation_process.next(evaluation_state, federated_test_data)"
      ]
    },
    {
      "cell_type": "code",
      "execution_count": null,
      "metadata": {
        "id": "2ZXj96PHRm1I",
        "colab": {
          "base_uri": "https://localhost:8080/",
          "height": 546
        },
        "outputId": "cec4e26c-4db8-4323-b04e-99e89b347ada"
      },
      "outputs": [
        {
          "output_type": "stream",
          "name": "stderr",
          "text": [
            "<ipython-input-94-a79d3e099da3>:16: UserWarning: FixedFormatter should only be used together with FixedLocator\n",
            "  ax.set_xticklabels([''] + labels)\n",
            "<ipython-input-94-a79d3e099da3>:17: UserWarning: FixedFormatter should only be used together with FixedLocator\n",
            "  ax.set_yticklabels([''] + labels)\n"
          ]
        },
        {
          "output_type": "display_data",
          "data": {
            "text/plain": [
              "<Figure size 640x480 with 2 Axes>"
            ],
            "image/png": "[encoded data removed]"
          },
          "metadata": {}
        }
      ],
      "source": [
        "tp = int(evaluation_output.metrics[\"client_work\"][\"eval\"]['total_rounds_metrics']['true_positives'])\n",
        "tn = int(evaluation_output.metrics[\"client_work\"][\"eval\"]['total_rounds_metrics']['true_negatives'])\n",
        "fp = int(evaluation_output.metrics[\"client_work\"][\"eval\"]['total_rounds_metrics']['false_positives'])\n",
        "fn = int(evaluation_output.metrics[\"client_work\"][\"eval\"]['total_rounds_metrics']['false_negatives'])\n",
        "\n",
        "cm = np.array([[tp, fp],\n",
        "               [fn, tn]])\n",
        "\n",
        "# labels\n",
        "labels = ['Positive', 'Negative']\n",
        "fig = plt.figure()\n",
        "ax = fig.add_subplot(111)\n",
        "cax = ax.matshow(cm)\n",
        "plt.title('Confusion matrix of the classifier')\n",
        "fig.colorbar(cax)\n",
        "ax.set_xticklabels([''] + labels)\n",
        "ax.set_yticklabels([''] + labels)\n",
        "plt.xlabel('Predicted')\n",
        "plt.ylabel('True')\n",
        "plt.show()"
      ]
    },
    {
      "cell_type": "code",
      "execution_count": null,
      "metadata": {
        "id": "qSz68X0ZvLLV",
        "colab": {
          "base_uri": "https://localhost:8080/",
          "height": 178
        },
        "outputId": "5450ab65-f2bd-4e73-f377-342b292d3a5d"
      },
      "outputs": [
        {
          "output_type": "stream",
          "name": "stdout",
          "text": [
            "Precision: 0.4637520752628666\n",
            "Recall: 0.4282064384261625\n",
            "F1 score: 0.44527098831030815\n"
          ]
        },
        {
          "output_type": "display_data",
          "data": {
            "text/plain": [
              "<IPython.core.display.HTML object>"
            ],
            "text/html": [
              "\n",
              "<table>\n",
              "  <tr>\n",
              "    <th>Metric</th>\n",
              "    <th>Value</th>\n",
              "  </tr>\n",
              "  <tr>\n",
              "    <td>Precision</td>\n",
              "    <td>0.46</td>\n",
              "  </tr>\n",
              "  <tr>\n",
              "    <td>Recall</td>\n",
              "    <td>0.43</td>\n",
              "  </tr>\n",
              "  <tr>\n",
              "    <td>F1 Score</td>\n",
              "    <td>0.45</td>\n",
              "  </tr>\n",
              "  <tr>\n",
              "    <td>Accuracy</td>\n",
              "    <td>0.43</td>\n",
              "  </tr>\n",
              "</table>\n"
            ]
          },
          "metadata": {}
        }
      ],
      "source": [
        "\n",
        "precision = tp / (tp + fp)\n",
        "recall = tp / (tp + fn)\n",
        "f1_score = 2 * (precision * recall) / (precision + recall)\n",
        "accuracy=(tp+tn)/(tp+tn+fp+fn)\n",
        "print(\"Precision:\", precision)\n",
        "print(\"Recall:\", recall)\n",
        "print(\"F1 score:\", f1_score)\n",
        "\n",
        "\n",
        "table_html = \"\"\"\n",
        "<table>\n",
        "  <tr>\n",
        "    <th>Metric</th>\n",
        "    <th>Value</th>\n",
        "  </tr>\n",
        "  <tr>\n",
        "    <td>Precision</td>\n",
        "    <td>{:.2f}</td>\n",
        "  </tr>\n",
        "  <tr>\n",
        "    <td>Recall</td>\n",
        "    <td>{:.2f}</td>\n",
        "  </tr>\n",
        "  <tr>\n",
        "    <td>F1 Score</td>\n",
        "    <td>{:.2f}</td>\n",
        "  </tr>\n",
        "  <tr>\n",
        "    <td>Accuracy</td>\n",
        "    <td>{:.2f}</td>\n",
        "  </tr>\n",
        "</table>\n",
        "\"\"\".format(precision, recall, f1_score,accuracy)\n",
        "\n",
        "# Display HTML table in Jupyter Notebook\n",
        "from IPython.display import display, HTML\n",
        "display(HTML(table_html))"
      ]
    },
    {
      "cell_type": "code",
      "execution_count": null,
      "metadata": {
        "id": "hAwz3RpWDRbS",
        "colab": {
          "base_uri": "https://localhost:8080/"
        },
        "outputId": "5dedc567-f84f-4f78-ea03-e3937fd3cc7b"
      },
      "outputs": [
        {
          "output_type": "execute_result",
          "data": {
            "text/plain": [
              "[0.4637520752628666,\n",
              " 0.4282064384261625,\n",
              " 0.44527098831030815,\n",
              " 0.42605827377680044]"
            ]
          },
          "metadata": {},
          "execution_count": 96
        }
      ],
      "source": [
        "[precision, recall, f1_score,accuracy]"
      ]
    },
    {
      "cell_type": "code",
      "execution_count": null,
      "metadata": {
        "id": "EnibLNrvDX33",
        "colab": {
          "base_uri": "https://localhost:8080/",
          "height": 564
        },
        "outputId": "2b1adbc6-c81b-4610-c7e6-04f9763472b3"
      },
      "outputs": [
        {
          "output_type": "display_data",
          "data": {
            "text/plain": [
              "<Figure size 1000x600 with 1 Axes>"
            ],
            "image/png": "[encoded data removed]"
          },
          "metadata": {}
        }
      ],
      "source": [
        "legends = ['Precision', 'Recall', 'F1 Score', 'Accuracy']\n",
        "\n",
        "L=[[0.542305508233958, 0.48799182422074605, 0.5137170521785906, 0.503023639362287],\n",
        "[0.5720545277507303, 0.600408788962698, 0.5858888057840936, 0.5434304562946674],\n",
        "[0.6276545540349221,\n",
        " 0.6796116504854369,\n",
        " 0.6526005888125613,\n",
        " 0.6107751511819681],\n",
        "[0.5880208333333333,\n",
        " 0.5769034236075626,\n",
        " 0.5824090791849368,\n",
        " 0.5549752611324904],\n",
        "[0.521536066424494,\n",
        " 0.5135411343893714,\n",
        " 0.5175077239958805,\n",
        " 0.48488180318856516],\n",
        "[0.5309330628803245,\n",
        " 0.5350025549310169,\n",
        " 0.5329600407228302,\n",
        " 0.4956019791094008],\n",
        "[0.5824442289039767,\n",
        " 0.6136944302503833,\n",
        " 0.5976611097287884,\n",
        " 0.5555250137438152],\n",
        "[0.5649139134481154,\n",
        " 0.6203372508942259,\n",
        " 0.5913297613248905,\n",
        " 0.5387575590984057],\n",
        "[0.4637520752628666,\n",
        " 0.4282064384261625,\n",
        " 0.44527098831030815,\n",
        " 0.42605827377680044]\n",
        "]\n",
        "# Transpose the data to separate the metrics\n",
        "metrics = list(zip(*L))\n",
        "\n",
        "# Create the plot\n",
        "plt.figure(figsize=(10, 6))\n",
        "\n",
        "for i, metric in enumerate(metrics):\n",
        "    plt.plot(metric, label=legends[i])\n",
        "\n",
        "plt.xlabel('Echantillon')\n",
        "plt.ylabel('Scores')\n",
        "plt.title('Precision, Recall, F1 Score, and Accuracy')\n",
        "plt.legend()\n",
        "plt.grid(True)\n",
        "plt.show()"
      ]
    },
    {
      "cell_type": "code",
      "execution_count": null,
      "metadata": {
        "id": "NVZP2SKk8svQ"
      },
      "outputs": [],
      "source": []
    }
  ],
  "metadata": {
    "colab": {
      "provenance": [],
      "include_colab_link": true
    },
    "kernelspec": {
      "display_name": "Python 3",
      "name": "python3"
    }
  },
  "nbformat": 4,
  "nbformat_minor": 0
}